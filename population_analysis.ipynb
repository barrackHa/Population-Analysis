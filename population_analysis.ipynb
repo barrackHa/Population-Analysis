{
 "cells": [
  {
   "cell_type": "code",
   "execution_count": 7,
   "id": "ddbb6f5d",
   "metadata": {},
   "outputs": [
    {
     "data": {
      "text/html": [
       "<script type=\"esms-options\">{\"shimMode\": true}</script><style>*[data-root-id],\n",
       "*[data-root-id] > * {\n",
       "  box-sizing: border-box;\n",
       "  font-family: var(--jp-ui-font-family);\n",
       "  font-size: var(--jp-ui-font-size1);\n",
       "  color: var(--vscode-editor-foreground, var(--jp-ui-font-color1));\n",
       "}\n",
       "\n",
       "/* Override VSCode background color */\n",
       ".cell-output-ipywidget-background:has(\n",
       "  > .cell-output-ipywidget-background > .lm-Widget > *[data-root-id]\n",
       "),\n",
       ".cell-output-ipywidget-background:has(> .lm-Widget > *[data-root-id]) {\n",
       "  background-color: transparent !important;\n",
       "}\n",
       "</style>"
      ]
     },
     "metadata": {},
     "output_type": "display_data"
    },
    {
     "data": {
      "application/javascript": "(function(root) {\n  function now() {\n    return new Date();\n  }\n\n  const force = true;\n  const py_version = '3.8.0'.replace('rc', '-rc.').replace('.dev', '-dev.');\n  const reloading = false;\n  const Bokeh = root.Bokeh;\n\n  // Set a timeout for this load but only if we are not already initializing\n  if (typeof (root._bokeh_timeout) === \"undefined\" || (force || !root._bokeh_is_initializing)) {\n    root._bokeh_timeout = Date.now() + 5000;\n    root._bokeh_failed_load = false;\n  }\n\n  function run_callbacks() {\n    try {\n      root._bokeh_onload_callbacks.forEach(function(callback) {\n        if (callback != null)\n          callback();\n      });\n    } finally {\n      delete root._bokeh_onload_callbacks;\n    }\n    console.debug(\"Bokeh: all callbacks have finished\");\n  }\n\n  function load_libs(css_urls, js_urls, js_modules, js_exports, callback) {\n    if (css_urls == null) css_urls = [];\n    if (js_urls == null) js_urls = [];\n    if (js_modules == null) js_modules = [];\n    if (js_exports == null) js_exports = {};\n\n    root._bokeh_onload_callbacks.push(callback);\n\n    if (root._bokeh_is_loading > 0) {\n      // Don't load bokeh if it is still initializing\n      console.debug(\"Bokeh: BokehJS is being loaded, scheduling callback at\", now());\n      return null;\n    } else if (js_urls.length === 0 && js_modules.length === 0 && Object.keys(js_exports).length === 0) {\n      // There is nothing to load\n      run_callbacks();\n      return null;\n    }\n\n    function on_load() {\n      root._bokeh_is_loading--;\n      if (root._bokeh_is_loading === 0) {\n        console.debug(\"Bokeh: all BokehJS libraries/stylesheets loaded\");\n        run_callbacks()\n      }\n    }\n    window._bokeh_on_load = on_load\n\n    function on_error(e) {\n      const src_el = e.srcElement\n      console.error(\"failed to load \" + (src_el.href || src_el.src));\n    }\n\n    const skip = [];\n    if (window.requirejs) {\n      window.requirejs.config({'packages': {}, 'paths': {}, 'shim': {}});\n      root._bokeh_is_loading = css_urls.length + 0;\n    } else {\n      root._bokeh_is_loading = css_urls.length + js_urls.length + js_modules.length + Object.keys(js_exports).length;\n    }\n\n    const existing_stylesheets = []\n    const links = document.getElementsByTagName('link')\n    for (let i = 0; i < links.length; i++) {\n      const link = links[i]\n      if (link.href != null) {\n        existing_stylesheets.push(link.href)\n      }\n    }\n    for (let i = 0; i < css_urls.length; i++) {\n      const url = css_urls[i];\n      const escaped = encodeURI(url)\n      if (existing_stylesheets.indexOf(escaped) !== -1) {\n        on_load()\n        continue;\n      }\n      const element = document.createElement(\"link\");\n      element.onload = on_load;\n      element.onerror = on_error;\n      element.rel = \"stylesheet\";\n      element.type = \"text/css\";\n      element.href = url;\n      console.debug(\"Bokeh: injecting link tag for BokehJS stylesheet: \", url);\n      document.body.appendChild(element);\n    }    var existing_scripts = []\n    const scripts = document.getElementsByTagName('script')\n    for (let i = 0; i < scripts.length; i++) {\n      var script = scripts[i]\n      if (script.src != null) {\n        existing_scripts.push(script.src)\n      }\n    }\n    for (let i = 0; i < js_urls.length; i++) {\n      const url = js_urls[i];\n      const escaped = encodeURI(url)\n      if (skip.indexOf(escaped) !== -1 || existing_scripts.indexOf(escaped) !== -1) {\n        if (!window.requirejs) {\n          on_load();\n        }\n        continue;\n      }\n      const element = document.createElement('script');\n      element.onload = on_load;\n      element.onerror = on_error;\n      element.async = false;\n      element.src = url;\n      console.debug(\"Bokeh: injecting script tag for BokehJS library: \", url);\n      document.head.appendChild(element);\n    }\n    for (let i = 0; i < js_modules.length; i++) {\n      const url = js_modules[i];\n      const escaped = encodeURI(url)\n      if (skip.indexOf(escaped) !== -1 || existing_scripts.indexOf(escaped) !== -1) {\n        if (!window.requirejs) {\n          on_load();\n        }\n        continue;\n      }\n      var element = document.createElement('script');\n      element.onload = on_load;\n      element.onerror = on_error;\n      element.async = false;\n      element.src = url;\n      element.type = \"module\";\n      console.debug(\"Bokeh: injecting script tag for BokehJS library: \", url);\n      document.head.appendChild(element);\n    }\n    for (const name in js_exports) {\n      const url = js_exports[name];\n      const escaped = encodeURI(url)\n      if (skip.indexOf(escaped) >= 0 || root[name] != null) {\n        if (!window.requirejs) {\n          on_load();\n        }\n        continue;\n      }\n      var element = document.createElement('script');\n      element.onerror = on_error;\n      element.async = false;\n      element.type = \"module\";\n      console.debug(\"Bokeh: injecting script tag for BokehJS library: \", url);\n      element.textContent = `\n      import ${name} from \"${url}\"\n      window.${name} = ${name}\n      window._bokeh_on_load()\n      `\n      document.head.appendChild(element);\n    }\n    if (!js_urls.length && !js_modules.length) {\n      on_load()\n    }\n  };\n\n  function inject_raw_css(css) {\n    const element = document.createElement(\"style\");\n    element.appendChild(document.createTextNode(css));\n    document.body.appendChild(element);\n  }\n\n  const js_urls = [\"https://cdn.holoviz.org/panel/1.8.0/dist/bundled/reactiveesm/es-module-shims@^1.10.0/dist/es-module-shims.min.js\", \"https://cdn.bokeh.org/bokeh/release/bokeh-3.8.0.min.js\", \"https://cdn.bokeh.org/bokeh/release/bokeh-gl-3.8.0.min.js\", \"https://cdn.bokeh.org/bokeh/release/bokeh-widgets-3.8.0.min.js\", \"https://cdn.bokeh.org/bokeh/release/bokeh-tables-3.8.0.min.js\", \"https://cdn.holoviz.org/panel/1.8.0/dist/panel.min.js\"];\n  const js_modules = [];\n  const js_exports = {};\n  const css_urls = [];\n  const inline_js = [    function(Bokeh) {\n      Bokeh.set_log_level(\"info\");\n    },\nfunction(Bokeh) {} // ensure no trailing comma for IE\n  ];\n\n  function run_inline_js() {\n    if ((root.Bokeh !== undefined) || (force === true)) {\n      for (let i = 0; i < inline_js.length; i++) {\n        try {\n          inline_js[i].call(root, root.Bokeh);\n        } catch(e) {\n          if (!reloading) {\n            throw e;\n          }\n        }\n      }\n      // Cache old bokeh versions\n      if (Bokeh != undefined && !reloading) {\n        var NewBokeh = root.Bokeh;\n        if (Bokeh.versions === undefined) {\n          Bokeh.versions = new Map();\n        }\n        if (NewBokeh.version !== Bokeh.version) {\n          Bokeh.versions.set(NewBokeh.version, NewBokeh)\n        }\n        root.Bokeh = Bokeh;\n      }\n    } else if (Date.now() < root._bokeh_timeout) {\n      setTimeout(run_inline_js, 100);\n    } else if (!root._bokeh_failed_load) {\n      console.log(\"Bokeh: BokehJS failed to load within specified timeout.\");\n      root._bokeh_failed_load = true;\n    }\n    root._bokeh_is_initializing = false\n  }\n\n  function load_or_wait() {\n    // Implement a backoff loop that tries to ensure we do not load multiple\n    // versions of Bokeh and its dependencies at the same time.\n    // In recent versions we use the root._bokeh_is_initializing flag\n    // to determine whether there is an ongoing attempt to initialize\n    // bokeh, however for backward compatibility we also try to ensure\n    // that we do not start loading a newer (Panel>=1.0 and Bokeh>3) version\n    // before older versions are fully initialized.\n    if (root._bokeh_is_initializing && Date.now() > root._bokeh_timeout) {\n      // If the timeout and bokeh was not successfully loaded we reset\n      // everything and try loading again\n      root._bokeh_timeout = Date.now() + 5000;\n      root._bokeh_is_initializing = false;\n      root._bokeh_onload_callbacks = undefined;\n      root._bokeh_is_loading = 0\n      console.log(\"Bokeh: BokehJS was loaded multiple times but one version failed to initialize.\");\n      load_or_wait();\n    } else if (root._bokeh_is_initializing || (typeof root._bokeh_is_initializing === \"undefined\" && root._bokeh_onload_callbacks !== undefined)) {\n      setTimeout(load_or_wait, 100);\n    } else {\n      root._bokeh_is_initializing = true\n      root._bokeh_onload_callbacks = []\n      const bokeh_loaded = root.Bokeh != null && (root.Bokeh.version === py_version || (root.Bokeh.versions !== undefined && root.Bokeh.versions.has(py_version)));\n      if (!reloading && !bokeh_loaded) {\n        if (root.Bokeh) {\n          root.Bokeh = undefined;\n        }\n        console.debug(\"Bokeh: BokehJS not loaded, scheduling load and callback at\", now());\n      }\n      load_libs(css_urls, js_urls, js_modules, js_exports, function() {\n        console.debug(\"Bokeh: BokehJS plotting callback run at\", now());\n        run_inline_js();\n      });\n    }\n  }\n  // Give older versions of the autoload script a head-start to ensure\n  // they initialize before we start loading newer version.\n  setTimeout(load_or_wait, 100)\n}(window));",
      "application/vnd.holoviews_load.v0+json": ""
     },
     "metadata": {},
     "output_type": "display_data"
    },
    {
     "data": {
      "application/javascript": "\nif ((window.PyViz === undefined) || (window.PyViz instanceof HTMLElement)) {\n  window.PyViz = {comms: {}, comm_status:{}, kernels:{}, receivers: {}, plot_index: []}\n}\n\n\n    function JupyterCommManager() {\n    }\n\n    JupyterCommManager.prototype.register_target = function(plot_id, comm_id, msg_handler) {\n      if (window.comm_manager || ((window.Jupyter !== undefined) && (Jupyter.notebook.kernel != null))) {\n        var comm_manager = window.comm_manager || Jupyter.notebook.kernel.comm_manager;\n        comm_manager.register_target(comm_id, function(comm) {\n          comm.on_msg(msg_handler);\n        });\n      } else if ((plot_id in window.PyViz.kernels) && (window.PyViz.kernels[plot_id])) {\n        window.PyViz.kernels[plot_id].registerCommTarget(comm_id, function(comm) {\n          comm.onMsg = msg_handler;\n        });\n      } else if (typeof google != 'undefined' && google.colab.kernel != null) {\n        google.colab.kernel.comms.registerTarget(comm_id, (comm) => {\n          var messages = comm.messages[Symbol.asyncIterator]();\n          function processIteratorResult(result) {\n            var message = result.value;\n            var content = {data: message.data, comm_id};\n            var buffers = []\n            for (var buffer of message.buffers || []) {\n              buffers.push(new DataView(buffer))\n            }\n            var metadata = message.metadata || {};\n            var msg = {content, buffers, metadata}\n            msg_handler(msg);\n            return messages.next().then(processIteratorResult);\n          }\n          return messages.next().then(processIteratorResult);\n        })\n      }\n    }\n\n    JupyterCommManager.prototype.get_client_comm = function(plot_id, comm_id, msg_handler) {\n      if (comm_id in window.PyViz.comms) {\n        return window.PyViz.comms[comm_id];\n      } else if (window.comm_manager || ((window.Jupyter !== undefined) && (Jupyter.notebook.kernel != null))) {\n        var comm_manager = window.comm_manager || Jupyter.notebook.kernel.comm_manager;\n        var comm = comm_manager.new_comm(comm_id, {}, {}, {}, comm_id);\n        if (msg_handler) {\n          comm.on_msg(msg_handler);\n        }\n      } else if ((plot_id in window.PyViz.kernels) && (window.PyViz.kernels[plot_id])) {\n        var comm = window.PyViz.kernels[plot_id].connectToComm(comm_id);\n        let retries = 0;\n        const open = () => {\n          if (comm.active) {\n            comm.open();\n          } else if (retries > 3) {\n            console.warn('Comm target never activated')\n          } else {\n            retries += 1\n            setTimeout(open, 500)\n          }\n        }\n        if (comm.active) {\n          comm.open();\n        } else {\n          setTimeout(open, 500)\n        }\n        if (msg_handler) {\n          comm.onMsg = msg_handler;\n        }\n      } else if (typeof google != 'undefined' && google.colab.kernel != null) {\n        var comm_promise = google.colab.kernel.comms.open(comm_id)\n        comm_promise.then((comm) => {\n          window.PyViz.comms[comm_id] = comm;\n          if (msg_handler) {\n            var messages = comm.messages[Symbol.asyncIterator]();\n            function processIteratorResult(result) {\n              var message = result.value;\n              var content = {data: message.data};\n              var metadata = message.metadata || {comm_id};\n              var msg = {content, metadata}\n              msg_handler(msg);\n              return messages.next().then(processIteratorResult);\n            }\n            return messages.next().then(processIteratorResult);\n          }\n        })\n        var sendClosure = (data, metadata, buffers, disposeOnDone) => {\n          return comm_promise.then((comm) => {\n            comm.send(data, metadata, buffers, disposeOnDone);\n          });\n        };\n        var comm = {\n          send: sendClosure\n        };\n      }\n      window.PyViz.comms[comm_id] = comm;\n      return comm;\n    }\n    window.PyViz.comm_manager = new JupyterCommManager();\n    \n\n\nvar JS_MIME_TYPE = 'application/javascript';\nvar HTML_MIME_TYPE = 'text/html';\nvar EXEC_MIME_TYPE = 'application/vnd.holoviews_exec.v0+json';\nvar CLASS_NAME = 'output';\n\n/**\n * Render data to the DOM node\n */\nfunction render(props, node) {\n  var div = document.createElement(\"div\");\n  var script = document.createElement(\"script\");\n  node.appendChild(div);\n  node.appendChild(script);\n}\n\n/**\n * Handle when a new output is added\n */\nfunction handle_add_output(event, handle) {\n  var output_area = handle.output_area;\n  var output = handle.output;\n  if ((output.data == undefined) || (!output.data.hasOwnProperty(EXEC_MIME_TYPE))) {\n    return\n  }\n  var id = output.metadata[EXEC_MIME_TYPE][\"id\"];\n  var toinsert = output_area.element.find(\".\" + CLASS_NAME.split(' ')[0]);\n  if (id !== undefined) {\n    var nchildren = toinsert.length;\n    var html_node = toinsert[nchildren-1].children[0];\n    html_node.innerHTML = output.data[HTML_MIME_TYPE];\n    var scripts = [];\n    var nodelist = html_node.querySelectorAll(\"script\");\n    for (var i in nodelist) {\n      if (nodelist.hasOwnProperty(i)) {\n        scripts.push(nodelist[i])\n      }\n    }\n\n    scripts.forEach( function (oldScript) {\n      var newScript = document.createElement(\"script\");\n      var attrs = [];\n      var nodemap = oldScript.attributes;\n      for (var j in nodemap) {\n        if (nodemap.hasOwnProperty(j)) {\n          attrs.push(nodemap[j])\n        }\n      }\n      attrs.forEach(function(attr) { newScript.setAttribute(attr.name, attr.value) });\n      newScript.appendChild(document.createTextNode(oldScript.innerHTML));\n      oldScript.parentNode.replaceChild(newScript, oldScript);\n    });\n    if (JS_MIME_TYPE in output.data) {\n      toinsert[nchildren-1].children[1].textContent = output.data[JS_MIME_TYPE];\n    }\n    output_area._hv_plot_id = id;\n    if ((window.Bokeh !== undefined) && (id in Bokeh.index)) {\n      window.PyViz.plot_index[id] = Bokeh.index[id];\n    } else {\n      window.PyViz.plot_index[id] = null;\n    }\n  } else if (output.metadata[EXEC_MIME_TYPE][\"server_id\"] !== undefined) {\n    var bk_div = document.createElement(\"div\");\n    bk_div.innerHTML = output.data[HTML_MIME_TYPE];\n    var script_attrs = bk_div.children[0].attributes;\n    for (var i = 0; i < script_attrs.length; i++) {\n      toinsert[toinsert.length - 1].childNodes[1].setAttribute(script_attrs[i].name, script_attrs[i].value);\n    }\n    // store reference to server id on output_area\n    output_area._bokeh_server_id = output.metadata[EXEC_MIME_TYPE][\"server_id\"];\n  }\n}\n\n/**\n * Handle when an output is cleared or removed\n */\nfunction handle_clear_output(event, handle) {\n  var id = handle.cell.output_area._hv_plot_id;\n  var server_id = handle.cell.output_area._bokeh_server_id;\n  if (((id === undefined) || !(id in PyViz.plot_index)) && (server_id !== undefined)) { return; }\n  var comm = window.PyViz.comm_manager.get_client_comm(\"hv-extension-comm\", \"hv-extension-comm\", function () {});\n  if (server_id !== null) {\n    comm.send({event_type: 'server_delete', 'id': server_id});\n    return;\n  } else if (comm !== null) {\n    comm.send({event_type: 'delete', 'id': id});\n  }\n  delete PyViz.plot_index[id];\n  if ((window.Bokeh !== undefined) & (id in window.Bokeh.index)) {\n    var doc = window.Bokeh.index[id].model.document\n    doc.clear();\n    const i = window.Bokeh.documents.indexOf(doc);\n    if (i > -1) {\n      window.Bokeh.documents.splice(i, 1);\n    }\n  }\n}\n\n/**\n * Handle kernel restart event\n */\nfunction handle_kernel_cleanup(event, handle) {\n  delete PyViz.comms[\"hv-extension-comm\"];\n  window.PyViz.plot_index = {}\n}\n\n/**\n * Handle update_display_data messages\n */\nfunction handle_update_output(event, handle) {\n  handle_clear_output(event, {cell: {output_area: handle.output_area}})\n  handle_add_output(event, handle)\n}\n\nfunction register_renderer(events, OutputArea) {\n  function append_mime(data, metadata, element) {\n    // create a DOM node to render to\n    var toinsert = this.create_output_subarea(\n    metadata,\n    CLASS_NAME,\n    EXEC_MIME_TYPE\n    );\n    this.keyboard_manager.register_events(toinsert);\n    // Render to node\n    var props = {data: data, metadata: metadata[EXEC_MIME_TYPE]};\n    render(props, toinsert[0]);\n    element.append(toinsert);\n    return toinsert\n  }\n\n  events.on('output_added.OutputArea', handle_add_output);\n  events.on('output_updated.OutputArea', handle_update_output);\n  events.on('clear_output.CodeCell', handle_clear_output);\n  events.on('delete.Cell', handle_clear_output);\n  events.on('kernel_ready.Kernel', handle_kernel_cleanup);\n\n  OutputArea.prototype.register_mime_type(EXEC_MIME_TYPE, append_mime, {\n    safe: true,\n    index: 0\n  });\n}\n\nif (window.Jupyter !== undefined) {\n  try {\n    var events = require('base/js/events');\n    var OutputArea = require('notebook/js/outputarea').OutputArea;\n    if (OutputArea.prototype.mime_types().indexOf(EXEC_MIME_TYPE) == -1) {\n      register_renderer(events, OutputArea);\n    }\n  } catch(err) {\n  }\n}\n",
      "application/vnd.holoviews_load.v0+json": ""
     },
     "metadata": {},
     "output_type": "display_data"
    },
    {
     "data": {
      "application/vnd.holoviews_exec.v0+json": "",
      "text/html": [
       "<div id='d9d30690-c01a-4e0a-9ea7-73f3d71204e0'>\n",
       "  <div id=\"a26c626a-d328-40de-9062-c37c672c762b\" data-root-id=\"d9d30690-c01a-4e0a-9ea7-73f3d71204e0\" style=\"display: contents;\"></div>\n",
       "</div>\n",
       "<script type=\"application/javascript\">(function(root) {\n",
       "  var docs_json = {\"acb97b07-a26f-4892-b47e-447dfd441533\":{\"version\":\"3.8.0\",\"title\":\"Bokeh Application\",\"config\":{\"type\":\"object\",\"name\":\"DocumentConfig\",\"id\":\"99c93900-40e0-4a32-a87d-ae8a4839a3aa\",\"attributes\":{\"notifications\":{\"type\":\"object\",\"name\":\"Notifications\",\"id\":\"d96a6785-b357-465c-a82a-17954e207511\"}}},\"roots\":[{\"type\":\"object\",\"name\":\"panel.models.browser.BrowserInfo\",\"id\":\"d9d30690-c01a-4e0a-9ea7-73f3d71204e0\"},{\"type\":\"object\",\"name\":\"panel.models.comm_manager.CommManager\",\"id\":\"4ead34b0-ecb9-4f96-89ef-a121aaae2864\",\"attributes\":{\"plot_id\":\"d9d30690-c01a-4e0a-9ea7-73f3d71204e0\",\"comm_id\":\"ff39879b10ce4073a1f738189565c303\",\"client_comm_id\":\"0bafe2fc7813426e96c487643139325f\"}}],\"defs\":[{\"type\":\"model\",\"name\":\"ReactiveHTML1\"},{\"type\":\"model\",\"name\":\"FlexBox1\",\"properties\":[{\"name\":\"align_content\",\"kind\":\"Any\",\"default\":\"flex-start\"},{\"name\":\"align_items\",\"kind\":\"Any\",\"default\":\"flex-start\"},{\"name\":\"flex_direction\",\"kind\":\"Any\",\"default\":\"row\"},{\"name\":\"flex_wrap\",\"kind\":\"Any\",\"default\":\"wrap\"},{\"name\":\"gap\",\"kind\":\"Any\",\"default\":\"\"},{\"name\":\"justify_content\",\"kind\":\"Any\",\"default\":\"flex-start\"}]},{\"type\":\"model\",\"name\":\"FloatPanel1\",\"properties\":[{\"name\":\"config\",\"kind\":\"Any\",\"default\":{\"type\":\"map\"}},{\"name\":\"contained\",\"kind\":\"Any\",\"default\":true},{\"name\":\"position\",\"kind\":\"Any\",\"default\":\"right-top\"},{\"name\":\"offsetx\",\"kind\":\"Any\",\"default\":null},{\"name\":\"offsety\",\"kind\":\"Any\",\"default\":null},{\"name\":\"theme\",\"kind\":\"Any\",\"default\":\"primary\"},{\"name\":\"status\",\"kind\":\"Any\",\"default\":\"normalized\"}]},{\"type\":\"model\",\"name\":\"GridStack1\",\"properties\":[{\"name\":\"ncols\",\"kind\":\"Any\",\"default\":null},{\"name\":\"nrows\",\"kind\":\"Any\",\"default\":null},{\"name\":\"allow_resize\",\"kind\":\"Any\",\"default\":true},{\"name\":\"allow_drag\",\"kind\":\"Any\",\"default\":true},{\"name\":\"state\",\"kind\":\"Any\",\"default\":[]}]},{\"type\":\"model\",\"name\":\"drag1\",\"properties\":[{\"name\":\"slider_width\",\"kind\":\"Any\",\"default\":5},{\"name\":\"slider_color\",\"kind\":\"Any\",\"default\":\"black\"},{\"name\":\"start\",\"kind\":\"Any\",\"default\":0},{\"name\":\"end\",\"kind\":\"Any\",\"default\":100},{\"name\":\"value\",\"kind\":\"Any\",\"default\":50}]},{\"type\":\"model\",\"name\":\"click1\",\"properties\":[{\"name\":\"terminal_output\",\"kind\":\"Any\",\"default\":\"\"},{\"name\":\"debug_name\",\"kind\":\"Any\",\"default\":\"\"},{\"name\":\"clears\",\"kind\":\"Any\",\"default\":0}]},{\"type\":\"model\",\"name\":\"ReactiveESM1\",\"properties\":[{\"name\":\"esm_constants\",\"kind\":\"Any\",\"default\":{\"type\":\"map\"}}]},{\"type\":\"model\",\"name\":\"JSComponent1\",\"properties\":[{\"name\":\"esm_constants\",\"kind\":\"Any\",\"default\":{\"type\":\"map\"}}]},{\"type\":\"model\",\"name\":\"ReactComponent1\",\"properties\":[{\"name\":\"use_shadow_dom\",\"kind\":\"Any\",\"default\":true},{\"name\":\"esm_constants\",\"kind\":\"Any\",\"default\":{\"type\":\"map\"}}]},{\"type\":\"model\",\"name\":\"AnyWidgetComponent1\",\"properties\":[{\"name\":\"use_shadow_dom\",\"kind\":\"Any\",\"default\":true},{\"name\":\"esm_constants\",\"kind\":\"Any\",\"default\":{\"type\":\"map\"}}]},{\"type\":\"model\",\"name\":\"FastWrapper1\",\"properties\":[{\"name\":\"object\",\"kind\":\"Any\",\"default\":null},{\"name\":\"style\",\"kind\":\"Any\",\"default\":null}]},{\"type\":\"model\",\"name\":\"NotificationArea1\",\"properties\":[{\"name\":\"js_events\",\"kind\":\"Any\",\"default\":{\"type\":\"map\"}},{\"name\":\"max_notifications\",\"kind\":\"Any\",\"default\":5},{\"name\":\"notifications\",\"kind\":\"Any\",\"default\":[]},{\"name\":\"position\",\"kind\":\"Any\",\"default\":\"bottom-right\"},{\"name\":\"_clear\",\"kind\":\"Any\",\"default\":0},{\"name\":\"types\",\"kind\":\"Any\",\"default\":[{\"type\":\"map\",\"entries\":[[\"type\",\"warning\"],[\"background\",\"#ffc107\"],[\"icon\",{\"type\":\"map\",\"entries\":[[\"className\",\"fas fa-exclamation-triangle\"],[\"tagName\",\"i\"],[\"color\",\"white\"]]}]]},{\"type\":\"map\",\"entries\":[[\"type\",\"info\"],[\"background\",\"#007bff\"],[\"icon\",{\"type\":\"map\",\"entries\":[[\"className\",\"fas fa-info-circle\"],[\"tagName\",\"i\"],[\"color\",\"white\"]]}]]}]}]},{\"type\":\"model\",\"name\":\"Notification\",\"properties\":[{\"name\":\"background\",\"kind\":\"Any\",\"default\":null},{\"name\":\"duration\",\"kind\":\"Any\",\"default\":3000},{\"name\":\"icon\",\"kind\":\"Any\",\"default\":null},{\"name\":\"message\",\"kind\":\"Any\",\"default\":\"\"},{\"name\":\"notification_type\",\"kind\":\"Any\",\"default\":null},{\"name\":\"_rendered\",\"kind\":\"Any\",\"default\":false},{\"name\":\"_destroyed\",\"kind\":\"Any\",\"default\":false}]},{\"type\":\"model\",\"name\":\"TemplateActions1\",\"properties\":[{\"name\":\"open_modal\",\"kind\":\"Any\",\"default\":0},{\"name\":\"close_modal\",\"kind\":\"Any\",\"default\":0}]},{\"type\":\"model\",\"name\":\"BootstrapTemplateActions1\",\"properties\":[{\"name\":\"open_modal\",\"kind\":\"Any\",\"default\":0},{\"name\":\"close_modal\",\"kind\":\"Any\",\"default\":0}]},{\"type\":\"model\",\"name\":\"TemplateEditor1\",\"properties\":[{\"name\":\"layout\",\"kind\":\"Any\",\"default\":[]}]},{\"type\":\"model\",\"name\":\"MaterialTemplateActions1\",\"properties\":[{\"name\":\"open_modal\",\"kind\":\"Any\",\"default\":0},{\"name\":\"close_modal\",\"kind\":\"Any\",\"default\":0}]},{\"type\":\"model\",\"name\":\"request_value1\",\"properties\":[{\"name\":\"fill\",\"kind\":\"Any\",\"default\":\"none\"},{\"name\":\"_synced\",\"kind\":\"Any\",\"default\":null},{\"name\":\"_request_sync\",\"kind\":\"Any\",\"default\":0}]},{\"type\":\"model\",\"name\":\"holoviews.plotting.bokeh.raster.HoverModel\",\"properties\":[{\"name\":\"xy\",\"kind\":\"Any\",\"default\":null},{\"name\":\"data\",\"kind\":\"Any\",\"default\":null}]}]}};\n",
       "  var render_items = [{\"docid\":\"acb97b07-a26f-4892-b47e-447dfd441533\",\"roots\":{\"d9d30690-c01a-4e0a-9ea7-73f3d71204e0\":\"a26c626a-d328-40de-9062-c37c672c762b\"},\"root_ids\":[\"d9d30690-c01a-4e0a-9ea7-73f3d71204e0\"]}];\n",
       "  var docs = Object.values(docs_json)\n",
       "  if (!docs) {\n",
       "    return\n",
       "  }\n",
       "  const py_version = docs[0].version.replace('rc', '-rc.').replace('.dev', '-dev.')\n",
       "  async function embed_document(root) {\n",
       "    var Bokeh = get_bokeh(root)\n",
       "    await Bokeh.embed.embed_items_notebook(docs_json, render_items);\n",
       "    for (const render_item of render_items) {\n",
       "      for (const root_id of render_item.root_ids) {\n",
       "\tconst id_el = document.getElementById(root_id)\n",
       "\tif (id_el.children.length && id_el.children[0].hasAttribute('data-root-id')) {\n",
       "\t  const root_el = id_el.children[0]\n",
       "\t  root_el.id = root_el.id + '-rendered'\n",
       "\t  for (const child of root_el.children) {\n",
       "            // Ensure JupyterLab does not capture keyboard shortcuts\n",
       "            // see: https://jupyterlab.readthedocs.io/en/4.1.x/extension/notebook.html#keyboard-interaction-model\n",
       "\t    child.setAttribute('data-lm-suppress-shortcuts', 'true')\n",
       "\t  }\n",
       "\t}\n",
       "      }\n",
       "    }\n",
       "  }\n",
       "  function get_bokeh(root) {\n",
       "    if (root.Bokeh === undefined) {\n",
       "      return null\n",
       "    } else if (root.Bokeh.version !== py_version) {\n",
       "      if (root.Bokeh.versions === undefined || !root.Bokeh.versions.has(py_version)) {\n",
       "\treturn null\n",
       "      }\n",
       "      return root.Bokeh.versions.get(py_version);\n",
       "    } else if (root.Bokeh.version === py_version) {\n",
       "      return root.Bokeh\n",
       "    }\n",
       "    return null\n",
       "  }\n",
       "  function is_loaded(root) {\n",
       "    var Bokeh = get_bokeh(root)\n",
       "    return (Bokeh != null && Bokeh.Panel !== undefined)\n",
       "  }\n",
       "  if (is_loaded(root)) {\n",
       "    embed_document(root);\n",
       "  } else {\n",
       "    var attempts = 0;\n",
       "    var timer = setInterval(function(root) {\n",
       "      if (is_loaded(root)) {\n",
       "        clearInterval(timer);\n",
       "        embed_document(root);\n",
       "      } else if (document.readyState == \"complete\") {\n",
       "        attempts++;\n",
       "        if (attempts > 200) {\n",
       "          clearInterval(timer);\n",
       "\t  var Bokeh = get_bokeh(root)\n",
       "\t  if (Bokeh == null || Bokeh.Panel == null) {\n",
       "            console.warn(\"Panel: ERROR: Unable to run Panel code because Bokeh or Panel library is missing\");\n",
       "\t  } else {\n",
       "\t    console.warn(\"Panel: WARNING: Attempting to render but not all required libraries could be resolved.\")\n",
       "\t    embed_document(root)\n",
       "\t  }\n",
       "        }\n",
       "      }\n",
       "    }, 25, root)\n",
       "  }\n",
       "})(window);</script>"
      ]
     },
     "metadata": {
      "application/vnd.holoviews_exec.v0+json": {
       "id": "d9d30690-c01a-4e0a-9ea7-73f3d71204e0"
      }
     },
     "output_type": "display_data"
    }
   ],
   "source": [
    "import numpy as np\n",
    "import pandas as pd\n",
    "import panel as pn\n",
    "import param\n",
    "import hvplot.pandas\n",
    "import holoviews as hv\n",
    "import hvplot\n",
    "\n",
    "\n",
    "\n",
    "\n",
    "# Enable Panel extensions\n",
    "# pn.extension('matplotlib')\n",
    "\n",
    "class NonHomogeneousPoissonProcess:\n",
    "    \"\"\"\n",
    "    Implementation of Non-homogeneous Poisson Process for neural spike simulation.\n",
    "    \n",
    "    Based on the theory from: https://www.randomservices.org/random/poisson/Nonhomogeneous.html\n",
    "    \"\"\"\n",
    "    \n",
    "    def __init__(self, time_start=-200, time_end=500):\n",
    "        \"\"\"\n",
    "        Initialize the process with time boundaries in milliseconds.\n",
    "        \n",
    "        Args:\n",
    "            time_start: Start time in ms (default: -200)\n",
    "            time_end: End time in ms (default: 500)\n",
    "        \"\"\"\n",
    "        self.time_start = time_start\n",
    "        self.time_end = time_end\n",
    "        \n",
    "    def rate_function(self, t, lambda_1, lambda_2):\n",
    "        \"\"\"\n",
    "        Define the time-varying rate function λ(t).\n",
    "        \n",
    "        Args:\n",
    "            t: Time array in ms\n",
    "            lambda_1: Baseline firing rate (spikes/ms)\n",
    "            lambda_2: Enhanced firing rate (spikes/ms)\n",
    "            \n",
    "        Returns:\n",
    "            Rate function values at times t\n",
    "        \"\"\"\n",
    "        # Ensure t is numpy array for proper indexing\n",
    "        t = np.asarray(t)\n",
    "        rate = np.zeros_like(t, dtype=float)\n",
    "        \n",
    "        # Baseline period: -200 to 0 ms\n",
    "        baseline_mask = (t >= -200) & (t < 0)\n",
    "        rate[baseline_mask] = lambda_1\n",
    "        \n",
    "        # Enhanced period: 0 to 200 ms\n",
    "        enhanced_mask = (t >= 0) & (t < 200)\n",
    "        rate[enhanced_mask] = lambda_2\n",
    "        \n",
    "        # Return to baseline: 200 to 500 ms\n",
    "        return_mask = (t >= 200) & (t <= 500)\n",
    "        rate[return_mask] = lambda_1\n",
    "        \n",
    "        return rate\n",
    "    \n",
    "    def generate_spikes(self, lambda_1, lambda_2, n_trials=1, dt=0.1):\n",
    "        \"\"\"\n",
    "        Generate spike trains using the thinning algorithm for non-homogeneous Poisson processes.\n",
    "        \n",
    "        Args:\n",
    "            lambda_1: Baseline firing rate (spikes/ms)\n",
    "            lambda_2: Enhanced firing rate (spikes/ms)\n",
    "            n_trials: Number of spike trains to generate\n",
    "            dt: Time resolution in ms\n",
    "            \n",
    "        Returns:\n",
    "            List of spike time arrays for each trial\n",
    "        \"\"\"\n",
    "        # Find maximum rate for thinning algorithm\n",
    "        max_rate = max(lambda_1, lambda_2)\n",
    "        \n",
    "        spike_trains = []\n",
    "        \n",
    "        for trial in range(n_trials):\n",
    "            # Generate candidate spike times using homogeneous Poisson with max rate\n",
    "            total_time = self.time_end - self.time_start\n",
    "            expected_spikes = int(max_rate * total_time * 2)  # Overestimate\n",
    "            \n",
    "            # Generate inter-spike intervals\n",
    "            intervals = np.random.exponential(1.0 / max_rate, expected_spikes)\n",
    "            print(\"Generated intervals:\", intervals)\n",
    "            # Convert to spike times\n",
    "            candidate_times = np.cumsum(intervals) + self.time_start\n",
    "            \n",
    "            # Only keep times within our window\n",
    "            candidate_times = candidate_times[candidate_times <= self.time_end]\n",
    "            \n",
    "            # Apply thinning: accept each spike with probability λ(t)/λ_max\n",
    "            accepted_spikes = []\n",
    "            \n",
    "            for spike_time in candidate_times:\n",
    "                actual_rate = self.rate_function(np.array([spike_time]), lambda_1, lambda_2)[0]\n",
    "                accept_prob = actual_rate / max_rate\n",
    "                \n",
    "                if np.random.random() < accept_prob:\n",
    "                    accepted_spikes.append(spike_time)\n",
    "            \n",
    "            spike_trains.append(np.array(accepted_spikes))\n",
    "        \n",
    "        return spike_trains\n",
    "\n",
    "\n",
    "class NeuralAnalysisApp(param.Parameterized):\n",
    "    \"\"\"\n",
    "    Panel application for neural population analysis demonstration.\n",
    "    \"\"\"\n",
    "    \n",
    "    # Parameters that can be controlled by user\n",
    "    lambda_1 = param.Number(default=0.005, bounds=(0.001, 0.02), step=0.001,\n",
    "                           doc=\"Baseline firing rate (spikes/ms)\")\n",
    "    \n",
    "    lambda_2 = param.Number(default=0.015, bounds=(0.001, 0.05), step=0.001,\n",
    "                           doc=\"Enhanced firing rate (spikes/ms)\")\n",
    "    \n",
    "    n_trials = param.Integer(default=20, bounds=(1, 100), step=1,\n",
    "                            doc=\"Number of spike trains to simulate\")\n",
    "    \n",
    "    def __init__(self, **params):\n",
    "        super().__init__(**params)\n",
    "        self.poisson_process = NonHomogeneousPoissonProcess()\n",
    "        \n",
    "    def create_plots(self):\n",
    "        \"\"\"Create the main visualization plots.\"\"\"\n",
    "        \n",
    "        # Generate spike trains\n",
    "        spike_trains = self.poisson_process.generate_spikes(\n",
    "            self.lambda_1, self.lambda_2, self.n_trials\n",
    "        )\n",
    "        \n",
    "        # Create figure with subplots\n",
    "        fig = Figure(figsize=(12, 8))\n",
    "        \n",
    "        # Plot 1: Rate function\n",
    "        ax1 = fig.add_subplot(3, 1, 1)\n",
    "        time_axis = np.linspace(-200, 500, 1000)\n",
    "        rate_values = self.poisson_process.rate_function(time_axis, self.lambda_1, self.lambda_2)\n",
    "        \n",
    "        ax1.plot(time_axis, rate_values * 1000, 'b-', linewidth=2, label='Rate λ(t)')\n",
    "        ax1.axvline(x=0, color='r', linestyle='--', alpha=0.7, label='Stimulus onset')\n",
    "        ax1.axvline(x=200, color='r', linestyle='--', alpha=0.7, label='Stimulus offset')\n",
    "        \n",
    "        # Add colored background regions\n",
    "        ax1.axvspan(-200, 0, alpha=0.2, color='gray', label='Baseline')\n",
    "        ax1.axvspan(0, 200, alpha=0.2, color='orange', label='Enhanced')\n",
    "        ax1.axvspan(200, 500, alpha=0.2, color='gray')\n",
    "        \n",
    "        ax1.set_ylabel('Firing Rate\\n(spikes/sec)')\n",
    "        ax1.set_title('Non-homogeneous Poisson Process: Neural Firing Rate')\n",
    "        ax1.legend(loc='upper right')\n",
    "        ax1.grid(True, alpha=0.3)\n",
    "        \n",
    "        # Plot 2: Spike raster\n",
    "        ax2 = fig.add_subplot(3, 1, 2)\n",
    "        \n",
    "        for i, spikes in enumerate(spike_trains):\n",
    "            if len(spikes) > 0:\n",
    "                ax2.scatter(spikes, [i] * len(spikes), s=1, c='black', alpha=0.7)\n",
    "        \n",
    "        ax2.axvline(x=0, color='r', linestyle='--', alpha=0.7)\n",
    "        ax2.axvline(x=200, color='r', linestyle='--', alpha=0.7)\n",
    "        ax2.axvspan(-200, 0, alpha=0.1, color='gray')\n",
    "        ax2.axvspan(0, 200, alpha=0.1, color='orange')\n",
    "        ax2.axvspan(200, 500, alpha=0.1, color='gray')\n",
    "        \n",
    "        ax2.set_ylabel('Trial Number')\n",
    "        ax2.set_title(f'Spike Raster Plot ({self.n_trials} trials)')\n",
    "        ax2.set_ylim(-0.5, self.n_trials - 0.5)\n",
    "        ax2.grid(True, alpha=0.3)\n",
    "        \n",
    "        # Plot 3: PSTH (Peri-Stimulus Time Histogram)\n",
    "        ax3 = fig.add_subplot(3, 1, 3)\n",
    "        \n",
    "        # Combine all spikes\n",
    "        all_spikes = np.concatenate([spikes for spikes in spike_trains if len(spikes) > 0])\n",
    "        \n",
    "        if len(all_spikes) > 0:\n",
    "            bins = np.linspace(-200, 500, 50)\n",
    "            counts, bin_edges = np.histogram(all_spikes, bins=bins)\n",
    "            bin_centers = (bin_edges[:-1] + bin_edges[1:]) / 2\n",
    "            bin_width = bin_edges[1] - bin_edges[0]\n",
    "            \n",
    "            # Convert to firing rate (spikes/sec)\n",
    "            firing_rate = counts / (self.n_trials * bin_width / 1000)\n",
    "            \n",
    "            ax3.bar(bin_centers, firing_rate, width=bin_width*0.8, alpha=0.7, color='navy')\n",
    "        \n",
    "        ax3.axvline(x=0, color='r', linestyle='--', alpha=0.7)\n",
    "        ax3.axvline(x=200, color='r', linestyle='--', alpha=0.7)\n",
    "        ax3.axvspan(-200, 0, alpha=0.1, color='gray')\n",
    "        ax3.axvspan(0, 200, alpha=0.1, color='orange')\n",
    "        ax3.axvspan(200, 500, alpha=0.1, color='gray')\n",
    "        \n",
    "        ax3.set_xlabel('Time (ms)')\n",
    "        ax3.set_ylabel('Firing Rate\\n(spikes/sec)')\n",
    "        ax3.set_title('Peri-Stimulus Time Histogram (PSTH)')\n",
    "        ax3.grid(True, alpha=0.3)\n",
    "        \n",
    "        plt.tight_layout()\n",
    "        \n",
    "        return fig\n",
    "    \n",
    "    def get_stats_text(self):\n",
    "        \"\"\"Generate statistics text for display.\"\"\"\n",
    "        spike_trains = self.poisson_process.generate_spikes(\n",
    "            self.lambda_1, self.lambda_2, self.n_trials\n",
    "        )\n",
    "        \n",
    "        # Calculate statistics\n",
    "        baseline_spikes = []\n",
    "        enhanced_spikes = []\n",
    "        return_spikes = []\n",
    "        \n",
    "        for spikes in spike_trains:\n",
    "            baseline_spikes.extend(spikes[(spikes >= -200) & (spikes < 0)])\n",
    "            enhanced_spikes.extend(spikes[(spikes >= 0) & (spikes < 200)])\n",
    "            return_spikes.extend(spikes[(spikes >= 200) & (spikes <= 500)])\n",
    "        \n",
    "        # Calculate average firing rates\n",
    "        baseline_rate = len(baseline_spikes) / (self.n_trials * 0.2)  # 200ms period\n",
    "        enhanced_rate = len(enhanced_spikes) / (self.n_trials * 0.2)  # 200ms period\n",
    "        return_rate = len(return_spikes) / (self.n_trials * 0.3)     # 300ms period\n",
    "        \n",
    "        stats_text = f\"\"\"\n",
    "        **Simulation Statistics:**\n",
    "        \n",
    "        **Parameters:**\n",
    "        - Baseline rate (λ₁): {self.lambda_1:.3f} spikes/ms ({self.lambda_1*1000:.1f} spikes/sec)\n",
    "        - Enhanced rate (λ₂): {self.lambda_2:.3f} spikes/ms ({self.lambda_2*1000:.1f} spikes/sec)\n",
    "        - Number of trials: {self.n_trials}\n",
    "        \n",
    "        **Observed Rates:**\n",
    "        - Baseline period (-200 to 0 ms): {baseline_rate:.1f} spikes/sec\n",
    "        - Enhanced period (0 to 200 ms): {enhanced_rate:.1f} spikes/sec\n",
    "        - Return period (200 to 500 ms): {return_rate:.1f} spikes/sec\n",
    "        \n",
    "        **Analysis:**\n",
    "        - Fold change: {enhanced_rate/baseline_rate if baseline_rate > 0 else 'N/A'}\n",
    "        - Total spikes: {sum(len(spikes) for spikes in spike_trains)}\n",
    "        \"\"\"\n",
    "        \n",
    "        return stats_text\n"
   ]
  },
  {
   "cell_type": "code",
   "execution_count": 12,
   "id": "8292dfe3",
   "metadata": {},
   "outputs": [
    {
     "name": "stdout",
     "output_type": "stream",
     "text": [
      "Generated intervals: [ 76.05472481   5.32146515  41.03836014  14.43493268   6.54722588\n",
      " 460.12013114  38.91300225 166.00706138  29.38888343 114.4141351\n",
      " 142.80662228  90.54465942  63.7856644   53.07578135]\n"
     ]
    },
    {
     "data": {
      "application/vnd.microsoft.datawrangler.viewer.v0+json": {
       "columns": [
        {
         "name": "index",
         "rawType": "int64",
         "type": "integer"
        },
        {
         "name": "0",
         "rawType": "float64",
         "type": "float"
        }
       ],
       "ref": "b94cf16a-c8ab-4a7b-968a-beea2546c080",
       "rows": [
        [
         "0",
         "-56.603291342892106"
        ]
       ],
       "shape": {
        "columns": 1,
        "rows": 1
       }
      },
      "text/html": [
       "<div>\n",
       "<style scoped>\n",
       "    .dataframe tbody tr th:only-of-type {\n",
       "        vertical-align: middle;\n",
       "    }\n",
       "\n",
       "    .dataframe tbody tr th {\n",
       "        vertical-align: top;\n",
       "    }\n",
       "\n",
       "    .dataframe thead th {\n",
       "        text-align: right;\n",
       "    }\n",
       "</style>\n",
       "<table border=\"1\" class=\"dataframe\">\n",
       "  <thead>\n",
       "    <tr style=\"text-align: right;\">\n",
       "      <th></th>\n",
       "      <th>0</th>\n",
       "    </tr>\n",
       "  </thead>\n",
       "  <tbody>\n",
       "    <tr>\n",
       "      <th>0</th>\n",
       "      <td>-56.603291</td>\n",
       "    </tr>\n",
       "  </tbody>\n",
       "</table>\n",
       "</div>"
      ],
      "text/plain": [
       "           0\n",
       "0 -56.603291"
      ]
     },
     "execution_count": 12,
     "metadata": {},
     "output_type": "execute_result"
    }
   ],
   "source": [
    "proc = NonHomogeneousPoissonProcess()\n",
    "\n",
    "lambda_1, lambda_2 = (2 / 1000), (10 / 1000)\n",
    "# lambda_1, lambda_2 = (2), (10)\n",
    "proc.rate_function(np.array([-150, 50, 250]), lambda_1, lambda_2)\n",
    "data = proc.generate_spikes(lambda_1, lambda_2, 1, 1)\n",
    "\n",
    "data_df = pd.DataFrame(data)\n",
    "data_df\n",
    "\n"
   ]
  },
  {
   "cell_type": "code",
   "execution_count": 13,
   "id": "9607988d",
   "metadata": {},
   "outputs": [
    {
     "data": {
      "application/vnd.microsoft.datawrangler.viewer.v0+json": {
       "columns": [
        {
         "name": "index",
         "rawType": "int64",
         "type": "integer"
        },
        {
         "name": "spikes",
         "rawType": "int64",
         "type": "integer"
        },
        {
         "name": "time",
         "rawType": "int64",
         "type": "integer"
        }
       ],
       "ref": "8bea547a-9880-4c12-bf9a-f440c77f76c3",
       "rows": [
        [
         "0",
         "0",
         "-200"
        ],
        [
         "1",
         "0",
         "-199"
        ],
        [
         "2",
         "0",
         "-198"
        ],
        [
         "3",
         "1",
         "-197"
        ],
        [
         "4",
         "0",
         "-196"
        ],
        [
         "5",
         "0",
         "-195"
        ],
        [
         "6",
         "0",
         "-194"
        ],
        [
         "7",
         "0",
         "-193"
        ],
        [
         "8",
         "0",
         "-192"
        ],
        [
         "9",
         "0",
         "-191"
        ],
        [
         "10",
         "0",
         "-190"
        ],
        [
         "11",
         "0",
         "-189"
        ],
        [
         "12",
         "0",
         "-188"
        ],
        [
         "13",
         "0",
         "-187"
        ],
        [
         "14",
         "0",
         "-186"
        ],
        [
         "15",
         "0",
         "-185"
        ],
        [
         "16",
         "0",
         "-184"
        ],
        [
         "17",
         "0",
         "-183"
        ],
        [
         "18",
         "1",
         "-182"
        ],
        [
         "19",
         "0",
         "-181"
        ],
        [
         "20",
         "0",
         "-180"
        ],
        [
         "21",
         "0",
         "-179"
        ],
        [
         "22",
         "1",
         "-178"
        ],
        [
         "23",
         "0",
         "-177"
        ],
        [
         "24",
         "2",
         "-176"
        ],
        [
         "25",
         "0",
         "-175"
        ],
        [
         "26",
         "0",
         "-174"
        ],
        [
         "27",
         "0",
         "-173"
        ],
        [
         "28",
         "0",
         "-172"
        ],
        [
         "29",
         "0",
         "-171"
        ],
        [
         "30",
         "0",
         "-170"
        ],
        [
         "31",
         "0",
         "-169"
        ],
        [
         "32",
         "0",
         "-168"
        ],
        [
         "33",
         "0",
         "-167"
        ],
        [
         "34",
         "0",
         "-166"
        ],
        [
         "35",
         "0",
         "-165"
        ],
        [
         "36",
         "0",
         "-164"
        ],
        [
         "37",
         "0",
         "-163"
        ],
        [
         "38",
         "0",
         "-162"
        ],
        [
         "39",
         "0",
         "-161"
        ],
        [
         "40",
         "1",
         "-160"
        ],
        [
         "41",
         "1",
         "-159"
        ],
        [
         "42",
         "1",
         "-158"
        ],
        [
         "43",
         "0",
         "-157"
        ],
        [
         "44",
         "1",
         "-156"
        ],
        [
         "45",
         "0",
         "-155"
        ],
        [
         "46",
         "0",
         "-154"
        ],
        [
         "47",
         "0",
         "-153"
        ],
        [
         "48",
         "0",
         "-152"
        ],
        [
         "49",
         "1",
         "-151"
        ]
       ],
       "shape": {
        "columns": 2,
        "rows": 700
       }
      },
      "text/html": [
       "<div>\n",
       "<style scoped>\n",
       "    .dataframe tbody tr th:only-of-type {\n",
       "        vertical-align: middle;\n",
       "    }\n",
       "\n",
       "    .dataframe tbody tr th {\n",
       "        vertical-align: top;\n",
       "    }\n",
       "\n",
       "    .dataframe thead th {\n",
       "        text-align: right;\n",
       "    }\n",
       "</style>\n",
       "<table border=\"1\" class=\"dataframe\">\n",
       "  <thead>\n",
       "    <tr style=\"text-align: right;\">\n",
       "      <th></th>\n",
       "      <th>spikes</th>\n",
       "      <th>time</th>\n",
       "    </tr>\n",
       "  </thead>\n",
       "  <tbody>\n",
       "    <tr>\n",
       "      <th>0</th>\n",
       "      <td>0</td>\n",
       "      <td>-200</td>\n",
       "    </tr>\n",
       "    <tr>\n",
       "      <th>1</th>\n",
       "      <td>0</td>\n",
       "      <td>-199</td>\n",
       "    </tr>\n",
       "    <tr>\n",
       "      <th>2</th>\n",
       "      <td>0</td>\n",
       "      <td>-198</td>\n",
       "    </tr>\n",
       "    <tr>\n",
       "      <th>3</th>\n",
       "      <td>1</td>\n",
       "      <td>-197</td>\n",
       "    </tr>\n",
       "    <tr>\n",
       "      <th>4</th>\n",
       "      <td>0</td>\n",
       "      <td>-196</td>\n",
       "    </tr>\n",
       "    <tr>\n",
       "      <th>...</th>\n",
       "      <td>...</td>\n",
       "      <td>...</td>\n",
       "    </tr>\n",
       "    <tr>\n",
       "      <th>695</th>\n",
       "      <td>0</td>\n",
       "      <td>495</td>\n",
       "    </tr>\n",
       "    <tr>\n",
       "      <th>696</th>\n",
       "      <td>0</td>\n",
       "      <td>496</td>\n",
       "    </tr>\n",
       "    <tr>\n",
       "      <th>697</th>\n",
       "      <td>0</td>\n",
       "      <td>497</td>\n",
       "    </tr>\n",
       "    <tr>\n",
       "      <th>698</th>\n",
       "      <td>0</td>\n",
       "      <td>498</td>\n",
       "    </tr>\n",
       "    <tr>\n",
       "      <th>699</th>\n",
       "      <td>0</td>\n",
       "      <td>499</td>\n",
       "    </tr>\n",
       "  </tbody>\n",
       "</table>\n",
       "<p>700 rows × 2 columns</p>\n",
       "</div>"
      ],
      "text/plain": [
       "     spikes  time\n",
       "0         0  -200\n",
       "1         0  -199\n",
       "2         0  -198\n",
       "3         1  -197\n",
       "4         0  -196\n",
       "..      ...   ...\n",
       "695       0   495\n",
       "696       0   496\n",
       "697       0   497\n",
       "698       0   498\n",
       "699       0   499\n",
       "\n",
       "[700 rows x 2 columns]"
      ]
     },
     "execution_count": 13,
     "metadata": {},
     "output_type": "execute_result"
    }
   ],
   "source": [
    "rng = np.random.default_rng()\n",
    "time = np.arange(-200, 500, 1)\n",
    "data = rng.poisson(0.2, time.size)\n",
    "data.shape\n",
    "data_df = pd.DataFrame(np.vstack((data, time)).T, columns=['spikes', 'time'])\n",
    "data_df\n"
   ]
  },
  {
   "cell_type": "code",
   "execution_count": null,
   "id": "0a2e8b62",
   "metadata": {},
   "outputs": [],
   "source": [
    "from scipy.stats import expon\n",
    "\n",
    "expon.cdf(time)"
   ]
  },
  {
   "cell_type": "code",
   "execution_count": 10,
   "id": "a1eece7a",
   "metadata": {},
   "outputs": [
    {
     "data": {},
     "metadata": {},
     "output_type": "display_data"
    },
    {
     "data": {
      "application/vnd.holoviews_exec.v0+json": "",
      "text/html": [
       "<div id='00d5239c-590c-4698-96b5-d73e9b34688d'>\n",
       "  <div id=\"b39b8341-e903-44f7-861b-1be8b489343c\" data-root-id=\"00d5239c-590c-4698-96b5-d73e9b34688d\" style=\"display: contents;\"></div>\n",
       "</div>\n",
       "<script type=\"application/javascript\">(function(root) {\n",
       "  var docs_json = {\"6f5e232f-d664-4f13-b05c-273f9fa51cb7\":{\"version\":\"3.8.0\",\"title\":\"Bokeh Application\",\"config\":{\"type\":\"object\",\"name\":\"DocumentConfig\",\"id\":\"fcee9050-30c1-4688-9bb7-46fe6cf08635\",\"attributes\":{\"notifications\":{\"type\":\"object\",\"name\":\"Notifications\",\"id\":\"3f46fa8a-a682-4a9b-b470-75d408928ffe\"}}},\"roots\":[{\"type\":\"object\",\"name\":\"Row\",\"id\":\"00d5239c-590c-4698-96b5-d73e9b34688d\",\"attributes\":{\"name\":\"Row00313\",\"tags\":[\"embedded\"],\"stylesheets\":[\"\\n:host(.pn-loading):before, .pn-loading:before {\\n  background-color: #c3c3c3;\\n  mask-size: auto calc(min(50%, 300px));\\n  -webkit-mask-size: auto calc(min(50%, 300px));\\n}\",{\"type\":\"object\",\"name\":\"ImportedStyleSheet\",\"id\":\"f2e48fa2-6c8a-4ec9-9b4d-fc2bb24b5116\",\"attributes\":{\"url\":\"https://cdn.holoviz.org/panel/1.8.0/dist/css/loading.css\"}},{\"type\":\"object\",\"name\":\"ImportedStyleSheet\",\"id\":\"f3d4b22d-a5dd-4c2b-810c-eead3699a36b\",\"attributes\":{\"url\":\"https://cdn.holoviz.org/panel/1.8.0/dist/css/listpanel.css\"}},{\"type\":\"object\",\"name\":\"ImportedStyleSheet\",\"id\":\"a4dd5fde-011e-4348-bbec-9e4ec50eeeca\",\"attributes\":{\"url\":\"https://cdn.holoviz.org/panel/1.8.0/dist/bundled/theme/default.css\"}},{\"type\":\"object\",\"name\":\"ImportedStyleSheet\",\"id\":\"22759fcc-a52a-4a68-8986-e4de77b343e7\",\"attributes\":{\"url\":\"https://cdn.holoviz.org/panel/1.8.0/dist/bundled/theme/native.css\"}}],\"min_width\":800,\"margin\":0,\"sizing_mode\":\"stretch_width\",\"align\":\"start\",\"children\":[{\"type\":\"object\",\"name\":\"Spacer\",\"id\":\"89dc7f4d-1d6f-412d-ae30-17b72773f134\",\"attributes\":{\"name\":\"HSpacer00317\",\"stylesheets\":[\"\\n:host(.pn-loading):before, .pn-loading:before {\\n  background-color: #c3c3c3;\\n  mask-size: auto calc(min(50%, 300px));\\n  -webkit-mask-size: auto calc(min(50%, 300px));\\n}\",{\"id\":\"f2e48fa2-6c8a-4ec9-9b4d-fc2bb24b5116\"},{\"id\":\"a4dd5fde-011e-4348-bbec-9e4ec50eeeca\"},{\"id\":\"22759fcc-a52a-4a68-8986-e4de77b343e7\"}],\"min_width\":0,\"margin\":0,\"sizing_mode\":\"stretch_width\",\"align\":\"start\"}},{\"type\":\"object\",\"name\":\"Figure\",\"id\":\"7016259b-10d5-4fe5-b5e9-b84926c94fc4\",\"attributes\":{\"width\":800,\"height\":300,\"margin\":[5,10],\"sizing_mode\":\"fixed\",\"align\":\"start\",\"x_range\":{\"type\":\"object\",\"name\":\"Range1d\",\"id\":\"d643c5fa-ab34-4f97-a133-bc4df2bf238f\",\"attributes\":{\"name\":\"time\",\"tags\":[[[\"time\",null]],[]],\"start\":-226.2125,\"end\":525.2125,\"reset_start\":-226.2125,\"reset_end\":525.2125}},\"y_range\":{\"type\":\"object\",\"name\":\"Range1d\",\"id\":\"4b8397fc-287d-4941-8ed3-727ffa492a1c\",\"attributes\":{\"name\":\"spikes\",\"tags\":[[[\"spikes\",null]],{\"type\":\"map\",\"entries\":[[\"invert_yaxis\",false],[\"autorange\",false]]}],\"end\":2.2,\"reset_start\":0.0,\"reset_end\":2.2}},\"x_scale\":{\"type\":\"object\",\"name\":\"LinearScale\",\"id\":\"5dfa3779-34c4-4f41-9c6d-7fdf7e3bc5d4\"},\"y_scale\":{\"type\":\"object\",\"name\":\"LinearScale\",\"id\":\"f5c5b1bf-9572-408f-ab96-7e30c5975387\"},\"title\":{\"type\":\"object\",\"name\":\"Title\",\"id\":\"d26485b8-bd34-4aac-9af1-7dce384d6a36\",\"attributes\":{\"text_color\":\"black\",\"text_font_size\":\"12pt\"}},\"renderers\":[{\"type\":\"object\",\"name\":\"GlyphRenderer\",\"id\":\"38dd1cd3-0440-4f90-93a3-8b78626a1f6f\",\"attributes\":{\"name\":\"0\",\"data_source\":{\"type\":\"object\",\"name\":\"ColumnDataSource\",\"id\":\"5243a933-fdd6-4685-9c39-0ea2084fc07b\",\"attributes\":{\"selected\":{\"type\":\"object\",\"name\":\"Selection\",\"id\":\"ca879114-ea12-464c-a12b-0f0989377ac6\",\"attributes\":{\"indices\":[],\"line_indices\":[]}},\"selection_policy\":{\"type\":\"object\",\"name\":\"UnionRenderers\",\"id\":\"b40e89d0-30ed-4092-a419-9ae96b1c4d24\"},\"data\":{\"type\":\"map\",\"entries\":[[\"x\",{\"type\":\"ndarray\",\"array\":{\"type\":\"bytes\",\"data\":\"H4sIAAEAAAAC/zXTg64YBgBA0dVuVxvbatu2bdu2bdu2bdu2bdvt20mW3eR8ws0aEBCQjezkICe5yE0e8pKP/BSgIIUoTBGKUozilKAkpShNGcpSjvJUoCKVqEwVqlKN6tSgJrWoTR3qUo/6NKAhjWhME5rSjOa0oCWtaE0b2tKO9nSgI53oTBe60o3u9KAnvehNH/rSj/4MYCCDGMwQhjKM4YxgJKMYzRjGMo7xTGAik5jMFKYyjenMYCazmM0c5jKP+SxgIYtYzBKWsozlrGAlq1jNGtayjvVsYCOb2MwWtrKN7exgJ7vYzR72so/9HOAghzjMEY5yjOOc4CSnOM0ZznKO81zgIpe4zBWuco3r3OAmt7jNHe5yj/s84CGPeMwTnvKM57zgJa94zRve8o73fOAjn/jMF77yje/84Ce/+B3wX38oEIEJQlCCEZwQhCQUoQlDWMIRngj8SUQiEZkoRCUa0YlBTGIRmzjEJR7xScBf/M0/JCQRiUlCUpKRnBSkJBWpSUNa0pGeDGQkE5nJQlaykZ0c5CQXuclDXvKRnwIUpBCFKUJRilGcEpSkFKUpQ1nKUZ4KVKQSlalCVapRnRrUpBa1qUNd6lGfBjSkEY1pQlOa0ZwWtKQVrWlDW9rRng50pBOd6UJXutGdHvSkF73pQ1/60Z8BDGQQgxnCUIYxnBGMZBSjGcNYxjGeCUxkEpOZwlSmMZ0ZzGQWs5nDXOYxnwUsZBGLWcJSlrGcFaxkFatZw1rWsZ4NbGQTm9nCVraxnR3sZBe72cNe9rGfAxzkEIc5wlGOcZwTnOQUpznDWc5xngtc5BKXucJVrnGdG9zkFre5w13ucZ8HPOQRj3nCU57xnBe85BWvecNb3vGeD3zkE5/5wle+8Z0f/OQXv/l//kAEJghBCUZwQhCSUIQmDGEJR3gi8CcRiURkohCVaEQnBjGJRWziEJd4xCcBf/E3/5CQRCQmCUlJRnJSkJJUpCYNaUlHejKQkUxkJgtZyUZ2cpCTXOQmD3nJR34KUJBCFKYIRSlGcUpQklKUpgxlKUd5KlCRSlSmClWpRnVqUJNa1KYOdalHfRrQkEY0pglNaUZzWtCSVrSmDW1pR3s60JFOdKYLXelGd3rQk170pg996Ud/BjCQQQxmCEMZxnBGMJJRjGYMYxnHeCYwkUlMZgpTmcZ0ZjCTWcxmDnOZx3wWsJBFLGYJS1nGclawklWsZg1rWcd6NrCRTWxmC1vZxnZ2sJNd7GYPe9nHfg5wkEMc5ghHOcZxTnCSU5zmDGc5x3kucJFLXOYKV7nGdW5wk1vc5g53ucd9HvCQRzzmCU95xnNe8JJXvOYNb3nHez7wL9LMVIrwCgAA\"},\"shape\":[700],\"dtype\":\"int32\",\"order\":\"little\"}],[\"y0\",{\"type\":\"ndarray\",\"array\":{\"type\":\"bytes\",\"data\":\"H4sIAAEAAAAC/+3BAQ0AAADCoPdPbQ43oAAAAAAAeDSwPu5f4BUAAA==\"},\"shape\":[700],\"dtype\":\"float64\",\"order\":\"little\"}],[\"y1\",{\"type\":\"ndarray\",\"array\":{\"type\":\"bytes\",\"data\":\"H4sIAAEAAAAC/9WYyw3EMAhE6Wzpv5otYe+RiIE8hqxvlmwww2+w2d36fiy1TucoOeXlteNd/dE9CpfoHoUXbXfVL7jfA5yueqJ9iK+LcRryZzdeKXnZ+I3wr76Trk+P/emMnjaOong95pM4H6o4Zd//FH9V/6j6gaoT2Tp6qs90/Gb1VeN4Ox+79Vjdj7fl0PFB894puZT9at7b7aPTc8OVl0zVLTpP1fqm+cVbeQU1N2zbOSUHmxP8Xfao8qc6p2J+cCjAiv8B0/xk6x+D7qdbc9+/8DkVr9rC1ewHvHjYIOAVAAA=\"},\"shape\":[700],\"dtype\":\"float64\",\"order\":\"little\"}]]}}},\"view\":{\"type\":\"object\",\"name\":\"CDSView\",\"id\":\"d0a78314-5f2d-4fa3-9e24-4f23af6732ee\",\"attributes\":{\"filter\":{\"type\":\"object\",\"name\":\"AllIndices\",\"id\":\"a823900e-79bd-4d39-83a0-0109a6b8cd72\"}}},\"glyph\":{\"type\":\"object\",\"name\":\"Segment\",\"id\":\"64288713-cf4a-4e2b-b3fd-859c969d398b\",\"attributes\":{\"tags\":[\"apply_ranges\"],\"x0\":{\"type\":\"field\",\"field\":\"x\"},\"y0\":{\"type\":\"field\",\"field\":\"y0\"},\"x1\":{\"type\":\"field\",\"field\":\"x\"},\"y1\":{\"type\":\"field\",\"field\":\"y1\"}}},\"selection_glyph\":{\"type\":\"object\",\"name\":\"Segment\",\"id\":\"aca200fb-cf98-4688-949f-2f3883b928b2\",\"attributes\":{\"tags\":[\"apply_ranges\"],\"x0\":{\"type\":\"field\",\"field\":\"x\"},\"y0\":{\"type\":\"field\",\"field\":\"y0\"},\"x1\":{\"type\":\"field\",\"field\":\"x\"},\"y1\":{\"type\":\"field\",\"field\":\"y1\"},\"line_color\":{\"type\":\"value\",\"value\":\"black\"},\"line_alpha\":{\"type\":\"value\",\"value\":1.0},\"line_width\":{\"type\":\"value\",\"value\":1},\"line_join\":{\"type\":\"value\",\"value\":\"bevel\"},\"line_cap\":{\"type\":\"value\",\"value\":\"butt\"},\"line_dash\":{\"type\":\"value\",\"value\":[]},\"line_dash_offset\":{\"type\":\"value\",\"value\":0}}},\"nonselection_glyph\":{\"type\":\"object\",\"name\":\"Segment\",\"id\":\"392928f9-b00d-4842-8b96-280af0109733\",\"attributes\":{\"tags\":[\"apply_ranges\"],\"x0\":{\"type\":\"field\",\"field\":\"x\"},\"y0\":{\"type\":\"field\",\"field\":\"y0\"},\"x1\":{\"type\":\"field\",\"field\":\"x\"},\"y1\":{\"type\":\"field\",\"field\":\"y1\"},\"line_alpha\":{\"type\":\"value\",\"value\":0.1}}},\"muted_glyph\":{\"type\":\"object\",\"name\":\"Segment\",\"id\":\"86336d66-1430-422d-8ca5-04fc5e72a035\",\"attributes\":{\"tags\":[\"apply_ranges\"],\"x0\":{\"type\":\"field\",\"field\":\"x\"},\"y0\":{\"type\":\"field\",\"field\":\"y0\"},\"x1\":{\"type\":\"field\",\"field\":\"x\"},\"y1\":{\"type\":\"field\",\"field\":\"y1\"},\"line_alpha\":{\"type\":\"value\",\"value\":0.2}}}}}],\"toolbar\":{\"type\":\"object\",\"name\":\"Toolbar\",\"id\":\"2ad0e515-dc1a-450b-a0c2-6748fe8ff03d\",\"attributes\":{\"tools\":[{\"type\":\"object\",\"name\":\"WheelZoomTool\",\"id\":\"dacefce0-a4b7-43ed-9ab8-50557572bc9f\",\"attributes\":{\"tags\":[\"hv_created\"],\"renderers\":\"auto\",\"zoom_together\":\"none\"}},{\"type\":\"object\",\"name\":\"SaveTool\",\"id\":\"158e2f11-011d-4296-beb7-f251625cb1e9\"},{\"type\":\"object\",\"name\":\"PanTool\",\"id\":\"88520ba8-5f74-421a-b67c-91e976bc1867\"},{\"type\":\"object\",\"name\":\"BoxZoomTool\",\"id\":\"16ebdaa7-ca2e-4d41-9c76-df8406e0d726\",\"attributes\":{\"dimensions\":\"both\",\"overlay\":{\"type\":\"object\",\"name\":\"BoxAnnotation\",\"id\":\"09a0b61f-205d-4a0e-84f7-e14d0b2f2118\",\"attributes\":{\"syncable\":false,\"line_color\":\"black\",\"line_alpha\":1.0,\"line_width\":2,\"line_dash\":[4,4],\"fill_color\":\"lightgrey\",\"fill_alpha\":0.5,\"level\":\"overlay\",\"visible\":false,\"left\":{\"type\":\"number\",\"value\":\"nan\"},\"right\":{\"type\":\"number\",\"value\":\"nan\"},\"top\":{\"type\":\"number\",\"value\":\"nan\"},\"bottom\":{\"type\":\"number\",\"value\":\"nan\"},\"left_units\":\"canvas\",\"right_units\":\"canvas\",\"top_units\":\"canvas\",\"bottom_units\":\"canvas\",\"handles\":{\"type\":\"object\",\"name\":\"BoxInteractionHandles\",\"id\":\"5914bc13-944a-4b90-9c7c-e32beb054521\",\"attributes\":{\"all\":{\"type\":\"object\",\"name\":\"AreaVisuals\",\"id\":\"dfb24951-ebca-4900-a1d2-f54c7c850987\",\"attributes\":{\"fill_color\":\"white\",\"hover_fill_color\":\"lightgray\"}}}}}}}},{\"type\":\"object\",\"name\":\"ResetTool\",\"id\":\"d7a87bee-13b7-4fd9-bfa4-b9f93723e4f1\"}],\"active_drag\":{\"id\":\"88520ba8-5f74-421a-b67c-91e976bc1867\"},\"active_scroll\":{\"id\":\"dacefce0-a4b7-43ed-9ab8-50557572bc9f\"}}},\"left\":[{\"type\":\"object\",\"name\":\"LinearAxis\",\"id\":\"4f8815de-2d2f-4351-b9e8-4a1444a5e932\",\"attributes\":{\"ticker\":{\"type\":\"object\",\"name\":\"BasicTicker\",\"id\":\"2467e2e2-f701-499c-bd97-9eb35992a5aa\",\"attributes\":{\"mantissas\":[1,2,5]}},\"formatter\":{\"type\":\"object\",\"name\":\"BasicTickFormatter\",\"id\":\"6be2e1cf-44c4-4208-b807-eace94003f66\"},\"axis_label\":\"spikes\",\"major_label_policy\":{\"type\":\"object\",\"name\":\"AllLabels\",\"id\":\"1745d3fa-4036-4af2-bcc3-f441eff5a3c8\"}}}],\"below\":[{\"type\":\"object\",\"name\":\"LinearAxis\",\"id\":\"39ec6914-c373-4a57-9651-9adfd08ff720\",\"attributes\":{\"ticker\":{\"type\":\"object\",\"name\":\"BasicTicker\",\"id\":\"be31f172-5279-4ff3-95e4-8113b79464c1\",\"attributes\":{\"mantissas\":[1,2,5]}},\"formatter\":{\"type\":\"object\",\"name\":\"BasicTickFormatter\",\"id\":\"bc54dbbf-b1b0-4433-93f2-03f903a3ba2e\"},\"axis_label\":\"time\",\"major_label_policy\":{\"type\":\"object\",\"name\":\"AllLabels\",\"id\":\"219805c5-bb25-4942-a59a-2341f0094a1c\"}}}],\"center\":[{\"type\":\"object\",\"name\":\"Grid\",\"id\":\"9dfd6849-e979-4342-ae70-d1b3cbd7d479\",\"attributes\":{\"axis\":{\"id\":\"39ec6914-c373-4a57-9651-9adfd08ff720\"},\"grid_line_color\":null}},{\"type\":\"object\",\"name\":\"Grid\",\"id\":\"807b9e9a-a988-49fb-852a-4295d471b684\",\"attributes\":{\"dimension\":1,\"axis\":{\"id\":\"4f8815de-2d2f-4351-b9e8-4a1444a5e932\"},\"grid_line_color\":null}},{\"type\":\"object\",\"name\":\"Legend\",\"id\":\"1f01753f-d945-4889-b026-97b263ef73db\",\"attributes\":{\"items\":[]}}],\"min_border_top\":10,\"min_border_bottom\":10,\"min_border_left\":10,\"min_border_right\":10,\"output_backend\":\"webgl\"}},{\"type\":\"object\",\"name\":\"Spacer\",\"id\":\"5adcd5c9-75a0-4646-8f72-854e76358421\",\"attributes\":{\"name\":\"HSpacer00318\",\"stylesheets\":[\"\\n:host(.pn-loading):before, .pn-loading:before {\\n  background-color: #c3c3c3;\\n  mask-size: auto calc(min(50%, 300px));\\n  -webkit-mask-size: auto calc(min(50%, 300px));\\n}\",{\"id\":\"f2e48fa2-6c8a-4ec9-9b4d-fc2bb24b5116\"},{\"id\":\"a4dd5fde-011e-4348-bbec-9e4ec50eeeca\"},{\"id\":\"22759fcc-a52a-4a68-8986-e4de77b343e7\"}],\"min_width\":0,\"margin\":0,\"sizing_mode\":\"stretch_width\",\"align\":\"start\"}}]}}],\"defs\":[{\"type\":\"model\",\"name\":\"ReactiveHTML1\"},{\"type\":\"model\",\"name\":\"FlexBox1\",\"properties\":[{\"name\":\"align_content\",\"kind\":\"Any\",\"default\":\"flex-start\"},{\"name\":\"align_items\",\"kind\":\"Any\",\"default\":\"flex-start\"},{\"name\":\"flex_direction\",\"kind\":\"Any\",\"default\":\"row\"},{\"name\":\"flex_wrap\",\"kind\":\"Any\",\"default\":\"wrap\"},{\"name\":\"gap\",\"kind\":\"Any\",\"default\":\"\"},{\"name\":\"justify_content\",\"kind\":\"Any\",\"default\":\"flex-start\"}]},{\"type\":\"model\",\"name\":\"FloatPanel1\",\"properties\":[{\"name\":\"config\",\"kind\":\"Any\",\"default\":{\"type\":\"map\"}},{\"name\":\"contained\",\"kind\":\"Any\",\"default\":true},{\"name\":\"position\",\"kind\":\"Any\",\"default\":\"right-top\"},{\"name\":\"offsetx\",\"kind\":\"Any\",\"default\":null},{\"name\":\"offsety\",\"kind\":\"Any\",\"default\":null},{\"name\":\"theme\",\"kind\":\"Any\",\"default\":\"primary\"},{\"name\":\"status\",\"kind\":\"Any\",\"default\":\"normalized\"}]},{\"type\":\"model\",\"name\":\"GridStack1\",\"properties\":[{\"name\":\"ncols\",\"kind\":\"Any\",\"default\":null},{\"name\":\"nrows\",\"kind\":\"Any\",\"default\":null},{\"name\":\"allow_resize\",\"kind\":\"Any\",\"default\":true},{\"name\":\"allow_drag\",\"kind\":\"Any\",\"default\":true},{\"name\":\"state\",\"kind\":\"Any\",\"default\":[]}]},{\"type\":\"model\",\"name\":\"drag1\",\"properties\":[{\"name\":\"slider_width\",\"kind\":\"Any\",\"default\":5},{\"name\":\"slider_color\",\"kind\":\"Any\",\"default\":\"black\"},{\"name\":\"start\",\"kind\":\"Any\",\"default\":0},{\"name\":\"end\",\"kind\":\"Any\",\"default\":100},{\"name\":\"value\",\"kind\":\"Any\",\"default\":50}]},{\"type\":\"model\",\"name\":\"click1\",\"properties\":[{\"name\":\"terminal_output\",\"kind\":\"Any\",\"default\":\"\"},{\"name\":\"debug_name\",\"kind\":\"Any\",\"default\":\"\"},{\"name\":\"clears\",\"kind\":\"Any\",\"default\":0}]},{\"type\":\"model\",\"name\":\"ReactiveESM1\",\"properties\":[{\"name\":\"esm_constants\",\"kind\":\"Any\",\"default\":{\"type\":\"map\"}}]},{\"type\":\"model\",\"name\":\"JSComponent1\",\"properties\":[{\"name\":\"esm_constants\",\"kind\":\"Any\",\"default\":{\"type\":\"map\"}}]},{\"type\":\"model\",\"name\":\"ReactComponent1\",\"properties\":[{\"name\":\"use_shadow_dom\",\"kind\":\"Any\",\"default\":true},{\"name\":\"esm_constants\",\"kind\":\"Any\",\"default\":{\"type\":\"map\"}}]},{\"type\":\"model\",\"name\":\"AnyWidgetComponent1\",\"properties\":[{\"name\":\"use_shadow_dom\",\"kind\":\"Any\",\"default\":true},{\"name\":\"esm_constants\",\"kind\":\"Any\",\"default\":{\"type\":\"map\"}}]},{\"type\":\"model\",\"name\":\"FastWrapper1\",\"properties\":[{\"name\":\"object\",\"kind\":\"Any\",\"default\":null},{\"name\":\"style\",\"kind\":\"Any\",\"default\":null}]},{\"type\":\"model\",\"name\":\"NotificationArea1\",\"properties\":[{\"name\":\"js_events\",\"kind\":\"Any\",\"default\":{\"type\":\"map\"}},{\"name\":\"max_notifications\",\"kind\":\"Any\",\"default\":5},{\"name\":\"notifications\",\"kind\":\"Any\",\"default\":[]},{\"name\":\"position\",\"kind\":\"Any\",\"default\":\"bottom-right\"},{\"name\":\"_clear\",\"kind\":\"Any\",\"default\":0},{\"name\":\"types\",\"kind\":\"Any\",\"default\":[{\"type\":\"map\",\"entries\":[[\"type\",\"warning\"],[\"background\",\"#ffc107\"],[\"icon\",{\"type\":\"map\",\"entries\":[[\"className\",\"fas fa-exclamation-triangle\"],[\"tagName\",\"i\"],[\"color\",\"white\"]]}]]},{\"type\":\"map\",\"entries\":[[\"type\",\"info\"],[\"background\",\"#007bff\"],[\"icon\",{\"type\":\"map\",\"entries\":[[\"className\",\"fas fa-info-circle\"],[\"tagName\",\"i\"],[\"color\",\"white\"]]}]]}]}]},{\"type\":\"model\",\"name\":\"Notification\",\"properties\":[{\"name\":\"background\",\"kind\":\"Any\",\"default\":null},{\"name\":\"duration\",\"kind\":\"Any\",\"default\":3000},{\"name\":\"icon\",\"kind\":\"Any\",\"default\":null},{\"name\":\"message\",\"kind\":\"Any\",\"default\":\"\"},{\"name\":\"notification_type\",\"kind\":\"Any\",\"default\":null},{\"name\":\"_rendered\",\"kind\":\"Any\",\"default\":false},{\"name\":\"_destroyed\",\"kind\":\"Any\",\"default\":false}]},{\"type\":\"model\",\"name\":\"TemplateActions1\",\"properties\":[{\"name\":\"open_modal\",\"kind\":\"Any\",\"default\":0},{\"name\":\"close_modal\",\"kind\":\"Any\",\"default\":0}]},{\"type\":\"model\",\"name\":\"BootstrapTemplateActions1\",\"properties\":[{\"name\":\"open_modal\",\"kind\":\"Any\",\"default\":0},{\"name\":\"close_modal\",\"kind\":\"Any\",\"default\":0}]},{\"type\":\"model\",\"name\":\"TemplateEditor1\",\"properties\":[{\"name\":\"layout\",\"kind\":\"Any\",\"default\":[]}]},{\"type\":\"model\",\"name\":\"MaterialTemplateActions1\",\"properties\":[{\"name\":\"open_modal\",\"kind\":\"Any\",\"default\":0},{\"name\":\"close_modal\",\"kind\":\"Any\",\"default\":0}]},{\"type\":\"model\",\"name\":\"request_value1\",\"properties\":[{\"name\":\"fill\",\"kind\":\"Any\",\"default\":\"none\"},{\"name\":\"_synced\",\"kind\":\"Any\",\"default\":null},{\"name\":\"_request_sync\",\"kind\":\"Any\",\"default\":0}]},{\"type\":\"model\",\"name\":\"holoviews.plotting.bokeh.raster.HoverModel\",\"properties\":[{\"name\":\"xy\",\"kind\":\"Any\",\"default\":null},{\"name\":\"data\",\"kind\":\"Any\",\"default\":null}]}]}};\n",
       "  var render_items = [{\"docid\":\"6f5e232f-d664-4f13-b05c-273f9fa51cb7\",\"roots\":{\"00d5239c-590c-4698-96b5-d73e9b34688d\":\"b39b8341-e903-44f7-861b-1be8b489343c\"},\"root_ids\":[\"00d5239c-590c-4698-96b5-d73e9b34688d\"]}];\n",
       "  var docs = Object.values(docs_json)\n",
       "  if (!docs) {\n",
       "    return\n",
       "  }\n",
       "  const py_version = docs[0].version.replace('rc', '-rc.').replace('.dev', '-dev.')\n",
       "  async function embed_document(root) {\n",
       "    var Bokeh = get_bokeh(root)\n",
       "    await Bokeh.embed.embed_items_notebook(docs_json, render_items);\n",
       "    for (const render_item of render_items) {\n",
       "      for (const root_id of render_item.root_ids) {\n",
       "\tconst id_el = document.getElementById(root_id)\n",
       "\tif (id_el.children.length && id_el.children[0].hasAttribute('data-root-id')) {\n",
       "\t  const root_el = id_el.children[0]\n",
       "\t  root_el.id = root_el.id + '-rendered'\n",
       "\t  for (const child of root_el.children) {\n",
       "            // Ensure JupyterLab does not capture keyboard shortcuts\n",
       "            // see: https://jupyterlab.readthedocs.io/en/4.1.x/extension/notebook.html#keyboard-interaction-model\n",
       "\t    child.setAttribute('data-lm-suppress-shortcuts', 'true')\n",
       "\t  }\n",
       "\t}\n",
       "      }\n",
       "    }\n",
       "  }\n",
       "  function get_bokeh(root) {\n",
       "    if (root.Bokeh === undefined) {\n",
       "      return null\n",
       "    } else if (root.Bokeh.version !== py_version) {\n",
       "      if (root.Bokeh.versions === undefined || !root.Bokeh.versions.has(py_version)) {\n",
       "\treturn null\n",
       "      }\n",
       "      return root.Bokeh.versions.get(py_version);\n",
       "    } else if (root.Bokeh.version === py_version) {\n",
       "      return root.Bokeh\n",
       "    }\n",
       "    return null\n",
       "  }\n",
       "  function is_loaded(root) {\n",
       "    var Bokeh = get_bokeh(root)\n",
       "    return (Bokeh != null && Bokeh.Panel !== undefined)\n",
       "  }\n",
       "  if (is_loaded(root)) {\n",
       "    embed_document(root);\n",
       "  } else {\n",
       "    var attempts = 0;\n",
       "    var timer = setInterval(function(root) {\n",
       "      if (is_loaded(root)) {\n",
       "        clearInterval(timer);\n",
       "        embed_document(root);\n",
       "      } else if (document.readyState == \"complete\") {\n",
       "        attempts++;\n",
       "        if (attempts > 200) {\n",
       "          clearInterval(timer);\n",
       "\t  var Bokeh = get_bokeh(root)\n",
       "\t  if (Bokeh == null || Bokeh.Panel == null) {\n",
       "            console.warn(\"Panel: ERROR: Unable to run Panel code because Bokeh or Panel library is missing\");\n",
       "\t  } else {\n",
       "\t    console.warn(\"Panel: WARNING: Attempting to render but not all required libraries could be resolved.\")\n",
       "\t    embed_document(root)\n",
       "\t  }\n",
       "        }\n",
       "      }\n",
       "    }, 25, root)\n",
       "  }\n",
       "})(window);</script>"
      ],
      "text/plain": [
       ":NdOverlay   [Element]\n",
       "   :Spikes   [time]   (spikes)"
      ]
     },
     "execution_count": 10,
     "metadata": {
      "application/vnd.holoviews_exec.v0+json": {
       "id": "00d5239c-590c-4698-96b5-d73e9b34688d"
      }
     },
     "output_type": "execute_result"
    }
   ],
   "source": [
    "overlay = hv.NdOverlay(\n",
    "        {\n",
    "            0: hv.Spikes(\n",
    "                data_df, kdims='time'\n",
    "            ).opts(\n",
    "                # position=i, color=self.DIR_COLORS[self.data.iloc[i]['dir']]\n",
    "            ) \n",
    "        }\n",
    "    ).opts(\n",
    "        # yticks=[i for i in np.arange(self.data.shape[0], step=10)],\n",
    "        # ylabel='Trial #', show_legend=True,\n",
    "        # title=f\"Cell {self.cell_id} Raster Plot aligned to {alignment_point}\"\n",
    ")\n",
    "overlay.opts(width=800, height=300)"
   ]
  },
  {
   "cell_type": "code",
   "execution_count": 11,
   "id": "77397793",
   "metadata": {},
   "outputs": [
    {
     "name": "stdout",
     "output_type": "stream",
     "text": [
      "Simulating neuron spikes...\n",
      "Baseline firing rate: 10 Hz\n",
      "Stimulus firing rate: 40 Hz\n",
      "Time periods:\n",
      "  -200 to 0 ms: Baseline\n",
      "  0 to 300 ms: Stimulus\n",
      "  300 to 500 ms: Return to baseline\n",
      "\n",
      "Simulation Results:\n",
      "Total time points: 700\n",
      "Total spikes: 17\n",
      "Average firing rate: 24.3 Hz\n",
      "\n",
      "First 10 time points:\n",
      "   time_ms  spike\n",
      "0   -200.0      0\n",
      "1   -199.0      0\n",
      "2   -198.0      0\n",
      "3   -197.0      0\n",
      "4   -196.0      0\n",
      "5   -195.0      0\n",
      "6   -194.0      0\n",
      "7   -193.0      0\n",
      "8   -192.0      0\n",
      "9   -191.0      0\n",
      "\n",
      "Period-specific firing rates:\n",
      "Baseline 1 (-200 to 0 ms): 10.0 Hz\n",
      "Stimulus (0 to 300 ms): 50.0 Hz\n",
      "Baseline 2 (300 to 500 ms): 0.0 Hz\n"
     ]
    },
    {
     "data": {
      "image/png": "[encoded data removed]",
      "text/plain": [
       "<Figure size 1200x800 with 2 Axes>"
      ]
     },
     "metadata": {},
     "output_type": "display_data"
    },
    {
     "name": "stdout",
     "output_type": "stream",
     "text": [
      "\n",
      "Spike array shape: (700,)\n",
      "Spike array (first 20 values): [0 0 0 0 0 0 0 0 0 0 0 0 0 0 0 0 0 0 0 0]\n"
     ]
    }
   ],
   "source": [
    "import matplotlib.pyplot as plt\n",
    "\n",
    "def simulate_neuron_spikes(lambda_1, lambda_2, sampling_rate=1000, \n",
    "                          baseline_start=-200, stimulus_start=0, \n",
    "                          stimulus_end=300, experiment_end=500):\n",
    "    \"\"\"\n",
    "    Simulate neuron spikes using a Poisson process.\n",
    "    \n",
    "    Parameters:\n",
    "    -----------\n",
    "    lambda_1 : float\n",
    "        Baseline firing rate (spikes per second)\n",
    "    lambda_2 : float\n",
    "        Stimulus-evoked firing rate (spikes per second)\n",
    "    sampling_rate : int\n",
    "        Sampling frequency in Hz (default: 1000 Hz = 1 kHz)\n",
    "    baseline_start : int\n",
    "        Start time of experiment in ms (default: -200)\n",
    "    stimulus_start : int\n",
    "        Start time of stimulus in ms (default: 0)\n",
    "    stimulus_end : int\n",
    "        End time of stimulus in ms (default: 300)\n",
    "    experiment_end : int\n",
    "        End time of experiment in ms (default: 500)\n",
    "    \n",
    "    Returns:\n",
    "    --------\n",
    "    pd.DataFrame : DataFrame with time and spike data\n",
    "    \"\"\"\n",
    "    \n",
    "    # Create time array\n",
    "    dt = 1000 / sampling_rate  # Time step in milliseconds\n",
    "    time_points = np.arange(baseline_start, experiment_end, dt)\n",
    "    n_samples = len(time_points)\n",
    "    \n",
    "    # Initialize spike array\n",
    "    spikes = np.zeros(n_samples, dtype=int)\n",
    "    \n",
    "    # Convert firing rates from Hz to probability per time step\n",
    "    # Probability = rate * dt_in_seconds\n",
    "    dt_sec = dt / 1000  # Convert dt to seconds\n",
    "    prob_baseline = lambda_1 * dt_sec\n",
    "    prob_stimulus = lambda_2 * dt_sec\n",
    "    \n",
    "    # Generate random numbers for Poisson process\n",
    "    random_vals = np.random.uniform(0, 1, n_samples)\n",
    "    \n",
    "    # Determine firing rates for each time period\n",
    "    for i, t in enumerate(time_points):\n",
    "        if baseline_start <= t < stimulus_start:\n",
    "            # Baseline period 1\n",
    "            prob = prob_baseline\n",
    "        elif stimulus_start <= t < stimulus_end:\n",
    "            # Stimulus period\n",
    "            prob = prob_stimulus\n",
    "        elif stimulus_end <= t < experiment_end:\n",
    "            # Baseline period 2\n",
    "            prob = prob_baseline\n",
    "        else:\n",
    "            prob = 0\n",
    "        \n",
    "        # Generate spike based on Poisson probability\n",
    "        if random_vals[i] < prob:\n",
    "            spikes[i] = 1\n",
    "    \n",
    "    # Create DataFrame\n",
    "    df = pd.DataFrame({\n",
    "        'time_ms': time_points,\n",
    "        'spike': spikes\n",
    "    })\n",
    "    \n",
    "    return df\n",
    "\n",
    "def plot_spike_data(df, lambda_1, lambda_2):\n",
    "    \"\"\"\n",
    "    Plot the spike data and firing rate.\n",
    "    \"\"\"\n",
    "    fig, (ax1, ax2) = plt.subplots(2, 1, figsize=(12, 8), sharex=True)\n",
    "    \n",
    "    # Plot raster (spike times)\n",
    "    spike_times = df[df['spike'] == 1]['time_ms']\n",
    "    ax1.scatter(spike_times, np.ones(len(spike_times)), \n",
    "                marker='|', s=50, color='black', alpha=0.7)\n",
    "    ax1.set_ylabel('Spikes')\n",
    "    ax1.set_ylim(0.5, 1.5)\n",
    "    ax1.set_yticks([1])\n",
    "    ax1.set_yticklabels(['Neuron'])\n",
    "    ax1.set_title('Neuron Spike Raster Plot')\n",
    "    ax1.grid(True, alpha=0.3)\n",
    "    \n",
    "    # Add stimulus period shading\n",
    "    ax1.axvspan(0, 300, alpha=0.2, color='red', label='Stimulus Period')\n",
    "    ax1.legend()\n",
    "    \n",
    "    # Plot instantaneous firing rate (smoothed)\n",
    "    window_size = 50  # 50 ms window for smoothing\n",
    "    spike_rate = df['spike'].rolling(window=window_size, center=True).mean() * 1000\n",
    "    ax2.plot(df['time_ms'], spike_rate, 'b-', linewidth=2, label='Instantaneous Rate')\n",
    "    \n",
    "    # Add expected firing rates as horizontal lines\n",
    "    ax2.axhline(y=lambda_1, color='green', linestyle='--', \n",
    "                label=f'Baseline Rate ({lambda_1} Hz)')\n",
    "    ax2.axhline(y=lambda_2, color='red', linestyle='--', \n",
    "                label=f'Stimulus Rate ({lambda_2} Hz)')\n",
    "    \n",
    "    # Add stimulus period shading\n",
    "    ax2.axvspan(0, 300, alpha=0.2, color='red')\n",
    "    \n",
    "    ax2.set_xlabel('Time (ms)')\n",
    "    ax2.set_ylabel('Firing Rate (Hz)')\n",
    "    ax2.set_title('Smoothed Firing Rate')\n",
    "    ax2.legend()\n",
    "    ax2.grid(True, alpha=0.3)\n",
    "    \n",
    "    plt.tight_layout()\n",
    "    plt.show()\n",
    "\n",
    "# Example simulation\n",
    "if __name__ == \"__main__\":\n",
    "    # Set random seed for reproducibility\n",
    "    np.random.seed(42)\n",
    "    \n",
    "    # Define firing rates\n",
    "    baseline_rate = 10  # Hz (baseline firing rate)\n",
    "    stimulus_rate = 40  # Hz (stimulus-evoked firing rate)\n",
    "    \n",
    "    # Run simulation\n",
    "    print(\"Simulating neuron spikes...\")\n",
    "    print(f\"Baseline firing rate: {baseline_rate} Hz\")\n",
    "    print(f\"Stimulus firing rate: {stimulus_rate} Hz\")\n",
    "    print(\"Time periods:\")\n",
    "    print(\"  -200 to 0 ms: Baseline\")\n",
    "    print(\"  0 to 300 ms: Stimulus\")\n",
    "    print(\"  300 to 500 ms: Return to baseline\")\n",
    "    \n",
    "    spike_data = simulate_neuron_spikes(baseline_rate, stimulus_rate)\n",
    "    \n",
    "    # Display basic statistics\n",
    "    total_spikes = spike_data['spike'].sum()\n",
    "    total_time_sec = len(spike_data) / 1000\n",
    "    average_rate = total_spikes / total_time_sec\n",
    "    \n",
    "    print(f\"\\nSimulation Results:\")\n",
    "    print(f\"Total time points: {len(spike_data)}\")\n",
    "    print(f\"Total spikes: {total_spikes}\")\n",
    "    print(f\"Average firing rate: {average_rate:.1f} Hz\")\n",
    "    \n",
    "    # Show first 10 samples\n",
    "    print(f\"\\nFirst 10 time points:\")\n",
    "    print(spike_data.head(10))\n",
    "    \n",
    "    # Calculate firing rates for each period\n",
    "    baseline1 = spike_data[(spike_data['time_ms'] >= -200) & \n",
    "                          (spike_data['time_ms'] < 0)]\n",
    "    stimulus_period = spike_data[(spike_data['time_ms'] >= 0) & \n",
    "                                (spike_data['time_ms'] < 300)]\n",
    "    baseline2 = spike_data[(spike_data['time_ms'] >= 300) & \n",
    "                          (spike_data['time_ms'] < 500)]\n",
    "    \n",
    "    print(f\"\\nPeriod-specific firing rates:\")\n",
    "    print(f\"Baseline 1 (-200 to 0 ms): {baseline1['spike'].sum() / 0.2:.1f} Hz\")\n",
    "    print(f\"Stimulus (0 to 300 ms): {stimulus_period['spike'].sum() / 0.3:.1f} Hz\")\n",
    "    print(f\"Baseline 2 (300 to 500 ms): {baseline2['spike'].sum() / 0.2:.1f} Hz\")\n",
    "    \n",
    "    # Plot the results\n",
    "    plot_spike_data(spike_data, baseline_rate, stimulus_rate)\n",
    "    \n",
    "    # Access the spike array directly (0s and 1s)\n",
    "    spike_array = spike_data['spike'].values\n",
    "    print(f\"\\nSpike array shape: {spike_array.shape}\")\n",
    "    print(f\"Spike array (first 20 values): {spike_array[:20]}\")"
   ]
  },
  {
   "cell_type": "code",
   "execution_count": 28,
   "id": "25ff66a1",
   "metadata": {},
   "outputs": [
    {
     "name": "stdout",
     "output_type": "stream",
     "text": [
      "Keys in the .mat file: dict_keys(['__header__', '__version__', '__globals__', 'file_names', 'trial_names'])\n"
     ]
    },
    {
     "data": {
      "application/vnd.microsoft.datawrangler.viewer.v0+json": {
       "columns": [
        {
         "name": "trial_names",
         "rawType": "object",
         "type": "unknown"
        },
        {
         "name": "count",
         "rawType": "int64",
         "type": "integer"
        }
       ],
       "ref": "8408cd9e-06b4-4369-ba05-0c18a81b7129",
       "rows": [
        [
         "['d270']",
         "89"
        ],
        [
         "['d90']",
         "62"
        ],
        [
         "['d315']",
         "58"
        ],
        [
         "['d45']",
         "53"
        ],
        [
         "['d135']",
         "53"
        ],
        [
         "['d225']",
         "51"
        ],
        [
         "['d180']",
         "47"
        ],
        [
         "['d0']",
         "47"
        ],
        [
         "['d45v20p']",
         "4"
        ],
        [
         "['d90v20a']",
         "3"
        ],
        [
         "['d180v20a']",
         "2"
        ],
        [
         "['d270v20p']",
         "2"
        ],
        [
         "['d270v20a']",
         "2"
        ],
        [
         "['d90v20p']",
         "1"
        ],
        [
         "['d180v20p']",
         "1"
        ],
        [
         "['d225v20a']",
         "1"
        ],
        [
         "['d225v20p']",
         "1"
        ],
        [
         "['d315v20p']",
         "1"
        ],
        [
         "['d315v20a']",
         "1"
        ],
        [
         "['d0v20p']",
         "1"
        ],
        [
         "['d135v20p']",
         "1"
        ],
        [
         "['d135v20a']",
         "1"
        ],
        [
         "['d45v20a']",
         "1"
        ],
        [
         "['d0v20a']",
         "1"
        ]
       ],
       "shape": {
        "columns": 1,
        "rows": 24
       }
      },
      "text/plain": [
       "trial_names\n",
       "[d270]        89\n",
       "[d90]         62\n",
       "[d315]        58\n",
       "[d45]         53\n",
       "[d135]        53\n",
       "[d225]        51\n",
       "[d180]        47\n",
       "[d0]          47\n",
       "[d45v20p]      4\n",
       "[d90v20a]      3\n",
       "[d180v20a]     2\n",
       "[d270v20p]     2\n",
       "[d270v20a]     2\n",
       "[d90v20p]      1\n",
       "[d180v20p]     1\n",
       "[d225v20a]     1\n",
       "[d225v20p]     1\n",
       "[d315v20p]     1\n",
       "[d315v20a]     1\n",
       "[d0v20p]       1\n",
       "[d135v20p]     1\n",
       "[d135v20a]     1\n",
       "[d45v20a]      1\n",
       "[d0v20a]       1\n",
       "Name: count, dtype: int64"
      ]
     },
     "execution_count": 28,
     "metadata": {},
     "output_type": "execute_result"
    }
   ],
   "source": [
    "from scipy.io import loadmat\n",
    "\n",
    "# Load the .mat file\n",
    "mat_file_path = \"data/fiona_sst/trial_names/fi210105a.mat\"\n",
    "mat_data = loadmat(mat_file_path)\n",
    "\n",
    "# Display the keys in the loaded .mat file\n",
    "print(\"Keys in the .mat file:\", mat_data.keys())\n",
    "mat_df = pd.DataFrame({'trial_names': mat_data['trial_names'].T.flatten(), 'file_names': mat_data['file_names'].T.flatten()})\n",
    "vals = mat_df['trial_names'].value_counts()\n",
    "vals"
   ]
  },
  {
   "cell_type": "code",
   "execution_count": 29,
   "id": "a8ee3466",
   "metadata": {},
   "outputs": [
    {
     "data": {
      "image/png": "[encoded data removed]",
      "text/plain": [
       "<Figure size 640x480 with 1 Axes>"
      ]
     },
     "metadata": {},
     "output_type": "display_data"
    }
   ],
   "source": [
    "import numpy as np\n",
    "import matplotlib.pyplot as plt\n",
    "\n",
    "def generate_inhomogeneous_poisson_spikes(rate_func, T, dt=0.001):\n",
    "    \"\"\"\n",
    "    Generate spike times for a neuron with a time-dependent firing rate using an inhomogeneous Poisson process.\n",
    "    \n",
    "    Parameters:\n",
    "    rate_func (function): Function that gives the firing rate at time t (spikes per second).\n",
    "    T (float): Total duration of the simulation (seconds).\n",
    "    dt (float): Time step for simulation (seconds).\n",
    "    \n",
    "    Returns:\n",
    "    spike_times (list): List of spike times.\n",
    "    \"\"\"\n",
    "    spike_times = []\n",
    "    t = 0\n",
    "    \n",
    "    while t < T:\n",
    "        rate = r(t)\n",
    "        if rate * dt > np.random.rand():\n",
    "            spike_times.append(t)\n",
    "        t += dt\n",
    "    \n",
    "    return spike_times\n",
    "\n",
    "# Example usage\n",
    "def r(t):\n",
    "    return 5 + 2 * np.sin(2 * np.pi * t / 5)  # Time-dependent rate function\n",
    "\n",
    "T = 10  # total duration in seconds\n",
    "spike_times = generate_inhomogeneous_poisson_spikes(r, T)\n",
    "\n",
    "# Plotting the spike train\n",
    "plt.eventplot(spike_times, orientation='horizontal', colors='black')\n",
    "plt.xlabel('Time (s)')\n",
    "plt.ylabel('Spike')\n",
    "plt.title('Poisson Spike Train (Time-Dependent Rate)')\n",
    "plt.show()"
   ]
  }
 ],
 "metadata": {
  "kernelspec": {
   "display_name": "Python 3",
   "language": "python",
   "name": "python3"
  },
  "language_info": {
   "codemirror_mode": {
    "name": "ipython",
    "version": 3
   },
   "file_extension": ".py",
   "mimetype": "text/x-python",
   "name": "python",
   "nbconvert_exporter": "python",
   "pygments_lexer": "ipython3",
   "version": "3.12.11"
  }
 },
 "nbformat": 4,
 "nbformat_minor": 5
}
