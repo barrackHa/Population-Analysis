{
 "cells": [
  {
   "cell_type": "markdown",
   "id": "a78f23c8",
   "metadata": {},
   "source": [
    "# Behavioral EDA Class Demo\n",
    "\n",
    "This notebook demonstrates how to use the `BehavioralEDA` class to create all the same plots and analyses as the original `behavioral_eda.ipynb` notebook.\n",
    "\n",
    "The class provides a clean separation between:\n",
    "1. **Data Processing Methods** - Generate DataFrames for analysis\n",
    "2. **Plotting Methods** - Create visualizations\n",
    "3. **Utility Methods** - Helper functions for data processing"
   ]
  },
  {
   "cell_type": "markdown",
   "id": "292e226f",
   "metadata": {},
   "source": [
    "## Setup and Initialization"
   ]
  },
  {
   "cell_type": "code",
   "execution_count": 1,
   "id": "da698e80",
   "metadata": {},
   "outputs": [
    {
     "data": {
      "text/html": [
       "<script type=\"esms-options\">{\"shimMode\": true}</script><style>*[data-root-id],\n",
       "*[data-root-id] > * {\n",
       "  box-sizing: border-box;\n",
       "  font-family: var(--jp-ui-font-family);\n",
       "  font-size: var(--jp-ui-font-size1);\n",
       "  color: var(--vscode-editor-foreground, var(--jp-ui-font-color1));\n",
       "}\n",
       "\n",
       "/* Override VSCode background color */\n",
       ".cell-output-ipywidget-background:has(\n",
       "  > .cell-output-ipywidget-background > .lm-Widget > *[data-root-id]\n",
       "),\n",
       ".cell-output-ipywidget-background:has(> .lm-Widget > *[data-root-id]) {\n",
       "  background-color: transparent !important;\n",
       "}\n",
       "</style>"
      ]
     },
     "metadata": {},
     "output_type": "display_data"
    },
    {
     "data": {
      "application/javascript": "(function(root) {\n  function now() {\n    return new Date();\n  }\n\n  const force = true;\n  const py_version = '3.8.0'.replace('rc', '-rc.').replace('.dev', '-dev.');\n  const reloading = false;\n  const Bokeh = root.Bokeh;\n\n  // Set a timeout for this load but only if we are not already initializing\n  if (typeof (root._bokeh_timeout) === \"undefined\" || (force || !root._bokeh_is_initializing)) {\n    root._bokeh_timeout = Date.now() + 5000;\n    root._bokeh_failed_load = false;\n  }\n\n  function run_callbacks() {\n    try {\n      root._bokeh_onload_callbacks.forEach(function(callback) {\n        if (callback != null)\n          callback();\n      });\n    } finally {\n      delete root._bokeh_onload_callbacks;\n    }\n    console.debug(\"Bokeh: all callbacks have finished\");\n  }\n\n  function load_libs(css_urls, js_urls, js_modules, js_exports, callback) {\n    if (css_urls == null) css_urls = [];\n    if (js_urls == null) js_urls = [];\n    if (js_modules == null) js_modules = [];\n    if (js_exports == null) js_exports = {};\n\n    root._bokeh_onload_callbacks.push(callback);\n\n    if (root._bokeh_is_loading > 0) {\n      // Don't load bokeh if it is still initializing\n      console.debug(\"Bokeh: BokehJS is being loaded, scheduling callback at\", now());\n      return null;\n    } else if (js_urls.length === 0 && js_modules.length === 0 && Object.keys(js_exports).length === 0) {\n      // There is nothing to load\n      run_callbacks();\n      return null;\n    }\n\n    function on_load() {\n      root._bokeh_is_loading--;\n      if (root._bokeh_is_loading === 0) {\n        console.debug(\"Bokeh: all BokehJS libraries/stylesheets loaded\");\n        run_callbacks()\n      }\n    }\n    window._bokeh_on_load = on_load\n\n    function on_error(e) {\n      const src_el = e.srcElement\n      console.error(\"failed to load \" + (src_el.href || src_el.src));\n    }\n\n    const skip = [];\n    if (window.requirejs) {\n      window.requirejs.config({'packages': {}, 'paths': {}, 'shim': {}});\n      root._bokeh_is_loading = css_urls.length + 0;\n    } else {\n      root._bokeh_is_loading = css_urls.length + js_urls.length + js_modules.length + Object.keys(js_exports).length;\n    }\n\n    const existing_stylesheets = []\n    const links = document.getElementsByTagName('link')\n    for (let i = 0; i < links.length; i++) {\n      const link = links[i]\n      if (link.href != null) {\n        existing_stylesheets.push(link.href)\n      }\n    }\n    for (let i = 0; i < css_urls.length; i++) {\n      const url = css_urls[i];\n      const escaped = encodeURI(url)\n      if (existing_stylesheets.indexOf(escaped) !== -1) {\n        on_load()\n        continue;\n      }\n      const element = document.createElement(\"link\");\n      element.onload = on_load;\n      element.onerror = on_error;\n      element.rel = \"stylesheet\";\n      element.type = \"text/css\";\n      element.href = url;\n      console.debug(\"Bokeh: injecting link tag for BokehJS stylesheet: \", url);\n      document.body.appendChild(element);\n    }    var existing_scripts = []\n    const scripts = document.getElementsByTagName('script')\n    for (let i = 0; i < scripts.length; i++) {\n      var script = scripts[i]\n      if (script.src != null) {\n        existing_scripts.push(script.src)\n      }\n    }\n    for (let i = 0; i < js_urls.length; i++) {\n      const url = js_urls[i];\n      const escaped = encodeURI(url)\n      if (skip.indexOf(escaped) !== -1 || existing_scripts.indexOf(escaped) !== -1) {\n        if (!window.requirejs) {\n          on_load();\n        }\n        continue;\n      }\n      const element = document.createElement('script');\n      element.onload = on_load;\n      element.onerror = on_error;\n      element.async = false;\n      element.src = url;\n      console.debug(\"Bokeh: injecting script tag for BokehJS library: \", url);\n      document.head.appendChild(element);\n    }\n    for (let i = 0; i < js_modules.length; i++) {\n      const url = js_modules[i];\n      const escaped = encodeURI(url)\n      if (skip.indexOf(escaped) !== -1 || existing_scripts.indexOf(escaped) !== -1) {\n        if (!window.requirejs) {\n          on_load();\n        }\n        continue;\n      }\n      var element = document.createElement('script');\n      element.onload = on_load;\n      element.onerror = on_error;\n      element.async = false;\n      element.src = url;\n      element.type = \"module\";\n      console.debug(\"Bokeh: injecting script tag for BokehJS library: \", url);\n      document.head.appendChild(element);\n    }\n    for (const name in js_exports) {\n      const url = js_exports[name];\n      const escaped = encodeURI(url)\n      if (skip.indexOf(escaped) >= 0 || root[name] != null) {\n        if (!window.requirejs) {\n          on_load();\n        }\n        continue;\n      }\n      var element = document.createElement('script');\n      element.onerror = on_error;\n      element.async = false;\n      element.type = \"module\";\n      console.debug(\"Bokeh: injecting script tag for BokehJS library: \", url);\n      element.textContent = `\n      import ${name} from \"${url}\"\n      window.${name} = ${name}\n      window._bokeh_on_load()\n      `\n      document.head.appendChild(element);\n    }\n    if (!js_urls.length && !js_modules.length) {\n      on_load()\n    }\n  };\n\n  function inject_raw_css(css) {\n    const element = document.createElement(\"style\");\n    element.appendChild(document.createTextNode(css));\n    document.body.appendChild(element);\n  }\n\n  const js_urls = [\"https://cdn.holoviz.org/panel/1.8.0/dist/bundled/reactiveesm/es-module-shims@^1.10.0/dist/es-module-shims.min.js\", \"https://cdn.bokeh.org/bokeh/release/bokeh-3.8.0.min.js\", \"https://cdn.bokeh.org/bokeh/release/bokeh-gl-3.8.0.min.js\", \"https://cdn.bokeh.org/bokeh/release/bokeh-widgets-3.8.0.min.js\", \"https://cdn.bokeh.org/bokeh/release/bokeh-tables-3.8.0.min.js\", \"https://cdn.holoviz.org/panel/1.8.0/dist/panel.min.js\"];\n  const js_modules = [];\n  const js_exports = {};\n  const css_urls = [];\n  const inline_js = [    function(Bokeh) {\n      Bokeh.set_log_level(\"info\");\n    },\nfunction(Bokeh) {} // ensure no trailing comma for IE\n  ];\n\n  function run_inline_js() {\n    if ((root.Bokeh !== undefined) || (force === true)) {\n      for (let i = 0; i < inline_js.length; i++) {\n        try {\n          inline_js[i].call(root, root.Bokeh);\n        } catch(e) {\n          if (!reloading) {\n            throw e;\n          }\n        }\n      }\n      // Cache old bokeh versions\n      if (Bokeh != undefined && !reloading) {\n        var NewBokeh = root.Bokeh;\n        if (Bokeh.versions === undefined) {\n          Bokeh.versions = new Map();\n        }\n        if (NewBokeh.version !== Bokeh.version) {\n          Bokeh.versions.set(NewBokeh.version, NewBokeh)\n        }\n        root.Bokeh = Bokeh;\n      }\n    } else if (Date.now() < root._bokeh_timeout) {\n      setTimeout(run_inline_js, 100);\n    } else if (!root._bokeh_failed_load) {\n      console.log(\"Bokeh: BokehJS failed to load within specified timeout.\");\n      root._bokeh_failed_load = true;\n    }\n    root._bokeh_is_initializing = false\n  }\n\n  function load_or_wait() {\n    // Implement a backoff loop that tries to ensure we do not load multiple\n    // versions of Bokeh and its dependencies at the same time.\n    // In recent versions we use the root._bokeh_is_initializing flag\n    // to determine whether there is an ongoing attempt to initialize\n    // bokeh, however for backward compatibility we also try to ensure\n    // that we do not start loading a newer (Panel>=1.0 and Bokeh>3) version\n    // before older versions are fully initialized.\n    if (root._bokeh_is_initializing && Date.now() > root._bokeh_timeout) {\n      // If the timeout and bokeh was not successfully loaded we reset\n      // everything and try loading again\n      root._bokeh_timeout = Date.now() + 5000;\n      root._bokeh_is_initializing = false;\n      root._bokeh_onload_callbacks = undefined;\n      root._bokeh_is_loading = 0\n      console.log(\"Bokeh: BokehJS was loaded multiple times but one version failed to initialize.\");\n      load_or_wait();\n    } else if (root._bokeh_is_initializing || (typeof root._bokeh_is_initializing === \"undefined\" && root._bokeh_onload_callbacks !== undefined)) {\n      setTimeout(load_or_wait, 100);\n    } else {\n      root._bokeh_is_initializing = true\n      root._bokeh_onload_callbacks = []\n      const bokeh_loaded = root.Bokeh != null && (root.Bokeh.version === py_version || (root.Bokeh.versions !== undefined && root.Bokeh.versions.has(py_version)));\n      if (!reloading && !bokeh_loaded) {\n        if (root.Bokeh) {\n          root.Bokeh = undefined;\n        }\n        console.debug(\"Bokeh: BokehJS not loaded, scheduling load and callback at\", now());\n      }\n      load_libs(css_urls, js_urls, js_modules, js_exports, function() {\n        console.debug(\"Bokeh: BokehJS plotting callback run at\", now());\n        run_inline_js();\n      });\n    }\n  }\n  // Give older versions of the autoload script a head-start to ensure\n  // they initialize before we start loading newer version.\n  setTimeout(load_or_wait, 100)\n}(window));",
      "application/vnd.holoviews_load.v0+json": ""
     },
     "metadata": {},
     "output_type": "display_data"
    },
    {
     "data": {
      "application/javascript": "\nif ((window.PyViz === undefined) || (window.PyViz instanceof HTMLElement)) {\n  window.PyViz = {comms: {}, comm_status:{}, kernels:{}, receivers: {}, plot_index: []}\n}\n\n\n    function JupyterCommManager() {\n    }\n\n    JupyterCommManager.prototype.register_target = function(plot_id, comm_id, msg_handler) {\n      if (window.comm_manager || ((window.Jupyter !== undefined) && (Jupyter.notebook.kernel != null))) {\n        var comm_manager = window.comm_manager || Jupyter.notebook.kernel.comm_manager;\n        comm_manager.register_target(comm_id, function(comm) {\n          comm.on_msg(msg_handler);\n        });\n      } else if ((plot_id in window.PyViz.kernels) && (window.PyViz.kernels[plot_id])) {\n        window.PyViz.kernels[plot_id].registerCommTarget(comm_id, function(comm) {\n          comm.onMsg = msg_handler;\n        });\n      } else if (typeof google != 'undefined' && google.colab.kernel != null) {\n        google.colab.kernel.comms.registerTarget(comm_id, (comm) => {\n          var messages = comm.messages[Symbol.asyncIterator]();\n          function processIteratorResult(result) {\n            var message = result.value;\n            var content = {data: message.data, comm_id};\n            var buffers = []\n            for (var buffer of message.buffers || []) {\n              buffers.push(new DataView(buffer))\n            }\n            var metadata = message.metadata || {};\n            var msg = {content, buffers, metadata}\n            msg_handler(msg);\n            return messages.next().then(processIteratorResult);\n          }\n          return messages.next().then(processIteratorResult);\n        })\n      }\n    }\n\n    JupyterCommManager.prototype.get_client_comm = function(plot_id, comm_id, msg_handler) {\n      if (comm_id in window.PyViz.comms) {\n        return window.PyViz.comms[comm_id];\n      } else if (window.comm_manager || ((window.Jupyter !== undefined) && (Jupyter.notebook.kernel != null))) {\n        var comm_manager = window.comm_manager || Jupyter.notebook.kernel.comm_manager;\n        var comm = comm_manager.new_comm(comm_id, {}, {}, {}, comm_id);\n        if (msg_handler) {\n          comm.on_msg(msg_handler);\n        }\n      } else if ((plot_id in window.PyViz.kernels) && (window.PyViz.kernels[plot_id])) {\n        var comm = window.PyViz.kernels[plot_id].connectToComm(comm_id);\n        let retries = 0;\n        const open = () => {\n          if (comm.active) {\n            comm.open();\n          } else if (retries > 3) {\n            console.warn('Comm target never activated')\n          } else {\n            retries += 1\n            setTimeout(open, 500)\n          }\n        }\n        if (comm.active) {\n          comm.open();\n        } else {\n          setTimeout(open, 500)\n        }\n        if (msg_handler) {\n          comm.onMsg = msg_handler;\n        }\n      } else if (typeof google != 'undefined' && google.colab.kernel != null) {\n        var comm_promise = google.colab.kernel.comms.open(comm_id)\n        comm_promise.then((comm) => {\n          window.PyViz.comms[comm_id] = comm;\n          if (msg_handler) {\n            var messages = comm.messages[Symbol.asyncIterator]();\n            function processIteratorResult(result) {\n              var message = result.value;\n              var content = {data: message.data};\n              var metadata = message.metadata || {comm_id};\n              var msg = {content, metadata}\n              msg_handler(msg);\n              return messages.next().then(processIteratorResult);\n            }\n            return messages.next().then(processIteratorResult);\n          }\n        })\n        var sendClosure = (data, metadata, buffers, disposeOnDone) => {\n          return comm_promise.then((comm) => {\n            comm.send(data, metadata, buffers, disposeOnDone);\n          });\n        };\n        var comm = {\n          send: sendClosure\n        };\n      }\n      window.PyViz.comms[comm_id] = comm;\n      return comm;\n    }\n    window.PyViz.comm_manager = new JupyterCommManager();\n    \n\n\nvar JS_MIME_TYPE = 'application/javascript';\nvar HTML_MIME_TYPE = 'text/html';\nvar EXEC_MIME_TYPE = 'application/vnd.holoviews_exec.v0+json';\nvar CLASS_NAME = 'output';\n\n/**\n * Render data to the DOM node\n */\nfunction render(props, node) {\n  var div = document.createElement(\"div\");\n  var script = document.createElement(\"script\");\n  node.appendChild(div);\n  node.appendChild(script);\n}\n\n/**\n * Handle when a new output is added\n */\nfunction handle_add_output(event, handle) {\n  var output_area = handle.output_area;\n  var output = handle.output;\n  if ((output.data == undefined) || (!output.data.hasOwnProperty(EXEC_MIME_TYPE))) {\n    return\n  }\n  var id = output.metadata[EXEC_MIME_TYPE][\"id\"];\n  var toinsert = output_area.element.find(\".\" + CLASS_NAME.split(' ')[0]);\n  if (id !== undefined) {\n    var nchildren = toinsert.length;\n    var html_node = toinsert[nchildren-1].children[0];\n    html_node.innerHTML = output.data[HTML_MIME_TYPE];\n    var scripts = [];\n    var nodelist = html_node.querySelectorAll(\"script\");\n    for (var i in nodelist) {\n      if (nodelist.hasOwnProperty(i)) {\n        scripts.push(nodelist[i])\n      }\n    }\n\n    scripts.forEach( function (oldScript) {\n      var newScript = document.createElement(\"script\");\n      var attrs = [];\n      var nodemap = oldScript.attributes;\n      for (var j in nodemap) {\n        if (nodemap.hasOwnProperty(j)) {\n          attrs.push(nodemap[j])\n        }\n      }\n      attrs.forEach(function(attr) { newScript.setAttribute(attr.name, attr.value) });\n      newScript.appendChild(document.createTextNode(oldScript.innerHTML));\n      oldScript.parentNode.replaceChild(newScript, oldScript);\n    });\n    if (JS_MIME_TYPE in output.data) {\n      toinsert[nchildren-1].children[1].textContent = output.data[JS_MIME_TYPE];\n    }\n    output_area._hv_plot_id = id;\n    if ((window.Bokeh !== undefined) && (id in Bokeh.index)) {\n      window.PyViz.plot_index[id] = Bokeh.index[id];\n    } else {\n      window.PyViz.plot_index[id] = null;\n    }\n  } else if (output.metadata[EXEC_MIME_TYPE][\"server_id\"] !== undefined) {\n    var bk_div = document.createElement(\"div\");\n    bk_div.innerHTML = output.data[HTML_MIME_TYPE];\n    var script_attrs = bk_div.children[0].attributes;\n    for (var i = 0; i < script_attrs.length; i++) {\n      toinsert[toinsert.length - 1].childNodes[1].setAttribute(script_attrs[i].name, script_attrs[i].value);\n    }\n    // store reference to server id on output_area\n    output_area._bokeh_server_id = output.metadata[EXEC_MIME_TYPE][\"server_id\"];\n  }\n}\n\n/**\n * Handle when an output is cleared or removed\n */\nfunction handle_clear_output(event, handle) {\n  var id = handle.cell.output_area._hv_plot_id;\n  var server_id = handle.cell.output_area._bokeh_server_id;\n  if (((id === undefined) || !(id in PyViz.plot_index)) && (server_id !== undefined)) { return; }\n  var comm = window.PyViz.comm_manager.get_client_comm(\"hv-extension-comm\", \"hv-extension-comm\", function () {});\n  if (server_id !== null) {\n    comm.send({event_type: 'server_delete', 'id': server_id});\n    return;\n  } else if (comm !== null) {\n    comm.send({event_type: 'delete', 'id': id});\n  }\n  delete PyViz.plot_index[id];\n  if ((window.Bokeh !== undefined) & (id in window.Bokeh.index)) {\n    var doc = window.Bokeh.index[id].model.document\n    doc.clear();\n    const i = window.Bokeh.documents.indexOf(doc);\n    if (i > -1) {\n      window.Bokeh.documents.splice(i, 1);\n    }\n  }\n}\n\n/**\n * Handle kernel restart event\n */\nfunction handle_kernel_cleanup(event, handle) {\n  delete PyViz.comms[\"hv-extension-comm\"];\n  window.PyViz.plot_index = {}\n}\n\n/**\n * Handle update_display_data messages\n */\nfunction handle_update_output(event, handle) {\n  handle_clear_output(event, {cell: {output_area: handle.output_area}})\n  handle_add_output(event, handle)\n}\n\nfunction register_renderer(events, OutputArea) {\n  function append_mime(data, metadata, element) {\n    // create a DOM node to render to\n    var toinsert = this.create_output_subarea(\n    metadata,\n    CLASS_NAME,\n    EXEC_MIME_TYPE\n    );\n    this.keyboard_manager.register_events(toinsert);\n    // Render to node\n    var props = {data: data, metadata: metadata[EXEC_MIME_TYPE]};\n    render(props, toinsert[0]);\n    element.append(toinsert);\n    return toinsert\n  }\n\n  events.on('output_added.OutputArea', handle_add_output);\n  events.on('output_updated.OutputArea', handle_update_output);\n  events.on('clear_output.CodeCell', handle_clear_output);\n  events.on('delete.Cell', handle_clear_output);\n  events.on('kernel_ready.Kernel', handle_kernel_cleanup);\n\n  OutputArea.prototype.register_mime_type(EXEC_MIME_TYPE, append_mime, {\n    safe: true,\n    index: 0\n  });\n}\n\nif (window.Jupyter !== undefined) {\n  try {\n    var events = require('base/js/events');\n    var OutputArea = require('notebook/js/outputarea').OutputArea;\n    if (OutputArea.prototype.mime_types().indexOf(EXEC_MIME_TYPE) == -1) {\n      register_renderer(events, OutputArea);\n    }\n  } catch(err) {\n  }\n}\n",
      "application/vnd.holoviews_load.v0+json": ""
     },
     "metadata": {},
     "output_type": "display_data"
    },
    {
     "data": {
      "application/vnd.holoviews_exec.v0+json": "",
      "text/html": [
       "<div id='44db1430-6ee9-4060-b41a-d53aacae9141'>\n",
       "  <div id=\"f9bb1090-450a-4f15-b4ed-1be8474d0b4b\" data-root-id=\"44db1430-6ee9-4060-b41a-d53aacae9141\" style=\"display: contents;\"></div>\n",
       "</div>\n",
       "<script type=\"application/javascript\">(function(root) {\n",
       "  var docs_json = {\"61585a9a-2352-4599-b0d5-d42c1f52de78\":{\"version\":\"3.8.0\",\"title\":\"Bokeh Application\",\"config\":{\"type\":\"object\",\"name\":\"DocumentConfig\",\"id\":\"cf837b72-b3ea-48b4-9f59-a20ec63835b2\",\"attributes\":{\"notifications\":{\"type\":\"object\",\"name\":\"Notifications\",\"id\":\"d2245792-0981-4a78-b664-301e00ef52c0\"}}},\"roots\":[{\"type\":\"object\",\"name\":\"panel.models.browser.BrowserInfo\",\"id\":\"44db1430-6ee9-4060-b41a-d53aacae9141\"},{\"type\":\"object\",\"name\":\"panel.models.comm_manager.CommManager\",\"id\":\"9098fac9-cf1a-4af0-a66a-036372ac1927\",\"attributes\":{\"plot_id\":\"44db1430-6ee9-4060-b41a-d53aacae9141\",\"comm_id\":\"e8966203bf0f48f6b89f8a86e229ea7e\",\"client_comm_id\":\"fae44b41ec7746f8880a0b8c2417274c\"}}],\"defs\":[{\"type\":\"model\",\"name\":\"ReactiveHTML1\"},{\"type\":\"model\",\"name\":\"FlexBox1\",\"properties\":[{\"name\":\"align_content\",\"kind\":\"Any\",\"default\":\"flex-start\"},{\"name\":\"align_items\",\"kind\":\"Any\",\"default\":\"flex-start\"},{\"name\":\"flex_direction\",\"kind\":\"Any\",\"default\":\"row\"},{\"name\":\"flex_wrap\",\"kind\":\"Any\",\"default\":\"wrap\"},{\"name\":\"gap\",\"kind\":\"Any\",\"default\":\"\"},{\"name\":\"justify_content\",\"kind\":\"Any\",\"default\":\"flex-start\"}]},{\"type\":\"model\",\"name\":\"FloatPanel1\",\"properties\":[{\"name\":\"config\",\"kind\":\"Any\",\"default\":{\"type\":\"map\"}},{\"name\":\"contained\",\"kind\":\"Any\",\"default\":true},{\"name\":\"position\",\"kind\":\"Any\",\"default\":\"right-top\"},{\"name\":\"offsetx\",\"kind\":\"Any\",\"default\":null},{\"name\":\"offsety\",\"kind\":\"Any\",\"default\":null},{\"name\":\"theme\",\"kind\":\"Any\",\"default\":\"primary\"},{\"name\":\"status\",\"kind\":\"Any\",\"default\":\"normalized\"}]},{\"type\":\"model\",\"name\":\"GridStack1\",\"properties\":[{\"name\":\"ncols\",\"kind\":\"Any\",\"default\":null},{\"name\":\"nrows\",\"kind\":\"Any\",\"default\":null},{\"name\":\"allow_resize\",\"kind\":\"Any\",\"default\":true},{\"name\":\"allow_drag\",\"kind\":\"Any\",\"default\":true},{\"name\":\"state\",\"kind\":\"Any\",\"default\":[]}]},{\"type\":\"model\",\"name\":\"drag1\",\"properties\":[{\"name\":\"slider_width\",\"kind\":\"Any\",\"default\":5},{\"name\":\"slider_color\",\"kind\":\"Any\",\"default\":\"black\"},{\"name\":\"start\",\"kind\":\"Any\",\"default\":0},{\"name\":\"end\",\"kind\":\"Any\",\"default\":100},{\"name\":\"value\",\"kind\":\"Any\",\"default\":50}]},{\"type\":\"model\",\"name\":\"click1\",\"properties\":[{\"name\":\"terminal_output\",\"kind\":\"Any\",\"default\":\"\"},{\"name\":\"debug_name\",\"kind\":\"Any\",\"default\":\"\"},{\"name\":\"clears\",\"kind\":\"Any\",\"default\":0}]},{\"type\":\"model\",\"name\":\"ReactiveESM1\",\"properties\":[{\"name\":\"esm_constants\",\"kind\":\"Any\",\"default\":{\"type\":\"map\"}}]},{\"type\":\"model\",\"name\":\"JSComponent1\",\"properties\":[{\"name\":\"esm_constants\",\"kind\":\"Any\",\"default\":{\"type\":\"map\"}}]},{\"type\":\"model\",\"name\":\"ReactComponent1\",\"properties\":[{\"name\":\"use_shadow_dom\",\"kind\":\"Any\",\"default\":true},{\"name\":\"esm_constants\",\"kind\":\"Any\",\"default\":{\"type\":\"map\"}}]},{\"type\":\"model\",\"name\":\"AnyWidgetComponent1\",\"properties\":[{\"name\":\"use_shadow_dom\",\"kind\":\"Any\",\"default\":true},{\"name\":\"esm_constants\",\"kind\":\"Any\",\"default\":{\"type\":\"map\"}}]},{\"type\":\"model\",\"name\":\"FastWrapper1\",\"properties\":[{\"name\":\"object\",\"kind\":\"Any\",\"default\":null},{\"name\":\"style\",\"kind\":\"Any\",\"default\":null}]},{\"type\":\"model\",\"name\":\"NotificationArea1\",\"properties\":[{\"name\":\"js_events\",\"kind\":\"Any\",\"default\":{\"type\":\"map\"}},{\"name\":\"max_notifications\",\"kind\":\"Any\",\"default\":5},{\"name\":\"notifications\",\"kind\":\"Any\",\"default\":[]},{\"name\":\"position\",\"kind\":\"Any\",\"default\":\"bottom-right\"},{\"name\":\"_clear\",\"kind\":\"Any\",\"default\":0},{\"name\":\"types\",\"kind\":\"Any\",\"default\":[{\"type\":\"map\",\"entries\":[[\"type\",\"warning\"],[\"background\",\"#ffc107\"],[\"icon\",{\"type\":\"map\",\"entries\":[[\"className\",\"fas fa-exclamation-triangle\"],[\"tagName\",\"i\"],[\"color\",\"white\"]]}]]},{\"type\":\"map\",\"entries\":[[\"type\",\"info\"],[\"background\",\"#007bff\"],[\"icon\",{\"type\":\"map\",\"entries\":[[\"className\",\"fas fa-info-circle\"],[\"tagName\",\"i\"],[\"color\",\"white\"]]}]]}]}]},{\"type\":\"model\",\"name\":\"Notification\",\"properties\":[{\"name\":\"background\",\"kind\":\"Any\",\"default\":null},{\"name\":\"duration\",\"kind\":\"Any\",\"default\":3000},{\"name\":\"icon\",\"kind\":\"Any\",\"default\":null},{\"name\":\"message\",\"kind\":\"Any\",\"default\":\"\"},{\"name\":\"notification_type\",\"kind\":\"Any\",\"default\":null},{\"name\":\"_rendered\",\"kind\":\"Any\",\"default\":false},{\"name\":\"_destroyed\",\"kind\":\"Any\",\"default\":false}]},{\"type\":\"model\",\"name\":\"TemplateActions1\",\"properties\":[{\"name\":\"open_modal\",\"kind\":\"Any\",\"default\":0},{\"name\":\"close_modal\",\"kind\":\"Any\",\"default\":0}]},{\"type\":\"model\",\"name\":\"BootstrapTemplateActions1\",\"properties\":[{\"name\":\"open_modal\",\"kind\":\"Any\",\"default\":0},{\"name\":\"close_modal\",\"kind\":\"Any\",\"default\":0}]},{\"type\":\"model\",\"name\":\"TemplateEditor1\",\"properties\":[{\"name\":\"layout\",\"kind\":\"Any\",\"default\":[]}]},{\"type\":\"model\",\"name\":\"MaterialTemplateActions1\",\"properties\":[{\"name\":\"open_modal\",\"kind\":\"Any\",\"default\":0},{\"name\":\"close_modal\",\"kind\":\"Any\",\"default\":0}]},{\"type\":\"model\",\"name\":\"request_value1\",\"properties\":[{\"name\":\"fill\",\"kind\":\"Any\",\"default\":\"none\"},{\"name\":\"_synced\",\"kind\":\"Any\",\"default\":null},{\"name\":\"_request_sync\",\"kind\":\"Any\",\"default\":0}]},{\"type\":\"model\",\"name\":\"holoviews.plotting.bokeh.raster.HoverModel\",\"properties\":[{\"name\":\"xy\",\"kind\":\"Any\",\"default\":null},{\"name\":\"data\",\"kind\":\"Any\",\"default\":null}]}]}};\n",
       "  var render_items = [{\"docid\":\"61585a9a-2352-4599-b0d5-d42c1f52de78\",\"roots\":{\"44db1430-6ee9-4060-b41a-d53aacae9141\":\"f9bb1090-450a-4f15-b4ed-1be8474d0b4b\"},\"root_ids\":[\"44db1430-6ee9-4060-b41a-d53aacae9141\"]}];\n",
       "  var docs = Object.values(docs_json)\n",
       "  if (!docs) {\n",
       "    return\n",
       "  }\n",
       "  const py_version = docs[0].version.replace('rc', '-rc.').replace('.dev', '-dev.')\n",
       "  async function embed_document(root) {\n",
       "    var Bokeh = get_bokeh(root)\n",
       "    await Bokeh.embed.embed_items_notebook(docs_json, render_items);\n",
       "    for (const render_item of render_items) {\n",
       "      for (const root_id of render_item.root_ids) {\n",
       "\tconst id_el = document.getElementById(root_id)\n",
       "\tif (id_el.children.length && id_el.children[0].hasAttribute('data-root-id')) {\n",
       "\t  const root_el = id_el.children[0]\n",
       "\t  root_el.id = root_el.id + '-rendered'\n",
       "\t  for (const child of root_el.children) {\n",
       "            // Ensure JupyterLab does not capture keyboard shortcuts\n",
       "            // see: https://jupyterlab.readthedocs.io/en/4.1.x/extension/notebook.html#keyboard-interaction-model\n",
       "\t    child.setAttribute('data-lm-suppress-shortcuts', 'true')\n",
       "\t  }\n",
       "\t}\n",
       "      }\n",
       "    }\n",
       "  }\n",
       "  function get_bokeh(root) {\n",
       "    if (root.Bokeh === undefined) {\n",
       "      return null\n",
       "    } else if (root.Bokeh.version !== py_version) {\n",
       "      if (root.Bokeh.versions === undefined || !root.Bokeh.versions.has(py_version)) {\n",
       "\treturn null\n",
       "      }\n",
       "      return root.Bokeh.versions.get(py_version);\n",
       "    } else if (root.Bokeh.version === py_version) {\n",
       "      return root.Bokeh\n",
       "    }\n",
       "    return null\n",
       "  }\n",
       "  function is_loaded(root) {\n",
       "    var Bokeh = get_bokeh(root)\n",
       "    return (Bokeh != null && Bokeh.Panel !== undefined)\n",
       "  }\n",
       "  if (is_loaded(root)) {\n",
       "    embed_document(root);\n",
       "  } else {\n",
       "    var attempts = 0;\n",
       "    var timer = setInterval(function(root) {\n",
       "      if (is_loaded(root)) {\n",
       "        clearInterval(timer);\n",
       "        embed_document(root);\n",
       "      } else if (document.readyState == \"complete\") {\n",
       "        attempts++;\n",
       "        if (attempts > 200) {\n",
       "          clearInterval(timer);\n",
       "\t  var Bokeh = get_bokeh(root)\n",
       "\t  if (Bokeh == null || Bokeh.Panel == null) {\n",
       "            console.warn(\"Panel: ERROR: Unable to run Panel code because Bokeh or Panel library is missing\");\n",
       "\t  } else {\n",
       "\t    console.warn(\"Panel: WARNING: Attempting to render but not all required libraries could be resolved.\")\n",
       "\t    embed_document(root)\n",
       "\t  }\n",
       "        }\n",
       "      }\n",
       "    }, 25, root)\n",
       "  }\n",
       "})(window);</script>"
      ]
     },
     "metadata": {
      "application/vnd.holoviews_exec.v0+json": {
       "id": "44db1430-6ee9-4060-b41a-d53aacae9141"
      }
     },
     "output_type": "display_data"
    },
    {
     "data": {
      "text/html": [
       "    <style>\n",
       "        .bk-notebook-logo {\n",
       "            display: block;\n",
       "            width: 20px;\n",
       "            height: 20px;\n",
       "            background-image: url(data:image/png;base64,iVBORw0KGgoAAAANSUhEUgAAABQAAAAUCAYAAACNiR0NAAAABHNCSVQICAgIfAhkiAAAAAlwSFlzAAALEgAACxIB0t1+/AAAABx0RVh0U29mdHdhcmUAQWRvYmUgRmlyZXdvcmtzIENTNui8sowAAAOkSURBVDiNjZRtaJVlGMd/1/08zzln5zjP1LWcU9N0NkN8m2CYjpgQYQXqSs0I84OLIC0hkEKoPtiH3gmKoiJDU7QpLgoLjLIQCpEsNJ1vqUOdO7ppbuec5+V+rj4ctwzd8IIbbi6u+8f1539dt3A78eXC7QizUF7gyV1fD1Yqg4JWz84yffhm0qkFqBogB9rM8tZdtwVsPUhWhGcFJngGeWrPzHm5oaMmkfEg1usvLFyc8jLRqDOMru7AyC8saQr7GG7f5fvDeH7Ej8CM66nIF+8yngt6HWaKh7k49Soy9nXurCi1o3qUbS3zWfrYeQDTB/Qj6kX6Ybhw4B+bOYoLKCC9H3Nu/leUTZ1JdRWkkn2ldcCamzrcf47KKXdAJllSlxAOkRgyHsGC/zRday5Qld9DyoM4/q/rUoy/CXh3jzOu3bHUVZeU+DEn8FInkPBFlu3+nW3Nw0mk6vCDiWg8CeJaxEwuHS3+z5RgY+YBR6V1Z1nxSOfoaPa4LASWxxdNp+VWTk7+4vzaou8v8PN+xo+KY2xsw6une2frhw05CTYOmQvsEhjhWjn0bmXPjpE1+kplmmkP3suftwTubK9Vq22qKmrBhpY4jvd5afdRA3wGjFAgcnTK2s4hY0/GPNIb0nErGMCRxWOOX64Z8RAC4oCXdklmEvcL8o0BfkNK4lUg9HTl+oPlQxdNo3Mg4Nv175e/1LDGzZen30MEjRUtmXSfiTVu1kK8W4txyV6BMKlbgk3lMwYCiusNy9fVfvvwMxv8Ynl6vxoByANLTWplvuj/nF9m2+PDtt1eiHPBr1oIfhCChQMBw6Aw0UulqTKZdfVvfG7VcfIqLG9bcldL/+pdWTLxLUy8Qq38heUIjh4XlzZxzQm19lLFlr8vdQ97rjZVOLf8nclzckbcD4wxXMidpX30sFd37Fv/GtwwhzhxGVAprjbg0gCAEeIgwCZyTV2Z1REEW8O4py0wsjeloKoMr6iCY6dP92H6Vw/oTyICIthibxjm/DfN9lVz8IqtqKYLUXfoKVMVQVVJOElGjrnnUt9T9wbgp8AyYKaGlqingHZU/uG2NTZSVqwHQTWkx9hxjkpWDaCg6Ckj5qebgBVbT3V3NNXMSiWSDdGV3hrtzla7J+duwPOToIg42ChPQOQjspnSlp1V+Gjdged7+8UN5CRAV7a5EdFNwCjEaBR27b3W890TE7g24NAP/mMDXRWrGoFPQI9ls/MWO2dWFAar/xcOIImbbpA3zgAAAABJRU5ErkJggg==);\n",
       "        }\n",
       "    </style>\n",
       "    <div>\n",
       "        <a href=\"https://bokeh.org\" target=\"_blank\" class=\"bk-notebook-logo\"></a>\n",
       "        <span id=\"b1ae91ad-0a29-4658-8836-579b8c5db608\">Loading BokehJS ...</span>\n",
       "    </div>\n"
      ]
     },
     "metadata": {},
     "output_type": "display_data"
    },
    {
     "data": {
      "application/javascript": "'use strict';\n(function(root) {\n  function now() {\n    return new Date();\n  }\n\n  const force = true;\n\n  if (typeof root._bokeh_onload_callbacks === \"undefined\" || force === true) {\n    root._bokeh_onload_callbacks = [];\n    root._bokeh_is_loading = undefined;\n  }\n\nconst JS_MIME_TYPE = 'application/javascript';\n  const HTML_MIME_TYPE = 'text/html';\n  const EXEC_MIME_TYPE = 'application/vnd.bokehjs_exec.v0+json';\n  const CLASS_NAME = 'output_bokeh rendered_html';\n\n  /**\n   * Render data to the DOM node\n   */\n  function render(props, node) {\n    const script = document.createElement(\"script\");\n    node.appendChild(script);\n  }\n\n  /**\n   * Handle when an output is cleared or removed\n   */\n  function handleClearOutput(event, handle) {\n    function drop(id) {\n      const view = Bokeh.index.get_by_id(id)\n      if (view != null) {\n        view.model.document.clear()\n        Bokeh.index.delete(view)\n      }\n    }\n\n    const cell = handle.cell;\n\n    const id = cell.output_area._bokeh_element_id;\n    const server_id = cell.output_area._bokeh_server_id;\n\n    // Clean up Bokeh references\n    if (id != null) {\n      drop(id)\n    }\n\n    if (server_id !== undefined) {\n      // Clean up Bokeh references\n      const cmd_clean = \"from bokeh.io.state import curstate; print(curstate().uuid_to_server['\" + server_id + \"'].get_sessions()[0].document.roots[0]._id)\";\n      cell.notebook.kernel.execute(cmd_clean, {\n        iopub: {\n          output: function(msg) {\n            const id = msg.content.text.trim()\n            drop(id)\n          }\n        }\n      });\n      // Destroy server and session\n      const cmd_destroy = \"import bokeh.io.notebook as ion; ion.destroy_server('\" + server_id + \"')\";\n      cell.notebook.kernel.execute(cmd_destroy);\n    }\n  }\n\n  /**\n   * Handle when a new output is added\n   */\n  function handleAddOutput(event, handle) {\n    const output_area = handle.output_area;\n    const output = handle.output;\n\n    // limit handleAddOutput to display_data with EXEC_MIME_TYPE content only\n    if ((output.output_type != \"display_data\") || (!Object.prototype.hasOwnProperty.call(output.data, EXEC_MIME_TYPE))) {\n      return\n    }\n\n    const toinsert = output_area.element.find(\".\" + CLASS_NAME.split(' ')[0]);\n\n    if (output.metadata[EXEC_MIME_TYPE][\"id\"] !== undefined) {\n      toinsert[toinsert.length - 1].firstChild.textContent = output.data[JS_MIME_TYPE];\n      // store reference to embed id on output_area\n      output_area._bokeh_element_id = output.metadata[EXEC_MIME_TYPE][\"id\"];\n    }\n    if (output.metadata[EXEC_MIME_TYPE][\"server_id\"] !== undefined) {\n      const bk_div = document.createElement(\"div\");\n      bk_div.innerHTML = output.data[HTML_MIME_TYPE];\n      const script_attrs = bk_div.children[0].attributes;\n      for (let i = 0; i < script_attrs.length; i++) {\n        toinsert[toinsert.length - 1].firstChild.setAttribute(script_attrs[i].name, script_attrs[i].value);\n        toinsert[toinsert.length - 1].firstChild.textContent = bk_div.children[0].textContent\n      }\n      // store reference to server id on output_area\n      output_area._bokeh_server_id = output.metadata[EXEC_MIME_TYPE][\"server_id\"];\n    }\n  }\n\n  function register_renderer(events, OutputArea) {\n\n    function append_mime(data, metadata, element) {\n      // create a DOM node to render to\n      const toinsert = this.create_output_subarea(\n        metadata,\n        CLASS_NAME,\n        EXEC_MIME_TYPE\n      );\n      this.keyboard_manager.register_events(toinsert);\n      // Render to node\n      const props = {data: data, metadata: metadata[EXEC_MIME_TYPE]};\n      render(props, toinsert[toinsert.length - 1]);\n      element.append(toinsert);\n      return toinsert\n    }\n\n    /* Handle when an output is cleared or removed */\n    events.on('clear_output.CodeCell', handleClearOutput);\n    events.on('delete.Cell', handleClearOutput);\n\n    /* Handle when a new output is added */\n    events.on('output_added.OutputArea', handleAddOutput);\n\n    /**\n     * Register the mime type and append_mime function with output_area\n     */\n    OutputArea.prototype.register_mime_type(EXEC_MIME_TYPE, append_mime, {\n      /* Is output safe? */\n      safe: true,\n      /* Index of renderer in `output_area.display_order` */\n      index: 0\n    });\n  }\n\n  // register the mime type if in Jupyter Notebook environment and previously unregistered\n  if (root.Jupyter !== undefined) {\n    const events = require('base/js/events');\n    const OutputArea = require('notebook/js/outputarea').OutputArea;\n\n    if (OutputArea.prototype.mime_types().indexOf(EXEC_MIME_TYPE) == -1) {\n      register_renderer(events, OutputArea);\n    }\n  }\n  if (typeof (root._bokeh_timeout) === \"undefined\" || force === true) {\n    root._bokeh_timeout = Date.now() + 5000;\n    root._bokeh_failed_load = false;\n  }\n\n  const NB_LOAD_WARNING = {'data': {'text/html':\n     \"<div style='background-color: #fdd'>\\n\"+\n     \"<p>\\n\"+\n     \"BokehJS does not appear to have successfully loaded. If loading BokehJS from CDN, this \\n\"+\n     \"may be due to a slow or bad network connection. Possible fixes:\\n\"+\n     \"</p>\\n\"+\n     \"<ul>\\n\"+\n     \"<li>re-rerun `output_notebook()` to attempt to load from CDN again, or</li>\\n\"+\n     \"<li>use INLINE resources instead, as so:</li>\\n\"+\n     \"</ul>\\n\"+\n     \"<code>\\n\"+\n     \"from bokeh.resources import INLINE\\n\"+\n     \"output_notebook(resources=INLINE)\\n\"+\n     \"</code>\\n\"+\n     \"</div>\"}};\n\n  function display_loaded(error = null) {\n    const el = document.getElementById(\"b1ae91ad-0a29-4658-8836-579b8c5db608\");\n    if (el != null) {\n      const html = (() => {\n        if (typeof root.Bokeh === \"undefined\") {\n          if (error == null) {\n            return \"BokehJS is loading ...\";\n          } else {\n            return \"BokehJS failed to load.\";\n          }\n        } else {\n          const prefix = `BokehJS ${root.Bokeh.version}`;\n          if (error == null) {\n            return `${prefix} successfully loaded.`;\n          } else {\n            return `${prefix} <b>encountered errors</b> while loading and may not function as expected.`;\n          }\n        }\n      })();\n      el.innerHTML = html;\n\n      if (error != null) {\n        const wrapper = document.createElement(\"div\");\n        wrapper.style.overflow = \"auto\";\n        wrapper.style.height = \"5em\";\n        wrapper.style.resize = \"vertical\";\n        const content = document.createElement(\"div\");\n        content.style.fontFamily = \"monospace\";\n        content.style.whiteSpace = \"pre-wrap\";\n        content.style.backgroundColor = \"rgb(255, 221, 221)\";\n        content.textContent = error.stack ?? error.toString();\n        wrapper.append(content);\n        el.append(wrapper);\n      }\n    } else if (Date.now() < root._bokeh_timeout) {\n      setTimeout(() => display_loaded(error), 100);\n    }\n  }\n\n  function run_callbacks() {\n    try {\n      root._bokeh_onload_callbacks.forEach(function(callback) {\n        if (callback != null)\n          callback();\n      });\n    } finally {\n      delete root._bokeh_onload_callbacks\n    }\n    console.debug(\"Bokeh: all callbacks have finished\");\n  }\n\n  function load_libs(css_urls, js_urls, callback) {\n    if (css_urls == null) css_urls = [];\n    if (js_urls == null) js_urls = [];\n\n    root._bokeh_onload_callbacks.push(callback);\n    if (root._bokeh_is_loading > 0) {\n      console.debug(\"Bokeh: BokehJS is being loaded, scheduling callback at\", now());\n      return null;\n    }\n    if (js_urls == null || js_urls.length === 0) {\n      run_callbacks();\n      return null;\n    }\n    console.debug(\"Bokeh: BokehJS not loaded, scheduling load and callback at\", now());\n    root._bokeh_is_loading = css_urls.length + js_urls.length;\n\n    function on_load() {\n      root._bokeh_is_loading--;\n      if (root._bokeh_is_loading === 0) {\n        console.debug(\"Bokeh: all BokehJS libraries/stylesheets loaded\");\n        run_callbacks()\n      }\n    }\n\n    function on_error(url) {\n      console.error(\"failed to load \" + url);\n    }\n\n    for (let i = 0; i < css_urls.length; i++) {\n      const url = css_urls[i];\n      const element = document.createElement(\"link\");\n      element.onload = on_load;\n      element.onerror = on_error.bind(null, url);\n      element.rel = \"stylesheet\";\n      element.type = \"text/css\";\n      element.href = url;\n      console.debug(\"Bokeh: injecting link tag for BokehJS stylesheet: \", url);\n      document.body.appendChild(element);\n    }\n\n    for (let i = 0; i < js_urls.length; i++) {\n      const url = js_urls[i];\n      const element = document.createElement('script');\n      element.onload = on_load;\n      element.onerror = on_error.bind(null, url);\n      element.async = false;\n      element.src = url;\n      console.debug(\"Bokeh: injecting script tag for BokehJS library: \", url);\n      document.head.appendChild(element);\n    }\n  };\n\n  function inject_raw_css(css) {\n    const element = document.createElement(\"style\");\n    element.appendChild(document.createTextNode(css));\n    document.body.appendChild(element);\n  }\n\n  const js_urls = [\"static/extensions/panel/bundled/reactiveesm/es-module-shims@^1.10.0/dist/es-module-shims.min.js\", \"https://cdn.bokeh.org/bokeh/release/bokeh-3.8.0.min.js\", \"https://cdn.bokeh.org/bokeh/release/bokeh-gl-3.8.0.min.js\", \"https://cdn.bokeh.org/bokeh/release/bokeh-widgets-3.8.0.min.js\", \"https://cdn.bokeh.org/bokeh/release/bokeh-tables-3.8.0.min.js\", \"https://cdn.bokeh.org/bokeh/release/bokeh-mathjax-3.8.0.min.js\", \"https://unpkg.com/@holoviz/panel@1.8.0/dist/panel.min.js\"];\n  const css_urls = [];\n\n  const inline_js = [    function(Bokeh) {\n      Bokeh.set_log_level(\"info\");\n    },\nfunction(Bokeh) {\n    }\n  ];\n\n  function run_inline_js() {\n    if (root.Bokeh !== undefined || force === true) {\n      try {\n            for (let i = 0; i < inline_js.length; i++) {\n      inline_js[i].call(root, root.Bokeh);\n    }\n\n      } catch (error) {display_loaded(error);throw error;\n      }if (force === true) {\n        display_loaded();\n      }} else if (Date.now() < root._bokeh_timeout) {\n      setTimeout(run_inline_js, 100);\n    } else if (!root._bokeh_failed_load) {\n      console.log(\"Bokeh: BokehJS failed to load within specified timeout.\");\n      root._bokeh_failed_load = true;\n    } else if (force !== true) {\n      const cell = $(document.getElementById(\"b1ae91ad-0a29-4658-8836-579b8c5db608\")).parents('.cell').data().cell;\n      cell.output_area.append_execute_result(NB_LOAD_WARNING)\n    }\n  }\n\n  if (root._bokeh_is_loading === 0) {\n    console.debug(\"Bokeh: BokehJS loaded, going straight to plotting\");\n    run_inline_js();\n  } else {\n    load_libs(css_urls, js_urls, function() {\n      console.debug(\"Bokeh: BokehJS plotting callback run at\", now());\n      run_inline_js();\n    });\n  }\n}(window));",
      "application/vnd.bokehjs_load.v0+json": ""
     },
     "metadata": {},
     "output_type": "display_data"
    }
   ],
   "source": [
    "# Import the BehavioralEDA class\n",
    "from behavioral_eda_class import BehavioralEDA\n",
    "from pathlib import Path\n",
    "import holoviews as hv\n",
    "# Enable Jupyter notebook display\n",
    "from bokeh.io import output_notebook\n",
    "output_notebook()"
   ]
  },
  {
   "cell_type": "code",
   "execution_count": 2,
   "id": "9280dd3e",
   "metadata": {},
   "outputs": [
    {
     "name": "stdout",
     "output_type": "stream",
     "text": [
      "Loading data from: /home/barak/Projects/population_analysis/data/csst_trials_pkls/all_fiona_CSST_trials_df.pkl\n",
      "File exists: True\n"
     ]
    }
   ],
   "source": [
    "# Set up data path\n",
    "monkey = 'fiona'  # Change to 'yasmin' if needed\n",
    "base_path = Path.cwd().parent / 'data' / f'{monkey}_sst'\n",
    "filepath = base_path.parent / 'csst_trials_pkls' / f'all_{monkey}_CSST_trials_df.pkl'\n",
    "\n",
    "print(f\"Loading data from: {filepath}\")\n",
    "print(f\"File exists: {filepath.exists()}\")"
   ]
  },
  {
   "cell_type": "code",
   "execution_count": 3,
   "id": "fde407be",
   "metadata": {},
   "outputs": [
    {
     "data": {
      "text/html": [
       "<script type=\"esms-options\">{\"shimMode\": true}</script><style>*[data-root-id],\n",
       "*[data-root-id] > * {\n",
       "  box-sizing: border-box;\n",
       "  font-family: var(--jp-ui-font-family);\n",
       "  font-size: var(--jp-ui-font-size1);\n",
       "  color: var(--vscode-editor-foreground, var(--jp-ui-font-color1));\n",
       "}\n",
       "\n",
       "/* Override VSCode background color */\n",
       ".cell-output-ipywidget-background:has(\n",
       "  > .cell-output-ipywidget-background > .lm-Widget > *[data-root-id]\n",
       "),\n",
       ".cell-output-ipywidget-background:has(> .lm-Widget > *[data-root-id]) {\n",
       "  background-color: transparent !important;\n",
       "}\n",
       "</style>"
      ]
     },
     "metadata": {},
     "output_type": "display_data"
    },
    {
     "data": {
      "application/javascript": "(function(root) {\n  function now() {\n    return new Date();\n  }\n\n  const force = true;\n  const py_version = '3.8.0'.replace('rc', '-rc.').replace('.dev', '-dev.');\n  const reloading = false;\n  const Bokeh = root.Bokeh;\n\n  // Set a timeout for this load but only if we are not already initializing\n  if (typeof (root._bokeh_timeout) === \"undefined\" || (force || !root._bokeh_is_initializing)) {\n    root._bokeh_timeout = Date.now() + 5000;\n    root._bokeh_failed_load = false;\n  }\n\n  function run_callbacks() {\n    try {\n      root._bokeh_onload_callbacks.forEach(function(callback) {\n        if (callback != null)\n          callback();\n      });\n    } finally {\n      delete root._bokeh_onload_callbacks;\n    }\n    console.debug(\"Bokeh: all callbacks have finished\");\n  }\n\n  function load_libs(css_urls, js_urls, js_modules, js_exports, callback) {\n    if (css_urls == null) css_urls = [];\n    if (js_urls == null) js_urls = [];\n    if (js_modules == null) js_modules = [];\n    if (js_exports == null) js_exports = {};\n\n    root._bokeh_onload_callbacks.push(callback);\n\n    if (root._bokeh_is_loading > 0) {\n      // Don't load bokeh if it is still initializing\n      console.debug(\"Bokeh: BokehJS is being loaded, scheduling callback at\", now());\n      return null;\n    } else if (js_urls.length === 0 && js_modules.length === 0 && Object.keys(js_exports).length === 0) {\n      // There is nothing to load\n      run_callbacks();\n      return null;\n    }\n\n    function on_load() {\n      root._bokeh_is_loading--;\n      if (root._bokeh_is_loading === 0) {\n        console.debug(\"Bokeh: all BokehJS libraries/stylesheets loaded\");\n        run_callbacks()\n      }\n    }\n    window._bokeh_on_load = on_load\n\n    function on_error(e) {\n      const src_el = e.srcElement\n      console.error(\"failed to load \" + (src_el.href || src_el.src));\n    }\n\n    const skip = [];\n    if (window.requirejs) {\n      window.requirejs.config({'packages': {}, 'paths': {}, 'shim': {}});\n      root._bokeh_is_loading = css_urls.length + 0;\n    } else {\n      root._bokeh_is_loading = css_urls.length + js_urls.length + js_modules.length + Object.keys(js_exports).length;\n    }\n\n    const existing_stylesheets = []\n    const links = document.getElementsByTagName('link')\n    for (let i = 0; i < links.length; i++) {\n      const link = links[i]\n      if (link.href != null) {\n        existing_stylesheets.push(link.href)\n      }\n    }\n    for (let i = 0; i < css_urls.length; i++) {\n      const url = css_urls[i];\n      const escaped = encodeURI(url)\n      if (existing_stylesheets.indexOf(escaped) !== -1) {\n        on_load()\n        continue;\n      }\n      const element = document.createElement(\"link\");\n      element.onload = on_load;\n      element.onerror = on_error;\n      element.rel = \"stylesheet\";\n      element.type = \"text/css\";\n      element.href = url;\n      console.debug(\"Bokeh: injecting link tag for BokehJS stylesheet: \", url);\n      document.body.appendChild(element);\n    }    var existing_scripts = []\n    const scripts = document.getElementsByTagName('script')\n    for (let i = 0; i < scripts.length; i++) {\n      var script = scripts[i]\n      if (script.src != null) {\n        existing_scripts.push(script.src)\n      }\n    }\n    for (let i = 0; i < js_urls.length; i++) {\n      const url = js_urls[i];\n      const escaped = encodeURI(url)\n      if (skip.indexOf(escaped) !== -1 || existing_scripts.indexOf(escaped) !== -1) {\n        if (!window.requirejs) {\n          on_load();\n        }\n        continue;\n      }\n      const element = document.createElement('script');\n      element.onload = on_load;\n      element.onerror = on_error;\n      element.async = false;\n      element.src = url;\n      console.debug(\"Bokeh: injecting script tag for BokehJS library: \", url);\n      document.head.appendChild(element);\n    }\n    for (let i = 0; i < js_modules.length; i++) {\n      const url = js_modules[i];\n      const escaped = encodeURI(url)\n      if (skip.indexOf(escaped) !== -1 || existing_scripts.indexOf(escaped) !== -1) {\n        if (!window.requirejs) {\n          on_load();\n        }\n        continue;\n      }\n      var element = document.createElement('script');\n      element.onload = on_load;\n      element.onerror = on_error;\n      element.async = false;\n      element.src = url;\n      element.type = \"module\";\n      console.debug(\"Bokeh: injecting script tag for BokehJS library: \", url);\n      document.head.appendChild(element);\n    }\n    for (const name in js_exports) {\n      const url = js_exports[name];\n      const escaped = encodeURI(url)\n      if (skip.indexOf(escaped) >= 0 || root[name] != null) {\n        if (!window.requirejs) {\n          on_load();\n        }\n        continue;\n      }\n      var element = document.createElement('script');\n      element.onerror = on_error;\n      element.async = false;\n      element.type = \"module\";\n      console.debug(\"Bokeh: injecting script tag for BokehJS library: \", url);\n      element.textContent = `\n      import ${name} from \"${url}\"\n      window.${name} = ${name}\n      window._bokeh_on_load()\n      `\n      document.head.appendChild(element);\n    }\n    if (!js_urls.length && !js_modules.length) {\n      on_load()\n    }\n  };\n\n  function inject_raw_css(css) {\n    const element = document.createElement(\"style\");\n    element.appendChild(document.createTextNode(css));\n    document.body.appendChild(element);\n  }\n\n  const js_urls = [\"https://cdn.holoviz.org/panel/1.8.0/dist/bundled/reactiveesm/es-module-shims@^1.10.0/dist/es-module-shims.min.js\", \"https://cdn.bokeh.org/bokeh/release/bokeh-3.8.0.min.js\", \"https://cdn.bokeh.org/bokeh/release/bokeh-gl-3.8.0.min.js\", \"https://cdn.bokeh.org/bokeh/release/bokeh-widgets-3.8.0.min.js\", \"https://cdn.bokeh.org/bokeh/release/bokeh-tables-3.8.0.min.js\", \"https://cdn.holoviz.org/panel/1.8.0/dist/panel.min.js\"];\n  const js_modules = [];\n  const js_exports = {};\n  const css_urls = [];\n  const inline_js = [    function(Bokeh) {\n      Bokeh.set_log_level(\"info\");\n    },\nfunction(Bokeh) {} // ensure no trailing comma for IE\n  ];\n\n  function run_inline_js() {\n    if ((root.Bokeh !== undefined) || (force === true)) {\n      for (let i = 0; i < inline_js.length; i++) {\n        try {\n          inline_js[i].call(root, root.Bokeh);\n        } catch(e) {\n          if (!reloading) {\n            throw e;\n          }\n        }\n      }\n      // Cache old bokeh versions\n      if (Bokeh != undefined && !reloading) {\n        var NewBokeh = root.Bokeh;\n        if (Bokeh.versions === undefined) {\n          Bokeh.versions = new Map();\n        }\n        if (NewBokeh.version !== Bokeh.version) {\n          Bokeh.versions.set(NewBokeh.version, NewBokeh)\n        }\n        root.Bokeh = Bokeh;\n      }\n    } else if (Date.now() < root._bokeh_timeout) {\n      setTimeout(run_inline_js, 100);\n    } else if (!root._bokeh_failed_load) {\n      console.log(\"Bokeh: BokehJS failed to load within specified timeout.\");\n      root._bokeh_failed_load = true;\n    }\n    root._bokeh_is_initializing = false\n  }\n\n  function load_or_wait() {\n    // Implement a backoff loop that tries to ensure we do not load multiple\n    // versions of Bokeh and its dependencies at the same time.\n    // In recent versions we use the root._bokeh_is_initializing flag\n    // to determine whether there is an ongoing attempt to initialize\n    // bokeh, however for backward compatibility we also try to ensure\n    // that we do not start loading a newer (Panel>=1.0 and Bokeh>3) version\n    // before older versions are fully initialized.\n    if (root._bokeh_is_initializing && Date.now() > root._bokeh_timeout) {\n      // If the timeout and bokeh was not successfully loaded we reset\n      // everything and try loading again\n      root._bokeh_timeout = Date.now() + 5000;\n      root._bokeh_is_initializing = false;\n      root._bokeh_onload_callbacks = undefined;\n      root._bokeh_is_loading = 0\n      console.log(\"Bokeh: BokehJS was loaded multiple times but one version failed to initialize.\");\n      load_or_wait();\n    } else if (root._bokeh_is_initializing || (typeof root._bokeh_is_initializing === \"undefined\" && root._bokeh_onload_callbacks !== undefined)) {\n      setTimeout(load_or_wait, 100);\n    } else {\n      root._bokeh_is_initializing = true\n      root._bokeh_onload_callbacks = []\n      const bokeh_loaded = root.Bokeh != null && (root.Bokeh.version === py_version || (root.Bokeh.versions !== undefined && root.Bokeh.versions.has(py_version)));\n      if (!reloading && !bokeh_loaded) {\n        if (root.Bokeh) {\n          root.Bokeh = undefined;\n        }\n        console.debug(\"Bokeh: BokehJS not loaded, scheduling load and callback at\", now());\n      }\n      load_libs(css_urls, js_urls, js_modules, js_exports, function() {\n        console.debug(\"Bokeh: BokehJS plotting callback run at\", now());\n        run_inline_js();\n      });\n    }\n  }\n  // Give older versions of the autoload script a head-start to ensure\n  // they initialize before we start loading newer version.\n  setTimeout(load_or_wait, 100)\n}(window));",
      "application/vnd.holoviews_load.v0+json": ""
     },
     "metadata": {},
     "output_type": "display_data"
    },
    {
     "data": {
      "application/javascript": "\nif ((window.PyViz === undefined) || (window.PyViz instanceof HTMLElement)) {\n  window.PyViz = {comms: {}, comm_status:{}, kernels:{}, receivers: {}, plot_index: []}\n}\n\n\n    function JupyterCommManager() {\n    }\n\n    JupyterCommManager.prototype.register_target = function(plot_id, comm_id, msg_handler) {\n      if (window.comm_manager || ((window.Jupyter !== undefined) && (Jupyter.notebook.kernel != null))) {\n        var comm_manager = window.comm_manager || Jupyter.notebook.kernel.comm_manager;\n        comm_manager.register_target(comm_id, function(comm) {\n          comm.on_msg(msg_handler);\n        });\n      } else if ((plot_id in window.PyViz.kernels) && (window.PyViz.kernels[plot_id])) {\n        window.PyViz.kernels[plot_id].registerCommTarget(comm_id, function(comm) {\n          comm.onMsg = msg_handler;\n        });\n      } else if (typeof google != 'undefined' && google.colab.kernel != null) {\n        google.colab.kernel.comms.registerTarget(comm_id, (comm) => {\n          var messages = comm.messages[Symbol.asyncIterator]();\n          function processIteratorResult(result) {\n            var message = result.value;\n            var content = {data: message.data, comm_id};\n            var buffers = []\n            for (var buffer of message.buffers || []) {\n              buffers.push(new DataView(buffer))\n            }\n            var metadata = message.metadata || {};\n            var msg = {content, buffers, metadata}\n            msg_handler(msg);\n            return messages.next().then(processIteratorResult);\n          }\n          return messages.next().then(processIteratorResult);\n        })\n      }\n    }\n\n    JupyterCommManager.prototype.get_client_comm = function(plot_id, comm_id, msg_handler) {\n      if (comm_id in window.PyViz.comms) {\n        return window.PyViz.comms[comm_id];\n      } else if (window.comm_manager || ((window.Jupyter !== undefined) && (Jupyter.notebook.kernel != null))) {\n        var comm_manager = window.comm_manager || Jupyter.notebook.kernel.comm_manager;\n        var comm = comm_manager.new_comm(comm_id, {}, {}, {}, comm_id);\n        if (msg_handler) {\n          comm.on_msg(msg_handler);\n        }\n      } else if ((plot_id in window.PyViz.kernels) && (window.PyViz.kernels[plot_id])) {\n        var comm = window.PyViz.kernels[plot_id].connectToComm(comm_id);\n        let retries = 0;\n        const open = () => {\n          if (comm.active) {\n            comm.open();\n          } else if (retries > 3) {\n            console.warn('Comm target never activated')\n          } else {\n            retries += 1\n            setTimeout(open, 500)\n          }\n        }\n        if (comm.active) {\n          comm.open();\n        } else {\n          setTimeout(open, 500)\n        }\n        if (msg_handler) {\n          comm.onMsg = msg_handler;\n        }\n      } else if (typeof google != 'undefined' && google.colab.kernel != null) {\n        var comm_promise = google.colab.kernel.comms.open(comm_id)\n        comm_promise.then((comm) => {\n          window.PyViz.comms[comm_id] = comm;\n          if (msg_handler) {\n            var messages = comm.messages[Symbol.asyncIterator]();\n            function processIteratorResult(result) {\n              var message = result.value;\n              var content = {data: message.data};\n              var metadata = message.metadata || {comm_id};\n              var msg = {content, metadata}\n              msg_handler(msg);\n              return messages.next().then(processIteratorResult);\n            }\n            return messages.next().then(processIteratorResult);\n          }\n        })\n        var sendClosure = (data, metadata, buffers, disposeOnDone) => {\n          return comm_promise.then((comm) => {\n            comm.send(data, metadata, buffers, disposeOnDone);\n          });\n        };\n        var comm = {\n          send: sendClosure\n        };\n      }\n      window.PyViz.comms[comm_id] = comm;\n      return comm;\n    }\n    window.PyViz.comm_manager = new JupyterCommManager();\n    \n\n\nvar JS_MIME_TYPE = 'application/javascript';\nvar HTML_MIME_TYPE = 'text/html';\nvar EXEC_MIME_TYPE = 'application/vnd.holoviews_exec.v0+json';\nvar CLASS_NAME = 'output';\n\n/**\n * Render data to the DOM node\n */\nfunction render(props, node) {\n  var div = document.createElement(\"div\");\n  var script = document.createElement(\"script\");\n  node.appendChild(div);\n  node.appendChild(script);\n}\n\n/**\n * Handle when a new output is added\n */\nfunction handle_add_output(event, handle) {\n  var output_area = handle.output_area;\n  var output = handle.output;\n  if ((output.data == undefined) || (!output.data.hasOwnProperty(EXEC_MIME_TYPE))) {\n    return\n  }\n  var id = output.metadata[EXEC_MIME_TYPE][\"id\"];\n  var toinsert = output_area.element.find(\".\" + CLASS_NAME.split(' ')[0]);\n  if (id !== undefined) {\n    var nchildren = toinsert.length;\n    var html_node = toinsert[nchildren-1].children[0];\n    html_node.innerHTML = output.data[HTML_MIME_TYPE];\n    var scripts = [];\n    var nodelist = html_node.querySelectorAll(\"script\");\n    for (var i in nodelist) {\n      if (nodelist.hasOwnProperty(i)) {\n        scripts.push(nodelist[i])\n      }\n    }\n\n    scripts.forEach( function (oldScript) {\n      var newScript = document.createElement(\"script\");\n      var attrs = [];\n      var nodemap = oldScript.attributes;\n      for (var j in nodemap) {\n        if (nodemap.hasOwnProperty(j)) {\n          attrs.push(nodemap[j])\n        }\n      }\n      attrs.forEach(function(attr) { newScript.setAttribute(attr.name, attr.value) });\n      newScript.appendChild(document.createTextNode(oldScript.innerHTML));\n      oldScript.parentNode.replaceChild(newScript, oldScript);\n    });\n    if (JS_MIME_TYPE in output.data) {\n      toinsert[nchildren-1].children[1].textContent = output.data[JS_MIME_TYPE];\n    }\n    output_area._hv_plot_id = id;\n    if ((window.Bokeh !== undefined) && (id in Bokeh.index)) {\n      window.PyViz.plot_index[id] = Bokeh.index[id];\n    } else {\n      window.PyViz.plot_index[id] = null;\n    }\n  } else if (output.metadata[EXEC_MIME_TYPE][\"server_id\"] !== undefined) {\n    var bk_div = document.createElement(\"div\");\n    bk_div.innerHTML = output.data[HTML_MIME_TYPE];\n    var script_attrs = bk_div.children[0].attributes;\n    for (var i = 0; i < script_attrs.length; i++) {\n      toinsert[toinsert.length - 1].childNodes[1].setAttribute(script_attrs[i].name, script_attrs[i].value);\n    }\n    // store reference to server id on output_area\n    output_area._bokeh_server_id = output.metadata[EXEC_MIME_TYPE][\"server_id\"];\n  }\n}\n\n/**\n * Handle when an output is cleared or removed\n */\nfunction handle_clear_output(event, handle) {\n  var id = handle.cell.output_area._hv_plot_id;\n  var server_id = handle.cell.output_area._bokeh_server_id;\n  if (((id === undefined) || !(id in PyViz.plot_index)) && (server_id !== undefined)) { return; }\n  var comm = window.PyViz.comm_manager.get_client_comm(\"hv-extension-comm\", \"hv-extension-comm\", function () {});\n  if (server_id !== null) {\n    comm.send({event_type: 'server_delete', 'id': server_id});\n    return;\n  } else if (comm !== null) {\n    comm.send({event_type: 'delete', 'id': id});\n  }\n  delete PyViz.plot_index[id];\n  if ((window.Bokeh !== undefined) & (id in window.Bokeh.index)) {\n    var doc = window.Bokeh.index[id].model.document\n    doc.clear();\n    const i = window.Bokeh.documents.indexOf(doc);\n    if (i > -1) {\n      window.Bokeh.documents.splice(i, 1);\n    }\n  }\n}\n\n/**\n * Handle kernel restart event\n */\nfunction handle_kernel_cleanup(event, handle) {\n  delete PyViz.comms[\"hv-extension-comm\"];\n  window.PyViz.plot_index = {}\n}\n\n/**\n * Handle update_display_data messages\n */\nfunction handle_update_output(event, handle) {\n  handle_clear_output(event, {cell: {output_area: handle.output_area}})\n  handle_add_output(event, handle)\n}\n\nfunction register_renderer(events, OutputArea) {\n  function append_mime(data, metadata, element) {\n    // create a DOM node to render to\n    var toinsert = this.create_output_subarea(\n    metadata,\n    CLASS_NAME,\n    EXEC_MIME_TYPE\n    );\n    this.keyboard_manager.register_events(toinsert);\n    // Render to node\n    var props = {data: data, metadata: metadata[EXEC_MIME_TYPE]};\n    render(props, toinsert[0]);\n    element.append(toinsert);\n    return toinsert\n  }\n\n  events.on('output_added.OutputArea', handle_add_output);\n  events.on('output_updated.OutputArea', handle_update_output);\n  events.on('clear_output.CodeCell', handle_clear_output);\n  events.on('delete.Cell', handle_clear_output);\n  events.on('kernel_ready.Kernel', handle_kernel_cleanup);\n\n  OutputArea.prototype.register_mime_type(EXEC_MIME_TYPE, append_mime, {\n    safe: true,\n    index: 0\n  });\n}\n\nif (window.Jupyter !== undefined) {\n  try {\n    var events = require('base/js/events');\n    var OutputArea = require('notebook/js/outputarea').OutputArea;\n    if (OutputArea.prototype.mime_types().indexOf(EXEC_MIME_TYPE) == -1) {\n      register_renderer(events, OutputArea);\n    }\n  } catch(err) {\n  }\n}\n",
      "application/vnd.holoviews_load.v0+json": ""
     },
     "metadata": {},
     "output_type": "display_data"
    },
    {
     "data": {
      "application/vnd.holoviews_exec.v0+json": "",
      "text/html": [
       "<div id='634bcd3d-68fc-4044-a8fb-743e5a748d0f'>\n",
       "  <div id=\"ae8c6243-ebaf-489d-86c1-9d3dcf0660c0\" data-root-id=\"634bcd3d-68fc-4044-a8fb-743e5a748d0f\" style=\"display: contents;\"></div>\n",
       "</div>\n",
       "<script type=\"application/javascript\">(function(root) {\n",
       "  var docs_json = {\"74c6e7f4-f28e-4284-8cd1-cde1d57ba75c\":{\"version\":\"3.8.0\",\"title\":\"Bokeh Application\",\"config\":{\"type\":\"object\",\"name\":\"DocumentConfig\",\"id\":\"b29369c6-c2e5-47f6-8d8e-63edb4d489df\",\"attributes\":{\"notifications\":{\"type\":\"object\",\"name\":\"Notifications\",\"id\":\"6b9d84d7-d823-4955-aec1-ca4217caf471\"}}},\"roots\":[{\"type\":\"object\",\"name\":\"panel.models.browser.BrowserInfo\",\"id\":\"634bcd3d-68fc-4044-a8fb-743e5a748d0f\"},{\"type\":\"object\",\"name\":\"panel.models.comm_manager.CommManager\",\"id\":\"8dab2b59-a2af-4c21-94e8-96cf4b36d176\",\"attributes\":{\"plot_id\":\"634bcd3d-68fc-4044-a8fb-743e5a748d0f\",\"comm_id\":\"64897312d5a7418e96daf60b4d77519d\",\"client_comm_id\":\"a98586fda60d4de0ac0b5239a077a24e\"}}],\"defs\":[{\"type\":\"model\",\"name\":\"ReactiveHTML1\"},{\"type\":\"model\",\"name\":\"FlexBox1\",\"properties\":[{\"name\":\"align_content\",\"kind\":\"Any\",\"default\":\"flex-start\"},{\"name\":\"align_items\",\"kind\":\"Any\",\"default\":\"flex-start\"},{\"name\":\"flex_direction\",\"kind\":\"Any\",\"default\":\"row\"},{\"name\":\"flex_wrap\",\"kind\":\"Any\",\"default\":\"wrap\"},{\"name\":\"gap\",\"kind\":\"Any\",\"default\":\"\"},{\"name\":\"justify_content\",\"kind\":\"Any\",\"default\":\"flex-start\"}]},{\"type\":\"model\",\"name\":\"FloatPanel1\",\"properties\":[{\"name\":\"config\",\"kind\":\"Any\",\"default\":{\"type\":\"map\"}},{\"name\":\"contained\",\"kind\":\"Any\",\"default\":true},{\"name\":\"position\",\"kind\":\"Any\",\"default\":\"right-top\"},{\"name\":\"offsetx\",\"kind\":\"Any\",\"default\":null},{\"name\":\"offsety\",\"kind\":\"Any\",\"default\":null},{\"name\":\"theme\",\"kind\":\"Any\",\"default\":\"primary\"},{\"name\":\"status\",\"kind\":\"Any\",\"default\":\"normalized\"}]},{\"type\":\"model\",\"name\":\"GridStack1\",\"properties\":[{\"name\":\"ncols\",\"kind\":\"Any\",\"default\":null},{\"name\":\"nrows\",\"kind\":\"Any\",\"default\":null},{\"name\":\"allow_resize\",\"kind\":\"Any\",\"default\":true},{\"name\":\"allow_drag\",\"kind\":\"Any\",\"default\":true},{\"name\":\"state\",\"kind\":\"Any\",\"default\":[]}]},{\"type\":\"model\",\"name\":\"drag1\",\"properties\":[{\"name\":\"slider_width\",\"kind\":\"Any\",\"default\":5},{\"name\":\"slider_color\",\"kind\":\"Any\",\"default\":\"black\"},{\"name\":\"start\",\"kind\":\"Any\",\"default\":0},{\"name\":\"end\",\"kind\":\"Any\",\"default\":100},{\"name\":\"value\",\"kind\":\"Any\",\"default\":50}]},{\"type\":\"model\",\"name\":\"click1\",\"properties\":[{\"name\":\"terminal_output\",\"kind\":\"Any\",\"default\":\"\"},{\"name\":\"debug_name\",\"kind\":\"Any\",\"default\":\"\"},{\"name\":\"clears\",\"kind\":\"Any\",\"default\":0}]},{\"type\":\"model\",\"name\":\"ReactiveESM1\",\"properties\":[{\"name\":\"esm_constants\",\"kind\":\"Any\",\"default\":{\"type\":\"map\"}}]},{\"type\":\"model\",\"name\":\"JSComponent1\",\"properties\":[{\"name\":\"esm_constants\",\"kind\":\"Any\",\"default\":{\"type\":\"map\"}}]},{\"type\":\"model\",\"name\":\"ReactComponent1\",\"properties\":[{\"name\":\"use_shadow_dom\",\"kind\":\"Any\",\"default\":true},{\"name\":\"esm_constants\",\"kind\":\"Any\",\"default\":{\"type\":\"map\"}}]},{\"type\":\"model\",\"name\":\"AnyWidgetComponent1\",\"properties\":[{\"name\":\"use_shadow_dom\",\"kind\":\"Any\",\"default\":true},{\"name\":\"esm_constants\",\"kind\":\"Any\",\"default\":{\"type\":\"map\"}}]},{\"type\":\"model\",\"name\":\"FastWrapper1\",\"properties\":[{\"name\":\"object\",\"kind\":\"Any\",\"default\":null},{\"name\":\"style\",\"kind\":\"Any\",\"default\":null}]},{\"type\":\"model\",\"name\":\"NotificationArea1\",\"properties\":[{\"name\":\"js_events\",\"kind\":\"Any\",\"default\":{\"type\":\"map\"}},{\"name\":\"max_notifications\",\"kind\":\"Any\",\"default\":5},{\"name\":\"notifications\",\"kind\":\"Any\",\"default\":[]},{\"name\":\"position\",\"kind\":\"Any\",\"default\":\"bottom-right\"},{\"name\":\"_clear\",\"kind\":\"Any\",\"default\":0},{\"name\":\"types\",\"kind\":\"Any\",\"default\":[{\"type\":\"map\",\"entries\":[[\"type\",\"warning\"],[\"background\",\"#ffc107\"],[\"icon\",{\"type\":\"map\",\"entries\":[[\"className\",\"fas fa-exclamation-triangle\"],[\"tagName\",\"i\"],[\"color\",\"white\"]]}]]},{\"type\":\"map\",\"entries\":[[\"type\",\"info\"],[\"background\",\"#007bff\"],[\"icon\",{\"type\":\"map\",\"entries\":[[\"className\",\"fas fa-info-circle\"],[\"tagName\",\"i\"],[\"color\",\"white\"]]}]]}]}]},{\"type\":\"model\",\"name\":\"Notification\",\"properties\":[{\"name\":\"background\",\"kind\":\"Any\",\"default\":null},{\"name\":\"duration\",\"kind\":\"Any\",\"default\":3000},{\"name\":\"icon\",\"kind\":\"Any\",\"default\":null},{\"name\":\"message\",\"kind\":\"Any\",\"default\":\"\"},{\"name\":\"notification_type\",\"kind\":\"Any\",\"default\":null},{\"name\":\"_rendered\",\"kind\":\"Any\",\"default\":false},{\"name\":\"_destroyed\",\"kind\":\"Any\",\"default\":false}]},{\"type\":\"model\",\"name\":\"TemplateActions1\",\"properties\":[{\"name\":\"open_modal\",\"kind\":\"Any\",\"default\":0},{\"name\":\"close_modal\",\"kind\":\"Any\",\"default\":0}]},{\"type\":\"model\",\"name\":\"BootstrapTemplateActions1\",\"properties\":[{\"name\":\"open_modal\",\"kind\":\"Any\",\"default\":0},{\"name\":\"close_modal\",\"kind\":\"Any\",\"default\":0}]},{\"type\":\"model\",\"name\":\"TemplateEditor1\",\"properties\":[{\"name\":\"layout\",\"kind\":\"Any\",\"default\":[]}]},{\"type\":\"model\",\"name\":\"MaterialTemplateActions1\",\"properties\":[{\"name\":\"open_modal\",\"kind\":\"Any\",\"default\":0},{\"name\":\"close_modal\",\"kind\":\"Any\",\"default\":0}]},{\"type\":\"model\",\"name\":\"request_value1\",\"properties\":[{\"name\":\"fill\",\"kind\":\"Any\",\"default\":\"none\"},{\"name\":\"_synced\",\"kind\":\"Any\",\"default\":null},{\"name\":\"_request_sync\",\"kind\":\"Any\",\"default\":0}]},{\"type\":\"model\",\"name\":\"holoviews.plotting.bokeh.raster.HoverModel\",\"properties\":[{\"name\":\"xy\",\"kind\":\"Any\",\"default\":null},{\"name\":\"data\",\"kind\":\"Any\",\"default\":null}]}]}};\n",
       "  var render_items = [{\"docid\":\"74c6e7f4-f28e-4284-8cd1-cde1d57ba75c\",\"roots\":{\"634bcd3d-68fc-4044-a8fb-743e5a748d0f\":\"ae8c6243-ebaf-489d-86c1-9d3dcf0660c0\"},\"root_ids\":[\"634bcd3d-68fc-4044-a8fb-743e5a748d0f\"]}];\n",
       "  var docs = Object.values(docs_json)\n",
       "  if (!docs) {\n",
       "    return\n",
       "  }\n",
       "  const py_version = docs[0].version.replace('rc', '-rc.').replace('.dev', '-dev.')\n",
       "  async function embed_document(root) {\n",
       "    var Bokeh = get_bokeh(root)\n",
       "    await Bokeh.embed.embed_items_notebook(docs_json, render_items);\n",
       "    for (const render_item of render_items) {\n",
       "      for (const root_id of render_item.root_ids) {\n",
       "\tconst id_el = document.getElementById(root_id)\n",
       "\tif (id_el.children.length && id_el.children[0].hasAttribute('data-root-id')) {\n",
       "\t  const root_el = id_el.children[0]\n",
       "\t  root_el.id = root_el.id + '-rendered'\n",
       "\t  for (const child of root_el.children) {\n",
       "            // Ensure JupyterLab does not capture keyboard shortcuts\n",
       "            // see: https://jupyterlab.readthedocs.io/en/4.1.x/extension/notebook.html#keyboard-interaction-model\n",
       "\t    child.setAttribute('data-lm-suppress-shortcuts', 'true')\n",
       "\t  }\n",
       "\t}\n",
       "      }\n",
       "    }\n",
       "  }\n",
       "  function get_bokeh(root) {\n",
       "    if (root.Bokeh === undefined) {\n",
       "      return null\n",
       "    } else if (root.Bokeh.version !== py_version) {\n",
       "      if (root.Bokeh.versions === undefined || !root.Bokeh.versions.has(py_version)) {\n",
       "\treturn null\n",
       "      }\n",
       "      return root.Bokeh.versions.get(py_version);\n",
       "    } else if (root.Bokeh.version === py_version) {\n",
       "      return root.Bokeh\n",
       "    }\n",
       "    return null\n",
       "  }\n",
       "  function is_loaded(root) {\n",
       "    var Bokeh = get_bokeh(root)\n",
       "    return (Bokeh != null && Bokeh.Panel !== undefined)\n",
       "  }\n",
       "  if (is_loaded(root)) {\n",
       "    embed_document(root);\n",
       "  } else {\n",
       "    var attempts = 0;\n",
       "    var timer = setInterval(function(root) {\n",
       "      if (is_loaded(root)) {\n",
       "        clearInterval(timer);\n",
       "        embed_document(root);\n",
       "      } else if (document.readyState == \"complete\") {\n",
       "        attempts++;\n",
       "        if (attempts > 200) {\n",
       "          clearInterval(timer);\n",
       "\t  var Bokeh = get_bokeh(root)\n",
       "\t  if (Bokeh == null || Bokeh.Panel == null) {\n",
       "            console.warn(\"Panel: ERROR: Unable to run Panel code because Bokeh or Panel library is missing\");\n",
       "\t  } else {\n",
       "\t    console.warn(\"Panel: WARNING: Attempting to render but not all required libraries could be resolved.\")\n",
       "\t    embed_document(root)\n",
       "\t  }\n",
       "        }\n",
       "      }\n",
       "    }, 25, root)\n",
       "  }\n",
       "})(window);</script>"
      ]
     },
     "metadata": {
      "application/vnd.holoviews_exec.v0+json": {
       "id": "634bcd3d-68fc-4044-a8fb-743e5a748d0f"
      }
     },
     "output_type": "display_data"
    },
    {
     "data": {
      "text/html": [
       "\n",
       "\n",
       "\n",
       "\n",
       "<div class=\"logo-block\">\n",
       "<a href=\"https://holoviews.org\" target=\"_blank\" title=\"HoloViews 1.21.0\">\n",
       "  <img src='data:image/png;base64,iVBORw0KGgoAAAANSUhEUgAAAEAAAABACAYAAACqaXHeAAAABHNCSVQICAgIfAhkiAAAAAlwSFlz\n",
       "AAAB+wAAAfsBxc2miwAAABl0RVh0U29mdHdhcmUAd3d3Lmlua3NjYXBlLm9yZ5vuPBoAAA6zSURB\n",
       "VHic7ZtpeFRVmsf/5966taWqUlUJ2UioBBJiIBAwCZtog9IOgjqACsogKtqirT2ttt069nQ/zDzt\n",
       "tI4+CrJIREFaFgWhBXpUNhHZQoKBkIUASchWla1S+3ar7r1nPkDaCAnZKoQP/D7mnPOe9/xy76n3\n",
       "nFSAW9ziFoPFNED2LLK5wcyBDObkb8ZkxuaoSYlI6ZcOKq1eWFdedqNzGHQBk9RMEwFAASkk0Xw3\n",
       "ETacDNi2vtvc7L0ROdw0AjoSotQVkKSvHQz/wRO1lScGModBFbDMaNRN1A4tUBCS3lk7BWhQkgpD\n",
       "lG4852/+7DWr1R3uHAZVQDsbh6ZPN7CyxUrCzJMRouusj0ipRwD2uKm0Zn5d2dFwzX1TCGhnmdGo\n",
       "G62Nna+isiUqhkzuKrkQaJlPEv5mFl2fvGg2t/VnzkEV8F5ioioOEWkLG86fvbpthynjdhXYZziQ\n",
       "x1hC9J2NFyi8vCTt91Fh04KGip0AaG9zuCk2wQCVyoNU3Hjezee9bq92duzzTmxsRJoy+jEZZZYo\n",
       "GTKJ6SJngdJqAfRzpze0+jHreUtPc7gpBLQnIYK6BYp/uGhw9YK688eu7v95ysgshcg9qSLMo3JC\n",
       "4jqLKQFBgdKDPoQ+Pltb8dUyQLpeDjeVgI6EgLIQFT5tEl3rn2losHVsexbZ3EyT9wE1uGdkIPcy\n",
       "BGxn8QUq1QrA5nqW5i2tLqvrrM9NK6AdkVIvL9E9bZL/oyfMVd/jqvc8LylzRBKDJSzIExwhQzuL\n",
       "QYGQj4rHfFTc8mUdu3E7yoLtbTe9gI4EqVgVkug2i5+uXGo919ixbRog+3fTbQ8qJe4ZOYNfMoTI\n",
       "OoshUNosgO60AisX15aeI2PSIp5KiFLI9ubb1vV3Qb2ltwLakUCDAkWX7/nHKRmmGIl9VgYsUhJm\n",
       "2NXjKYADtM1ygne9QQDIXlk49FBstMKx66D1v4+XuQr7vqTe0VcBHQlRWiOCbmmSYe2SqtL6q5rJ\n",
       "zsTb7lKx3FKOYC4DoqyS/B5bvLPxvD9Qtf6saxYLQGJErmDOdOMr/zo96km1nElr8bmPOBwI9COv\n",
       "HnFPRIwmkSOv9kcAS4heRsidOkpeWBgZM+UBrTFAXNYL5Vf2ii9c1trNzpYdaoVil3WIc+wdk+gQ\n",
       "noie3ecCcxt9ITcLAPWt/laGEO/9U6PmzZkenTtsSMQ8uYywJVW+grCstAvCIaAdArAsIWkRDDs/\n",
       "KzLm2YcjY1Lv0UdW73HabE9n6V66cxSzfEmuJssTpKGVp+0vHq73FwL46eOjpMpbRAnNmJFrGJNu\n",
       "Ukf9Yrz+3rghiumCKNXXWPhLYcjxGsIpoCMsIRoFITkW8AuyM8jC1+/QLx4bozCEJIq38+1rtpR6\n",
       "V/yzb8eBlRb3fo5l783N0CWolAzJHaVNzkrTzlEp2bQ2q3TC5gn6wpnoQAmwSiGh2GitnTmVMc5O\n",
       "UyfKWUKCIsU7+fZDKwqdT6DDpvkzAX4/+AMFjk0tDp5GRXLpQ2MUmhgDp5gxQT8+Y7hyPsMi8uxF\n",
       "71H0oebujHALECjFKaW9Lm68n18wXp2kVzIcABytD5iXFzg+WVXkegpAsOOYziqo0OkK76GyquC3\n",
       "ltZAzMhhqlSNmmWTE5T6e3IN05ITFLM4GdN0vtZ3ob8Jh1NAKXFbm5PtLU/eqTSlGjkNAJjdgn/N\n",
       "aedXa0tdi7+t9G0FIF49rtMSEgAs1kDLkTPO7ebm4IUWeyh1bKomXqlgMG6kJmHcSM0clYLJ8XtR\n",
       "1GTnbV3F6I5wCGikAb402npp1h1s7LQUZZSMIfALFOuL3UUrfnS8+rez7v9qcold5tilgHbO1fjK\n",
       "9ubb17u9oshxzMiUBKXWqJNxd+fqb0tLVs4lILFnK71H0Ind7uiPgACVcFJlrb0tV6DzxqqTIhUM\n",
       "CwDf1/rrVhTa33/3pGPxJYdQ2l2cbgVcQSosdx8uqnDtbGjh9SlDVSMNWhlnilfqZk42Th2ZpLpf\n",
       "xrHec5e815zrr0dfBZSwzkZfqsv+1FS1KUknUwPARVvItfKUY+cn57yP7qv07UE3p8B2uhUwLk09\n",
       "e0SCOrK+hbdYHYLjRIl71wWzv9jpEoeOHhGRrJAzyEyNiJuUqX0g2sBN5kGK6y2Blp5M3lsB9Qh4\n",
       "y2Ja6x6+i0ucmKgwMATwhSjdUu49tKrQ/pvN5d53ml2CGwCmJipmKjgmyuaXzNeL2a0AkQ01Th5j\n",
       "2DktO3Jyk8f9vcOBQHV94OK+fPumJmvQHxJoWkaKWq9Vs+yUsbq0zGT1I4RgeH2b5wef7+c7bl8F\n",
       "eKgoHVVZa8ZPEORzR6sT1BzDUAD/d9F78e2Tzv99v8D+fLVTqAKAsbGamKey1Mt9Ann4eH3gTXTz\n",
       "idWtAJ8PQWOk7NzSeQn/OTHDuEikVF1R4z8BQCy+6D1aWRfY0tTGG2OM8rRoPaeIj5ZHzJxszElN\n",
       "VM8K8JS5WOfv8mzRnQAKoEhmt8gyPM4lU9SmBK1MCQBnW4KONT86v1hZ1PbwSXPw4JWussVjtH9Y\n",
       "NCoiL9UoH/6PSu8jFrfY2t36erQHXLIEakMi1SydmzB31h3GGXFDFNPaK8Rme9B79Ixrd0WN+1ij\n",
       "NRQ/doRmuFLBkHSTOm5GruG+pFjFdAmorG4IXH1Qua6ASniclfFtDYt+oUjKipPrCQB7QBQ2lrgP\n",
       "fFzm+9XWUtcqJ3/5vDLDpJ79XHZk3u8nGZ42qlj1+ydtbxysCezrydp6ugmipNJ7WBPB5tydY0jP\n",
       "HaVNzs3QzeE4ZpTbI+ZbnSFPbVOw9vsfnVvqWnirPyCNGD08IlqtYkh2hjZ5dErEQzoNm+6ykyOt\n",
       "Lt5/PQEuSRRKo22VkydK+vvS1XEKlhCJAnsqvcVvH7f/ZU2R67eXbMEGAMiIV5oWZWiWvz5Fv2xG\n",
       "sjqNJQRvn3Rs2lji/lNP19VjAQDgD7FHhujZB9OGqYxRkZxixgRDVlqS6uEOFaJUVu0rPFzctrnF\n",
       "JqijImVp8dEKVWyUXDk92zAuMZ6bFwpBU1HrOw6AdhQgUooChb0+ItMbWJitSo5Ws3IAOGEOtL53\n",
       "0vHZih9sC4vtofZ7Qu6523V/fmGcds1TY3V36pUsBwAbSlxnVh2xLfAD/IAIMDf7XYIkNmXfpp2l\n",
       "18rkAJAy9HKFaIr/qULkeQQKy9zf1JgDB2uaeFNGijo5QsUyacNUUTOnGO42xSnv4oOwpDi1zYkc\n",
       "efUc3I5Gk6PhyTuVKaOGyLUAYPGIoY9Pu/atL/L92+4q9wbflRJ2Trpm/jPjdBtfnqB/dIThcl8A\n",
       "KG7hbRuKnb8qsQsVvVlTrwQAQMUlf3kwJI24Z4JhPMtcfng5GcH49GsrxJpGvvHIaeem2ma+KSjQ\n",
       "lIwUdYyCY8j4dE1KzijNnIP2llF2wcXNnsoapw9XxsgYAl6k+KzUXbi2yP3KR2ecf6z3BFsBICdW\n",
       "nvnIaG3eHybqX7vbpEqUMT+9OL4Qpe8VON7dXuFd39v19FoAABRVePbGGuXTszO0P7tu6lghUonE\n",
       "llRdrhArLvmKdh9u29jcFiRRkfLUxBiFNiqSU9icoZQHo5mYBI1MBgBH6wMNb+U7Pnw337H4gi1Y\n",
       "ciWs+uks3Z9fztUvfzxTm9Ne8XXkvQLHNytOOZeiD4e0PgkAIAYCYknKUNUDSXEKzdWNpnil7r4p\n",
       "xqkjTarZMtk/K8TQ6Qve78qqvXurGwIJqcOUKfUWHsm8KGvxSP68YudXq4pcj39X49uOK2X142O0\n",
       "Tz5/u/7TVybqH0rSya6ZBwD21/gubbrgWdDgEOx9WUhfBaC2ibcEBYm7a7x+ukrBMNcEZggyR0TE\n",
       "T8zUPjikQ4VosQZbTpS4vqizBKvqmvjsqnpfzaZyx9JPiz1/bfGKdgD45XB1zoIMzYbfTdS/NClB\n",
       "Gct0USiY3YL/g0LHy/uq/Ef6uo5+n0R/vyhp17Klpge763f8rMu6YU/zrn2nml+2WtH+Z+5IAAFc\n",
       "2bUTdTDOSNa9+cQY7YLsOIXhevEkCvzph7a8laecz/Un/z4/Ae04XeL3UQb57IwU9ZDr9UuKVajv\n",
       "nxp1+1UVIo/LjztZkKH59fO3G/JemqCfmaCRqbqbd90ZZ8FfjtkfAyD0J/9+C2h1hDwsSxvGjNDc\n",
       "b4zk5NfrSwiQblLHzZhg+Jf4aPlUwpDqkQqa9nimbt1/TDH8OitGMaQnj+RJS6B1fbF7SY1TqO5v\n",
       "/v0WAADl1f7zokgS7s7VT2DZ7pegUjBM7mjtiDZbcN4j0YrHH0rXpCtY0qPX0cVL0rv5jv/ZXend\n",
       "0u/EESYBAFBU4T4Qa5TflZOhTe7pmKpaP8kCVUVw1+yhXfJWvn1P3hnXi33JsTN6PnP3hHZ8Z3/h\n",
       "aLHzmkNPuPj7Bc/F/Q38CwjTpSwQXgE4Vmwry9tpfq/ZFgqFMy4AVDtCvi8rvMvOmv0N4YwbVgEA\n",
       "sPM72/KVnzfspmH7HQGCRLG2yL1+z8XwvPcdCbsAANh+xPzstgMtxeGKt+6MK3/tacfvwhWvIwMi\n",
       "oKEBtm0H7W+UVfkc/Y1V0BhoPlDr/w1w/eu1vjIgAgDg22OtX6/eYfnEz/focrZTHAFR+PSs56/7\n",
       "q32nwpjazxgwAQCwcU/T62t3WL7r6/jVRa6/byp1rei+Z98ZUAEAhEPHPc8fKnTU9nbgtnOe8h0l\n",
       "9hcGIqmODLQAHCy2Xti6v/XNRivf43f4fFvIteu854+VHnR7q9tfBlwAAGz+pnndB9vM26UebAe8\n",
       "SLHujPOTPVW+rwY+sxskAAC2HrA8t2Vvc7ffP1r9o+vwR2dcr92InIAbKKC1FZ5tB1tf+/G8p8sv\n",
       "N/9Q5zd/XR34LYCwV5JdccMEAMDBk45DH243r/X4xGvqxFa/GNpS7n6rwOwNWwHVE26oAADYurf1\n",
       "zx/utOzt+DMKYM0p17YtZZ5VNzqfsB2HewG1WXE8PoZ7gOclbTIvynZf9JV+fqZtfgs/8F/Nu5rB\n",
       "EIBmJ+8QRMmpU7EzGRsf2FzuePqYRbzh/zE26EwdrT10f6r6o8HOYzCJB9Dpff8tbnGLG8L/A/WE\n",
       "roTBs2RqAAAAAElFTkSuQmCC' style='height:25px; border-radius:12px; display: inline-block; float: left; vertical-align: middle'></img>\n",
       "</a>\n",
       "\n",
       "\n",
       "<a href=\"https://bokeh.org\" target=\"_blank\" title=\"Bokeh 3.8.0\">\n",
       "  <img src='data:image/png;base64,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'\n",
       "       style='height:15px; border-radius:12px; display: inline-block; float: left'>\n",
       "  </img>\n",
       "</a>\n",
       "\n",
       "\n",
       "\n",
       "\n",
       "\n",
       "\n",
       "\n",
       "<span style=\"float: left; margin-left: 5px; line-height: 15px; cursor: pointer; opacity: 0.7;\"\n",
       "      onmouseover=\"this.style.opacity='1'\"\n",
       "      onmouseout=\"this.style.opacity='0.7'\"\n",
       "      title=\"Extension loaded. This cell output contains code that enables plot interactivity, it should not be removed.\">ⓘ</span>\n",
       "</div>\n",
       "\n"
      ]
     },
     "metadata": {},
     "output_type": "display_data"
    },
    {
     "name": "stderr",
     "output_type": "stream",
     "text": [
      "WARNING:param.panel_extension: bokeh extension not recognized and will be skipped.\n"
     ]
    },
    {
     "data": {
      "text/html": [
       "<script type=\"esms-options\">{\"shimMode\": true}</script><style>*[data-root-id],\n",
       "*[data-root-id] > * {\n",
       "  box-sizing: border-box;\n",
       "  font-family: var(--jp-ui-font-family);\n",
       "  font-size: var(--jp-ui-font-size1);\n",
       "  color: var(--vscode-editor-foreground, var(--jp-ui-font-color1));\n",
       "}\n",
       "\n",
       "/* Override VSCode background color */\n",
       ".cell-output-ipywidget-background:has(\n",
       "  > .cell-output-ipywidget-background > .lm-Widget > *[data-root-id]\n",
       "),\n",
       ".cell-output-ipywidget-background:has(> .lm-Widget > *[data-root-id]) {\n",
       "  background-color: transparent !important;\n",
       "}\n",
       "</style>"
      ]
     },
     "metadata": {},
     "output_type": "display_data"
    },
    {
     "data": {
      "application/javascript": "(function(root) {\n  function now() {\n    return new Date();\n  }\n\n  const force = false;\n  const py_version = '3.8.0'.replace('rc', '-rc.').replace('.dev', '-dev.');\n  const reloading = true;\n  const Bokeh = root.Bokeh;\n\n  // Set a timeout for this load but only if we are not already initializing\n  if (typeof (root._bokeh_timeout) === \"undefined\" || (force || !root._bokeh_is_initializing)) {\n    root._bokeh_timeout = Date.now() + 5000;\n    root._bokeh_failed_load = false;\n  }\n\n  function run_callbacks() {\n    try {\n      root._bokeh_onload_callbacks.forEach(function(callback) {\n        if (callback != null)\n          callback();\n      });\n    } finally {\n      delete root._bokeh_onload_callbacks;\n    }\n    console.debug(\"Bokeh: all callbacks have finished\");\n  }\n\n  function load_libs(css_urls, js_urls, js_modules, js_exports, callback) {\n    if (css_urls == null) css_urls = [];\n    if (js_urls == null) js_urls = [];\n    if (js_modules == null) js_modules = [];\n    if (js_exports == null) js_exports = {};\n\n    root._bokeh_onload_callbacks.push(callback);\n\n    if (root._bokeh_is_loading > 0) {\n      // Don't load bokeh if it is still initializing\n      console.debug(\"Bokeh: BokehJS is being loaded, scheduling callback at\", now());\n      return null;\n    } else if (js_urls.length === 0 && js_modules.length === 0 && Object.keys(js_exports).length === 0) {\n      // There is nothing to load\n      run_callbacks();\n      return null;\n    }\n\n    function on_load() {\n      root._bokeh_is_loading--;\n      if (root._bokeh_is_loading === 0) {\n        console.debug(\"Bokeh: all BokehJS libraries/stylesheets loaded\");\n        run_callbacks()\n      }\n    }\n    window._bokeh_on_load = on_load\n\n    function on_error(e) {\n      const src_el = e.srcElement\n      console.error(\"failed to load \" + (src_el.href || src_el.src));\n    }\n\n    const skip = [];\n    if (window.requirejs) {\n      window.requirejs.config({'packages': {}, 'paths': {}, 'shim': {}});\n      root._bokeh_is_loading = css_urls.length + 0;\n    } else {\n      root._bokeh_is_loading = css_urls.length + js_urls.length + js_modules.length + Object.keys(js_exports).length;\n    }\n\n    const existing_stylesheets = []\n    const links = document.getElementsByTagName('link')\n    for (let i = 0; i < links.length; i++) {\n      const link = links[i]\n      if (link.href != null) {\n        existing_stylesheets.push(link.href)\n      }\n    }\n    for (let i = 0; i < css_urls.length; i++) {\n      const url = css_urls[i];\n      const escaped = encodeURI(url)\n      if (existing_stylesheets.indexOf(escaped) !== -1) {\n        on_load()\n        continue;\n      }\n      const element = document.createElement(\"link\");\n      element.onload = on_load;\n      element.onerror = on_error;\n      element.rel = \"stylesheet\";\n      element.type = \"text/css\";\n      element.href = url;\n      console.debug(\"Bokeh: injecting link tag for BokehJS stylesheet: \", url);\n      document.body.appendChild(element);\n    }    var existing_scripts = []\n    const scripts = document.getElementsByTagName('script')\n    for (let i = 0; i < scripts.length; i++) {\n      var script = scripts[i]\n      if (script.src != null) {\n        existing_scripts.push(script.src)\n      }\n    }\n    for (let i = 0; i < js_urls.length; i++) {\n      const url = js_urls[i];\n      const escaped = encodeURI(url)\n      if (skip.indexOf(escaped) !== -1 || existing_scripts.indexOf(escaped) !== -1) {\n        if (!window.requirejs) {\n          on_load();\n        }\n        continue;\n      }\n      const element = document.createElement('script');\n      element.onload = on_load;\n      element.onerror = on_error;\n      element.async = false;\n      element.src = url;\n      console.debug(\"Bokeh: injecting script tag for BokehJS library: \", url);\n      document.head.appendChild(element);\n    }\n    for (let i = 0; i < js_modules.length; i++) {\n      const url = js_modules[i];\n      const escaped = encodeURI(url)\n      if (skip.indexOf(escaped) !== -1 || existing_scripts.indexOf(escaped) !== -1) {\n        if (!window.requirejs) {\n          on_load();\n        }\n        continue;\n      }\n      var element = document.createElement('script');\n      element.onload = on_load;\n      element.onerror = on_error;\n      element.async = false;\n      element.src = url;\n      element.type = \"module\";\n      console.debug(\"Bokeh: injecting script tag for BokehJS library: \", url);\n      document.head.appendChild(element);\n    }\n    for (const name in js_exports) {\n      const url = js_exports[name];\n      const escaped = encodeURI(url)\n      if (skip.indexOf(escaped) >= 0 || root[name] != null) {\n        if (!window.requirejs) {\n          on_load();\n        }\n        continue;\n      }\n      var element = document.createElement('script');\n      element.onerror = on_error;\n      element.async = false;\n      element.type = \"module\";\n      console.debug(\"Bokeh: injecting script tag for BokehJS library: \", url);\n      element.textContent = `\n      import ${name} from \"${url}\"\n      window.${name} = ${name}\n      window._bokeh_on_load()\n      `\n      document.head.appendChild(element);\n    }\n    if (!js_urls.length && !js_modules.length) {\n      on_load()\n    }\n  };\n\n  function inject_raw_css(css) {\n    const element = document.createElement(\"style\");\n    element.appendChild(document.createTextNode(css));\n    document.body.appendChild(element);\n  }\n\n  const js_urls = [\"https://cdn.holoviz.org/panel/1.8.0/dist/bundled/reactiveesm/es-module-shims@^1.10.0/dist/es-module-shims.min.js\"];\n  const js_modules = [];\n  const js_exports = {};\n  const css_urls = [];\n  const inline_js = [    function(Bokeh) {\n      Bokeh.set_log_level(\"info\");\n    },\nfunction(Bokeh) {} // ensure no trailing comma for IE\n  ];\n\n  function run_inline_js() {\n    if ((root.Bokeh !== undefined) || (force === true)) {\n      for (let i = 0; i < inline_js.length; i++) {\n        try {\n          inline_js[i].call(root, root.Bokeh);\n        } catch(e) {\n          if (!reloading) {\n            throw e;\n          }\n        }\n      }\n      // Cache old bokeh versions\n      if (Bokeh != undefined && !reloading) {\n        var NewBokeh = root.Bokeh;\n        if (Bokeh.versions === undefined) {\n          Bokeh.versions = new Map();\n        }\n        if (NewBokeh.version !== Bokeh.version) {\n          Bokeh.versions.set(NewBokeh.version, NewBokeh)\n        }\n        root.Bokeh = Bokeh;\n      }\n    } else if (Date.now() < root._bokeh_timeout) {\n      setTimeout(run_inline_js, 100);\n    } else if (!root._bokeh_failed_load) {\n      console.log(\"Bokeh: BokehJS failed to load within specified timeout.\");\n      root._bokeh_failed_load = true;\n    }\n    root._bokeh_is_initializing = false\n  }\n\n  function load_or_wait() {\n    // Implement a backoff loop that tries to ensure we do not load multiple\n    // versions of Bokeh and its dependencies at the same time.\n    // In recent versions we use the root._bokeh_is_initializing flag\n    // to determine whether there is an ongoing attempt to initialize\n    // bokeh, however for backward compatibility we also try to ensure\n    // that we do not start loading a newer (Panel>=1.0 and Bokeh>3) version\n    // before older versions are fully initialized.\n    if (root._bokeh_is_initializing && Date.now() > root._bokeh_timeout) {\n      // If the timeout and bokeh was not successfully loaded we reset\n      // everything and try loading again\n      root._bokeh_timeout = Date.now() + 5000;\n      root._bokeh_is_initializing = false;\n      root._bokeh_onload_callbacks = undefined;\n      root._bokeh_is_loading = 0\n      console.log(\"Bokeh: BokehJS was loaded multiple times but one version failed to initialize.\");\n      load_or_wait();\n    } else if (root._bokeh_is_initializing || (typeof root._bokeh_is_initializing === \"undefined\" && root._bokeh_onload_callbacks !== undefined)) {\n      setTimeout(load_or_wait, 100);\n    } else {\n      root._bokeh_is_initializing = true\n      root._bokeh_onload_callbacks = []\n      const bokeh_loaded = root.Bokeh != null && (root.Bokeh.version === py_version || (root.Bokeh.versions !== undefined && root.Bokeh.versions.has(py_version)));\n      if (!reloading && !bokeh_loaded) {\n        if (root.Bokeh) {\n          root.Bokeh = undefined;\n        }\n        console.debug(\"Bokeh: BokehJS not loaded, scheduling load and callback at\", now());\n      }\n      load_libs(css_urls, js_urls, js_modules, js_exports, function() {\n        console.debug(\"Bokeh: BokehJS plotting callback run at\", now());\n        run_inline_js();\n      });\n    }\n  }\n  // Give older versions of the autoload script a head-start to ensure\n  // they initialize before we start loading newer version.\n  setTimeout(load_or_wait, 100)\n}(window));",
      "application/vnd.holoviews_load.v0+json": ""
     },
     "metadata": {},
     "output_type": "display_data"
    },
    {
     "data": {
      "application/javascript": "\nif ((window.PyViz === undefined) || (window.PyViz instanceof HTMLElement)) {\n  window.PyViz = {comms: {}, comm_status:{}, kernels:{}, receivers: {}, plot_index: []}\n}\n\n\n    function JupyterCommManager() {\n    }\n\n    JupyterCommManager.prototype.register_target = function(plot_id, comm_id, msg_handler) {\n      if (window.comm_manager || ((window.Jupyter !== undefined) && (Jupyter.notebook.kernel != null))) {\n        var comm_manager = window.comm_manager || Jupyter.notebook.kernel.comm_manager;\n        comm_manager.register_target(comm_id, function(comm) {\n          comm.on_msg(msg_handler);\n        });\n      } else if ((plot_id in window.PyViz.kernels) && (window.PyViz.kernels[plot_id])) {\n        window.PyViz.kernels[plot_id].registerCommTarget(comm_id, function(comm) {\n          comm.onMsg = msg_handler;\n        });\n      } else if (typeof google != 'undefined' && google.colab.kernel != null) {\n        google.colab.kernel.comms.registerTarget(comm_id, (comm) => {\n          var messages = comm.messages[Symbol.asyncIterator]();\n          function processIteratorResult(result) {\n            var message = result.value;\n            var content = {data: message.data, comm_id};\n            var buffers = []\n            for (var buffer of message.buffers || []) {\n              buffers.push(new DataView(buffer))\n            }\n            var metadata = message.metadata || {};\n            var msg = {content, buffers, metadata}\n            msg_handler(msg);\n            return messages.next().then(processIteratorResult);\n          }\n          return messages.next().then(processIteratorResult);\n        })\n      }\n    }\n\n    JupyterCommManager.prototype.get_client_comm = function(plot_id, comm_id, msg_handler) {\n      if (comm_id in window.PyViz.comms) {\n        return window.PyViz.comms[comm_id];\n      } else if (window.comm_manager || ((window.Jupyter !== undefined) && (Jupyter.notebook.kernel != null))) {\n        var comm_manager = window.comm_manager || Jupyter.notebook.kernel.comm_manager;\n        var comm = comm_manager.new_comm(comm_id, {}, {}, {}, comm_id);\n        if (msg_handler) {\n          comm.on_msg(msg_handler);\n        }\n      } else if ((plot_id in window.PyViz.kernels) && (window.PyViz.kernels[plot_id])) {\n        var comm = window.PyViz.kernels[plot_id].connectToComm(comm_id);\n        let retries = 0;\n        const open = () => {\n          if (comm.active) {\n            comm.open();\n          } else if (retries > 3) {\n            console.warn('Comm target never activated')\n          } else {\n            retries += 1\n            setTimeout(open, 500)\n          }\n        }\n        if (comm.active) {\n          comm.open();\n        } else {\n          setTimeout(open, 500)\n        }\n        if (msg_handler) {\n          comm.onMsg = msg_handler;\n        }\n      } else if (typeof google != 'undefined' && google.colab.kernel != null) {\n        var comm_promise = google.colab.kernel.comms.open(comm_id)\n        comm_promise.then((comm) => {\n          window.PyViz.comms[comm_id] = comm;\n          if (msg_handler) {\n            var messages = comm.messages[Symbol.asyncIterator]();\n            function processIteratorResult(result) {\n              var message = result.value;\n              var content = {data: message.data};\n              var metadata = message.metadata || {comm_id};\n              var msg = {content, metadata}\n              msg_handler(msg);\n              return messages.next().then(processIteratorResult);\n            }\n            return messages.next().then(processIteratorResult);\n          }\n        })\n        var sendClosure = (data, metadata, buffers, disposeOnDone) => {\n          return comm_promise.then((comm) => {\n            comm.send(data, metadata, buffers, disposeOnDone);\n          });\n        };\n        var comm = {\n          send: sendClosure\n        };\n      }\n      window.PyViz.comms[comm_id] = comm;\n      return comm;\n    }\n    window.PyViz.comm_manager = new JupyterCommManager();\n    \n\n\nvar JS_MIME_TYPE = 'application/javascript';\nvar HTML_MIME_TYPE = 'text/html';\nvar EXEC_MIME_TYPE = 'application/vnd.holoviews_exec.v0+json';\nvar CLASS_NAME = 'output';\n\n/**\n * Render data to the DOM node\n */\nfunction render(props, node) {\n  var div = document.createElement(\"div\");\n  var script = document.createElement(\"script\");\n  node.appendChild(div);\n  node.appendChild(script);\n}\n\n/**\n * Handle when a new output is added\n */\nfunction handle_add_output(event, handle) {\n  var output_area = handle.output_area;\n  var output = handle.output;\n  if ((output.data == undefined) || (!output.data.hasOwnProperty(EXEC_MIME_TYPE))) {\n    return\n  }\n  var id = output.metadata[EXEC_MIME_TYPE][\"id\"];\n  var toinsert = output_area.element.find(\".\" + CLASS_NAME.split(' ')[0]);\n  if (id !== undefined) {\n    var nchildren = toinsert.length;\n    var html_node = toinsert[nchildren-1].children[0];\n    html_node.innerHTML = output.data[HTML_MIME_TYPE];\n    var scripts = [];\n    var nodelist = html_node.querySelectorAll(\"script\");\n    for (var i in nodelist) {\n      if (nodelist.hasOwnProperty(i)) {\n        scripts.push(nodelist[i])\n      }\n    }\n\n    scripts.forEach( function (oldScript) {\n      var newScript = document.createElement(\"script\");\n      var attrs = [];\n      var nodemap = oldScript.attributes;\n      for (var j in nodemap) {\n        if (nodemap.hasOwnProperty(j)) {\n          attrs.push(nodemap[j])\n        }\n      }\n      attrs.forEach(function(attr) { newScript.setAttribute(attr.name, attr.value) });\n      newScript.appendChild(document.createTextNode(oldScript.innerHTML));\n      oldScript.parentNode.replaceChild(newScript, oldScript);\n    });\n    if (JS_MIME_TYPE in output.data) {\n      toinsert[nchildren-1].children[1].textContent = output.data[JS_MIME_TYPE];\n    }\n    output_area._hv_plot_id = id;\n    if ((window.Bokeh !== undefined) && (id in Bokeh.index)) {\n      window.PyViz.plot_index[id] = Bokeh.index[id];\n    } else {\n      window.PyViz.plot_index[id] = null;\n    }\n  } else if (output.metadata[EXEC_MIME_TYPE][\"server_id\"] !== undefined) {\n    var bk_div = document.createElement(\"div\");\n    bk_div.innerHTML = output.data[HTML_MIME_TYPE];\n    var script_attrs = bk_div.children[0].attributes;\n    for (var i = 0; i < script_attrs.length; i++) {\n      toinsert[toinsert.length - 1].childNodes[1].setAttribute(script_attrs[i].name, script_attrs[i].value);\n    }\n    // store reference to server id on output_area\n    output_area._bokeh_server_id = output.metadata[EXEC_MIME_TYPE][\"server_id\"];\n  }\n}\n\n/**\n * Handle when an output is cleared or removed\n */\nfunction handle_clear_output(event, handle) {\n  var id = handle.cell.output_area._hv_plot_id;\n  var server_id = handle.cell.output_area._bokeh_server_id;\n  if (((id === undefined) || !(id in PyViz.plot_index)) && (server_id !== undefined)) { return; }\n  var comm = window.PyViz.comm_manager.get_client_comm(\"hv-extension-comm\", \"hv-extension-comm\", function () {});\n  if (server_id !== null) {\n    comm.send({event_type: 'server_delete', 'id': server_id});\n    return;\n  } else if (comm !== null) {\n    comm.send({event_type: 'delete', 'id': id});\n  }\n  delete PyViz.plot_index[id];\n  if ((window.Bokeh !== undefined) & (id in window.Bokeh.index)) {\n    var doc = window.Bokeh.index[id].model.document\n    doc.clear();\n    const i = window.Bokeh.documents.indexOf(doc);\n    if (i > -1) {\n      window.Bokeh.documents.splice(i, 1);\n    }\n  }\n}\n\n/**\n * Handle kernel restart event\n */\nfunction handle_kernel_cleanup(event, handle) {\n  delete PyViz.comms[\"hv-extension-comm\"];\n  window.PyViz.plot_index = {}\n}\n\n/**\n * Handle update_display_data messages\n */\nfunction handle_update_output(event, handle) {\n  handle_clear_output(event, {cell: {output_area: handle.output_area}})\n  handle_add_output(event, handle)\n}\n\nfunction register_renderer(events, OutputArea) {\n  function append_mime(data, metadata, element) {\n    // create a DOM node to render to\n    var toinsert = this.create_output_subarea(\n    metadata,\n    CLASS_NAME,\n    EXEC_MIME_TYPE\n    );\n    this.keyboard_manager.register_events(toinsert);\n    // Render to node\n    var props = {data: data, metadata: metadata[EXEC_MIME_TYPE]};\n    render(props, toinsert[0]);\n    element.append(toinsert);\n    return toinsert\n  }\n\n  events.on('output_added.OutputArea', handle_add_output);\n  events.on('output_updated.OutputArea', handle_update_output);\n  events.on('clear_output.CodeCell', handle_clear_output);\n  events.on('delete.Cell', handle_clear_output);\n  events.on('kernel_ready.Kernel', handle_kernel_cleanup);\n\n  OutputArea.prototype.register_mime_type(EXEC_MIME_TYPE, append_mime, {\n    safe: true,\n    index: 0\n  });\n}\n\nif (window.Jupyter !== undefined) {\n  try {\n    var events = require('base/js/events');\n    var OutputArea = require('notebook/js/outputarea').OutputArea;\n    if (OutputArea.prototype.mime_types().indexOf(EXEC_MIME_TYPE) == -1) {\n      register_renderer(events, OutputArea);\n    }\n  } catch(err) {\n  }\n}\n",
      "application/vnd.holoviews_load.v0+json": ""
     },
     "metadata": {},
     "output_type": "display_data"
    },
    {
     "name": "stdout",
     "output_type": "stream",
     "text": [
      "Loaded data for fiona\n",
      "Total trials: 110,358\n",
      "Date range: fi210628 to fi211125\n",
      "✓ Reaction time data available, will add derived columns as needed\n"
     ]
    }
   ],
   "source": [
    "# Initialize the BehavioralEDA class\n",
    "eda = BehavioralEDA(str(filepath))"
   ]
  },
  {
   "cell_type": "markdown",
   "id": "682e5a83",
   "metadata": {},
   "source": [
    "## Comprehensive Data Summary\n",
    "\n",
    "First, let's get a comprehensive overview of the behavioral data:"
   ]
  },
  {
   "cell_type": "code",
   "execution_count": 4,
   "id": "92f0ca13",
   "metadata": {},
   "outputs": [
    {
     "name": "stdout",
     "output_type": "stream",
     "text": [
      "=== BEHAVIORAL DATA OVERVIEW ===\n",
      "\n",
      "Trial Types:\n",
      "  GO: 61,460\n",
      "  CONT: 25,294\n",
      "  STOP: 23,604\n",
      "\n",
      "Directions:\n",
      "  R: 55,453\n",
      "  L: 54,905\n",
      "\n",
      "Overall Success Rate: 84.6%\n",
      "\n",
      "Success rates by trial type:\n",
      "   type  success_rate  total_trials\n",
      "0  CONT          84.5         25294\n",
      "1    GO          95.3         61460\n",
      "2  STOP          56.9         23604\n",
      "Processing reaction times and adding to original DataFrame...\n",
      "✓ Using existing reaction_time column\n",
      "✓ Reaction time processing completed and added to original DataFrame\n",
      "\n",
      "=== RT STATISTICS BY TYPE ===\n",
      "               count   mean    std  min    max\n",
      "rt_type                                       \n",
      "Continue_RT    22902  250.3  109.0  1.0  703.0\n",
      "Error_Stop_RT  10171  178.7   82.4  1.0  898.0\n",
      "GO_RT          58576  208.3   74.2  1.0  518.0\n",
      "Other          11444  445.1  207.0  1.0  912.0\n"
     ]
    }
   ],
   "source": [
    "# Print comprehensive summary statistics\n",
    "eda.print_summary_stats()"
   ]
  },
  {
   "cell_type": "markdown",
   "id": "81faff37",
   "metadata": {},
   "source": [
    "## Data Processing Examples\n",
    "\n",
    "Let's explore some of the data processing methods:"
   ]
  },
  {
   "cell_type": "code",
   "execution_count": 5,
   "id": "5bc6d73e",
   "metadata": {},
   "outputs": [
    {
     "name": "stdout",
     "output_type": "stream",
     "text": [
      "Basic Summary:\n",
      "  total_trials: 110358\n",
      "  trial_types: {'GO': 61460, 'CONT': 25294, 'STOP': 23604}\n",
      "  directions: {'R': 55453, 'L': 54905}\n",
      "  overall_success_rate: 84.59830732706284\n",
      "  experimental_sets: {'CSST': 110358}\n"
     ]
    }
   ],
   "source": [
    "# Get basic summary as a dictionary\n",
    "basic_summary = eda.get_basic_summary()\n",
    "print(\"Basic Summary:\")\n",
    "for key, value in basic_summary.items():\n",
    "    print(f\"  {key}: {value}\")"
   ]
  },
  {
   "cell_type": "code",
   "execution_count": 6,
   "id": "dbe72ac1",
   "metadata": {},
   "outputs": [
    {
     "name": "stdout",
     "output_type": "stream",
     "text": [
      "Success Rates by Trial Type:\n"
     ]
    },
    {
     "data": {
      "application/vnd.microsoft.datawrangler.viewer.v0+json": {
       "columns": [
        {
         "name": "index",
         "rawType": "int64",
         "type": "integer"
        },
        {
         "name": "type",
         "rawType": "object",
         "type": "string"
        },
        {
         "name": "total_trials",
         "rawType": "int64",
         "type": "integer"
        },
        {
         "name": "failed_trials",
         "rawType": "int64",
         "type": "integer"
        },
        {
         "name": "failure_rate",
         "rawType": "float64",
         "type": "float"
        },
        {
         "name": "success_rate",
         "rawType": "float64",
         "type": "float"
        }
       ],
       "ref": "c9f02c56-807b-4c9f-aa74-01a75a6dc65d",
       "rows": [
        [
         "0",
         "CONT",
         "25294",
         "3933",
         "15.5",
         "84.5"
        ],
        [
         "1",
         "GO",
         "61460",
         "2884",
         "4.7",
         "95.3"
        ],
        [
         "2",
         "STOP",
         "23604",
         "10180",
         "43.1",
         "56.89999999999999"
        ]
       ],
       "shape": {
        "columns": 5,
        "rows": 3
       }
      },
      "text/html": [
       "<div>\n",
       "<style scoped>\n",
       "    .dataframe tbody tr th:only-of-type {\n",
       "        vertical-align: middle;\n",
       "    }\n",
       "\n",
       "    .dataframe tbody tr th {\n",
       "        vertical-align: top;\n",
       "    }\n",
       "\n",
       "    .dataframe thead th {\n",
       "        text-align: right;\n",
       "    }\n",
       "</style>\n",
       "<table border=\"1\" class=\"dataframe\">\n",
       "  <thead>\n",
       "    <tr style=\"text-align: right;\">\n",
       "      <th></th>\n",
       "      <th>type</th>\n",
       "      <th>total_trials</th>\n",
       "      <th>failed_trials</th>\n",
       "      <th>failure_rate</th>\n",
       "      <th>success_rate</th>\n",
       "    </tr>\n",
       "  </thead>\n",
       "  <tbody>\n",
       "    <tr>\n",
       "      <th>0</th>\n",
       "      <td>CONT</td>\n",
       "      <td>25294</td>\n",
       "      <td>3933</td>\n",
       "      <td>15.5</td>\n",
       "      <td>84.5</td>\n",
       "    </tr>\n",
       "    <tr>\n",
       "      <th>1</th>\n",
       "      <td>GO</td>\n",
       "      <td>61460</td>\n",
       "      <td>2884</td>\n",
       "      <td>4.7</td>\n",
       "      <td>95.3</td>\n",
       "    </tr>\n",
       "    <tr>\n",
       "      <th>2</th>\n",
       "      <td>STOP</td>\n",
       "      <td>23604</td>\n",
       "      <td>10180</td>\n",
       "      <td>43.1</td>\n",
       "      <td>56.9</td>\n",
       "    </tr>\n",
       "  </tbody>\n",
       "</table>\n",
       "</div>"
      ],
      "text/plain": [
       "   type  total_trials  failed_trials  failure_rate  success_rate\n",
       "0  CONT         25294           3933          15.5          84.5\n",
       "1    GO         61460           2884           4.7          95.3\n",
       "2  STOP         23604          10180          43.1          56.9"
      ]
     },
     "metadata": {},
     "output_type": "display_data"
    }
   ],
   "source": [
    "# Get success rates by trial type\n",
    "success_rates = eda.get_success_rates_data()\n",
    "print(\"Success Rates by Trial Type:\")\n",
    "display(success_rates)"
   ]
  },
  {
   "cell_type": "code",
   "execution_count": 7,
   "id": "4be82924",
   "metadata": {},
   "outputs": [
    {
     "name": "stdout",
     "output_type": "stream",
     "text": [
      "Stop Performance by SSD:\n"
     ]
    },
    {
     "data": {
      "application/vnd.microsoft.datawrangler.viewer.v0+json": {
       "columns": [
        {
         "name": "index",
         "rawType": "int64",
         "type": "integer"
        },
        {
         "name": "ssd_number",
         "rawType": "float64",
         "type": "float"
        },
        {
         "name": "total_trials",
         "rawType": "int64",
         "type": "integer"
        },
        {
         "name": "failed_trials",
         "rawType": "int64",
         "type": "integer"
        },
        {
         "name": "error_rate",
         "rawType": "float64",
         "type": "float"
        },
        {
         "name": "error_percentage",
         "rawType": "float64",
         "type": "float"
        },
        {
         "name": "ssd_len",
         "rawType": "int64",
         "type": "integer"
        }
       ],
       "ref": "4fa4996c-536e-4174-b032-955a7a796521",
       "rows": [
        [
         "0",
         "1.0",
         "5882",
         "606",
         "0.103",
         "10.299999999999999",
         "48"
        ],
        [
         "1",
         "2.0",
         "5890",
         "1566",
         "0.266",
         "26.6",
         "108"
        ],
        [
         "2",
         "3.0",
         "5927",
         "3119",
         "0.526",
         "52.6",
         "168"
        ],
        [
         "3",
         "4.0",
         "5905",
         "4889",
         "0.828",
         "82.8",
         "228"
        ]
       ],
       "shape": {
        "columns": 6,
        "rows": 4
       }
      },
      "text/html": [
       "<div>\n",
       "<style scoped>\n",
       "    .dataframe tbody tr th:only-of-type {\n",
       "        vertical-align: middle;\n",
       "    }\n",
       "\n",
       "    .dataframe tbody tr th {\n",
       "        vertical-align: top;\n",
       "    }\n",
       "\n",
       "    .dataframe thead th {\n",
       "        text-align: right;\n",
       "    }\n",
       "</style>\n",
       "<table border=\"1\" class=\"dataframe\">\n",
       "  <thead>\n",
       "    <tr style=\"text-align: right;\">\n",
       "      <th></th>\n",
       "      <th>ssd_number</th>\n",
       "      <th>total_trials</th>\n",
       "      <th>failed_trials</th>\n",
       "      <th>error_rate</th>\n",
       "      <th>error_percentage</th>\n",
       "      <th>ssd_len</th>\n",
       "    </tr>\n",
       "  </thead>\n",
       "  <tbody>\n",
       "    <tr>\n",
       "      <th>0</th>\n",
       "      <td>1.0</td>\n",
       "      <td>5882</td>\n",
       "      <td>606</td>\n",
       "      <td>0.103</td>\n",
       "      <td>10.3</td>\n",
       "      <td>48</td>\n",
       "    </tr>\n",
       "    <tr>\n",
       "      <th>1</th>\n",
       "      <td>2.0</td>\n",
       "      <td>5890</td>\n",
       "      <td>1566</td>\n",
       "      <td>0.266</td>\n",
       "      <td>26.6</td>\n",
       "      <td>108</td>\n",
       "    </tr>\n",
       "    <tr>\n",
       "      <th>2</th>\n",
       "      <td>3.0</td>\n",
       "      <td>5927</td>\n",
       "      <td>3119</td>\n",
       "      <td>0.526</td>\n",
       "      <td>52.6</td>\n",
       "      <td>168</td>\n",
       "    </tr>\n",
       "    <tr>\n",
       "      <th>3</th>\n",
       "      <td>4.0</td>\n",
       "      <td>5905</td>\n",
       "      <td>4889</td>\n",
       "      <td>0.828</td>\n",
       "      <td>82.8</td>\n",
       "      <td>228</td>\n",
       "    </tr>\n",
       "  </tbody>\n",
       "</table>\n",
       "</div>"
      ],
      "text/plain": [
       "   ssd_number  total_trials  failed_trials  error_rate  error_percentage  \\\n",
       "0         1.0          5882            606       0.103              10.3   \n",
       "1         2.0          5890           1566       0.266              26.6   \n",
       "2         3.0          5927           3119       0.526              52.6   \n",
       "3         4.0          5905           4889       0.828              82.8   \n",
       "\n",
       "   ssd_len  \n",
       "0       48  \n",
       "1      108  \n",
       "2      168  \n",
       "3      228  "
      ]
     },
     "metadata": {},
     "output_type": "display_data"
    },
    {
     "name": "stdout",
     "output_type": "stream",
     "text": [
      "\n",
      "Continue Performance by SSD:\n"
     ]
    },
    {
     "data": {
      "application/vnd.microsoft.datawrangler.viewer.v0+json": {
       "columns": [
        {
         "name": "index",
         "rawType": "int64",
         "type": "integer"
        },
        {
         "name": "ssd_number",
         "rawType": "float64",
         "type": "float"
        },
        {
         "name": "total_trials",
         "rawType": "int64",
         "type": "integer"
        },
        {
         "name": "failed_trials",
         "rawType": "int64",
         "type": "integer"
        },
        {
         "name": "failure_rate",
         "rawType": "float64",
         "type": "float"
        },
        {
         "name": "correct_percentage",
         "rawType": "float64",
         "type": "float"
        },
        {
         "name": "ssd_len",
         "rawType": "int64",
         "type": "integer"
        }
       ],
       "ref": "7e488ab8-8acf-45fc-9769-ae35f281684c",
       "rows": [
        [
         "0",
         "1.0",
         "6328",
         "949",
         "0.15",
         "85.0",
         "48"
        ],
        [
         "1",
         "2.0",
         "6189",
         "688",
         "0.111",
         "88.9",
         "108"
        ],
        [
         "2",
         "3.0",
         "6464",
         "1289",
         "0.199",
         "80.1",
         "168"
        ],
        [
         "3",
         "4.0",
         "6313",
         "1007",
         "0.16",
         "84.0",
         "228"
        ]
       ],
       "shape": {
        "columns": 6,
        "rows": 4
       }
      },
      "text/html": [
       "<div>\n",
       "<style scoped>\n",
       "    .dataframe tbody tr th:only-of-type {\n",
       "        vertical-align: middle;\n",
       "    }\n",
       "\n",
       "    .dataframe tbody tr th {\n",
       "        vertical-align: top;\n",
       "    }\n",
       "\n",
       "    .dataframe thead th {\n",
       "        text-align: right;\n",
       "    }\n",
       "</style>\n",
       "<table border=\"1\" class=\"dataframe\">\n",
       "  <thead>\n",
       "    <tr style=\"text-align: right;\">\n",
       "      <th></th>\n",
       "      <th>ssd_number</th>\n",
       "      <th>total_trials</th>\n",
       "      <th>failed_trials</th>\n",
       "      <th>failure_rate</th>\n",
       "      <th>correct_percentage</th>\n",
       "      <th>ssd_len</th>\n",
       "    </tr>\n",
       "  </thead>\n",
       "  <tbody>\n",
       "    <tr>\n",
       "      <th>0</th>\n",
       "      <td>1.0</td>\n",
       "      <td>6328</td>\n",
       "      <td>949</td>\n",
       "      <td>0.150</td>\n",
       "      <td>85.0</td>\n",
       "      <td>48</td>\n",
       "    </tr>\n",
       "    <tr>\n",
       "      <th>1</th>\n",
       "      <td>2.0</td>\n",
       "      <td>6189</td>\n",
       "      <td>688</td>\n",
       "      <td>0.111</td>\n",
       "      <td>88.9</td>\n",
       "      <td>108</td>\n",
       "    </tr>\n",
       "    <tr>\n",
       "      <th>2</th>\n",
       "      <td>3.0</td>\n",
       "      <td>6464</td>\n",
       "      <td>1289</td>\n",
       "      <td>0.199</td>\n",
       "      <td>80.1</td>\n",
       "      <td>168</td>\n",
       "    </tr>\n",
       "    <tr>\n",
       "      <th>3</th>\n",
       "      <td>4.0</td>\n",
       "      <td>6313</td>\n",
       "      <td>1007</td>\n",
       "      <td>0.160</td>\n",
       "      <td>84.0</td>\n",
       "      <td>228</td>\n",
       "    </tr>\n",
       "  </tbody>\n",
       "</table>\n",
       "</div>"
      ],
      "text/plain": [
       "   ssd_number  total_trials  failed_trials  failure_rate  correct_percentage  \\\n",
       "0         1.0          6328            949         0.150                85.0   \n",
       "1         2.0          6189            688         0.111                88.9   \n",
       "2         3.0          6464           1289         0.199                80.1   \n",
       "3         4.0          6313           1007         0.160                84.0   \n",
       "\n",
       "   ssd_len  \n",
       "0       48  \n",
       "1      108  \n",
       "2      168  \n",
       "3      228  "
      ]
     },
     "metadata": {},
     "output_type": "display_data"
    }
   ],
   "source": [
    "# Get signal delay performance data\n",
    "stop_performance, cont_performance = eda.get_signal_delay_performance_data()\n",
    "print(\"Stop Performance by SSD:\")\n",
    "display(stop_performance)\n",
    "print(\"\\nContinue Performance by SSD:\")\n",
    "display(cont_performance)"
   ]
  },
  {
   "cell_type": "markdown",
   "id": "870f1fe8",
   "metadata": {},
   "source": [
    "## Visualization Gallery\n",
    "\n",
    "Now let's create all the same plots as the original notebook using the class methods:"
   ]
  },
  {
   "cell_type": "markdown",
   "id": "0f96c1ad",
   "metadata": {},
   "source": [
    "### 1. Trial Distribution by Type and Outcome"
   ]
  },
  {
   "cell_type": "code",
   "execution_count": 8,
   "id": "c4b0c29a",
   "metadata": {},
   "outputs": [
    {
     "data": {},
     "metadata": {},
     "output_type": "display_data"
    },
    {
     "data": {
      "application/vnd.holoviews_exec.v0+json": "",
      "text/html": [
       "<div id='121f4378-2722-49d2-9386-b4f7e14fbf97'>\n",
       "  <div id=\"af37d664-1493-44c6-88b5-e2b498218b50\" data-root-id=\"121f4378-2722-49d2-9386-b4f7e14fbf97\" style=\"display: contents;\"></div>\n",
       "</div>\n",
       "<script type=\"application/javascript\">(function(root) {\n",
       "  var docs_json = {\"31b6531c-e7d3-46ed-838e-93c7559fa3a7\":{\"version\":\"3.8.0\",\"title\":\"Bokeh Application\",\"config\":{\"type\":\"object\",\"name\":\"DocumentConfig\",\"id\":\"1a36df1c-eed5-4856-b94e-46fe141a1067\",\"attributes\":{\"notifications\":{\"type\":\"object\",\"name\":\"Notifications\",\"id\":\"c1d6e27d-3e73-488d-ab46-f51ba93bec4b\"}}},\"roots\":[{\"type\":\"object\",\"name\":\"Row\",\"id\":\"121f4378-2722-49d2-9386-b4f7e14fbf97\",\"attributes\":{\"name\":\"Row00289\",\"tags\":[\"embedded\"],\"stylesheets\":[\"\\n:host(.pn-loading):before, .pn-loading:before {\\n  background-color: #c3c3c3;\\n  mask-size: auto calc(min(50%, 300px));\\n  -webkit-mask-size: auto calc(min(50%, 300px));\\n}\",{\"type\":\"object\",\"name\":\"ImportedStyleSheet\",\"id\":\"2ce6382c-4ef2-457b-aa79-712a596f2f1b\",\"attributes\":{\"url\":\"https://cdn.holoviz.org/panel/1.8.0/dist/css/loading.css\"}},{\"type\":\"object\",\"name\":\"ImportedStyleSheet\",\"id\":\"1350eccd-7257-4ebf-af7e-e191bf86f496\",\"attributes\":{\"url\":\"https://cdn.holoviz.org/panel/1.8.0/dist/css/listpanel.css\"}},{\"type\":\"object\",\"name\":\"ImportedStyleSheet\",\"id\":\"ae09bab5-6a3b-4197-9696-4f0137e6abe6\",\"attributes\":{\"url\":\"https://cdn.holoviz.org/panel/1.8.0/dist/bundled/theme/default.css\"}},{\"type\":\"object\",\"name\":\"ImportedStyleSheet\",\"id\":\"d87d4305-fee5-4d8e-a39f-1a19040b25ab\",\"attributes\":{\"url\":\"https://cdn.holoviz.org/panel/1.8.0/dist/bundled/theme/native.css\"}}],\"min_width\":600,\"margin\":0,\"sizing_mode\":\"stretch_width\",\"align\":\"start\",\"children\":[{\"type\":\"object\",\"name\":\"Spacer\",\"id\":\"2a97ff18-38d5-4890-93ac-4ffc5416bb95\",\"attributes\":{\"name\":\"HSpacer00293\",\"stylesheets\":[\"\\n:host(.pn-loading):before, .pn-loading:before {\\n  background-color: #c3c3c3;\\n  mask-size: auto calc(min(50%, 300px));\\n  -webkit-mask-size: auto calc(min(50%, 300px));\\n}\",{\"id\":\"2ce6382c-4ef2-457b-aa79-712a596f2f1b\"},{\"id\":\"ae09bab5-6a3b-4197-9696-4f0137e6abe6\"},{\"id\":\"d87d4305-fee5-4d8e-a39f-1a19040b25ab\"}],\"min_width\":0,\"margin\":0,\"sizing_mode\":\"stretch_width\",\"align\":\"start\"}},{\"type\":\"object\",\"name\":\"Figure\",\"id\":\"ad36bfc3-c19d-456f-8b6a-7bb4295f4be6\",\"attributes\":{\"height\":400,\"margin\":[5,10],\"sizing_mode\":\"fixed\",\"align\":\"start\",\"x_range\":{\"type\":\"object\",\"name\":\"FactorRange\",\"id\":\"441680b9-c4a3-4d95-a131-3d72bf139b37\",\"attributes\":{\"name\":\"type\",\"tags\":[[[\"type\",null]],[]],\"factors\":[\"CONT\",\"GO\",\"STOP\"]}},\"y_range\":{\"type\":\"object\",\"name\":\"Range1d\",\"id\":\"0591dd68-f775-42f0-9699-bf733fae1917\",\"attributes\":{\"name\":\"count\",\"tags\":[[[\"count\",null]],{\"type\":\"map\",\"entries\":[[\"invert_yaxis\",false],[\"autorange\",false]]}],\"end\":65245.6,\"reset_start\":0.0,\"reset_end\":65245.6}},\"x_scale\":{\"type\":\"object\",\"name\":\"CategoricalScale\",\"id\":\"3aea2dbd-ed84-4120-8e20-73c1ad468043\"},\"y_scale\":{\"type\":\"object\",\"name\":\"LinearScale\",\"id\":\"17998b9d-01c3-4c89-a8d7-a2480bf377d1\"},\"title\":{\"type\":\"object\",\"name\":\"Title\",\"id\":\"705e3b8c-769e-408f-a1df-3b4a17d0a75c\",\"attributes\":{\"text\":\"Fiona - Trial Distribution by Type and Outcome\",\"text_color\":\"black\",\"text_font_size\":\"16pt\"}},\"renderers\":[{\"type\":\"object\",\"name\":\"GlyphRenderer\",\"id\":\"8f5ff4d8-44bf-4605-844e-3428a3f64dcc\",\"attributes\":{\"data_source\":{\"type\":\"object\",\"name\":\"ColumnDataSource\",\"id\":\"5971bda3-442b-49b5-9942-4628c91653f7\",\"attributes\":{\"selected\":{\"type\":\"object\",\"name\":\"Selection\",\"id\":\"749459f7-2148-4a0e-892c-3afe0b0fe52f\",\"attributes\":{\"indices\":[],\"line_indices\":[]}},\"selection_policy\":{\"type\":\"object\",\"name\":\"UnionRenderers\",\"id\":\"0cf4003f-8e6f-4ddc-bb00-d432f10dd958\"},\"data\":{\"type\":\"map\",\"entries\":[[\"bottom\",{\"type\":\"ndarray\",\"array\":{\"type\":\"bytes\",\"data\":\"H4sIAAEAAAAC/2NgwA0c7lxxADNmvYHQFqccAMn5DCowAAAA\"},\"shape\":[6],\"dtype\":\"float64\",\"order\":\"little\"}],[\"top\",{\"type\":\"ndarray\",\"array\":{\"type\":\"bytes\",\"data\":\"H4sIAAEAAAAC/2NgYGBwuHPFgQEEZr2B0BanwHTD5hsQmukdRJz3ugMAMT+UKzAAAAA=\"},\"shape\":[6],\"dtype\":\"float64\",\"order\":\"little\"}],[\"type\",[\"CONT\",\"GO\",\"STOP\",\"CONT\",\"GO\",\"STOP\"]],[\"outcome\",[\"Success\",\"Success\",\"Success\",\"Failed\",\"Failed\",\"Failed\"]],[\"count\",{\"type\":\"ndarray\",\"array\":{\"type\":\"bytes\",\"data\":\"H4sIAAEAAAAC/ysMZmC48ISBocCEgSGWn4HBhZuB4Yg6AwMAcx+OkhgAAAA=\"},\"shape\":[6],\"dtype\":\"int32\",\"order\":\"little\"}]]}}},\"view\":{\"type\":\"object\",\"name\":\"CDSView\",\"id\":\"0813b52f-af1c-4857-b9f0-7137204c8640\",\"attributes\":{\"filter\":{\"type\":\"object\",\"name\":\"AllIndices\",\"id\":\"6a20b912-24c3-4dea-9edd-f56a8b296561\"}}},\"glyph\":{\"type\":\"object\",\"name\":\"VBar\",\"id\":\"af3d6036-4863-4f17-942d-a41613cfabe8\",\"attributes\":{\"tags\":[\"apply_ranges\"],\"x\":{\"type\":\"field\",\"field\":\"type\"},\"width\":{\"type\":\"value\",\"value\":0.8},\"bottom\":{\"type\":\"field\",\"field\":\"bottom\"},\"top\":{\"type\":\"field\",\"field\":\"top\"},\"fill_color\":{\"type\":\"field\",\"field\":\"outcome\",\"transform\":{\"type\":\"object\",\"name\":\"CategoricalColorMapper\",\"id\":\"0a93fe8b-a3af-460a-be89-11e409636596\",\"attributes\":{\"palette\":[\"#2E8B57\",\"#CD5C5C\"],\"factors\":[\"Success\",\"Failed\"]}}},\"hatch_color\":{\"type\":\"field\",\"field\":\"outcome\",\"transform\":{\"id\":\"0a93fe8b-a3af-460a-be89-11e409636596\"}}}},\"selection_glyph\":{\"type\":\"object\",\"name\":\"VBar\",\"id\":\"5a88b427-f894-403c-a71d-69848f3a4bee\",\"attributes\":{\"tags\":[\"apply_ranges\"],\"x\":{\"type\":\"field\",\"field\":\"type\"},\"width\":{\"type\":\"value\",\"value\":0.8},\"bottom\":{\"type\":\"field\",\"field\":\"bottom\"},\"top\":{\"type\":\"field\",\"field\":\"top\"},\"line_color\":{\"type\":\"value\",\"value\":\"black\"},\"line_alpha\":{\"type\":\"value\",\"value\":1.0},\"line_width\":{\"type\":\"value\",\"value\":1},\"line_join\":{\"type\":\"value\",\"value\":\"bevel\"},\"line_cap\":{\"type\":\"value\",\"value\":\"butt\"},\"line_dash\":{\"type\":\"value\",\"value\":[]},\"line_dash_offset\":{\"type\":\"value\",\"value\":0},\"fill_color\":{\"type\":\"field\",\"field\":\"outcome\",\"transform\":{\"id\":\"0a93fe8b-a3af-460a-be89-11e409636596\"}},\"fill_alpha\":{\"type\":\"value\",\"value\":1.0},\"hatch_color\":{\"type\":\"field\",\"field\":\"outcome\",\"transform\":{\"id\":\"0a93fe8b-a3af-460a-be89-11e409636596\"}},\"hatch_alpha\":{\"type\":\"value\",\"value\":1.0},\"hatch_scale\":{\"type\":\"value\",\"value\":12.0},\"hatch_pattern\":{\"type\":\"value\",\"value\":null},\"hatch_weight\":{\"type\":\"value\",\"value\":1.0}}},\"nonselection_glyph\":{\"type\":\"object\",\"name\":\"VBar\",\"id\":\"0da44fd7-f953-4ae6-bd27-a23f17b40ee3\",\"attributes\":{\"tags\":[\"apply_ranges\"],\"x\":{\"type\":\"field\",\"field\":\"type\"},\"width\":{\"type\":\"value\",\"value\":0.8},\"bottom\":{\"type\":\"field\",\"field\":\"bottom\"},\"top\":{\"type\":\"field\",\"field\":\"top\"},\"line_alpha\":{\"type\":\"value\",\"value\":0.1},\"fill_color\":{\"type\":\"field\",\"field\":\"outcome\",\"transform\":{\"id\":\"0a93fe8b-a3af-460a-be89-11e409636596\"}},\"fill_alpha\":{\"type\":\"value\",\"value\":0.1},\"hatch_color\":{\"type\":\"field\",\"field\":\"outcome\",\"transform\":{\"id\":\"0a93fe8b-a3af-460a-be89-11e409636596\"}},\"hatch_alpha\":{\"type\":\"value\",\"value\":0.1}}},\"muted_glyph\":{\"type\":\"object\",\"name\":\"VBar\",\"id\":\"886d3f1b-6a5e-459c-89d6-fb4355fef0ab\",\"attributes\":{\"tags\":[\"apply_ranges\"],\"x\":{\"type\":\"field\",\"field\":\"type\"},\"width\":{\"type\":\"value\",\"value\":0.8},\"bottom\":{\"type\":\"field\",\"field\":\"bottom\"},\"top\":{\"type\":\"field\",\"field\":\"top\"},\"line_alpha\":{\"type\":\"value\",\"value\":0.2},\"fill_color\":{\"type\":\"field\",\"field\":\"outcome\",\"transform\":{\"id\":\"0a93fe8b-a3af-460a-be89-11e409636596\"}},\"fill_alpha\":{\"type\":\"value\",\"value\":0.2},\"hatch_color\":{\"type\":\"field\",\"field\":\"outcome\",\"transform\":{\"id\":\"0a93fe8b-a3af-460a-be89-11e409636596\"}},\"hatch_alpha\":{\"type\":\"value\",\"value\":0.2}}}}}],\"toolbar\":{\"type\":\"object\",\"name\":\"Toolbar\",\"id\":\"41c7c012-ecfa-497c-984c-3bdfb6803c0d\",\"attributes\":{\"tools\":[{\"type\":\"object\",\"name\":\"WheelZoomTool\",\"id\":\"ec642b6d-69e3-433a-93b9-71b3f893bc8a\",\"attributes\":{\"tags\":[\"hv_created\"],\"renderers\":\"auto\",\"zoom_together\":\"none\"}},{\"type\":\"object\",\"name\":\"HoverTool\",\"id\":\"5b5dafa5-1ff5-4d1c-afe0-c4eb46704368\",\"attributes\":{\"tags\":[\"hv_created\"],\"renderers\":[{\"id\":\"8f5ff4d8-44bf-4605-844e-3428a3f64dcc\"}],\"tooltips\":[[\"type\",\"@{type}\"],[\"outcome\",\"@{outcome}\"],[\"count\",\"@{count}\"]],\"sort_by\":null}},{\"type\":\"object\",\"name\":\"SaveTool\",\"id\":\"a202654b-2abc-4abb-89d1-217c51f3ff0b\"},{\"type\":\"object\",\"name\":\"PanTool\",\"id\":\"a2238144-cbd6-4267-b19e-3bbc82f3d799\"},{\"type\":\"object\",\"name\":\"BoxZoomTool\",\"id\":\"23866393-70c1-4b2c-a4eb-22c4e7a46dea\",\"attributes\":{\"dimensions\":\"both\",\"overlay\":{\"type\":\"object\",\"name\":\"BoxAnnotation\",\"id\":\"4ea2b7e8-7e39-4115-9436-23e37bf6597c\",\"attributes\":{\"syncable\":false,\"line_color\":\"black\",\"line_alpha\":1.0,\"line_width\":2,\"line_dash\":[4,4],\"fill_color\":\"lightgrey\",\"fill_alpha\":0.5,\"level\":\"overlay\",\"visible\":false,\"left\":{\"type\":\"number\",\"value\":\"nan\"},\"right\":{\"type\":\"number\",\"value\":\"nan\"},\"top\":{\"type\":\"number\",\"value\":\"nan\"},\"bottom\":{\"type\":\"number\",\"value\":\"nan\"},\"left_units\":\"canvas\",\"right_units\":\"canvas\",\"top_units\":\"canvas\",\"bottom_units\":\"canvas\",\"handles\":{\"type\":\"object\",\"name\":\"BoxInteractionHandles\",\"id\":\"6d175893-2cb1-4de4-b62e-4aa2965a53b3\",\"attributes\":{\"all\":{\"type\":\"object\",\"name\":\"AreaVisuals\",\"id\":\"2fe31fc9-3e47-4ecb-b92e-ae998dc9c025\",\"attributes\":{\"fill_color\":\"white\",\"hover_fill_color\":\"lightgray\"}}}}}}}},{\"type\":\"object\",\"name\":\"ResetTool\",\"id\":\"75db2565-dd24-4c46-9932-5509267055c2\"}],\"active_drag\":{\"id\":\"a2238144-cbd6-4267-b19e-3bbc82f3d799\"},\"active_scroll\":{\"id\":\"ec642b6d-69e3-433a-93b9-71b3f893bc8a\"}}},\"left\":[{\"type\":\"object\",\"name\":\"LinearAxis\",\"id\":\"86520546-8d5a-4a63-995c-563f9237ce3a\",\"attributes\":{\"ticker\":{\"type\":\"object\",\"name\":\"BasicTicker\",\"id\":\"53ceef1c-10b0-4ff4-96c7-e497e8cfb0c1\",\"attributes\":{\"mantissas\":[1,2,5]}},\"formatter\":{\"type\":\"object\",\"name\":\"BasicTickFormatter\",\"id\":\"b086178e-8b51-4508-86b8-1bd2863bb9a4\"},\"axis_label\":\"Number of Trials\",\"axis_label_text_font_size\":\"14pt\",\"major_label_policy\":{\"type\":\"object\",\"name\":\"AllLabels\",\"id\":\"5ded642c-1704-4e91-8459-c845c0a5e8f9\"},\"major_label_text_font_size\":\"12pt\"}}],\"below\":[{\"type\":\"object\",\"name\":\"CategoricalAxis\",\"id\":\"1d1dd237-3fef-4097-b732-2e89d27b9da8\",\"attributes\":{\"ticker\":{\"type\":\"object\",\"name\":\"CategoricalTicker\",\"id\":\"aa9244df-faf1-4b35-999a-87336ba5e70a\"},\"formatter\":{\"type\":\"object\",\"name\":\"CategoricalTickFormatter\",\"id\":\"20a858f4-60d1-4498-8e7e-29922e974428\"},\"axis_label\":\"Trial Type\",\"axis_label_text_font_size\":\"14pt\",\"major_label_policy\":{\"type\":\"object\",\"name\":\"AllLabels\",\"id\":\"5fc7b10e-edf7-47c9-8fbb-bab207c67dc0\"},\"major_label_text_font_size\":\"12pt\",\"group_text_font_size\":\"12pt\"}}],\"center\":[{\"type\":\"object\",\"name\":\"Grid\",\"id\":\"90f14817-cd02-404d-8af5-f0c8d167b133\",\"attributes\":{\"axis\":{\"id\":\"1d1dd237-3fef-4097-b732-2e89d27b9da8\"},\"grid_line_color\":null}},{\"type\":\"object\",\"name\":\"Grid\",\"id\":\"35e8fa01-c3e5-417d-806f-aa9445e03d3a\",\"attributes\":{\"dimension\":1,\"axis\":{\"id\":\"86520546-8d5a-4a63-995c-563f9237ce3a\"},\"grid_line_color\":null}},{\"type\":\"object\",\"name\":\"Legend\",\"id\":\"673539a2-4266-4efa-9de5-cd90b6340eb1\",\"attributes\":{\"items\":[{\"type\":\"object\",\"name\":\"LegendItem\",\"id\":\"7202c399-8635-49d2-8b8c-848135769d2f\",\"attributes\":{\"label\":{\"type\":\"field\",\"field\":\"outcome\"},\"renderers\":[{\"id\":\"8f5ff4d8-44bf-4605-844e-3428a3f64dcc\"}]}}]}}],\"min_border_top\":10,\"min_border_bottom\":10,\"min_border_left\":10,\"min_border_right\":10,\"output_backend\":\"webgl\"}},{\"type\":\"object\",\"name\":\"Spacer\",\"id\":\"954f5261-9220-4ddf-858c-05142731e97a\",\"attributes\":{\"name\":\"HSpacer00294\",\"stylesheets\":[\"\\n:host(.pn-loading):before, .pn-loading:before {\\n  background-color: #c3c3c3;\\n  mask-size: auto calc(min(50%, 300px));\\n  -webkit-mask-size: auto calc(min(50%, 300px));\\n}\",{\"id\":\"2ce6382c-4ef2-457b-aa79-712a596f2f1b\"},{\"id\":\"ae09bab5-6a3b-4197-9696-4f0137e6abe6\"},{\"id\":\"d87d4305-fee5-4d8e-a39f-1a19040b25ab\"}],\"min_width\":0,\"margin\":0,\"sizing_mode\":\"stretch_width\",\"align\":\"start\"}}]}}],\"defs\":[{\"type\":\"model\",\"name\":\"ReactiveHTML1\"},{\"type\":\"model\",\"name\":\"FlexBox1\",\"properties\":[{\"name\":\"align_content\",\"kind\":\"Any\",\"default\":\"flex-start\"},{\"name\":\"align_items\",\"kind\":\"Any\",\"default\":\"flex-start\"},{\"name\":\"flex_direction\",\"kind\":\"Any\",\"default\":\"row\"},{\"name\":\"flex_wrap\",\"kind\":\"Any\",\"default\":\"wrap\"},{\"name\":\"gap\",\"kind\":\"Any\",\"default\":\"\"},{\"name\":\"justify_content\",\"kind\":\"Any\",\"default\":\"flex-start\"}]},{\"type\":\"model\",\"name\":\"FloatPanel1\",\"properties\":[{\"name\":\"config\",\"kind\":\"Any\",\"default\":{\"type\":\"map\"}},{\"name\":\"contained\",\"kind\":\"Any\",\"default\":true},{\"name\":\"position\",\"kind\":\"Any\",\"default\":\"right-top\"},{\"name\":\"offsetx\",\"kind\":\"Any\",\"default\":null},{\"name\":\"offsety\",\"kind\":\"Any\",\"default\":null},{\"name\":\"theme\",\"kind\":\"Any\",\"default\":\"primary\"},{\"name\":\"status\",\"kind\":\"Any\",\"default\":\"normalized\"}]},{\"type\":\"model\",\"name\":\"GridStack1\",\"properties\":[{\"name\":\"ncols\",\"kind\":\"Any\",\"default\":null},{\"name\":\"nrows\",\"kind\":\"Any\",\"default\":null},{\"name\":\"allow_resize\",\"kind\":\"Any\",\"default\":true},{\"name\":\"allow_drag\",\"kind\":\"Any\",\"default\":true},{\"name\":\"state\",\"kind\":\"Any\",\"default\":[]}]},{\"type\":\"model\",\"name\":\"drag1\",\"properties\":[{\"name\":\"slider_width\",\"kind\":\"Any\",\"default\":5},{\"name\":\"slider_color\",\"kind\":\"Any\",\"default\":\"black\"},{\"name\":\"start\",\"kind\":\"Any\",\"default\":0},{\"name\":\"end\",\"kind\":\"Any\",\"default\":100},{\"name\":\"value\",\"kind\":\"Any\",\"default\":50}]},{\"type\":\"model\",\"name\":\"click1\",\"properties\":[{\"name\":\"terminal_output\",\"kind\":\"Any\",\"default\":\"\"},{\"name\":\"debug_name\",\"kind\":\"Any\",\"default\":\"\"},{\"name\":\"clears\",\"kind\":\"Any\",\"default\":0}]},{\"type\":\"model\",\"name\":\"ReactiveESM1\",\"properties\":[{\"name\":\"esm_constants\",\"kind\":\"Any\",\"default\":{\"type\":\"map\"}}]},{\"type\":\"model\",\"name\":\"JSComponent1\",\"properties\":[{\"name\":\"esm_constants\",\"kind\":\"Any\",\"default\":{\"type\":\"map\"}}]},{\"type\":\"model\",\"name\":\"ReactComponent1\",\"properties\":[{\"name\":\"use_shadow_dom\",\"kind\":\"Any\",\"default\":true},{\"name\":\"esm_constants\",\"kind\":\"Any\",\"default\":{\"type\":\"map\"}}]},{\"type\":\"model\",\"name\":\"AnyWidgetComponent1\",\"properties\":[{\"name\":\"use_shadow_dom\",\"kind\":\"Any\",\"default\":true},{\"name\":\"esm_constants\",\"kind\":\"Any\",\"default\":{\"type\":\"map\"}}]},{\"type\":\"model\",\"name\":\"FastWrapper1\",\"properties\":[{\"name\":\"object\",\"kind\":\"Any\",\"default\":null},{\"name\":\"style\",\"kind\":\"Any\",\"default\":null}]},{\"type\":\"model\",\"name\":\"NotificationArea1\",\"properties\":[{\"name\":\"js_events\",\"kind\":\"Any\",\"default\":{\"type\":\"map\"}},{\"name\":\"max_notifications\",\"kind\":\"Any\",\"default\":5},{\"name\":\"notifications\",\"kind\":\"Any\",\"default\":[]},{\"name\":\"position\",\"kind\":\"Any\",\"default\":\"bottom-right\"},{\"name\":\"_clear\",\"kind\":\"Any\",\"default\":0},{\"name\":\"types\",\"kind\":\"Any\",\"default\":[{\"type\":\"map\",\"entries\":[[\"type\",\"warning\"],[\"background\",\"#ffc107\"],[\"icon\",{\"type\":\"map\",\"entries\":[[\"className\",\"fas fa-exclamation-triangle\"],[\"tagName\",\"i\"],[\"color\",\"white\"]]}]]},{\"type\":\"map\",\"entries\":[[\"type\",\"info\"],[\"background\",\"#007bff\"],[\"icon\",{\"type\":\"map\",\"entries\":[[\"className\",\"fas fa-info-circle\"],[\"tagName\",\"i\"],[\"color\",\"white\"]]}]]}]}]},{\"type\":\"model\",\"name\":\"Notification\",\"properties\":[{\"name\":\"background\",\"kind\":\"Any\",\"default\":null},{\"name\":\"duration\",\"kind\":\"Any\",\"default\":3000},{\"name\":\"icon\",\"kind\":\"Any\",\"default\":null},{\"name\":\"message\",\"kind\":\"Any\",\"default\":\"\"},{\"name\":\"notification_type\",\"kind\":\"Any\",\"default\":null},{\"name\":\"_rendered\",\"kind\":\"Any\",\"default\":false},{\"name\":\"_destroyed\",\"kind\":\"Any\",\"default\":false}]},{\"type\":\"model\",\"name\":\"TemplateActions1\",\"properties\":[{\"name\":\"open_modal\",\"kind\":\"Any\",\"default\":0},{\"name\":\"close_modal\",\"kind\":\"Any\",\"default\":0}]},{\"type\":\"model\",\"name\":\"BootstrapTemplateActions1\",\"properties\":[{\"name\":\"open_modal\",\"kind\":\"Any\",\"default\":0},{\"name\":\"close_modal\",\"kind\":\"Any\",\"default\":0}]},{\"type\":\"model\",\"name\":\"TemplateEditor1\",\"properties\":[{\"name\":\"layout\",\"kind\":\"Any\",\"default\":[]}]},{\"type\":\"model\",\"name\":\"MaterialTemplateActions1\",\"properties\":[{\"name\":\"open_modal\",\"kind\":\"Any\",\"default\":0},{\"name\":\"close_modal\",\"kind\":\"Any\",\"default\":0}]},{\"type\":\"model\",\"name\":\"request_value1\",\"properties\":[{\"name\":\"fill\",\"kind\":\"Any\",\"default\":\"none\"},{\"name\":\"_synced\",\"kind\":\"Any\",\"default\":null},{\"name\":\"_request_sync\",\"kind\":\"Any\",\"default\":0}]},{\"type\":\"model\",\"name\":\"holoviews.plotting.bokeh.raster.HoverModel\",\"properties\":[{\"name\":\"xy\",\"kind\":\"Any\",\"default\":null},{\"name\":\"data\",\"kind\":\"Any\",\"default\":null}]}]}};\n",
       "  var render_items = [{\"docid\":\"31b6531c-e7d3-46ed-838e-93c7559fa3a7\",\"roots\":{\"121f4378-2722-49d2-9386-b4f7e14fbf97\":\"af37d664-1493-44c6-88b5-e2b498218b50\"},\"root_ids\":[\"121f4378-2722-49d2-9386-b4f7e14fbf97\"]}];\n",
       "  var docs = Object.values(docs_json)\n",
       "  if (!docs) {\n",
       "    return\n",
       "  }\n",
       "  const py_version = docs[0].version.replace('rc', '-rc.').replace('.dev', '-dev.')\n",
       "  async function embed_document(root) {\n",
       "    var Bokeh = get_bokeh(root)\n",
       "    await Bokeh.embed.embed_items_notebook(docs_json, render_items);\n",
       "    for (const render_item of render_items) {\n",
       "      for (const root_id of render_item.root_ids) {\n",
       "\tconst id_el = document.getElementById(root_id)\n",
       "\tif (id_el.children.length && id_el.children[0].hasAttribute('data-root-id')) {\n",
       "\t  const root_el = id_el.children[0]\n",
       "\t  root_el.id = root_el.id + '-rendered'\n",
       "\t  for (const child of root_el.children) {\n",
       "            // Ensure JupyterLab does not capture keyboard shortcuts\n",
       "            // see: https://jupyterlab.readthedocs.io/en/4.1.x/extension/notebook.html#keyboard-interaction-model\n",
       "\t    child.setAttribute('data-lm-suppress-shortcuts', 'true')\n",
       "\t  }\n",
       "\t}\n",
       "      }\n",
       "    }\n",
       "  }\n",
       "  function get_bokeh(root) {\n",
       "    if (root.Bokeh === undefined) {\n",
       "      return null\n",
       "    } else if (root.Bokeh.version !== py_version) {\n",
       "      if (root.Bokeh.versions === undefined || !root.Bokeh.versions.has(py_version)) {\n",
       "\treturn null\n",
       "      }\n",
       "      return root.Bokeh.versions.get(py_version);\n",
       "    } else if (root.Bokeh.version === py_version) {\n",
       "      return root.Bokeh\n",
       "    }\n",
       "    return null\n",
       "  }\n",
       "  function is_loaded(root) {\n",
       "    var Bokeh = get_bokeh(root)\n",
       "    return (Bokeh != null && Bokeh.Panel !== undefined)\n",
       "  }\n",
       "  if (is_loaded(root)) {\n",
       "    embed_document(root);\n",
       "  } else {\n",
       "    var attempts = 0;\n",
       "    var timer = setInterval(function(root) {\n",
       "      if (is_loaded(root)) {\n",
       "        clearInterval(timer);\n",
       "        embed_document(root);\n",
       "      } else if (document.readyState == \"complete\") {\n",
       "        attempts++;\n",
       "        if (attempts > 200) {\n",
       "          clearInterval(timer);\n",
       "\t  var Bokeh = get_bokeh(root)\n",
       "\t  if (Bokeh == null || Bokeh.Panel == null) {\n",
       "            console.warn(\"Panel: ERROR: Unable to run Panel code because Bokeh or Panel library is missing\");\n",
       "\t  } else {\n",
       "\t    console.warn(\"Panel: WARNING: Attempting to render but not all required libraries could be resolved.\")\n",
       "\t    embed_document(root)\n",
       "\t  }\n",
       "        }\n",
       "      }\n",
       "    }, 25, root)\n",
       "  }\n",
       "})(window);</script>"
      ],
      "text/plain": [
       ":Bars   [type,outcome]   (count)"
      ]
     },
     "execution_count": 8,
     "metadata": {
      "application/vnd.holoviews_exec.v0+json": {
       "id": "121f4378-2722-49d2-9386-b4f7e14fbf97"
      }
     },
     "output_type": "execute_result"
    }
   ],
   "source": [
    "# Create trial distribution plot (stacked bar chart)\n",
    "plot1 = eda.plot_trial_distribution()\n",
    "plot1"
   ]
  },
  {
   "cell_type": "markdown",
   "id": "0db0e086",
   "metadata": {},
   "source": [
    "### 2. Success Rate by Trial Type (Percentage View)"
   ]
  },
  {
   "cell_type": "code",
   "execution_count": 9,
   "id": "9d45ea61",
   "metadata": {},
   "outputs": [
    {
     "name": "stderr",
     "output_type": "stream",
     "text": [
      "/home/barak/Projects/population_analysis/exploratory_data_analysis/behavioral_eda_class.py:159: FutureWarning: DataFrameGroupBy.apply operated on the grouping columns. This behavior is deprecated, and in a future version of pandas the grouping columns will be excluded from the operation. Either pass `include_groups=False` to exclude the groupings or explicitly select the grouping columns after groupby to silence this warning.\n",
      "  trial_pct = self.df.groupby('type').apply(\n"
     ]
    },
    {
     "data": {},
     "metadata": {},
     "output_type": "display_data"
    },
    {
     "data": {
      "application/vnd.holoviews_exec.v0+json": "",
      "text/html": [
       "<div id='371269e1-0ec4-4b24-9d80-a690c8cd9740'>\n",
       "  <div id=\"dd1bb587-ab41-4ff9-aec1-9a8aa8ec066d\" data-root-id=\"371269e1-0ec4-4b24-9d80-a690c8cd9740\" style=\"display: contents;\"></div>\n",
       "</div>\n",
       "<script type=\"application/javascript\">(function(root) {\n",
       "  var docs_json = {\"4ea4b6e4-bc6d-49d0-8329-f45593388cf8\":{\"version\":\"3.8.0\",\"title\":\"Bokeh Application\",\"config\":{\"type\":\"object\",\"name\":\"DocumentConfig\",\"id\":\"ca18414b-cc1d-4860-8aea-4dcf0219837a\",\"attributes\":{\"notifications\":{\"type\":\"object\",\"name\":\"Notifications\",\"id\":\"1f8d440b-5a6b-4d33-90ec-3d2b0bd33f0b\"}}},\"roots\":[{\"type\":\"object\",\"name\":\"Row\",\"id\":\"371269e1-0ec4-4b24-9d80-a690c8cd9740\",\"attributes\":{\"name\":\"Row00510\",\"tags\":[\"embedded\"],\"stylesheets\":[\"\\n:host(.pn-loading):before, .pn-loading:before {\\n  background-color: #c3c3c3;\\n  mask-size: auto calc(min(50%, 300px));\\n  -webkit-mask-size: auto calc(min(50%, 300px));\\n}\",{\"type\":\"object\",\"name\":\"ImportedStyleSheet\",\"id\":\"79fde54d-86f6-4f9c-93a1-02de0473cb71\",\"attributes\":{\"url\":\"https://cdn.holoviz.org/panel/1.8.0/dist/css/loading.css\"}},{\"type\":\"object\",\"name\":\"ImportedStyleSheet\",\"id\":\"ef698f41-696c-43ed-a470-71e318d485e2\",\"attributes\":{\"url\":\"https://cdn.holoviz.org/panel/1.8.0/dist/css/listpanel.css\"}},{\"type\":\"object\",\"name\":\"ImportedStyleSheet\",\"id\":\"205f21ef-6c55-4f69-a452-c96ab1d88240\",\"attributes\":{\"url\":\"https://cdn.holoviz.org/panel/1.8.0/dist/bundled/theme/default.css\"}},{\"type\":\"object\",\"name\":\"ImportedStyleSheet\",\"id\":\"c12e7f2f-ba9b-4c31-a590-52afe18181ae\",\"attributes\":{\"url\":\"https://cdn.holoviz.org/panel/1.8.0/dist/bundled/theme/native.css\"}}],\"min_width\":600,\"margin\":0,\"sizing_mode\":\"stretch_width\",\"align\":\"start\",\"children\":[{\"type\":\"object\",\"name\":\"Spacer\",\"id\":\"c532089a-237b-41b0-8697-0bf4ce092966\",\"attributes\":{\"name\":\"HSpacer00514\",\"stylesheets\":[\"\\n:host(.pn-loading):before, .pn-loading:before {\\n  background-color: #c3c3c3;\\n  mask-size: auto calc(min(50%, 300px));\\n  -webkit-mask-size: auto calc(min(50%, 300px));\\n}\",{\"id\":\"79fde54d-86f6-4f9c-93a1-02de0473cb71\"},{\"id\":\"205f21ef-6c55-4f69-a452-c96ab1d88240\"},{\"id\":\"c12e7f2f-ba9b-4c31-a590-52afe18181ae\"}],\"min_width\":0,\"margin\":0,\"sizing_mode\":\"stretch_width\",\"align\":\"start\"}},{\"type\":\"object\",\"name\":\"Figure\",\"id\":\"b87f7327-ceda-41e5-b3f0-19462318a36f\",\"attributes\":{\"height\":400,\"margin\":[5,10],\"sizing_mode\":\"fixed\",\"align\":\"start\",\"x_range\":{\"type\":\"object\",\"name\":\"FactorRange\",\"id\":\"afd894ef-4258-41ca-b266-8061bdf5d859\",\"attributes\":{\"name\":\"type\",\"tags\":[[[\"type\",null]],[]],\"factors\":[\"CONT\",\"GO\",\"STOP\"]}},\"y_range\":{\"type\":\"object\",\"name\":\"Range1d\",\"id\":\"61d71c6c-9c86-43e5-b47a-e6ecc157c683\",\"attributes\":{\"name\":\"percentage\",\"tags\":[[[\"percentage\",null]],{\"type\":\"map\",\"entries\":[[\"invert_yaxis\",false],[\"autorange\",false]]}],\"end\":100,\"reset_start\":0,\"reset_end\":100}},\"x_scale\":{\"type\":\"object\",\"name\":\"CategoricalScale\",\"id\":\"41e1776c-fb35-4428-81fa-10db7e9de034\"},\"y_scale\":{\"type\":\"object\",\"name\":\"LinearScale\",\"id\":\"6ff2a081-2660-422a-a669-9ed65c516f6a\"},\"title\":{\"type\":\"object\",\"name\":\"Title\",\"id\":\"c9ba09e3-d87c-4a04-8270-29fc788c725f\",\"attributes\":{\"text\":\"Fiona - Success Rate by Trial Type (%)\",\"text_color\":\"black\",\"text_font_size\":\"16pt\"}},\"renderers\":[{\"type\":\"object\",\"name\":\"GlyphRenderer\",\"id\":\"c1cb49c0-6cd8-4623-8237-8c9547c880d5\",\"attributes\":{\"data_source\":{\"type\":\"object\",\"name\":\"ColumnDataSource\",\"id\":\"e2ea491c-fbfb-410e-b321-c4b961a6af69\",\"attributes\":{\"selected\":{\"type\":\"object\",\"name\":\"Selection\",\"id\":\"8729dc88-52bc-4d70-8ac4-13a91b6dc7e2\",\"attributes\":{\"indices\":[],\"line_indices\":[]}},\"selection_policy\":{\"type\":\"object\",\"name\":\"UnionRenderers\",\"id\":\"4c8bf748-ae5d-41c0-8335-571ee8d02d84\"},\"data\":{\"type\":\"map\",\"entries\":[[\"bottom\",{\"type\":\"ndarray\",\"array\":{\"type\":\"bytes\",\"data\":\"H4sIAAEAAAAC/2NgwA4Or1e+fUsm1EH0r1LMusvhDi81QjOn5Ps4AADF7lgNMAAAAA==\"},\"shape\":[6],\"dtype\":\"float64\",\"order\":\"little\"}],[\"top\",{\"type\":\"ndarray\",\"array\":{\"type\":\"bytes\",\"data\":\"H4sIAAEAAAAC/zu8Xvn2LZlQB9G/SjHrLoc7vNQIzZyS7+PAAAaRDv/BIALOBwAzhNcpMAAAAA==\"},\"shape\":[6],\"dtype\":\"float64\",\"order\":\"little\"}],[\"type\",[\"CONT\",\"GO\",\"STOP\",\"CONT\",\"GO\",\"STOP\"]],[\"outcome\",[\"Success\",\"Success\",\"Success\",\"Failed\",\"Failed\",\"Failed\"]],[\"percentage\",{\"type\":\"ndarray\",\"array\":{\"type\":\"bytes\",\"data\":\"H4sIAAEAAAAC/wEwAM//w68j29ocVUAV/SJcrtNXQOkoVWmUb0xA6YHiJikZL0CnLtA9GsUSQBfXqpZrkEVA/wtwazAAAAA=\"},\"shape\":[6],\"dtype\":\"float64\",\"order\":\"little\"}]]}}},\"view\":{\"type\":\"object\",\"name\":\"CDSView\",\"id\":\"f4e5753c-03ab-412d-ab4d-80f9fd79c02e\",\"attributes\":{\"filter\":{\"type\":\"object\",\"name\":\"AllIndices\",\"id\":\"8a02768c-6b5c-4f89-ba29-7b0fef995207\"}}},\"glyph\":{\"type\":\"object\",\"name\":\"VBar\",\"id\":\"7c0ddcdc-4c02-49cd-81db-a4e695586357\",\"attributes\":{\"tags\":[\"apply_ranges\"],\"x\":{\"type\":\"field\",\"field\":\"type\"},\"width\":{\"type\":\"value\",\"value\":0.8},\"bottom\":{\"type\":\"field\",\"field\":\"bottom\"},\"top\":{\"type\":\"field\",\"field\":\"top\"},\"fill_color\":{\"type\":\"field\",\"field\":\"outcome\",\"transform\":{\"type\":\"object\",\"name\":\"CategoricalColorMapper\",\"id\":\"3c9d5842-5e52-4b3e-934f-3821343b1dc1\",\"attributes\":{\"palette\":[\"#2E8B57\",\"#CD5C5C\"],\"factors\":[\"Success\",\"Failed\"]}}},\"hatch_color\":{\"type\":\"field\",\"field\":\"outcome\",\"transform\":{\"id\":\"3c9d5842-5e52-4b3e-934f-3821343b1dc1\"}}}},\"selection_glyph\":{\"type\":\"object\",\"name\":\"VBar\",\"id\":\"8441608a-dda0-4994-b8c4-b06c7581f77b\",\"attributes\":{\"tags\":[\"apply_ranges\"],\"x\":{\"type\":\"field\",\"field\":\"type\"},\"width\":{\"type\":\"value\",\"value\":0.8},\"bottom\":{\"type\":\"field\",\"field\":\"bottom\"},\"top\":{\"type\":\"field\",\"field\":\"top\"},\"line_color\":{\"type\":\"value\",\"value\":\"black\"},\"line_alpha\":{\"type\":\"value\",\"value\":1.0},\"line_width\":{\"type\":\"value\",\"value\":1},\"line_join\":{\"type\":\"value\",\"value\":\"bevel\"},\"line_cap\":{\"type\":\"value\",\"value\":\"butt\"},\"line_dash\":{\"type\":\"value\",\"value\":[]},\"line_dash_offset\":{\"type\":\"value\",\"value\":0},\"fill_color\":{\"type\":\"field\",\"field\":\"outcome\",\"transform\":{\"id\":\"3c9d5842-5e52-4b3e-934f-3821343b1dc1\"}},\"fill_alpha\":{\"type\":\"value\",\"value\":1.0},\"hatch_color\":{\"type\":\"field\",\"field\":\"outcome\",\"transform\":{\"id\":\"3c9d5842-5e52-4b3e-934f-3821343b1dc1\"}},\"hatch_alpha\":{\"type\":\"value\",\"value\":1.0},\"hatch_scale\":{\"type\":\"value\",\"value\":12.0},\"hatch_pattern\":{\"type\":\"value\",\"value\":null},\"hatch_weight\":{\"type\":\"value\",\"value\":1.0}}},\"nonselection_glyph\":{\"type\":\"object\",\"name\":\"VBar\",\"id\":\"3aaf8d43-9e4b-4efe-b0a9-774f7a481eb7\",\"attributes\":{\"tags\":[\"apply_ranges\"],\"x\":{\"type\":\"field\",\"field\":\"type\"},\"width\":{\"type\":\"value\",\"value\":0.8},\"bottom\":{\"type\":\"field\",\"field\":\"bottom\"},\"top\":{\"type\":\"field\",\"field\":\"top\"},\"line_alpha\":{\"type\":\"value\",\"value\":0.1},\"fill_color\":{\"type\":\"field\",\"field\":\"outcome\",\"transform\":{\"id\":\"3c9d5842-5e52-4b3e-934f-3821343b1dc1\"}},\"fill_alpha\":{\"type\":\"value\",\"value\":0.1},\"hatch_color\":{\"type\":\"field\",\"field\":\"outcome\",\"transform\":{\"id\":\"3c9d5842-5e52-4b3e-934f-3821343b1dc1\"}},\"hatch_alpha\":{\"type\":\"value\",\"value\":0.1}}},\"muted_glyph\":{\"type\":\"object\",\"name\":\"VBar\",\"id\":\"7134221e-4052-45e5-8d39-3d9e3f49fc22\",\"attributes\":{\"tags\":[\"apply_ranges\"],\"x\":{\"type\":\"field\",\"field\":\"type\"},\"width\":{\"type\":\"value\",\"value\":0.8},\"bottom\":{\"type\":\"field\",\"field\":\"bottom\"},\"top\":{\"type\":\"field\",\"field\":\"top\"},\"line_alpha\":{\"type\":\"value\",\"value\":0.2},\"fill_color\":{\"type\":\"field\",\"field\":\"outcome\",\"transform\":{\"id\":\"3c9d5842-5e52-4b3e-934f-3821343b1dc1\"}},\"fill_alpha\":{\"type\":\"value\",\"value\":0.2},\"hatch_color\":{\"type\":\"field\",\"field\":\"outcome\",\"transform\":{\"id\":\"3c9d5842-5e52-4b3e-934f-3821343b1dc1\"}},\"hatch_alpha\":{\"type\":\"value\",\"value\":0.2}}}}}],\"toolbar\":{\"type\":\"object\",\"name\":\"Toolbar\",\"id\":\"6aa2562e-1753-4f90-9e10-41c944294e66\",\"attributes\":{\"tools\":[{\"type\":\"object\",\"name\":\"WheelZoomTool\",\"id\":\"88fe8d35-af63-4f50-b3ee-8f0d8d88dc77\",\"attributes\":{\"tags\":[\"hv_created\"],\"renderers\":\"auto\",\"zoom_together\":\"none\"}},{\"type\":\"object\",\"name\":\"HoverTool\",\"id\":\"4ee5d25f-f907-4950-a142-b92f72bd98f8\",\"attributes\":{\"tags\":[\"hv_created\"],\"renderers\":[{\"id\":\"c1cb49c0-6cd8-4623-8237-8c9547c880d5\"}],\"tooltips\":[[\"type\",\"@{type}\"],[\"outcome\",\"@{outcome}\"],[\"percentage\",\"@{percentage}\"]],\"sort_by\":null}},{\"type\":\"object\",\"name\":\"SaveTool\",\"id\":\"4dd742f5-6e4d-4160-9001-36f1529889e8\"},{\"type\":\"object\",\"name\":\"PanTool\",\"id\":\"14de5b46-309c-4706-816a-df88b6cfeba0\"},{\"type\":\"object\",\"name\":\"BoxZoomTool\",\"id\":\"03db2889-265f-45dc-bac7-a0c95f3b5ccf\",\"attributes\":{\"dimensions\":\"both\",\"overlay\":{\"type\":\"object\",\"name\":\"BoxAnnotation\",\"id\":\"20c0955a-ac46-4539-bb78-08dbec92c81c\",\"attributes\":{\"syncable\":false,\"line_color\":\"black\",\"line_alpha\":1.0,\"line_width\":2,\"line_dash\":[4,4],\"fill_color\":\"lightgrey\",\"fill_alpha\":0.5,\"level\":\"overlay\",\"visible\":false,\"left\":{\"type\":\"number\",\"value\":\"nan\"},\"right\":{\"type\":\"number\",\"value\":\"nan\"},\"top\":{\"type\":\"number\",\"value\":\"nan\"},\"bottom\":{\"type\":\"number\",\"value\":\"nan\"},\"left_units\":\"canvas\",\"right_units\":\"canvas\",\"top_units\":\"canvas\",\"bottom_units\":\"canvas\",\"handles\":{\"type\":\"object\",\"name\":\"BoxInteractionHandles\",\"id\":\"b01f1d96-cb39-4646-80d5-c3528f6e4426\",\"attributes\":{\"all\":{\"type\":\"object\",\"name\":\"AreaVisuals\",\"id\":\"0d2b9dd7-f513-458c-af0c-bad03f19f732\",\"attributes\":{\"fill_color\":\"white\",\"hover_fill_color\":\"lightgray\"}}}}}}}},{\"type\":\"object\",\"name\":\"ResetTool\",\"id\":\"84a335fb-b2f0-4f12-8c65-0c5e648fed4c\"}],\"active_drag\":{\"id\":\"14de5b46-309c-4706-816a-df88b6cfeba0\"},\"active_scroll\":{\"id\":\"88fe8d35-af63-4f50-b3ee-8f0d8d88dc77\"}}},\"left\":[{\"type\":\"object\",\"name\":\"LinearAxis\",\"id\":\"28971c76-3259-4837-a84d-2ba11caa1c6f\",\"attributes\":{\"ticker\":{\"type\":\"object\",\"name\":\"BasicTicker\",\"id\":\"e2095023-c004-4693-80d0-06fd4f36887d\",\"attributes\":{\"mantissas\":[1,2,5]}},\"formatter\":{\"type\":\"object\",\"name\":\"BasicTickFormatter\",\"id\":\"39efed94-2e50-4465-bff1-30e7b8ed7dfd\"},\"axis_label\":\"Percentage of Trials\",\"axis_label_text_font_size\":\"14pt\",\"major_label_policy\":{\"type\":\"object\",\"name\":\"AllLabels\",\"id\":\"1dc3d60b-404b-4431-b1f8-467650c09cd7\"},\"major_label_text_font_size\":\"12pt\"}}],\"above\":[{\"type\":\"object\",\"name\":\"Legend\",\"id\":\"6f8cd827-5695-41c9-98ff-4638e619d242\",\"attributes\":{\"location\":[0,0],\"orientation\":\"horizontal\",\"items\":[{\"type\":\"object\",\"name\":\"LegendItem\",\"id\":\"5e7d8358-a08a-4c15-aae1-7168f5230824\",\"attributes\":{\"label\":{\"type\":\"field\",\"field\":\"outcome\"},\"renderers\":[{\"id\":\"c1cb49c0-6cd8-4623-8237-8c9547c880d5\"}]}}]}}],\"below\":[{\"type\":\"object\",\"name\":\"CategoricalAxis\",\"id\":\"c7722481-174b-4fa2-87e1-355431b96cca\",\"attributes\":{\"ticker\":{\"type\":\"object\",\"name\":\"CategoricalTicker\",\"id\":\"99b2c346-5dd6-463e-a98a-696602ec16ff\"},\"formatter\":{\"type\":\"object\",\"name\":\"CategoricalTickFormatter\",\"id\":\"4d25d946-9d77-4a60-be25-ae7505da960e\"},\"axis_label\":\"Trial Type\",\"axis_label_text_font_size\":\"14pt\",\"major_label_policy\":{\"type\":\"object\",\"name\":\"AllLabels\",\"id\":\"2f86eb89-2997-4399-b97a-42eeda9c88ca\"},\"major_label_text_font_size\":\"12pt\",\"group_text_font_size\":\"12pt\"}}],\"center\":[{\"type\":\"object\",\"name\":\"Grid\",\"id\":\"0a1f0e81-6ec2-4a2f-b5ea-20400e536967\",\"attributes\":{\"axis\":{\"id\":\"c7722481-174b-4fa2-87e1-355431b96cca\"},\"grid_line_color\":null}},{\"type\":\"object\",\"name\":\"Grid\",\"id\":\"a6ce959e-ebcf-49b4-9979-d47191afcb87\",\"attributes\":{\"dimension\":1,\"axis\":{\"id\":\"28971c76-3259-4837-a84d-2ba11caa1c6f\"},\"grid_line_color\":null}}],\"min_border_top\":10,\"min_border_bottom\":10,\"min_border_left\":10,\"min_border_right\":10,\"output_backend\":\"webgl\"}},{\"type\":\"object\",\"name\":\"Spacer\",\"id\":\"04f55cf7-b190-47d3-bf7a-87958ca7d7ce\",\"attributes\":{\"name\":\"HSpacer00515\",\"stylesheets\":[\"\\n:host(.pn-loading):before, .pn-loading:before {\\n  background-color: #c3c3c3;\\n  mask-size: auto calc(min(50%, 300px));\\n  -webkit-mask-size: auto calc(min(50%, 300px));\\n}\",{\"id\":\"79fde54d-86f6-4f9c-93a1-02de0473cb71\"},{\"id\":\"205f21ef-6c55-4f69-a452-c96ab1d88240\"},{\"id\":\"c12e7f2f-ba9b-4c31-a590-52afe18181ae\"}],\"min_width\":0,\"margin\":0,\"sizing_mode\":\"stretch_width\",\"align\":\"start\"}}]}}],\"defs\":[{\"type\":\"model\",\"name\":\"ReactiveHTML1\"},{\"type\":\"model\",\"name\":\"FlexBox1\",\"properties\":[{\"name\":\"align_content\",\"kind\":\"Any\",\"default\":\"flex-start\"},{\"name\":\"align_items\",\"kind\":\"Any\",\"default\":\"flex-start\"},{\"name\":\"flex_direction\",\"kind\":\"Any\",\"default\":\"row\"},{\"name\":\"flex_wrap\",\"kind\":\"Any\",\"default\":\"wrap\"},{\"name\":\"gap\",\"kind\":\"Any\",\"default\":\"\"},{\"name\":\"justify_content\",\"kind\":\"Any\",\"default\":\"flex-start\"}]},{\"type\":\"model\",\"name\":\"FloatPanel1\",\"properties\":[{\"name\":\"config\",\"kind\":\"Any\",\"default\":{\"type\":\"map\"}},{\"name\":\"contained\",\"kind\":\"Any\",\"default\":true},{\"name\":\"position\",\"kind\":\"Any\",\"default\":\"right-top\"},{\"name\":\"offsetx\",\"kind\":\"Any\",\"default\":null},{\"name\":\"offsety\",\"kind\":\"Any\",\"default\":null},{\"name\":\"theme\",\"kind\":\"Any\",\"default\":\"primary\"},{\"name\":\"status\",\"kind\":\"Any\",\"default\":\"normalized\"}]},{\"type\":\"model\",\"name\":\"GridStack1\",\"properties\":[{\"name\":\"ncols\",\"kind\":\"Any\",\"default\":null},{\"name\":\"nrows\",\"kind\":\"Any\",\"default\":null},{\"name\":\"allow_resize\",\"kind\":\"Any\",\"default\":true},{\"name\":\"allow_drag\",\"kind\":\"Any\",\"default\":true},{\"name\":\"state\",\"kind\":\"Any\",\"default\":[]}]},{\"type\":\"model\",\"name\":\"drag1\",\"properties\":[{\"name\":\"slider_width\",\"kind\":\"Any\",\"default\":5},{\"name\":\"slider_color\",\"kind\":\"Any\",\"default\":\"black\"},{\"name\":\"start\",\"kind\":\"Any\",\"default\":0},{\"name\":\"end\",\"kind\":\"Any\",\"default\":100},{\"name\":\"value\",\"kind\":\"Any\",\"default\":50}]},{\"type\":\"model\",\"name\":\"click1\",\"properties\":[{\"name\":\"terminal_output\",\"kind\":\"Any\",\"default\":\"\"},{\"name\":\"debug_name\",\"kind\":\"Any\",\"default\":\"\"},{\"name\":\"clears\",\"kind\":\"Any\",\"default\":0}]},{\"type\":\"model\",\"name\":\"ReactiveESM1\",\"properties\":[{\"name\":\"esm_constants\",\"kind\":\"Any\",\"default\":{\"type\":\"map\"}}]},{\"type\":\"model\",\"name\":\"JSComponent1\",\"properties\":[{\"name\":\"esm_constants\",\"kind\":\"Any\",\"default\":{\"type\":\"map\"}}]},{\"type\":\"model\",\"name\":\"ReactComponent1\",\"properties\":[{\"name\":\"use_shadow_dom\",\"kind\":\"Any\",\"default\":true},{\"name\":\"esm_constants\",\"kind\":\"Any\",\"default\":{\"type\":\"map\"}}]},{\"type\":\"model\",\"name\":\"AnyWidgetComponent1\",\"properties\":[{\"name\":\"use_shadow_dom\",\"kind\":\"Any\",\"default\":true},{\"name\":\"esm_constants\",\"kind\":\"Any\",\"default\":{\"type\":\"map\"}}]},{\"type\":\"model\",\"name\":\"FastWrapper1\",\"properties\":[{\"name\":\"object\",\"kind\":\"Any\",\"default\":null},{\"name\":\"style\",\"kind\":\"Any\",\"default\":null}]},{\"type\":\"model\",\"name\":\"NotificationArea1\",\"properties\":[{\"name\":\"js_events\",\"kind\":\"Any\",\"default\":{\"type\":\"map\"}},{\"name\":\"max_notifications\",\"kind\":\"Any\",\"default\":5},{\"name\":\"notifications\",\"kind\":\"Any\",\"default\":[]},{\"name\":\"position\",\"kind\":\"Any\",\"default\":\"bottom-right\"},{\"name\":\"_clear\",\"kind\":\"Any\",\"default\":0},{\"name\":\"types\",\"kind\":\"Any\",\"default\":[{\"type\":\"map\",\"entries\":[[\"type\",\"warning\"],[\"background\",\"#ffc107\"],[\"icon\",{\"type\":\"map\",\"entries\":[[\"className\",\"fas fa-exclamation-triangle\"],[\"tagName\",\"i\"],[\"color\",\"white\"]]}]]},{\"type\":\"map\",\"entries\":[[\"type\",\"info\"],[\"background\",\"#007bff\"],[\"icon\",{\"type\":\"map\",\"entries\":[[\"className\",\"fas fa-info-circle\"],[\"tagName\",\"i\"],[\"color\",\"white\"]]}]]}]}]},{\"type\":\"model\",\"name\":\"Notification\",\"properties\":[{\"name\":\"background\",\"kind\":\"Any\",\"default\":null},{\"name\":\"duration\",\"kind\":\"Any\",\"default\":3000},{\"name\":\"icon\",\"kind\":\"Any\",\"default\":null},{\"name\":\"message\",\"kind\":\"Any\",\"default\":\"\"},{\"name\":\"notification_type\",\"kind\":\"Any\",\"default\":null},{\"name\":\"_rendered\",\"kind\":\"Any\",\"default\":false},{\"name\":\"_destroyed\",\"kind\":\"Any\",\"default\":false}]},{\"type\":\"model\",\"name\":\"TemplateActions1\",\"properties\":[{\"name\":\"open_modal\",\"kind\":\"Any\",\"default\":0},{\"name\":\"close_modal\",\"kind\":\"Any\",\"default\":0}]},{\"type\":\"model\",\"name\":\"BootstrapTemplateActions1\",\"properties\":[{\"name\":\"open_modal\",\"kind\":\"Any\",\"default\":0},{\"name\":\"close_modal\",\"kind\":\"Any\",\"default\":0}]},{\"type\":\"model\",\"name\":\"TemplateEditor1\",\"properties\":[{\"name\":\"layout\",\"kind\":\"Any\",\"default\":[]}]},{\"type\":\"model\",\"name\":\"MaterialTemplateActions1\",\"properties\":[{\"name\":\"open_modal\",\"kind\":\"Any\",\"default\":0},{\"name\":\"close_modal\",\"kind\":\"Any\",\"default\":0}]},{\"type\":\"model\",\"name\":\"request_value1\",\"properties\":[{\"name\":\"fill\",\"kind\":\"Any\",\"default\":\"none\"},{\"name\":\"_synced\",\"kind\":\"Any\",\"default\":null},{\"name\":\"_request_sync\",\"kind\":\"Any\",\"default\":0}]},{\"type\":\"model\",\"name\":\"holoviews.plotting.bokeh.raster.HoverModel\",\"properties\":[{\"name\":\"xy\",\"kind\":\"Any\",\"default\":null},{\"name\":\"data\",\"kind\":\"Any\",\"default\":null}]}]}};\n",
       "  var render_items = [{\"docid\":\"4ea4b6e4-bc6d-49d0-8329-f45593388cf8\",\"roots\":{\"371269e1-0ec4-4b24-9d80-a690c8cd9740\":\"dd1bb587-ab41-4ff9-aec1-9a8aa8ec066d\"},\"root_ids\":[\"371269e1-0ec4-4b24-9d80-a690c8cd9740\"]}];\n",
       "  var docs = Object.values(docs_json)\n",
       "  if (!docs) {\n",
       "    return\n",
       "  }\n",
       "  const py_version = docs[0].version.replace('rc', '-rc.').replace('.dev', '-dev.')\n",
       "  async function embed_document(root) {\n",
       "    var Bokeh = get_bokeh(root)\n",
       "    await Bokeh.embed.embed_items_notebook(docs_json, render_items);\n",
       "    for (const render_item of render_items) {\n",
       "      for (const root_id of render_item.root_ids) {\n",
       "\tconst id_el = document.getElementById(root_id)\n",
       "\tif (id_el.children.length && id_el.children[0].hasAttribute('data-root-id')) {\n",
       "\t  const root_el = id_el.children[0]\n",
       "\t  root_el.id = root_el.id + '-rendered'\n",
       "\t  for (const child of root_el.children) {\n",
       "            // Ensure JupyterLab does not capture keyboard shortcuts\n",
       "            // see: https://jupyterlab.readthedocs.io/en/4.1.x/extension/notebook.html#keyboard-interaction-model\n",
       "\t    child.setAttribute('data-lm-suppress-shortcuts', 'true')\n",
       "\t  }\n",
       "\t}\n",
       "      }\n",
       "    }\n",
       "  }\n",
       "  function get_bokeh(root) {\n",
       "    if (root.Bokeh === undefined) {\n",
       "      return null\n",
       "    } else if (root.Bokeh.version !== py_version) {\n",
       "      if (root.Bokeh.versions === undefined || !root.Bokeh.versions.has(py_version)) {\n",
       "\treturn null\n",
       "      }\n",
       "      return root.Bokeh.versions.get(py_version);\n",
       "    } else if (root.Bokeh.version === py_version) {\n",
       "      return root.Bokeh\n",
       "    }\n",
       "    return null\n",
       "  }\n",
       "  function is_loaded(root) {\n",
       "    var Bokeh = get_bokeh(root)\n",
       "    return (Bokeh != null && Bokeh.Panel !== undefined)\n",
       "  }\n",
       "  if (is_loaded(root)) {\n",
       "    embed_document(root);\n",
       "  } else {\n",
       "    var attempts = 0;\n",
       "    var timer = setInterval(function(root) {\n",
       "      if (is_loaded(root)) {\n",
       "        clearInterval(timer);\n",
       "        embed_document(root);\n",
       "      } else if (document.readyState == \"complete\") {\n",
       "        attempts++;\n",
       "        if (attempts > 200) {\n",
       "          clearInterval(timer);\n",
       "\t  var Bokeh = get_bokeh(root)\n",
       "\t  if (Bokeh == null || Bokeh.Panel == null) {\n",
       "            console.warn(\"Panel: ERROR: Unable to run Panel code because Bokeh or Panel library is missing\");\n",
       "\t  } else {\n",
       "\t    console.warn(\"Panel: WARNING: Attempting to render but not all required libraries could be resolved.\")\n",
       "\t    embed_document(root)\n",
       "\t  }\n",
       "        }\n",
       "      }\n",
       "    }, 25, root)\n",
       "  }\n",
       "})(window);</script>"
      ],
      "text/plain": [
       ":Bars   [type,outcome]   (percentage)"
      ]
     },
     "execution_count": 9,
     "metadata": {
      "application/vnd.holoviews_exec.v0+json": {
       "id": "371269e1-0ec4-4b24-9d80-a690c8cd9740"
      }
     },
     "output_type": "execute_result"
    }
   ],
   "source": [
    "# Create success rate percentage plot\n",
    "plot2 = eda.plot_success_rates_percentage()\n",
    "plot2"
   ]
  },
  {
   "cell_type": "markdown",
   "id": "c897f1a1",
   "metadata": {},
   "source": [
    "### 3. Successful Trials by Type and Direction"
   ]
  },
  {
   "cell_type": "code",
   "execution_count": 10,
   "id": "99197ade",
   "metadata": {},
   "outputs": [
    {
     "data": {},
     "metadata": {},
     "output_type": "display_data"
    },
    {
     "data": {
      "application/vnd.holoviews_exec.v0+json": "",
      "text/html": [
       "<div id='f6ac1cad-3607-450e-a212-0e448a0f7e86'>\n",
       "  <div id=\"b9cbe1c0-ba7e-4d29-84ce-28be5bed4b38\" data-root-id=\"f6ac1cad-3607-450e-a212-0e448a0f7e86\" style=\"display: contents;\"></div>\n",
       "</div>\n",
       "<script type=\"application/javascript\">(function(root) {\n",
       "  var docs_json = {\"4e716dd3-90ec-4a64-8d36-e43c2ad66aa7\":{\"version\":\"3.8.0\",\"title\":\"Bokeh Application\",\"config\":{\"type\":\"object\",\"name\":\"DocumentConfig\",\"id\":\"59401e2e-2956-41e9-a636-2ac4a7125957\",\"attributes\":{\"notifications\":{\"type\":\"object\",\"name\":\"Notifications\",\"id\":\"fdd9d1c4-be89-49dd-937d-b5419a434a98\"}}},\"roots\":[{\"type\":\"object\",\"name\":\"Row\",\"id\":\"f6ac1cad-3607-450e-a212-0e448a0f7e86\",\"attributes\":{\"name\":\"Row00732\",\"tags\":[\"embedded\"],\"stylesheets\":[\"\\n:host(.pn-loading):before, .pn-loading:before {\\n  background-color: #c3c3c3;\\n  mask-size: auto calc(min(50%, 300px));\\n  -webkit-mask-size: auto calc(min(50%, 300px));\\n}\",{\"type\":\"object\",\"name\":\"ImportedStyleSheet\",\"id\":\"75958846-51ee-419b-81fd-fbb11ae817ab\",\"attributes\":{\"url\":\"https://cdn.holoviz.org/panel/1.8.0/dist/css/loading.css\"}},{\"type\":\"object\",\"name\":\"ImportedStyleSheet\",\"id\":\"15894214-cd71-46bb-a0e3-759566127c44\",\"attributes\":{\"url\":\"https://cdn.holoviz.org/panel/1.8.0/dist/css/listpanel.css\"}},{\"type\":\"object\",\"name\":\"ImportedStyleSheet\",\"id\":\"05e1833d-9bd1-40a5-a57d-43cebad2d747\",\"attributes\":{\"url\":\"https://cdn.holoviz.org/panel/1.8.0/dist/bundled/theme/default.css\"}},{\"type\":\"object\",\"name\":\"ImportedStyleSheet\",\"id\":\"f85ba5af-929d-4543-9469-126ae61f3890\",\"attributes\":{\"url\":\"https://cdn.holoviz.org/panel/1.8.0/dist/bundled/theme/native.css\"}}],\"min_width\":600,\"margin\":0,\"sizing_mode\":\"stretch_width\",\"align\":\"start\",\"children\":[{\"type\":\"object\",\"name\":\"Spacer\",\"id\":\"0b88e5e7-5c43-4fc3-a295-b72596aa0c09\",\"attributes\":{\"name\":\"HSpacer00736\",\"stylesheets\":[\"\\n:host(.pn-loading):before, .pn-loading:before {\\n  background-color: #c3c3c3;\\n  mask-size: auto calc(min(50%, 300px));\\n  -webkit-mask-size: auto calc(min(50%, 300px));\\n}\",{\"id\":\"75958846-51ee-419b-81fd-fbb11ae817ab\"},{\"id\":\"05e1833d-9bd1-40a5-a57d-43cebad2d747\"},{\"id\":\"f85ba5af-929d-4543-9469-126ae61f3890\"}],\"min_width\":0,\"margin\":0,\"sizing_mode\":\"stretch_width\",\"align\":\"start\"}},{\"type\":\"object\",\"name\":\"Figure\",\"id\":\"e97061e3-3175-4dc9-a9b1-c7dbbfecafc2\",\"attributes\":{\"height\":400,\"margin\":[5,10],\"sizing_mode\":\"fixed\",\"align\":\"start\",\"x_range\":{\"type\":\"object\",\"name\":\"FactorRange\",\"id\":\"8a26d4d5-150e-4877-8e9e-9fb8adf7ba31\",\"attributes\":{\"tags\":[[[\"type\",null],[\"direction\",null]],[]],\"factors\":[[\"CONT\",\"L\"],[\"CONT\",\"R\"],[\"GO\",\"L\"],[\"GO\",\"R\"],[\"STOP\",\"L\"],[\"STOP\",\"R\"]]}},\"y_range\":{\"type\":\"object\",\"name\":\"Range1d\",\"id\":\"5e5608a5-8865-4c1f-a107-558c7960d362\",\"attributes\":{\"name\":\"count\",\"tags\":[[[\"count\",null]],{\"type\":\"map\",\"entries\":[[\"invert_yaxis\",false],[\"autorange\",false]]}],\"end\":31627.5,\"reset_start\":0.0,\"reset_end\":31627.5}},\"x_scale\":{\"type\":\"object\",\"name\":\"CategoricalScale\",\"id\":\"528b47fb-c68f-483f-8ef1-5275ca8fa623\"},\"y_scale\":{\"type\":\"object\",\"name\":\"LinearScale\",\"id\":\"579dd178-66a3-4493-a272-898f2c741c89\"},\"title\":{\"type\":\"object\",\"name\":\"Title\",\"id\":\"86d5cc31-2249-4b10-9709-989078f04eb0\",\"attributes\":{\"text\":\"Fiona - Successful Trials by Type and Direction\",\"text_color\":\"black\",\"text_font_size\":\"16pt\"}},\"renderers\":[{\"type\":\"object\",\"name\":\"GlyphRenderer\",\"id\":\"ee29a074-fb8f-4720-82c5-83be57558f6f\",\"attributes\":{\"data_source\":{\"type\":\"object\",\"name\":\"ColumnDataSource\",\"id\":\"b68ed43a-3c83-456c-8a94-1c26efa77f6e\",\"attributes\":{\"selected\":{\"type\":\"object\",\"name\":\"Selection\",\"id\":\"7b2d2321-0832-4606-9cb6-942022c6470f\",\"attributes\":{\"indices\":[],\"line_indices\":[]}},\"selection_policy\":{\"type\":\"object\",\"name\":\"UnionRenderers\",\"id\":\"e7318728-bd7a-4149-9043-f30fd3cafda6\"},\"data\":{\"type\":\"map\",\"entries\":[[\"xoffsets\",[[\"CONT\",\"L\"],[\"GO\",\"L\"],[\"STOP\",\"L\"],[\"CONT\",\"R\"],[\"GO\",\"R\"],[\"STOP\",\"R\"]]],[\"count\",{\"type\":\"ndarray\",\"array\":{\"type\":\"bytes\",\"data\":\"H4sIAAEAAAAC//ujxcBQWMTAkCHOwFCqwcAQD2RzyDIwAAD4nzuIGAAAAA==\"},\"shape\":[6],\"dtype\":\"int32\",\"order\":\"little\"}],[\"type\",[\"CONT\",\"GO\",\"STOP\",\"CONT\",\"GO\",\"STOP\"]],[\"direction\",[\"L\",\"L\",\"L\",\"R\",\"R\",\"R\"]]]}}},\"view\":{\"type\":\"object\",\"name\":\"CDSView\",\"id\":\"8539371a-1540-400c-b71a-a68cd4baa629\",\"attributes\":{\"filter\":{\"type\":\"object\",\"name\":\"AllIndices\",\"id\":\"091f40a2-5a51-42b0-a3a2-cbc4df7d9351\"}}},\"glyph\":{\"type\":\"object\",\"name\":\"VBar\",\"id\":\"9a7b4b63-f1d8-490f-9468-a7bc8452bff2\",\"attributes\":{\"tags\":[\"apply_ranges\"],\"x\":{\"type\":\"field\",\"field\":\"xoffsets\"},\"width\":{\"type\":\"value\",\"value\":0.8},\"top\":{\"type\":\"field\",\"field\":\"count\"},\"fill_color\":{\"type\":\"field\",\"field\":\"direction\",\"transform\":{\"type\":\"object\",\"name\":\"CategoricalColorMapper\",\"id\":\"3bb2d382-8cb3-405b-84a1-2ccd25966e10\",\"attributes\":{\"palette\":[\"#30a2da\",\"#fc4f30\"],\"factors\":[\"L\",\"R\"]}}},\"hatch_color\":{\"type\":\"field\",\"field\":\"direction\",\"transform\":{\"id\":\"3bb2d382-8cb3-405b-84a1-2ccd25966e10\"}}}},\"selection_glyph\":{\"type\":\"object\",\"name\":\"VBar\",\"id\":\"1c1eda58-0951-4239-9c99-7b4d7c8b156c\",\"attributes\":{\"tags\":[\"apply_ranges\"],\"x\":{\"type\":\"field\",\"field\":\"xoffsets\"},\"width\":{\"type\":\"value\",\"value\":0.8},\"bottom\":{\"type\":\"value\",\"value\":0},\"top\":{\"type\":\"field\",\"field\":\"count\"},\"line_color\":{\"type\":\"value\",\"value\":\"black\"},\"line_alpha\":{\"type\":\"value\",\"value\":1.0},\"line_width\":{\"type\":\"value\",\"value\":1},\"line_join\":{\"type\":\"value\",\"value\":\"bevel\"},\"line_cap\":{\"type\":\"value\",\"value\":\"butt\"},\"line_dash\":{\"type\":\"value\",\"value\":[]},\"line_dash_offset\":{\"type\":\"value\",\"value\":0},\"fill_color\":{\"type\":\"field\",\"field\":\"direction\",\"transform\":{\"id\":\"3bb2d382-8cb3-405b-84a1-2ccd25966e10\"}},\"fill_alpha\":{\"type\":\"value\",\"value\":1.0},\"hatch_color\":{\"type\":\"field\",\"field\":\"direction\",\"transform\":{\"id\":\"3bb2d382-8cb3-405b-84a1-2ccd25966e10\"}},\"hatch_alpha\":{\"type\":\"value\",\"value\":1.0},\"hatch_scale\":{\"type\":\"value\",\"value\":12.0},\"hatch_pattern\":{\"type\":\"value\",\"value\":null},\"hatch_weight\":{\"type\":\"value\",\"value\":1.0}}},\"nonselection_glyph\":{\"type\":\"object\",\"name\":\"VBar\",\"id\":\"1361c7d7-8385-465e-a53d-d5b70c860a42\",\"attributes\":{\"tags\":[\"apply_ranges\"],\"x\":{\"type\":\"field\",\"field\":\"xoffsets\"},\"width\":{\"type\":\"value\",\"value\":0.8},\"top\":{\"type\":\"field\",\"field\":\"count\"},\"line_alpha\":{\"type\":\"value\",\"value\":0.1},\"fill_color\":{\"type\":\"field\",\"field\":\"direction\",\"transform\":{\"id\":\"3bb2d382-8cb3-405b-84a1-2ccd25966e10\"}},\"fill_alpha\":{\"type\":\"value\",\"value\":0.1},\"hatch_color\":{\"type\":\"field\",\"field\":\"direction\",\"transform\":{\"id\":\"3bb2d382-8cb3-405b-84a1-2ccd25966e10\"}},\"hatch_alpha\":{\"type\":\"value\",\"value\":0.1}}},\"muted_glyph\":{\"type\":\"object\",\"name\":\"VBar\",\"id\":\"0c3b6910-a7fb-45df-91f0-707e27029946\",\"attributes\":{\"tags\":[\"apply_ranges\"],\"x\":{\"type\":\"field\",\"field\":\"xoffsets\"},\"width\":{\"type\":\"value\",\"value\":0.8},\"top\":{\"type\":\"field\",\"field\":\"count\"},\"line_alpha\":{\"type\":\"value\",\"value\":0.2},\"fill_color\":{\"type\":\"field\",\"field\":\"direction\",\"transform\":{\"id\":\"3bb2d382-8cb3-405b-84a1-2ccd25966e10\"}},\"fill_alpha\":{\"type\":\"value\",\"value\":0.2},\"hatch_color\":{\"type\":\"field\",\"field\":\"direction\",\"transform\":{\"id\":\"3bb2d382-8cb3-405b-84a1-2ccd25966e10\"}},\"hatch_alpha\":{\"type\":\"value\",\"value\":0.2}}}}}],\"toolbar\":{\"type\":\"object\",\"name\":\"Toolbar\",\"id\":\"a8302a7d-f934-44c2-8330-0ceb5e642f94\",\"attributes\":{\"tools\":[{\"type\":\"object\",\"name\":\"WheelZoomTool\",\"id\":\"170912e0-916a-4cf5-93fc-866bd837ad2a\",\"attributes\":{\"tags\":[\"hv_created\"],\"renderers\":\"auto\",\"zoom_together\":\"none\"}},{\"type\":\"object\",\"name\":\"HoverTool\",\"id\":\"bc7a7723-6cd1-4861-8e54-480b7370b46e\",\"attributes\":{\"tags\":[\"hv_created\"],\"renderers\":[{\"id\":\"ee29a074-fb8f-4720-82c5-83be57558f6f\"}],\"tooltips\":[[\"type\",\"@{type}\"],[\"direction\",\"@{direction}\"],[\"count\",\"@{count}\"]],\"sort_by\":null}},{\"type\":\"object\",\"name\":\"SaveTool\",\"id\":\"d6fe2345-4282-413e-b193-763ab9abaa4e\"},{\"type\":\"object\",\"name\":\"PanTool\",\"id\":\"8bc340c2-ec01-4550-a010-885c61d5330a\"},{\"type\":\"object\",\"name\":\"BoxZoomTool\",\"id\":\"d66ea9db-9c75-4f2c-aafb-ffef29d221d3\",\"attributes\":{\"dimensions\":\"both\",\"overlay\":{\"type\":\"object\",\"name\":\"BoxAnnotation\",\"id\":\"0305d268-02ee-4b2a-943a-744b451790c0\",\"attributes\":{\"syncable\":false,\"line_color\":\"black\",\"line_alpha\":1.0,\"line_width\":2,\"line_dash\":[4,4],\"fill_color\":\"lightgrey\",\"fill_alpha\":0.5,\"level\":\"overlay\",\"visible\":false,\"left\":{\"type\":\"number\",\"value\":\"nan\"},\"right\":{\"type\":\"number\",\"value\":\"nan\"},\"top\":{\"type\":\"number\",\"value\":\"nan\"},\"bottom\":{\"type\":\"number\",\"value\":\"nan\"},\"left_units\":\"canvas\",\"right_units\":\"canvas\",\"top_units\":\"canvas\",\"bottom_units\":\"canvas\",\"handles\":{\"type\":\"object\",\"name\":\"BoxInteractionHandles\",\"id\":\"867fc0b7-a3fa-4a60-81ea-02c937dc94a3\",\"attributes\":{\"all\":{\"type\":\"object\",\"name\":\"AreaVisuals\",\"id\":\"a536f3d1-df5c-4b07-a4cd-a7754714910c\",\"attributes\":{\"fill_color\":\"white\",\"hover_fill_color\":\"lightgray\"}}}}}}}},{\"type\":\"object\",\"name\":\"ResetTool\",\"id\":\"0b575d5f-f962-4949-95ba-1a582d844413\"}],\"active_drag\":{\"id\":\"8bc340c2-ec01-4550-a010-885c61d5330a\"},\"active_scroll\":{\"id\":\"170912e0-916a-4cf5-93fc-866bd837ad2a\"}}},\"left\":[{\"type\":\"object\",\"name\":\"LinearAxis\",\"id\":\"50d0c3db-e0e1-42d9-96f6-4a8cdbbcdba4\",\"attributes\":{\"ticker\":{\"type\":\"object\",\"name\":\"BasicTicker\",\"id\":\"03aa9d8f-b1f7-4224-b415-a89eb08c5d9e\",\"attributes\":{\"mantissas\":[1,2,5]}},\"formatter\":{\"type\":\"object\",\"name\":\"BasicTickFormatter\",\"id\":\"b5805208-71f1-4997-95f3-4c1544c141db\"},\"axis_label\":\"Number of Successful Trials\",\"axis_label_text_font_size\":\"14pt\",\"major_label_policy\":{\"type\":\"object\",\"name\":\"AllLabels\",\"id\":\"6a8fe362-7e07-4ff6-92cf-82d6ae09d55c\"},\"major_label_text_font_size\":\"12pt\"}}],\"below\":[{\"type\":\"object\",\"name\":\"CategoricalAxis\",\"id\":\"80a116fc-8606-4f7e-8a83-c8a5c3ca76ab\",\"attributes\":{\"ticker\":{\"type\":\"object\",\"name\":\"CategoricalTicker\",\"id\":\"f993042b-8b61-4b01-a75b-4dc3baace6db\"},\"formatter\":{\"type\":\"object\",\"name\":\"CategoricalTickFormatter\",\"id\":\"bb6e95ce-8807-48de-a358-878d43ef7991\"},\"axis_label\":\"Trial Type\",\"axis_label_text_font_size\":\"14pt\",\"major_label_policy\":{\"type\":\"object\",\"name\":\"AllLabels\",\"id\":\"3299861a-7720-4524-8523-e3c7286a6cc4\"},\"major_label_text_font_size\":\"12pt\",\"group_text_font_size\":\"12pt\"}}],\"center\":[{\"type\":\"object\",\"name\":\"Grid\",\"id\":\"6d0024c7-b766-4b15-8302-5062508b6f07\",\"attributes\":{\"axis\":{\"id\":\"80a116fc-8606-4f7e-8a83-c8a5c3ca76ab\"},\"grid_line_color\":null}},{\"type\":\"object\",\"name\":\"Grid\",\"id\":\"fbd16d47-7ff9-49a4-bebf-75ac6b0467b1\",\"attributes\":{\"dimension\":1,\"axis\":{\"id\":\"50d0c3db-e0e1-42d9-96f6-4a8cdbbcdba4\"},\"grid_line_color\":null}}],\"min_border_top\":10,\"min_border_bottom\":10,\"min_border_left\":10,\"min_border_right\":10,\"output_backend\":\"webgl\"}},{\"type\":\"object\",\"name\":\"Spacer\",\"id\":\"1294c8ad-a6ee-4c76-92be-3224505927ab\",\"attributes\":{\"name\":\"HSpacer00737\",\"stylesheets\":[\"\\n:host(.pn-loading):before, .pn-loading:before {\\n  background-color: #c3c3c3;\\n  mask-size: auto calc(min(50%, 300px));\\n  -webkit-mask-size: auto calc(min(50%, 300px));\\n}\",{\"id\":\"75958846-51ee-419b-81fd-fbb11ae817ab\"},{\"id\":\"05e1833d-9bd1-40a5-a57d-43cebad2d747\"},{\"id\":\"f85ba5af-929d-4543-9469-126ae61f3890\"}],\"min_width\":0,\"margin\":0,\"sizing_mode\":\"stretch_width\",\"align\":\"start\"}}]}}],\"defs\":[{\"type\":\"model\",\"name\":\"ReactiveHTML1\"},{\"type\":\"model\",\"name\":\"FlexBox1\",\"properties\":[{\"name\":\"align_content\",\"kind\":\"Any\",\"default\":\"flex-start\"},{\"name\":\"align_items\",\"kind\":\"Any\",\"default\":\"flex-start\"},{\"name\":\"flex_direction\",\"kind\":\"Any\",\"default\":\"row\"},{\"name\":\"flex_wrap\",\"kind\":\"Any\",\"default\":\"wrap\"},{\"name\":\"gap\",\"kind\":\"Any\",\"default\":\"\"},{\"name\":\"justify_content\",\"kind\":\"Any\",\"default\":\"flex-start\"}]},{\"type\":\"model\",\"name\":\"FloatPanel1\",\"properties\":[{\"name\":\"config\",\"kind\":\"Any\",\"default\":{\"type\":\"map\"}},{\"name\":\"contained\",\"kind\":\"Any\",\"default\":true},{\"name\":\"position\",\"kind\":\"Any\",\"default\":\"right-top\"},{\"name\":\"offsetx\",\"kind\":\"Any\",\"default\":null},{\"name\":\"offsety\",\"kind\":\"Any\",\"default\":null},{\"name\":\"theme\",\"kind\":\"Any\",\"default\":\"primary\"},{\"name\":\"status\",\"kind\":\"Any\",\"default\":\"normalized\"}]},{\"type\":\"model\",\"name\":\"GridStack1\",\"properties\":[{\"name\":\"ncols\",\"kind\":\"Any\",\"default\":null},{\"name\":\"nrows\",\"kind\":\"Any\",\"default\":null},{\"name\":\"allow_resize\",\"kind\":\"Any\",\"default\":true},{\"name\":\"allow_drag\",\"kind\":\"Any\",\"default\":true},{\"name\":\"state\",\"kind\":\"Any\",\"default\":[]}]},{\"type\":\"model\",\"name\":\"drag1\",\"properties\":[{\"name\":\"slider_width\",\"kind\":\"Any\",\"default\":5},{\"name\":\"slider_color\",\"kind\":\"Any\",\"default\":\"black\"},{\"name\":\"start\",\"kind\":\"Any\",\"default\":0},{\"name\":\"end\",\"kind\":\"Any\",\"default\":100},{\"name\":\"value\",\"kind\":\"Any\",\"default\":50}]},{\"type\":\"model\",\"name\":\"click1\",\"properties\":[{\"name\":\"terminal_output\",\"kind\":\"Any\",\"default\":\"\"},{\"name\":\"debug_name\",\"kind\":\"Any\",\"default\":\"\"},{\"name\":\"clears\",\"kind\":\"Any\",\"default\":0}]},{\"type\":\"model\",\"name\":\"ReactiveESM1\",\"properties\":[{\"name\":\"esm_constants\",\"kind\":\"Any\",\"default\":{\"type\":\"map\"}}]},{\"type\":\"model\",\"name\":\"JSComponent1\",\"properties\":[{\"name\":\"esm_constants\",\"kind\":\"Any\",\"default\":{\"type\":\"map\"}}]},{\"type\":\"model\",\"name\":\"ReactComponent1\",\"properties\":[{\"name\":\"use_shadow_dom\",\"kind\":\"Any\",\"default\":true},{\"name\":\"esm_constants\",\"kind\":\"Any\",\"default\":{\"type\":\"map\"}}]},{\"type\":\"model\",\"name\":\"AnyWidgetComponent1\",\"properties\":[{\"name\":\"use_shadow_dom\",\"kind\":\"Any\",\"default\":true},{\"name\":\"esm_constants\",\"kind\":\"Any\",\"default\":{\"type\":\"map\"}}]},{\"type\":\"model\",\"name\":\"FastWrapper1\",\"properties\":[{\"name\":\"object\",\"kind\":\"Any\",\"default\":null},{\"name\":\"style\",\"kind\":\"Any\",\"default\":null}]},{\"type\":\"model\",\"name\":\"NotificationArea1\",\"properties\":[{\"name\":\"js_events\",\"kind\":\"Any\",\"default\":{\"type\":\"map\"}},{\"name\":\"max_notifications\",\"kind\":\"Any\",\"default\":5},{\"name\":\"notifications\",\"kind\":\"Any\",\"default\":[]},{\"name\":\"position\",\"kind\":\"Any\",\"default\":\"bottom-right\"},{\"name\":\"_clear\",\"kind\":\"Any\",\"default\":0},{\"name\":\"types\",\"kind\":\"Any\",\"default\":[{\"type\":\"map\",\"entries\":[[\"type\",\"warning\"],[\"background\",\"#ffc107\"],[\"icon\",{\"type\":\"map\",\"entries\":[[\"className\",\"fas fa-exclamation-triangle\"],[\"tagName\",\"i\"],[\"color\",\"white\"]]}]]},{\"type\":\"map\",\"entries\":[[\"type\",\"info\"],[\"background\",\"#007bff\"],[\"icon\",{\"type\":\"map\",\"entries\":[[\"className\",\"fas fa-info-circle\"],[\"tagName\",\"i\"],[\"color\",\"white\"]]}]]}]}]},{\"type\":\"model\",\"name\":\"Notification\",\"properties\":[{\"name\":\"background\",\"kind\":\"Any\",\"default\":null},{\"name\":\"duration\",\"kind\":\"Any\",\"default\":3000},{\"name\":\"icon\",\"kind\":\"Any\",\"default\":null},{\"name\":\"message\",\"kind\":\"Any\",\"default\":\"\"},{\"name\":\"notification_type\",\"kind\":\"Any\",\"default\":null},{\"name\":\"_rendered\",\"kind\":\"Any\",\"default\":false},{\"name\":\"_destroyed\",\"kind\":\"Any\",\"default\":false}]},{\"type\":\"model\",\"name\":\"TemplateActions1\",\"properties\":[{\"name\":\"open_modal\",\"kind\":\"Any\",\"default\":0},{\"name\":\"close_modal\",\"kind\":\"Any\",\"default\":0}]},{\"type\":\"model\",\"name\":\"BootstrapTemplateActions1\",\"properties\":[{\"name\":\"open_modal\",\"kind\":\"Any\",\"default\":0},{\"name\":\"close_modal\",\"kind\":\"Any\",\"default\":0}]},{\"type\":\"model\",\"name\":\"TemplateEditor1\",\"properties\":[{\"name\":\"layout\",\"kind\":\"Any\",\"default\":[]}]},{\"type\":\"model\",\"name\":\"MaterialTemplateActions1\",\"properties\":[{\"name\":\"open_modal\",\"kind\":\"Any\",\"default\":0},{\"name\":\"close_modal\",\"kind\":\"Any\",\"default\":0}]},{\"type\":\"model\",\"name\":\"request_value1\",\"properties\":[{\"name\":\"fill\",\"kind\":\"Any\",\"default\":\"none\"},{\"name\":\"_synced\",\"kind\":\"Any\",\"default\":null},{\"name\":\"_request_sync\",\"kind\":\"Any\",\"default\":0}]},{\"type\":\"model\",\"name\":\"holoviews.plotting.bokeh.raster.HoverModel\",\"properties\":[{\"name\":\"xy\",\"kind\":\"Any\",\"default\":null},{\"name\":\"data\",\"kind\":\"Any\",\"default\":null}]}]}};\n",
       "  var render_items = [{\"docid\":\"4e716dd3-90ec-4a64-8d36-e43c2ad66aa7\",\"roots\":{\"f6ac1cad-3607-450e-a212-0e448a0f7e86\":\"b9cbe1c0-ba7e-4d29-84ce-28be5bed4b38\"},\"root_ids\":[\"f6ac1cad-3607-450e-a212-0e448a0f7e86\"]}];\n",
       "  var docs = Object.values(docs_json)\n",
       "  if (!docs) {\n",
       "    return\n",
       "  }\n",
       "  const py_version = docs[0].version.replace('rc', '-rc.').replace('.dev', '-dev.')\n",
       "  async function embed_document(root) {\n",
       "    var Bokeh = get_bokeh(root)\n",
       "    await Bokeh.embed.embed_items_notebook(docs_json, render_items);\n",
       "    for (const render_item of render_items) {\n",
       "      for (const root_id of render_item.root_ids) {\n",
       "\tconst id_el = document.getElementById(root_id)\n",
       "\tif (id_el.children.length && id_el.children[0].hasAttribute('data-root-id')) {\n",
       "\t  const root_el = id_el.children[0]\n",
       "\t  root_el.id = root_el.id + '-rendered'\n",
       "\t  for (const child of root_el.children) {\n",
       "            // Ensure JupyterLab does not capture keyboard shortcuts\n",
       "            // see: https://jupyterlab.readthedocs.io/en/4.1.x/extension/notebook.html#keyboard-interaction-model\n",
       "\t    child.setAttribute('data-lm-suppress-shortcuts', 'true')\n",
       "\t  }\n",
       "\t}\n",
       "      }\n",
       "    }\n",
       "  }\n",
       "  function get_bokeh(root) {\n",
       "    if (root.Bokeh === undefined) {\n",
       "      return null\n",
       "    } else if (root.Bokeh.version !== py_version) {\n",
       "      if (root.Bokeh.versions === undefined || !root.Bokeh.versions.has(py_version)) {\n",
       "\treturn null\n",
       "      }\n",
       "      return root.Bokeh.versions.get(py_version);\n",
       "    } else if (root.Bokeh.version === py_version) {\n",
       "      return root.Bokeh\n",
       "    }\n",
       "    return null\n",
       "  }\n",
       "  function is_loaded(root) {\n",
       "    var Bokeh = get_bokeh(root)\n",
       "    return (Bokeh != null && Bokeh.Panel !== undefined)\n",
       "  }\n",
       "  if (is_loaded(root)) {\n",
       "    embed_document(root);\n",
       "  } else {\n",
       "    var attempts = 0;\n",
       "    var timer = setInterval(function(root) {\n",
       "      if (is_loaded(root)) {\n",
       "        clearInterval(timer);\n",
       "        embed_document(root);\n",
       "      } else if (document.readyState == \"complete\") {\n",
       "        attempts++;\n",
       "        if (attempts > 200) {\n",
       "          clearInterval(timer);\n",
       "\t  var Bokeh = get_bokeh(root)\n",
       "\t  if (Bokeh == null || Bokeh.Panel == null) {\n",
       "            console.warn(\"Panel: ERROR: Unable to run Panel code because Bokeh or Panel library is missing\");\n",
       "\t  } else {\n",
       "\t    console.warn(\"Panel: WARNING: Attempting to render but not all required libraries could be resolved.\")\n",
       "\t    embed_document(root)\n",
       "\t  }\n",
       "        }\n",
       "      }\n",
       "    }, 25, root)\n",
       "  }\n",
       "})(window);</script>"
      ],
      "text/plain": [
       ":Bars   [type,direction]   (count)"
      ]
     },
     "execution_count": 10,
     "metadata": {
      "application/vnd.holoviews_exec.v0+json": {
       "id": "f6ac1cad-3607-450e-a212-0e448a0f7e86"
      }
     },
     "output_type": "execute_result"
    }
   ],
   "source": [
    "# Create direction analysis plot\n",
    "plot3 = eda.plot_direction_analysis()\n",
    "plot3"
   ]
  },
  {
   "cell_type": "markdown",
   "id": "327da4c6",
   "metadata": {},
   "source": [
    "### 4. Trial Length Distribution by Type"
   ]
  },
  {
   "cell_type": "code",
   "execution_count": 11,
   "id": "780fe795",
   "metadata": {},
   "outputs": [
    {
     "data": {},
     "metadata": {},
     "output_type": "display_data"
    },
    {
     "data": {
      "application/vnd.holoviews_exec.v0+json": "",
      "text/html": [
       "<div id='f9709ffe-eb8d-4fb4-9cce-722cc1bf6530'>\n",
       "  <div id=\"cbbc99a4-5b65-4a13-a95a-d5e44592f234\" data-root-id=\"f9709ffe-eb8d-4fb4-9cce-722cc1bf6530\" style=\"display: contents;\"></div>\n",
       "</div>\n",
       "<script type=\"application/javascript\">(function(root) {\n",
       "  var docs_json = {\"825bc915-f0dd-4915-a011-7d6ac9388da6\":{\"version\":\"3.8.0\",\"title\":\"Bokeh Application\",\"config\":{\"type\":\"object\",\"name\":\"DocumentConfig\",\"id\":\"980d3fc5-dfa4-45f4-ad03-e83950a1e107\",\"attributes\":{\"notifications\":{\"type\":\"object\",\"name\":\"Notifications\",\"id\":\"a6ac7afd-e4b0-4fa7-92fa-cb1515845cea\"}}},\"roots\":[{\"type\":\"object\",\"name\":\"Row\",\"id\":\"f9709ffe-eb8d-4fb4-9cce-722cc1bf6530\",\"attributes\":{\"name\":\"Row00925\",\"tags\":[\"embedded\"],\"stylesheets\":[\"\\n:host(.pn-loading):before, .pn-loading:before {\\n  background-color: #c3c3c3;\\n  mask-size: auto calc(min(50%, 300px));\\n  -webkit-mask-size: auto calc(min(50%, 300px));\\n}\",{\"type\":\"object\",\"name\":\"ImportedStyleSheet\",\"id\":\"180c6571-d4d4-4894-8971-9b043644e733\",\"attributes\":{\"url\":\"https://cdn.holoviz.org/panel/1.8.0/dist/css/loading.css\"}},{\"type\":\"object\",\"name\":\"ImportedStyleSheet\",\"id\":\"f1fbfec9-27d8-4ce5-95d1-85bb13892440\",\"attributes\":{\"url\":\"https://cdn.holoviz.org/panel/1.8.0/dist/css/listpanel.css\"}},{\"type\":\"object\",\"name\":\"ImportedStyleSheet\",\"id\":\"ba2abbff-9cc4-4475-8013-16ce04c64783\",\"attributes\":{\"url\":\"https://cdn.holoviz.org/panel/1.8.0/dist/bundled/theme/default.css\"}},{\"type\":\"object\",\"name\":\"ImportedStyleSheet\",\"id\":\"cf5a8581-2970-437b-8728-5d991830fc1b\",\"attributes\":{\"url\":\"https://cdn.holoviz.org/panel/1.8.0/dist/bundled/theme/native.css\"}}],\"min_width\":800,\"margin\":0,\"sizing_mode\":\"stretch_width\",\"align\":\"start\",\"children\":[{\"type\":\"object\",\"name\":\"Spacer\",\"id\":\"e6d36731-ac0a-4db1-b679-a546cedbc05d\",\"attributes\":{\"name\":\"HSpacer00929\",\"stylesheets\":[\"\\n:host(.pn-loading):before, .pn-loading:before {\\n  background-color: #c3c3c3;\\n  mask-size: auto calc(min(50%, 300px));\\n  -webkit-mask-size: auto calc(min(50%, 300px));\\n}\",{\"id\":\"180c6571-d4d4-4894-8971-9b043644e733\"},{\"id\":\"ba2abbff-9cc4-4475-8013-16ce04c64783\"},{\"id\":\"cf5a8581-2970-437b-8728-5d991830fc1b\"}],\"min_width\":0,\"margin\":0,\"sizing_mode\":\"stretch_width\",\"align\":\"start\"}},{\"type\":\"object\",\"name\":\"Figure\",\"id\":\"3e460027-94fb-4e11-ac21-f239fe9ea2d0\",\"attributes\":{\"width\":800,\"height\":400,\"margin\":[5,10],\"sizing_mode\":\"fixed\",\"align\":\"start\",\"x_range\":{\"type\":\"object\",\"name\":\"Range1d\",\"id\":\"db21f5c3-0a82-48e3-8e96-e7f3d6d7d323\",\"attributes\":{\"name\":\"trial_length\",\"tags\":[[[\"trial_length\",null]],[]],\"start\":891.25,\"end\":2315.75,\"reset_start\":891.25,\"reset_end\":2315.75}},\"y_range\":{\"type\":\"object\",\"name\":\"Range1d\",\"id\":\"64f09204-bef3-4380-93e4-4e48cbbfa586\",\"attributes\":{\"name\":\"trial_length_count\",\"tags\":[[[\"Count\",null]],{\"type\":\"map\",\"entries\":[[\"invert_yaxis\",false],[\"autorange\",false]]}],\"end\":8498.6,\"reset_start\":0.0,\"reset_end\":8498.6}},\"x_scale\":{\"type\":\"object\",\"name\":\"LinearScale\",\"id\":\"2ce854b7-77cf-4b0c-b013-7552bd18ef09\"},\"y_scale\":{\"type\":\"object\",\"name\":\"LinearScale\",\"id\":\"be9e36e1-3933-40f5-8790-52117ff5475c\"},\"title\":{\"type\":\"object\",\"name\":\"Title\",\"id\":\"7fea2325-31b5-4d10-acfd-8fefabd93495\",\"attributes\":{\"text\":\"Fiona - Trial Length Distribution by Type\",\"text_color\":\"black\",\"text_font_size\":\"16pt\"}},\"renderers\":[{\"type\":\"object\",\"name\":\"GlyphRenderer\",\"id\":\"547d4e07-5891-45e3-b4f0-e2815448d883\",\"attributes\":{\"name\":\"CONT\",\"data_source\":{\"type\":\"object\",\"name\":\"ColumnDataSource\",\"id\":\"67589e28-a06e-460d-bae9-f0c62a9f0181\",\"attributes\":{\"selected\":{\"type\":\"object\",\"name\":\"Selection\",\"id\":\"584d2248-5353-4a9f-8e76-d29c3f64d848\",\"attributes\":{\"indices\":[],\"line_indices\":[]}},\"selection_policy\":{\"type\":\"object\",\"name\":\"UnionRenderers\",\"id\":\"a8bf8129-c11c-4195-b91d-d0b5b0f7c61f\"},\"data\":{\"type\":\"map\",\"entries\":[[\"top\",{\"type\":\"ndarray\",\"array\":{\"type\":\"bytes\",\"data\":\"H4sIAAEAAAAC/5XKTQpAUBiF4UNJrpu/mZmxom4GZqYWpizAHgyU7INVedXdgK+ewXfOkf5fiAhzIO3YsGLBhQMnejYDHDpYFKiQo/R/4rsMqc8+DVpMuGPpMWQMLBwMaozkLzSzSVTIAAAA\"},\"shape\":[50],\"dtype\":\"int32\",\"order\":\"little\"}],[\"left\",{\"type\":\"ndarray\",\"array\":{\"type\":\"bytes\",\"data\":\"H4sIAAEAAAAC/yXMLUtDYRTA8cuSaclkMlkUwyxLcoJpyS8whA0GS0smQVgy7e6+7t7nuW/PLUuCYPILzLIZTCZBMJlsC2Nh9+H/b4fzO8dxmn5mcmV7cWVke5zLx6bpzGN2PbHM2XqiVVPfx6983EWAiwLcPsANQ9w6xHUinI5wrRg3jnGfMa67wJkF7ijBTRLcVyKWba5T3DLFtRXuXuG+Fe5G45417jjDPWS43wzXy3GvOe6kwE0L3F+Buy1xbyXutBLL1FOF+6/YnxvmO4MLDffvhr87g7uscYNaDut+TmaQAQAA\"},\"shape\":[50],\"dtype\":\"float64\",\"order\":\"little\"}],[\"right\",{\"type\":\"ndarray\",\"array\":{\"type\":\"bytes\",\"data\":\"H4sIAAEAAAAC/yXMq24CURCA4QZVhUJVoTAQBGtQ5AgUihcgJJCQoFCoJiRVdcvel7PXswZF0qSqL0ANVFRVoVAoHIJUsCf/7ybzzRhG2YcpZrrVWvwcyxoWs2mJJ93NEpEsG9lCc2Nv41oOznNw/w5u6uIOLq7j4SIPV/Fxcx/36+O6AU4FuOcQtwhxf6HQ7Njb4LYbXFXilhJ3krh+hNtFuFqMe41x5xg3SHCfCe4lxb2luEuKG2a4rwxXz4Vm8j3HXXP2TcU8VjhXcf+t+HtXuHaBmxS4oBAPzLS+D5ABAAA=\"},\"shape\":[50],\"dtype\":\"float64\",\"order\":\"little\"}],[\"trial_length\",{\"type\":\"ndarray\",\"array\":{\"type\":\"bytes\",\"data\":\"H4sIAAEAAAAC/yXQrW4CQRRAYQwKRUIgiD4AqoKgaqaCUAEKV4VCoVCQEIKoLiwL+zPsLrNBkZAgCKoOhQAUCoVaxQtU0c6cI+/9rpiR/n+1b3HS5ccipUvGQur550SUdYeJOOt9yRJtnWXhfi1ca4o7TnGvNs61cU8b157hLjNcZY4L57i0g+s4uKuDe3NxKxeX8YRmftfD3Tzcu49b+7isxPUk7i5xtQVuu8AVAtwwwCUBrhHi9iHuJcJ9RbhHxL81l7ifpXGjrDLzelWZ9xT7yuyTjTJ3u7vC5WLcR4wbxOIP6NCZfJABAAA=\"},\"shape\":[50],\"dtype\":\"float64\",\"order\":\"little\"}],[\"trial_length_count\",{\"type\":\"ndarray\",\"array\":{\"type\":\"bytes\",\"data\":\"H4sIAAEAAAAC/5XKTQpAUBiF4UNJrpu/mZmxom4GZqYWpizAHgyU7INVedXdgK+ewXfOkf5fiAhzIO3YsGLBhQMnejYDHDpYFKiQo/R/4rsMqc8+DVpMuGPpMWQMLBwMaozkLzSzSVTIAAAA\"},\"shape\":[50],\"dtype\":\"int32\",\"order\":\"little\"}],[\"type\",[\"CONT\",\"CONT\",\"CONT\",\"CONT\",\"CONT\",\"CONT\",\"CONT\",\"CONT\",\"CONT\",\"CONT\",\"CONT\",\"CONT\",\"CONT\",\"CONT\",\"CONT\",\"CONT\",\"CONT\",\"CONT\",\"CONT\",\"CONT\",\"CONT\",\"CONT\",\"CONT\",\"CONT\",\"CONT\",\"CONT\",\"CONT\",\"CONT\",\"CONT\",\"CONT\",\"CONT\",\"CONT\",\"CONT\",\"CONT\",\"CONT\",\"CONT\",\"CONT\",\"CONT\",\"CONT\",\"CONT\",\"CONT\",\"CONT\",\"CONT\",\"CONT\",\"CONT\",\"CONT\",\"CONT\",\"CONT\",\"CONT\",\"CONT\"]]]}}},\"view\":{\"type\":\"object\",\"name\":\"CDSView\",\"id\":\"328bc33d-41af-4789-8db7-43874437dd49\",\"attributes\":{\"filter\":{\"type\":\"object\",\"name\":\"AllIndices\",\"id\":\"e42ce9d6-ee33-44c5-9d5c-3f4f62069be0\"}}},\"glyph\":{\"type\":\"object\",\"name\":\"Quad\",\"id\":\"a57cf328-918e-4adf-b6ea-f750364216a3\",\"attributes\":{\"tags\":[\"apply_ranges\"],\"left\":{\"type\":\"field\",\"field\":\"left\"},\"right\":{\"type\":\"field\",\"field\":\"right\"},\"bottom\":{\"type\":\"value\",\"value\":0},\"top\":{\"type\":\"field\",\"field\":\"top\"},\"line_alpha\":{\"type\":\"value\",\"value\":0.7},\"fill_color\":{\"type\":\"value\",\"value\":\"#30a2da\"},\"fill_alpha\":{\"type\":\"value\",\"value\":0.7},\"hatch_color\":{\"type\":\"value\",\"value\":\"#30a2da\"},\"hatch_alpha\":{\"type\":\"value\",\"value\":0.7}}},\"selection_glyph\":{\"type\":\"object\",\"name\":\"Quad\",\"id\":\"e9873084-685b-4aa4-b3c1-e150d09c5be8\",\"attributes\":{\"tags\":[\"apply_ranges\"],\"left\":{\"type\":\"field\",\"field\":\"left\"},\"right\":{\"type\":\"field\",\"field\":\"right\"},\"bottom\":{\"type\":\"value\",\"value\":0},\"top\":{\"type\":\"field\",\"field\":\"top\"},\"line_color\":{\"type\":\"value\",\"value\":\"black\"},\"line_alpha\":{\"type\":\"value\",\"value\":0.7},\"line_width\":{\"type\":\"value\",\"value\":1},\"line_join\":{\"type\":\"value\",\"value\":\"bevel\"},\"line_cap\":{\"type\":\"value\",\"value\":\"butt\"},\"line_dash\":{\"type\":\"value\",\"value\":[]},\"line_dash_offset\":{\"type\":\"value\",\"value\":0},\"fill_color\":{\"type\":\"value\",\"value\":\"#30a2da\"},\"fill_alpha\":{\"type\":\"value\",\"value\":0.7},\"hatch_color\":{\"type\":\"value\",\"value\":\"#30a2da\"},\"hatch_alpha\":{\"type\":\"value\",\"value\":0.7},\"hatch_scale\":{\"type\":\"value\",\"value\":12.0},\"hatch_pattern\":{\"type\":\"value\",\"value\":null},\"hatch_weight\":{\"type\":\"value\",\"value\":1.0}}},\"nonselection_glyph\":{\"type\":\"object\",\"name\":\"Quad\",\"id\":\"8dda9717-68e6-4216-b8d3-ecacc8f7ef9c\",\"attributes\":{\"tags\":[\"apply_ranges\"],\"left\":{\"type\":\"field\",\"field\":\"left\"},\"right\":{\"type\":\"field\",\"field\":\"right\"},\"bottom\":{\"type\":\"value\",\"value\":0},\"top\":{\"type\":\"field\",\"field\":\"top\"},\"line_alpha\":{\"type\":\"value\",\"value\":0.7},\"fill_color\":{\"type\":\"value\",\"value\":\"#30a2da\"},\"fill_alpha\":{\"type\":\"value\",\"value\":0.7},\"hatch_color\":{\"type\":\"value\",\"value\":\"#30a2da\"},\"hatch_alpha\":{\"type\":\"value\",\"value\":0.1}}},\"muted_glyph\":{\"type\":\"object\",\"name\":\"Quad\",\"id\":\"feb5f35b-e8a7-4d06-a8b6-f3a003deff0d\",\"attributes\":{\"tags\":[\"apply_ranges\"],\"left\":{\"type\":\"field\",\"field\":\"left\"},\"right\":{\"type\":\"field\",\"field\":\"right\"},\"bottom\":{\"type\":\"value\",\"value\":0},\"top\":{\"type\":\"field\",\"field\":\"top\"},\"line_alpha\":{\"type\":\"value\",\"value\":0.2},\"fill_color\":{\"type\":\"value\",\"value\":\"#30a2da\"},\"fill_alpha\":{\"type\":\"value\",\"value\":0.2},\"hatch_color\":{\"type\":\"value\",\"value\":\"#30a2da\"},\"hatch_alpha\":{\"type\":\"value\",\"value\":0.2}}}}},{\"type\":\"object\",\"name\":\"GlyphRenderer\",\"id\":\"08eb1cee-e257-4f4b-a205-00ab22c52b3a\",\"attributes\":{\"name\":\"GO\",\"data_source\":{\"type\":\"object\",\"name\":\"ColumnDataSource\",\"id\":\"61f9c65c-1d7c-4560-ab5b-a84ef28a42cd\",\"attributes\":{\"selected\":{\"type\":\"object\",\"name\":\"Selection\",\"id\":\"8c55ae31-3502-4000-9ca9-1ff5ee9fbf76\",\"attributes\":{\"indices\":[],\"line_indices\":[]}},\"selection_policy\":{\"type\":\"object\",\"name\":\"UnionRenderers\",\"id\":\"144bec27-0354-429b-8bf3-ef20f4383452\"},\"data\":{\"type\":\"map\",\"entries\":[[\"top\",{\"type\":\"ndarray\",\"array\":{\"type\":\"bytes\",\"data\":\"H4sIAAEAAAAC/33OLQqAYAyH8RmMZhE/QPATUbQLGjyBWYPVYhA8gN17eBOTzehhfMKbHfwY2+DPRP5LhwUXPnJkKDFiwoAei9rNWFGhQYoakRIigQNb3WMEaFXehh0XDI3ZFHl54sSBwhN56Dc6gj5JlK9SyAAAAA==\"},\"shape\":[50],\"dtype\":\"int32\",\"order\":\"little\"}],[\"left\",{\"type\":\"ndarray\",\"array\":{\"type\":\"bytes\",\"data\":\"H4sIAAEAAAAC/yXMLUtDYRTA8cuSaclkMlkUwyxLcoJpyS8whA0GS0smQVgy7e6+7t7nuW/PLUuCYPILzLIZTCZBMJlsC2Nh9+H/b4fzO8dxmn5mcmV7cWVke5zLx6bpzGN2PbHM2XqiVVPfx6983EWAiwLcPsANQ9w6xHUinI5wrRg3jnGfMa67wJkF7ijBTRLcVyKWba5T3DLFtRXuXuG+Fe5G45417jjDPWS43wzXy3GvOe6kwE0L3F+Buy1xbyXutBLL1FOF+6/YnxvmO4MLDffvhr87g7uscYNaDut+TmaQAQAA\"},\"shape\":[50],\"dtype\":\"float64\",\"order\":\"little\"}],[\"right\",{\"type\":\"ndarray\",\"array\":{\"type\":\"bytes\",\"data\":\"H4sIAAEAAAAC/yXMq24CURCA4QZVhUJVoTAQBGtQ5AgUihcgJJCQoFCoJiRVdcvel7PXswZF0qSqL0ANVFRVoVAoHIJUsCf/7ybzzRhG2YcpZrrVWvwcyxoWs2mJJ93NEpEsG9lCc2Nv41oOznNw/w5u6uIOLq7j4SIPV/Fxcx/36+O6AU4FuOcQtwhxf6HQ7Njb4LYbXFXilhJ3krh+hNtFuFqMe41x5xg3SHCfCe4lxb2luEuKG2a4rwxXz4Vm8j3HXXP2TcU8VjhXcf+t+HtXuHaBmxS4oBAPzLS+D5ABAAA=\"},\"shape\":[50],\"dtype\":\"float64\",\"order\":\"little\"}],[\"trial_length\",{\"type\":\"ndarray\",\"array\":{\"type\":\"bytes\",\"data\":\"H4sIAAEAAAAC/yXQrW4CQRRAYQwKRUIgiD4AqoKgaqaCUAEKV4VCoVCQEIKoLiwL+zPsLrNBkZAgCKoOhQAUCoVaxQtU0c6cI+/9rpiR/n+1b3HS5ccipUvGQur550SUdYeJOOt9yRJtnWXhfi1ca4o7TnGvNs61cU8b157hLjNcZY4L57i0g+s4uKuDe3NxKxeX8YRmftfD3Tzcu49b+7isxPUk7i5xtQVuu8AVAtwwwCUBrhHi9iHuJcJ9RbhHxL81l7ifpXGjrDLzelWZ9xT7yuyTjTJ3u7vC5WLcR4wbxOIP6NCZfJABAAA=\"},\"shape\":[50],\"dtype\":\"float64\",\"order\":\"little\"}],[\"trial_length_count\",{\"type\":\"ndarray\",\"array\":{\"type\":\"bytes\",\"data\":\"H4sIAAEAAAAC/33OLQqAYAyH8RmMZhE/QPATUbQLGjyBWYPVYhA8gN17eBOTzehhfMKbHfwY2+DPRP5LhwUXPnJkKDFiwoAei9rNWFGhQYoakRIigQNb3WMEaFXehh0XDI3ZFHl54sSBwhN56Dc6gj5JlK9SyAAAAA==\"},\"shape\":[50],\"dtype\":\"int32\",\"order\":\"little\"}],[\"type\",[\"GO\",\"GO\",\"GO\",\"GO\",\"GO\",\"GO\",\"GO\",\"GO\",\"GO\",\"GO\",\"GO\",\"GO\",\"GO\",\"GO\",\"GO\",\"GO\",\"GO\",\"GO\",\"GO\",\"GO\",\"GO\",\"GO\",\"GO\",\"GO\",\"GO\",\"GO\",\"GO\",\"GO\",\"GO\",\"GO\",\"GO\",\"GO\",\"GO\",\"GO\",\"GO\",\"GO\",\"GO\",\"GO\",\"GO\",\"GO\",\"GO\",\"GO\",\"GO\",\"GO\",\"GO\",\"GO\",\"GO\",\"GO\",\"GO\",\"GO\"]]]}}},\"view\":{\"type\":\"object\",\"name\":\"CDSView\",\"id\":\"86ad144b-b360-42fd-ad74-2185b78fd782\",\"attributes\":{\"filter\":{\"type\":\"object\",\"name\":\"AllIndices\",\"id\":\"c9ea39f5-1eff-4534-99c3-c8df39953767\"}}},\"glyph\":{\"type\":\"object\",\"name\":\"Quad\",\"id\":\"84d96c9c-4a05-49c3-beff-f311966e6439\",\"attributes\":{\"tags\":[\"apply_ranges\"],\"left\":{\"type\":\"field\",\"field\":\"left\"},\"right\":{\"type\":\"field\",\"field\":\"right\"},\"bottom\":{\"type\":\"value\",\"value\":0},\"top\":{\"type\":\"field\",\"field\":\"top\"},\"line_alpha\":{\"type\":\"value\",\"value\":0.7},\"fill_color\":{\"type\":\"value\",\"value\":\"#fc4f30\"},\"fill_alpha\":{\"type\":\"value\",\"value\":0.7},\"hatch_color\":{\"type\":\"value\",\"value\":\"#fc4f30\"},\"hatch_alpha\":{\"type\":\"value\",\"value\":0.7}}},\"selection_glyph\":{\"type\":\"object\",\"name\":\"Quad\",\"id\":\"9ed963d5-e085-4f48-88c2-b8dea4194b22\",\"attributes\":{\"tags\":[\"apply_ranges\"],\"left\":{\"type\":\"field\",\"field\":\"left\"},\"right\":{\"type\":\"field\",\"field\":\"right\"},\"bottom\":{\"type\":\"value\",\"value\":0},\"top\":{\"type\":\"field\",\"field\":\"top\"},\"line_color\":{\"type\":\"value\",\"value\":\"black\"},\"line_alpha\":{\"type\":\"value\",\"value\":0.7},\"line_width\":{\"type\":\"value\",\"value\":1},\"line_join\":{\"type\":\"value\",\"value\":\"bevel\"},\"line_cap\":{\"type\":\"value\",\"value\":\"butt\"},\"line_dash\":{\"type\":\"value\",\"value\":[]},\"line_dash_offset\":{\"type\":\"value\",\"value\":0},\"fill_color\":{\"type\":\"value\",\"value\":\"#fc4f30\"},\"fill_alpha\":{\"type\":\"value\",\"value\":0.7},\"hatch_color\":{\"type\":\"value\",\"value\":\"#fc4f30\"},\"hatch_alpha\":{\"type\":\"value\",\"value\":0.7},\"hatch_scale\":{\"type\":\"value\",\"value\":12.0},\"hatch_pattern\":{\"type\":\"value\",\"value\":null},\"hatch_weight\":{\"type\":\"value\",\"value\":1.0}}},\"nonselection_glyph\":{\"type\":\"object\",\"name\":\"Quad\",\"id\":\"f4d8e10e-cddf-497c-83c0-4ed36cd94c83\",\"attributes\":{\"tags\":[\"apply_ranges\"],\"left\":{\"type\":\"field\",\"field\":\"left\"},\"right\":{\"type\":\"field\",\"field\":\"right\"},\"bottom\":{\"type\":\"value\",\"value\":0},\"top\":{\"type\":\"field\",\"field\":\"top\"},\"line_alpha\":{\"type\":\"value\",\"value\":0.7},\"fill_color\":{\"type\":\"value\",\"value\":\"#fc4f30\"},\"fill_alpha\":{\"type\":\"value\",\"value\":0.7},\"hatch_color\":{\"type\":\"value\",\"value\":\"#fc4f30\"},\"hatch_alpha\":{\"type\":\"value\",\"value\":0.1}}},\"muted_glyph\":{\"type\":\"object\",\"name\":\"Quad\",\"id\":\"3138231c-e184-4a8d-9476-964b5f5c57b9\",\"attributes\":{\"tags\":[\"apply_ranges\"],\"left\":{\"type\":\"field\",\"field\":\"left\"},\"right\":{\"type\":\"field\",\"field\":\"right\"},\"bottom\":{\"type\":\"value\",\"value\":0},\"top\":{\"type\":\"field\",\"field\":\"top\"},\"line_alpha\":{\"type\":\"value\",\"value\":0.2},\"fill_color\":{\"type\":\"value\",\"value\":\"#fc4f30\"},\"fill_alpha\":{\"type\":\"value\",\"value\":0.2},\"hatch_color\":{\"type\":\"value\",\"value\":\"#fc4f30\"},\"hatch_alpha\":{\"type\":\"value\",\"value\":0.2}}}}},{\"type\":\"object\",\"name\":\"GlyphRenderer\",\"id\":\"f079de0c-6ea4-4b1b-803d-81ad0702a6c1\",\"attributes\":{\"name\":\"STOP\",\"data_source\":{\"type\":\"object\",\"name\":\"ColumnDataSource\",\"id\":\"4371ddc7-29bf-45f0-9666-1e2b2d6e18c8\",\"attributes\":{\"selected\":{\"type\":\"object\",\"name\":\"Selection\",\"id\":\"042f1dc4-3100-476a-be49-ffd02d07bc28\",\"attributes\":{\"indices\":[],\"line_indices\":[]}},\"selection_policy\":{\"type\":\"object\",\"name\":\"UnionRenderers\",\"id\":\"f87a89bf-3d5e-4f45-8110-cd0f49f4d82b\"},\"data\":{\"type\":\"map\",\"entries\":[[\"top\",{\"type\":\"ndarray\",\"array\":{\"type\":\"bytes\",\"data\":\"H4sIAAEAAAAC/2NkYGBgBGIOKGYGYnYo5gZiTiBmgsqxATELlA0SY4WqZ4HKcUJpQSAOBeIiID4ExN+A+CvQkgNAxSJAxVZARZlA/AJoSQ/QsGSgxkgg1gKyNYBigUCDDwHVdQEtqQdiMUaE20AYGwAAYiH0rsgAAAA=\"},\"shape\":[50],\"dtype\":\"int32\",\"order\":\"little\"}],[\"left\",{\"type\":\"ndarray\",\"array\":{\"type\":\"bytes\",\"data\":\"H4sIAAEAAAAC/yXMLUtDYRTA8cuSaclkMlkUwyxLcoJpyS8whA0GS0smQVgy7e6+7t7nuW/PLUuCYPILzLIZTCZBMJlsC2Nh9+H/b4fzO8dxmn5mcmV7cWVke5zLx6bpzGN2PbHM2XqiVVPfx6983EWAiwLcPsANQ9w6xHUinI5wrRg3jnGfMa67wJkF7ijBTRLcVyKWba5T3DLFtRXuXuG+Fe5G45417jjDPWS43wzXy3GvOe6kwE0L3F+Buy1xbyXutBLL1FOF+6/YnxvmO4MLDffvhr87g7uscYNaDut+TmaQAQAA\"},\"shape\":[50],\"dtype\":\"float64\",\"order\":\"little\"}],[\"right\",{\"type\":\"ndarray\",\"array\":{\"type\":\"bytes\",\"data\":\"H4sIAAEAAAAC/yXMq24CURCA4QZVhUJVoTAQBGtQ5AgUihcgJJCQoFCoJiRVdcvel7PXswZF0qSqL0ANVFRVoVAoHIJUsCf/7ybzzRhG2YcpZrrVWvwcyxoWs2mJJ93NEpEsG9lCc2Nv41oOznNw/w5u6uIOLq7j4SIPV/Fxcx/36+O6AU4FuOcQtwhxf6HQ7Njb4LYbXFXilhJ3krh+hNtFuFqMe41x5xg3SHCfCe4lxb2luEuKG2a4rwxXz4Vm8j3HXXP2TcU8VjhXcf+t+HtXuHaBmxS4oBAPzLS+D5ABAAA=\"},\"shape\":[50],\"dtype\":\"float64\",\"order\":\"little\"}],[\"trial_length\",{\"type\":\"ndarray\",\"array\":{\"type\":\"bytes\",\"data\":\"H4sIAAEAAAAC/yXQrW4CQRRAYQwKRUIgiD4AqoKgaqaCUAEKV4VCoVCQEIKoLiwL+zPsLrNBkZAgCKoOhQAUCoVaxQtU0c6cI+/9rpiR/n+1b3HS5ccipUvGQur550SUdYeJOOt9yRJtnWXhfi1ca4o7TnGvNs61cU8b157hLjNcZY4L57i0g+s4uKuDe3NxKxeX8YRmftfD3Tzcu49b+7isxPUk7i5xtQVuu8AVAtwwwCUBrhHi9iHuJcJ9RbhHxL81l7ifpXGjrDLzelWZ9xT7yuyTjTJ3u7vC5WLcR4wbxOIP6NCZfJABAAA=\"},\"shape\":[50],\"dtype\":\"float64\",\"order\":\"little\"}],[\"trial_length_count\",{\"type\":\"ndarray\",\"array\":{\"type\":\"bytes\",\"data\":\"H4sIAAEAAAAC/2NkYGBgBGIOKGYGYnYo5gZiTiBmgsqxATELlA0SY4WqZ4HKcUJpQSAOBeIiID4ExN+A+CvQkgNAxSJAxVZARZlA/AJoSQ/QsGSgxkgg1gKyNYBigUCDDwHVdQEtqQdiMUaE20AYGwAAYiH0rsgAAAA=\"},\"shape\":[50],\"dtype\":\"int32\",\"order\":\"little\"}],[\"type\",[\"STOP\",\"STOP\",\"STOP\",\"STOP\",\"STOP\",\"STOP\",\"STOP\",\"STOP\",\"STOP\",\"STOP\",\"STOP\",\"STOP\",\"STOP\",\"STOP\",\"STOP\",\"STOP\",\"STOP\",\"STOP\",\"STOP\",\"STOP\",\"STOP\",\"STOP\",\"STOP\",\"STOP\",\"STOP\",\"STOP\",\"STOP\",\"STOP\",\"STOP\",\"STOP\",\"STOP\",\"STOP\",\"STOP\",\"STOP\",\"STOP\",\"STOP\",\"STOP\",\"STOP\",\"STOP\",\"STOP\",\"STOP\",\"STOP\",\"STOP\",\"STOP\",\"STOP\",\"STOP\",\"STOP\",\"STOP\",\"STOP\",\"STOP\"]]]}}},\"view\":{\"type\":\"object\",\"name\":\"CDSView\",\"id\":\"3e2c51ab-adc3-4190-bc1a-7f10ab45b395\",\"attributes\":{\"filter\":{\"type\":\"object\",\"name\":\"AllIndices\",\"id\":\"0f9971d5-f891-43f7-bd91-a8d723f37da8\"}}},\"glyph\":{\"type\":\"object\",\"name\":\"Quad\",\"id\":\"4bc6c37c-d8f6-4933-a69c-cc03e3ba1255\",\"attributes\":{\"tags\":[\"apply_ranges\"],\"left\":{\"type\":\"field\",\"field\":\"left\"},\"right\":{\"type\":\"field\",\"field\":\"right\"},\"bottom\":{\"type\":\"value\",\"value\":0},\"top\":{\"type\":\"field\",\"field\":\"top\"},\"line_alpha\":{\"type\":\"value\",\"value\":0.7},\"fill_color\":{\"type\":\"value\",\"value\":\"#e5ae38\"},\"fill_alpha\":{\"type\":\"value\",\"value\":0.7},\"hatch_color\":{\"type\":\"value\",\"value\":\"#e5ae38\"},\"hatch_alpha\":{\"type\":\"value\",\"value\":0.7}}},\"selection_glyph\":{\"type\":\"object\",\"name\":\"Quad\",\"id\":\"d6abf044-8728-478f-992d-250cf735d7dc\",\"attributes\":{\"tags\":[\"apply_ranges\"],\"left\":{\"type\":\"field\",\"field\":\"left\"},\"right\":{\"type\":\"field\",\"field\":\"right\"},\"bottom\":{\"type\":\"value\",\"value\":0},\"top\":{\"type\":\"field\",\"field\":\"top\"},\"line_color\":{\"type\":\"value\",\"value\":\"black\"},\"line_alpha\":{\"type\":\"value\",\"value\":0.7},\"line_width\":{\"type\":\"value\",\"value\":1},\"line_join\":{\"type\":\"value\",\"value\":\"bevel\"},\"line_cap\":{\"type\":\"value\",\"value\":\"butt\"},\"line_dash\":{\"type\":\"value\",\"value\":[]},\"line_dash_offset\":{\"type\":\"value\",\"value\":0},\"fill_color\":{\"type\":\"value\",\"value\":\"#e5ae38\"},\"fill_alpha\":{\"type\":\"value\",\"value\":0.7},\"hatch_color\":{\"type\":\"value\",\"value\":\"#e5ae38\"},\"hatch_alpha\":{\"type\":\"value\",\"value\":0.7},\"hatch_scale\":{\"type\":\"value\",\"value\":12.0},\"hatch_pattern\":{\"type\":\"value\",\"value\":null},\"hatch_weight\":{\"type\":\"value\",\"value\":1.0}}},\"nonselection_glyph\":{\"type\":\"object\",\"name\":\"Quad\",\"id\":\"a7aa3fc2-4d68-4022-97e1-391c16e64c3b\",\"attributes\":{\"tags\":[\"apply_ranges\"],\"left\":{\"type\":\"field\",\"field\":\"left\"},\"right\":{\"type\":\"field\",\"field\":\"right\"},\"bottom\":{\"type\":\"value\",\"value\":0},\"top\":{\"type\":\"field\",\"field\":\"top\"},\"line_alpha\":{\"type\":\"value\",\"value\":0.7},\"fill_color\":{\"type\":\"value\",\"value\":\"#e5ae38\"},\"fill_alpha\":{\"type\":\"value\",\"value\":0.7},\"hatch_color\":{\"type\":\"value\",\"value\":\"#e5ae38\"},\"hatch_alpha\":{\"type\":\"value\",\"value\":0.1}}},\"muted_glyph\":{\"type\":\"object\",\"name\":\"Quad\",\"id\":\"b4c1207b-7e5a-4115-8a68-5eda1b684beb\",\"attributes\":{\"tags\":[\"apply_ranges\"],\"left\":{\"type\":\"field\",\"field\":\"left\"},\"right\":{\"type\":\"field\",\"field\":\"right\"},\"bottom\":{\"type\":\"value\",\"value\":0},\"top\":{\"type\":\"field\",\"field\":\"top\"},\"line_alpha\":{\"type\":\"value\",\"value\":0.2},\"fill_color\":{\"type\":\"value\",\"value\":\"#e5ae38\"},\"fill_alpha\":{\"type\":\"value\",\"value\":0.2},\"hatch_color\":{\"type\":\"value\",\"value\":\"#e5ae38\"},\"hatch_alpha\":{\"type\":\"value\",\"value\":0.2}}}}}],\"toolbar\":{\"type\":\"object\",\"name\":\"Toolbar\",\"id\":\"34cd86b5-14d4-4ec8-8baa-28cc0b1db9cf\",\"attributes\":{\"tools\":[{\"type\":\"object\",\"name\":\"WheelZoomTool\",\"id\":\"4428722d-eef7-4ef2-aa01-ec5e85616671\",\"attributes\":{\"tags\":[\"hv_created\"],\"renderers\":\"auto\",\"zoom_together\":\"none\"}},{\"type\":\"object\",\"name\":\"HoverTool\",\"id\":\"662a9112-81af-4d7b-b2d2-66c2c64468ec\",\"attributes\":{\"tags\":[\"hv_created\"],\"renderers\":[{\"id\":\"547d4e07-5891-45e3-b4f0-e2815448d883\"},{\"id\":\"08eb1cee-e257-4f4b-a205-00ab22c52b3a\"},{\"id\":\"f079de0c-6ea4-4b1b-803d-81ad0702a6c1\"}],\"tooltips\":[[\"type\",\"@{type}\"],[\"trial_length\",\"@{trial_length}\"],[\"Count\",\"@{trial_length_count}\"]],\"sort_by\":null}},{\"type\":\"object\",\"name\":\"SaveTool\",\"id\":\"141a4e50-b99e-4991-9360-98b6682811b3\"},{\"type\":\"object\",\"name\":\"PanTool\",\"id\":\"f2abe6ea-71d8-4629-807d-d68903593715\"},{\"type\":\"object\",\"name\":\"BoxZoomTool\",\"id\":\"7c71bf66-db8e-4bcb-b7af-f51a9007b631\",\"attributes\":{\"dimensions\":\"both\",\"overlay\":{\"type\":\"object\",\"name\":\"BoxAnnotation\",\"id\":\"482cf0a8-4d24-4cfd-807b-f9c83dcc2a8d\",\"attributes\":{\"syncable\":false,\"line_color\":\"black\",\"line_alpha\":1.0,\"line_width\":2,\"line_dash\":[4,4],\"fill_color\":\"lightgrey\",\"fill_alpha\":0.5,\"level\":\"overlay\",\"visible\":false,\"left\":{\"type\":\"number\",\"value\":\"nan\"},\"right\":{\"type\":\"number\",\"value\":\"nan\"},\"top\":{\"type\":\"number\",\"value\":\"nan\"},\"bottom\":{\"type\":\"number\",\"value\":\"nan\"},\"left_units\":\"canvas\",\"right_units\":\"canvas\",\"top_units\":\"canvas\",\"bottom_units\":\"canvas\",\"handles\":{\"type\":\"object\",\"name\":\"BoxInteractionHandles\",\"id\":\"ffdd3009-93a0-489d-9afb-2161bc0ce48f\",\"attributes\":{\"all\":{\"type\":\"object\",\"name\":\"AreaVisuals\",\"id\":\"92174f3c-3326-4e82-9da7-f9c1897e5a90\",\"attributes\":{\"fill_color\":\"white\",\"hover_fill_color\":\"lightgray\"}}}}}}}},{\"type\":\"object\",\"name\":\"ResetTool\",\"id\":\"5808882c-8142-4d1f-8360-c511e273d428\"}],\"active_drag\":{\"id\":\"f2abe6ea-71d8-4629-807d-d68903593715\"},\"active_scroll\":{\"id\":\"4428722d-eef7-4ef2-aa01-ec5e85616671\"}}},\"left\":[{\"type\":\"object\",\"name\":\"LinearAxis\",\"id\":\"d2585cc6-098d-4868-b167-d2bb975ca23b\",\"attributes\":{\"ticker\":{\"type\":\"object\",\"name\":\"BasicTicker\",\"id\":\"a1518462-e749-4310-a663-3f6ad268f517\",\"attributes\":{\"mantissas\":[1,2,5]}},\"formatter\":{\"type\":\"object\",\"name\":\"BasicTickFormatter\",\"id\":\"e7871d3d-2d52-4f66-9fab-0d2e1fc08e34\"},\"axis_label\":\"Frequency\",\"axis_label_text_font_size\":\"14pt\",\"major_label_policy\":{\"type\":\"object\",\"name\":\"AllLabels\",\"id\":\"ecf77284-a7a7-40ab-9f38-8346bdf51889\"},\"major_label_text_font_size\":\"12pt\"}}],\"below\":[{\"type\":\"object\",\"name\":\"LinearAxis\",\"id\":\"242dfe6d-5f8a-4ed5-808a-b264e2f2b678\",\"attributes\":{\"ticker\":{\"type\":\"object\",\"name\":\"BasicTicker\",\"id\":\"ed55d745-713c-4495-9ca6-cf8d783c0ed4\",\"attributes\":{\"mantissas\":[1,2,5]}},\"formatter\":{\"type\":\"object\",\"name\":\"BasicTickFormatter\",\"id\":\"3c2661d0-d713-47d9-989c-b2213b173432\"},\"axis_label\":\"Trial Length (ms)\",\"axis_label_text_font_size\":\"14pt\",\"major_label_policy\":{\"type\":\"object\",\"name\":\"AllLabels\",\"id\":\"78fe49d2-ee37-45e8-8e03-b96cc88afc9a\"},\"major_label_text_font_size\":\"12pt\"}}],\"center\":[{\"type\":\"object\",\"name\":\"Grid\",\"id\":\"27db5219-a61f-467a-87d2-8c98a6cf43da\",\"attributes\":{\"axis\":{\"id\":\"242dfe6d-5f8a-4ed5-808a-b264e2f2b678\"},\"grid_line_color\":null}},{\"type\":\"object\",\"name\":\"Grid\",\"id\":\"e05fccf8-1fa5-43e0-9742-16add3d6fd28\",\"attributes\":{\"dimension\":1,\"axis\":{\"id\":\"d2585cc6-098d-4868-b167-d2bb975ca23b\"},\"grid_line_color\":null}},{\"type\":\"object\",\"name\":\"Legend\",\"id\":\"d1db1864-7f13-4c63-a187-1f9f4ef9de02\",\"attributes\":{\"title\":\"type\",\"click_policy\":\"mute\",\"label_text_font_size\":\"12pt\",\"items\":[{\"type\":\"object\",\"name\":\"LegendItem\",\"id\":\"681658ab-f14d-4ce8-adbd-a6c5723f6304\",\"attributes\":{\"label\":{\"type\":\"value\",\"value\":\"CONT\"},\"renderers\":[{\"id\":\"547d4e07-5891-45e3-b4f0-e2815448d883\"}]}},{\"type\":\"object\",\"name\":\"LegendItem\",\"id\":\"1cdda2fa-d91b-4a98-b012-347ea92f6d26\",\"attributes\":{\"label\":{\"type\":\"value\",\"value\":\"GO\"},\"renderers\":[{\"id\":\"08eb1cee-e257-4f4b-a205-00ab22c52b3a\"}]}},{\"type\":\"object\",\"name\":\"LegendItem\",\"id\":\"36cf74f4-1df0-45a6-93ff-0508ca0613fb\",\"attributes\":{\"label\":{\"type\":\"value\",\"value\":\"STOP\"},\"renderers\":[{\"id\":\"f079de0c-6ea4-4b1b-803d-81ad0702a6c1\"}]}}]}}],\"min_border_top\":10,\"min_border_bottom\":10,\"min_border_left\":10,\"min_border_right\":10,\"output_backend\":\"webgl\"}},{\"type\":\"object\",\"name\":\"Spacer\",\"id\":\"83becd38-ec34-41af-ba5d-87395d9495d4\",\"attributes\":{\"name\":\"HSpacer00930\",\"stylesheets\":[\"\\n:host(.pn-loading):before, .pn-loading:before {\\n  background-color: #c3c3c3;\\n  mask-size: auto calc(min(50%, 300px));\\n  -webkit-mask-size: auto calc(min(50%, 300px));\\n}\",{\"id\":\"180c6571-d4d4-4894-8971-9b043644e733\"},{\"id\":\"ba2abbff-9cc4-4475-8013-16ce04c64783\"},{\"id\":\"cf5a8581-2970-437b-8728-5d991830fc1b\"}],\"min_width\":0,\"margin\":0,\"sizing_mode\":\"stretch_width\",\"align\":\"start\"}}]}}],\"defs\":[{\"type\":\"model\",\"name\":\"ReactiveHTML1\"},{\"type\":\"model\",\"name\":\"FlexBox1\",\"properties\":[{\"name\":\"align_content\",\"kind\":\"Any\",\"default\":\"flex-start\"},{\"name\":\"align_items\",\"kind\":\"Any\",\"default\":\"flex-start\"},{\"name\":\"flex_direction\",\"kind\":\"Any\",\"default\":\"row\"},{\"name\":\"flex_wrap\",\"kind\":\"Any\",\"default\":\"wrap\"},{\"name\":\"gap\",\"kind\":\"Any\",\"default\":\"\"},{\"name\":\"justify_content\",\"kind\":\"Any\",\"default\":\"flex-start\"}]},{\"type\":\"model\",\"name\":\"FloatPanel1\",\"properties\":[{\"name\":\"config\",\"kind\":\"Any\",\"default\":{\"type\":\"map\"}},{\"name\":\"contained\",\"kind\":\"Any\",\"default\":true},{\"name\":\"position\",\"kind\":\"Any\",\"default\":\"right-top\"},{\"name\":\"offsetx\",\"kind\":\"Any\",\"default\":null},{\"name\":\"offsety\",\"kind\":\"Any\",\"default\":null},{\"name\":\"theme\",\"kind\":\"Any\",\"default\":\"primary\"},{\"name\":\"status\",\"kind\":\"Any\",\"default\":\"normalized\"}]},{\"type\":\"model\",\"name\":\"GridStack1\",\"properties\":[{\"name\":\"ncols\",\"kind\":\"Any\",\"default\":null},{\"name\":\"nrows\",\"kind\":\"Any\",\"default\":null},{\"name\":\"allow_resize\",\"kind\":\"Any\",\"default\":true},{\"name\":\"allow_drag\",\"kind\":\"Any\",\"default\":true},{\"name\":\"state\",\"kind\":\"Any\",\"default\":[]}]},{\"type\":\"model\",\"name\":\"drag1\",\"properties\":[{\"name\":\"slider_width\",\"kind\":\"Any\",\"default\":5},{\"name\":\"slider_color\",\"kind\":\"Any\",\"default\":\"black\"},{\"name\":\"start\",\"kind\":\"Any\",\"default\":0},{\"name\":\"end\",\"kind\":\"Any\",\"default\":100},{\"name\":\"value\",\"kind\":\"Any\",\"default\":50}]},{\"type\":\"model\",\"name\":\"click1\",\"properties\":[{\"name\":\"terminal_output\",\"kind\":\"Any\",\"default\":\"\"},{\"name\":\"debug_name\",\"kind\":\"Any\",\"default\":\"\"},{\"name\":\"clears\",\"kind\":\"Any\",\"default\":0}]},{\"type\":\"model\",\"name\":\"ReactiveESM1\",\"properties\":[{\"name\":\"esm_constants\",\"kind\":\"Any\",\"default\":{\"type\":\"map\"}}]},{\"type\":\"model\",\"name\":\"JSComponent1\",\"properties\":[{\"name\":\"esm_constants\",\"kind\":\"Any\",\"default\":{\"type\":\"map\"}}]},{\"type\":\"model\",\"name\":\"ReactComponent1\",\"properties\":[{\"name\":\"use_shadow_dom\",\"kind\":\"Any\",\"default\":true},{\"name\":\"esm_constants\",\"kind\":\"Any\",\"default\":{\"type\":\"map\"}}]},{\"type\":\"model\",\"name\":\"AnyWidgetComponent1\",\"properties\":[{\"name\":\"use_shadow_dom\",\"kind\":\"Any\",\"default\":true},{\"name\":\"esm_constants\",\"kind\":\"Any\",\"default\":{\"type\":\"map\"}}]},{\"type\":\"model\",\"name\":\"FastWrapper1\",\"properties\":[{\"name\":\"object\",\"kind\":\"Any\",\"default\":null},{\"name\":\"style\",\"kind\":\"Any\",\"default\":null}]},{\"type\":\"model\",\"name\":\"NotificationArea1\",\"properties\":[{\"name\":\"js_events\",\"kind\":\"Any\",\"default\":{\"type\":\"map\"}},{\"name\":\"max_notifications\",\"kind\":\"Any\",\"default\":5},{\"name\":\"notifications\",\"kind\":\"Any\",\"default\":[]},{\"name\":\"position\",\"kind\":\"Any\",\"default\":\"bottom-right\"},{\"name\":\"_clear\",\"kind\":\"Any\",\"default\":0},{\"name\":\"types\",\"kind\":\"Any\",\"default\":[{\"type\":\"map\",\"entries\":[[\"type\",\"warning\"],[\"background\",\"#ffc107\"],[\"icon\",{\"type\":\"map\",\"entries\":[[\"className\",\"fas fa-exclamation-triangle\"],[\"tagName\",\"i\"],[\"color\",\"white\"]]}]]},{\"type\":\"map\",\"entries\":[[\"type\",\"info\"],[\"background\",\"#007bff\"],[\"icon\",{\"type\":\"map\",\"entries\":[[\"className\",\"fas fa-info-circle\"],[\"tagName\",\"i\"],[\"color\",\"white\"]]}]]}]}]},{\"type\":\"model\",\"name\":\"Notification\",\"properties\":[{\"name\":\"background\",\"kind\":\"Any\",\"default\":null},{\"name\":\"duration\",\"kind\":\"Any\",\"default\":3000},{\"name\":\"icon\",\"kind\":\"Any\",\"default\":null},{\"name\":\"message\",\"kind\":\"Any\",\"default\":\"\"},{\"name\":\"notification_type\",\"kind\":\"Any\",\"default\":null},{\"name\":\"_rendered\",\"kind\":\"Any\",\"default\":false},{\"name\":\"_destroyed\",\"kind\":\"Any\",\"default\":false}]},{\"type\":\"model\",\"name\":\"TemplateActions1\",\"properties\":[{\"name\":\"open_modal\",\"kind\":\"Any\",\"default\":0},{\"name\":\"close_modal\",\"kind\":\"Any\",\"default\":0}]},{\"type\":\"model\",\"name\":\"BootstrapTemplateActions1\",\"properties\":[{\"name\":\"open_modal\",\"kind\":\"Any\",\"default\":0},{\"name\":\"close_modal\",\"kind\":\"Any\",\"default\":0}]},{\"type\":\"model\",\"name\":\"TemplateEditor1\",\"properties\":[{\"name\":\"layout\",\"kind\":\"Any\",\"default\":[]}]},{\"type\":\"model\",\"name\":\"MaterialTemplateActions1\",\"properties\":[{\"name\":\"open_modal\",\"kind\":\"Any\",\"default\":0},{\"name\":\"close_modal\",\"kind\":\"Any\",\"default\":0}]},{\"type\":\"model\",\"name\":\"request_value1\",\"properties\":[{\"name\":\"fill\",\"kind\":\"Any\",\"default\":\"none\"},{\"name\":\"_synced\",\"kind\":\"Any\",\"default\":null},{\"name\":\"_request_sync\",\"kind\":\"Any\",\"default\":0}]},{\"type\":\"model\",\"name\":\"holoviews.plotting.bokeh.raster.HoverModel\",\"properties\":[{\"name\":\"xy\",\"kind\":\"Any\",\"default\":null},{\"name\":\"data\",\"kind\":\"Any\",\"default\":null}]}]}};\n",
       "  var render_items = [{\"docid\":\"825bc915-f0dd-4915-a011-7d6ac9388da6\",\"roots\":{\"f9709ffe-eb8d-4fb4-9cce-722cc1bf6530\":\"cbbc99a4-5b65-4a13-a95a-d5e44592f234\"},\"root_ids\":[\"f9709ffe-eb8d-4fb4-9cce-722cc1bf6530\"]}];\n",
       "  var docs = Object.values(docs_json)\n",
       "  if (!docs) {\n",
       "    return\n",
       "  }\n",
       "  const py_version = docs[0].version.replace('rc', '-rc.').replace('.dev', '-dev.')\n",
       "  async function embed_document(root) {\n",
       "    var Bokeh = get_bokeh(root)\n",
       "    await Bokeh.embed.embed_items_notebook(docs_json, render_items);\n",
       "    for (const render_item of render_items) {\n",
       "      for (const root_id of render_item.root_ids) {\n",
       "\tconst id_el = document.getElementById(root_id)\n",
       "\tif (id_el.children.length && id_el.children[0].hasAttribute('data-root-id')) {\n",
       "\t  const root_el = id_el.children[0]\n",
       "\t  root_el.id = root_el.id + '-rendered'\n",
       "\t  for (const child of root_el.children) {\n",
       "            // Ensure JupyterLab does not capture keyboard shortcuts\n",
       "            // see: https://jupyterlab.readthedocs.io/en/4.1.x/extension/notebook.html#keyboard-interaction-model\n",
       "\t    child.setAttribute('data-lm-suppress-shortcuts', 'true')\n",
       "\t  }\n",
       "\t}\n",
       "      }\n",
       "    }\n",
       "  }\n",
       "  function get_bokeh(root) {\n",
       "    if (root.Bokeh === undefined) {\n",
       "      return null\n",
       "    } else if (root.Bokeh.version !== py_version) {\n",
       "      if (root.Bokeh.versions === undefined || !root.Bokeh.versions.has(py_version)) {\n",
       "\treturn null\n",
       "      }\n",
       "      return root.Bokeh.versions.get(py_version);\n",
       "    } else if (root.Bokeh.version === py_version) {\n",
       "      return root.Bokeh\n",
       "    }\n",
       "    return null\n",
       "  }\n",
       "  function is_loaded(root) {\n",
       "    var Bokeh = get_bokeh(root)\n",
       "    return (Bokeh != null && Bokeh.Panel !== undefined)\n",
       "  }\n",
       "  if (is_loaded(root)) {\n",
       "    embed_document(root);\n",
       "  } else {\n",
       "    var attempts = 0;\n",
       "    var timer = setInterval(function(root) {\n",
       "      if (is_loaded(root)) {\n",
       "        clearInterval(timer);\n",
       "        embed_document(root);\n",
       "      } else if (document.readyState == \"complete\") {\n",
       "        attempts++;\n",
       "        if (attempts > 200) {\n",
       "          clearInterval(timer);\n",
       "\t  var Bokeh = get_bokeh(root)\n",
       "\t  if (Bokeh == null || Bokeh.Panel == null) {\n",
       "            console.warn(\"Panel: ERROR: Unable to run Panel code because Bokeh or Panel library is missing\");\n",
       "\t  } else {\n",
       "\t    console.warn(\"Panel: WARNING: Attempting to render but not all required libraries could be resolved.\")\n",
       "\t    embed_document(root)\n",
       "\t  }\n",
       "        }\n",
       "      }\n",
       "    }, 25, root)\n",
       "  }\n",
       "})(window);</script>"
      ],
      "text/plain": [
       ":NdOverlay   [type]\n",
       "   :Histogram   [trial_length]   (Count)"
      ]
     },
     "execution_count": 11,
     "metadata": {
      "application/vnd.holoviews_exec.v0+json": {
       "id": "f9709ffe-eb8d-4fb4-9cce-722cc1bf6530"
      }
     },
     "output_type": "execute_result"
    }
   ],
   "source": [
    "# Create trial length distribution histogram\n",
    "plot4 = eda.plot_trial_length_distribution()\n",
    "plot4"
   ]
  },
  {
   "cell_type": "markdown",
   "id": "3f0aba60",
   "metadata": {},
   "source": [
    "### 5. Go Cue Timing Distribution by Type"
   ]
  },
  {
   "cell_type": "code",
   "execution_count": 12,
   "id": "2be2ef31",
   "metadata": {},
   "outputs": [
    {
     "data": {},
     "metadata": {},
     "output_type": "display_data"
    },
    {
     "data": {
      "application/vnd.holoviews_exec.v0+json": "",
      "text/html": [
       "<div id='2464a8d3-1e10-4b12-9eeb-bc6b57745326'>\n",
       "  <div id=\"d759320f-8cbc-4342-ba75-79cad08efa07\" data-root-id=\"2464a8d3-1e10-4b12-9eeb-bc6b57745326\" style=\"display: contents;\"></div>\n",
       "</div>\n",
       "<script type=\"application/javascript\">(function(root) {\n",
       "  var docs_json = {\"0249e9b6-00a4-46d6-a7b5-09de9f3129bd\":{\"version\":\"3.8.0\",\"title\":\"Bokeh Application\",\"config\":{\"type\":\"object\",\"name\":\"DocumentConfig\",\"id\":\"85ee2f29-0d2e-48cb-982c-c230a315be78\",\"attributes\":{\"notifications\":{\"type\":\"object\",\"name\":\"Notifications\",\"id\":\"23e1f6af-4d25-4b55-805e-7b9932b620b9\"}}},\"roots\":[{\"type\":\"object\",\"name\":\"Row\",\"id\":\"2464a8d3-1e10-4b12-9eeb-bc6b57745326\",\"attributes\":{\"name\":\"Row01099\",\"tags\":[\"embedded\"],\"stylesheets\":[\"\\n:host(.pn-loading):before, .pn-loading:before {\\n  background-color: #c3c3c3;\\n  mask-size: auto calc(min(50%, 300px));\\n  -webkit-mask-size: auto calc(min(50%, 300px));\\n}\",{\"type\":\"object\",\"name\":\"ImportedStyleSheet\",\"id\":\"c69bc150-860e-4e42-a5ae-c8bdd78f3f00\",\"attributes\":{\"url\":\"https://cdn.holoviz.org/panel/1.8.0/dist/css/loading.css\"}},{\"type\":\"object\",\"name\":\"ImportedStyleSheet\",\"id\":\"ad770180-4e24-4411-8021-37d6fbd72d12\",\"attributes\":{\"url\":\"https://cdn.holoviz.org/panel/1.8.0/dist/css/listpanel.css\"}},{\"type\":\"object\",\"name\":\"ImportedStyleSheet\",\"id\":\"6dd96fc7-e75a-4e4d-beb4-87b69036132b\",\"attributes\":{\"url\":\"https://cdn.holoviz.org/panel/1.8.0/dist/bundled/theme/default.css\"}},{\"type\":\"object\",\"name\":\"ImportedStyleSheet\",\"id\":\"4eec03c0-7c4d-403c-9c8e-515a64398f1f\",\"attributes\":{\"url\":\"https://cdn.holoviz.org/panel/1.8.0/dist/bundled/theme/native.css\"}}],\"min_width\":800,\"margin\":0,\"sizing_mode\":\"stretch_width\",\"align\":\"start\",\"children\":[{\"type\":\"object\",\"name\":\"Spacer\",\"id\":\"9d748d8c-35fc-424f-8230-ebffffbf8b2b\",\"attributes\":{\"name\":\"HSpacer01103\",\"stylesheets\":[\"\\n:host(.pn-loading):before, .pn-loading:before {\\n  background-color: #c3c3c3;\\n  mask-size: auto calc(min(50%, 300px));\\n  -webkit-mask-size: auto calc(min(50%, 300px));\\n}\",{\"id\":\"c69bc150-860e-4e42-a5ae-c8bdd78f3f00\"},{\"id\":\"6dd96fc7-e75a-4e4d-beb4-87b69036132b\"},{\"id\":\"4eec03c0-7c4d-403c-9c8e-515a64398f1f\"}],\"min_width\":0,\"margin\":0,\"sizing_mode\":\"stretch_width\",\"align\":\"start\"}},{\"type\":\"object\",\"name\":\"Figure\",\"id\":\"c509300d-709f-474f-9f1d-fa9919a3623f\",\"attributes\":{\"width\":800,\"height\":400,\"margin\":[5,10],\"sizing_mode\":\"fixed\",\"align\":\"start\",\"x_range\":{\"type\":\"object\",\"name\":\"Range1d\",\"id\":\"0ab9fa87-bf8e-49d3-bfee-a8ca698c5d3f\",\"attributes\":{\"name\":\"go_cue\",\"tags\":[[[\"go_cue\",null]],[]],\"start\":890.0,\"end\":1110.0,\"reset_start\":890.0,\"reset_end\":1110.0}},\"y_range\":{\"type\":\"object\",\"name\":\"Range1d\",\"id\":\"c5e88f2e-b4f3-411f-942f-40a80fb94c9b\",\"attributes\":{\"name\":\"go_cue_count\",\"tags\":[[[\"Count\",null]],{\"type\":\"map\",\"entries\":[[\"invert_yaxis\",false],[\"autorange\",false]]}],\"end\":1548.9,\"reset_start\":0.0,\"reset_end\":1548.9}},\"x_scale\":{\"type\":\"object\",\"name\":\"LinearScale\",\"id\":\"fbf68043-7795-40db-a756-9f7d0e923362\"},\"y_scale\":{\"type\":\"object\",\"name\":\"LinearScale\",\"id\":\"7b552ad8-0840-40c1-8b26-8f53940fb6da\"},\"title\":{\"type\":\"object\",\"name\":\"Title\",\"id\":\"26793704-ea2c-42a2-9710-e151032d407e\",\"attributes\":{\"text\":\"Fiona - Go Cue Timing Distribution by Type\",\"text_color\":\"black\",\"text_font_size\":\"16pt\"}},\"renderers\":[{\"type\":\"object\",\"name\":\"GlyphRenderer\",\"id\":\"af73d894-0534-43bb-a0e0-615babf58b1d\",\"attributes\":{\"name\":\"CONT\",\"data_source\":{\"type\":\"object\",\"name\":\"ColumnDataSource\",\"id\":\"476782c1-8335-43e7-81b3-e97beeae7dc6\",\"attributes\":{\"selected\":{\"type\":\"object\",\"name\":\"Selection\",\"id\":\"d9886577-579d-49f2-80df-a134144c6e14\",\"attributes\":{\"indices\":[],\"line_indices\":[]}},\"selection_policy\":{\"type\":\"object\",\"name\":\"UnionRenderers\",\"id\":\"9396c055-39f1-4159-9d11-4ec15c118097\"},\"data\":{\"type\":\"map\",\"entries\":[[\"top\",{\"type\":\"ndarray\",\"array\":{\"type\":\"bytes\",\"data\":\"H4sIAAEAAAAC/0XNOwqDQBCA4dktJNqJ18kZIrmKeEBbsRBELRQhgoVYBBETrNRfdsHiYx47O/PUIo0SKfBHhhITVnzgMfOGYKH2iR1xRkCe2NkfYuqNONp9OwYcePDWK7Mj1Oa/tjsvOVzqiviFQ/5Cq+67pb1VK9NPEdE/Af2YMwDIAAAA\"},\"shape\":[50],\"dtype\":\"int32\",\"order\":\"little\"}],[\"left\",{\"type\":\"ndarray\",\"array\":{\"type\":\"bytes\",\"data\":\"H4sIAAEAAAAC/y3NSxECMRBF0ZaAhEhAQktAQiQgIQL4zDhoCUiIBCREAhKAmvM2Z3XrRfzWbvknkp2DxcnFuB82JjsHi5OL8dAz2TlYnFyMp57JzsHi5GJshyc2npm8sPPKwY3FFyffXPwwdv9se34ByGX8FJABAAA=\"},\"shape\":[50],\"dtype\":\"float64\",\"order\":\"little\"}],[\"right\",{\"type\":\"ndarray\",\"array\":{\"type\":\"bytes\",\"data\":\"H4sIAAEAAAAC/y3NQRXCMBRFwS8BCZFQCV8CEiIBCRFQoHUQCZUQCUiIhEoATudtZnXPi/gt1/wTlY2dg5PxvCxMVjZ2Dk7GS89kZWPn4GS89UxWNnYOTsZ2eWPhwuSdlQ82buw8OPjh5MnY/bNw2fMLv9d3JJABAAA=\"},\"shape\":[50],\"dtype\":\"float64\",\"order\":\"little\"}],[\"go_cue\",{\"type\":\"ndarray\",\"array\":{\"type\":\"bytes\",\"data\":\"H4sIAAEAAAAC/y3NoRXCMABF0crKSEaorERWIiMZARnJCIgCqWMEZCQjICMZARmJBE7vN1e987vut3Ge/nSRiZmFlY3hvDoyMjGzsLIxXPSMTMwsrGwMVz0jEzMLKxv7vLrhwC133PPAI0+88c4Hn3zxzQ/7xT+HZfoCMykkjJABAAA=\"},\"shape\":[50],\"dtype\":\"float64\",\"order\":\"little\"}],[\"go_cue_count\",{\"type\":\"ndarray\",\"array\":{\"type\":\"bytes\",\"data\":\"H4sIAAEAAAAC/0XNOwqDQBCA4dktJNqJ18kZIrmKeEBbsRBELRQhgoVYBBETrNRfdsHiYx47O/PUIo0SKfBHhhITVnzgMfOGYKH2iR1xRkCe2NkfYuqNONp9OwYcePDWK7Mj1Oa/tjsvOVzqiviFQ/5Cq+67pb1VK9NPEdE/Af2YMwDIAAAA\"},\"shape\":[50],\"dtype\":\"int32\",\"order\":\"little\"}],[\"type\",[\"CONT\",\"CONT\",\"CONT\",\"CONT\",\"CONT\",\"CONT\",\"CONT\",\"CONT\",\"CONT\",\"CONT\",\"CONT\",\"CONT\",\"CONT\",\"CONT\",\"CONT\",\"CONT\",\"CONT\",\"CONT\",\"CONT\",\"CONT\",\"CONT\",\"CONT\",\"CONT\",\"CONT\",\"CONT\",\"CONT\",\"CONT\",\"CONT\",\"CONT\",\"CONT\",\"CONT\",\"CONT\",\"CONT\",\"CONT\",\"CONT\",\"CONT\",\"CONT\",\"CONT\",\"CONT\",\"CONT\",\"CONT\",\"CONT\",\"CONT\",\"CONT\",\"CONT\",\"CONT\",\"CONT\",\"CONT\",\"CONT\",\"CONT\"]]]}}},\"view\":{\"type\":\"object\",\"name\":\"CDSView\",\"id\":\"9e36a9dc-7d7f-4955-b8e1-e99c896cd263\",\"attributes\":{\"filter\":{\"type\":\"object\",\"name\":\"AllIndices\",\"id\":\"e71432d3-5f45-4f52-b3c8-f2fccbef30b8\"}}},\"glyph\":{\"type\":\"object\",\"name\":\"Quad\",\"id\":\"333fdfec-b43f-4717-9de3-50f37972e02f\",\"attributes\":{\"tags\":[\"apply_ranges\"],\"left\":{\"type\":\"field\",\"field\":\"left\"},\"right\":{\"type\":\"field\",\"field\":\"right\"},\"bottom\":{\"type\":\"value\",\"value\":0},\"top\":{\"type\":\"field\",\"field\":\"top\"},\"line_alpha\":{\"type\":\"value\",\"value\":0.7},\"fill_color\":{\"type\":\"value\",\"value\":\"#30a2da\"},\"fill_alpha\":{\"type\":\"value\",\"value\":0.7},\"hatch_color\":{\"type\":\"value\",\"value\":\"#30a2da\"},\"hatch_alpha\":{\"type\":\"value\",\"value\":0.7}}},\"selection_glyph\":{\"type\":\"object\",\"name\":\"Quad\",\"id\":\"2859b040-ecf1-4138-87cf-ba204cbf8438\",\"attributes\":{\"tags\":[\"apply_ranges\"],\"left\":{\"type\":\"field\",\"field\":\"left\"},\"right\":{\"type\":\"field\",\"field\":\"right\"},\"bottom\":{\"type\":\"value\",\"value\":0},\"top\":{\"type\":\"field\",\"field\":\"top\"},\"line_color\":{\"type\":\"value\",\"value\":\"black\"},\"line_alpha\":{\"type\":\"value\",\"value\":0.7},\"line_width\":{\"type\":\"value\",\"value\":1},\"line_join\":{\"type\":\"value\",\"value\":\"bevel\"},\"line_cap\":{\"type\":\"value\",\"value\":\"butt\"},\"line_dash\":{\"type\":\"value\",\"value\":[]},\"line_dash_offset\":{\"type\":\"value\",\"value\":0},\"fill_color\":{\"type\":\"value\",\"value\":\"#30a2da\"},\"fill_alpha\":{\"type\":\"value\",\"value\":0.7},\"hatch_color\":{\"type\":\"value\",\"value\":\"#30a2da\"},\"hatch_alpha\":{\"type\":\"value\",\"value\":0.7},\"hatch_scale\":{\"type\":\"value\",\"value\":12.0},\"hatch_pattern\":{\"type\":\"value\",\"value\":null},\"hatch_weight\":{\"type\":\"value\",\"value\":1.0}}},\"nonselection_glyph\":{\"type\":\"object\",\"name\":\"Quad\",\"id\":\"53c33555-f0f4-4deb-9b12-0f4ed38bc3b1\",\"attributes\":{\"tags\":[\"apply_ranges\"],\"left\":{\"type\":\"field\",\"field\":\"left\"},\"right\":{\"type\":\"field\",\"field\":\"right\"},\"bottom\":{\"type\":\"value\",\"value\":0},\"top\":{\"type\":\"field\",\"field\":\"top\"},\"line_alpha\":{\"type\":\"value\",\"value\":0.7},\"fill_color\":{\"type\":\"value\",\"value\":\"#30a2da\"},\"fill_alpha\":{\"type\":\"value\",\"value\":0.7},\"hatch_color\":{\"type\":\"value\",\"value\":\"#30a2da\"},\"hatch_alpha\":{\"type\":\"value\",\"value\":0.1}}},\"muted_glyph\":{\"type\":\"object\",\"name\":\"Quad\",\"id\":\"bfb80d49-330f-4be2-bac6-60996ca1db45\",\"attributes\":{\"tags\":[\"apply_ranges\"],\"left\":{\"type\":\"field\",\"field\":\"left\"},\"right\":{\"type\":\"field\",\"field\":\"right\"},\"bottom\":{\"type\":\"value\",\"value\":0},\"top\":{\"type\":\"field\",\"field\":\"top\"},\"line_alpha\":{\"type\":\"value\",\"value\":0.2},\"fill_color\":{\"type\":\"value\",\"value\":\"#30a2da\"},\"fill_alpha\":{\"type\":\"value\",\"value\":0.2},\"hatch_color\":{\"type\":\"value\",\"value\":\"#30a2da\"},\"hatch_alpha\":{\"type\":\"value\",\"value\":0.2}}}}},{\"type\":\"object\",\"name\":\"GlyphRenderer\",\"id\":\"eba1b400-c11c-408b-b4ea-e916e9c5ba83\",\"attributes\":{\"name\":\"GO\",\"data_source\":{\"type\":\"object\",\"name\":\"ColumnDataSource\",\"id\":\"d3c3f0db-38f9-493d-96c6-30d8e1691e16\",\"attributes\":{\"selected\":{\"type\":\"object\",\"name\":\"Selection\",\"id\":\"23ab7f64-c2b9-4c4b-a086-6f36491284e3\",\"attributes\":{\"indices\":[],\"line_indices\":[]}},\"selection_policy\":{\"type\":\"object\",\"name\":\"UnionRenderers\",\"id\":\"57df3596-4880-454b-a343-6620debe2d0c\"},\"data\":{\"type\":\"map\",\"entries\":[[\"top\",{\"type\":\"ndarray\",\"array\":{\"type\":\"bytes\",\"data\":\"H4sIAAEAAAAC/y3OMQtBYRQG4G/gt1qV1Y8gCSGDuobrllCELinrjVlGo93oUWd4epf3vJ2sntK9ltKVJzuGdMhYUjHSO8gJfZpxc2QTNw8aenu5ZsaAFznz2Pwy1dv+d1lw48OFM63Y7+m15YqSgi4n3vHvWOcH73Rb5cgAAAA=\"},\"shape\":[50],\"dtype\":\"int32\",\"order\":\"little\"}],[\"left\",{\"type\":\"ndarray\",\"array\":{\"type\":\"bytes\",\"data\":\"H4sIAAEAAAAC/y3NSxECMRBF0ZaAhEhAQktAQiQgIQL4zDhoCUiIBCREAhKAmvM2Z3XrRfzWbvknkp2DxcnFuB82JjsHi5OL8dAz2TlYnFyMp57JzsHi5GJshyc2npm8sPPKwY3FFyffXPwwdv9se34ByGX8FJABAAA=\"},\"shape\":[50],\"dtype\":\"float64\",\"order\":\"little\"}],[\"right\",{\"type\":\"ndarray\",\"array\":{\"type\":\"bytes\",\"data\":\"H4sIAAEAAAAC/y3NQRXCMBRFwS8BCZFQCV8CEiIBCRFQoHUQCZUQCUiIhEoATudtZnXPi/gt1/wTlY2dg5PxvCxMVjZ2Dk7GS89kZWPn4GS89UxWNnYOTsZ2eWPhwuSdlQ82buw8OPjh5MnY/bNw2fMLv9d3JJABAAA=\"},\"shape\":[50],\"dtype\":\"float64\",\"order\":\"little\"}],[\"go_cue\",{\"type\":\"ndarray\",\"array\":{\"type\":\"bytes\",\"data\":\"H4sIAAEAAAAC/y3NoRXCMABF0crKSEaorERWIiMZARnJCIgCqWMEZCQjICMZARmJBE7vN1e987vut3Ge/nSRiZmFlY3hvDoyMjGzsLIxXPSMTMwsrGwMVz0jEzMLKxv7vLrhwC133PPAI0+88c4Hn3zxzQ/7xT+HZfoCMykkjJABAAA=\"},\"shape\":[50],\"dtype\":\"float64\",\"order\":\"little\"}],[\"go_cue_count\",{\"type\":\"ndarray\",\"array\":{\"type\":\"bytes\",\"data\":\"H4sIAAEAAAAC/y3OMQtBYRQG4G/gt1qV1Y8gCSGDuobrllCELinrjVlGo93oUWd4epf3vJ2sntK9ltKVJzuGdMhYUjHSO8gJfZpxc2QTNw8aenu5ZsaAFznz2Pwy1dv+d1lw48OFM63Y7+m15YqSgi4n3vHvWOcH73Rb5cgAAAA=\"},\"shape\":[50],\"dtype\":\"int32\",\"order\":\"little\"}],[\"type\",[\"GO\",\"GO\",\"GO\",\"GO\",\"GO\",\"GO\",\"GO\",\"GO\",\"GO\",\"GO\",\"GO\",\"GO\",\"GO\",\"GO\",\"GO\",\"GO\",\"GO\",\"GO\",\"GO\",\"GO\",\"GO\",\"GO\",\"GO\",\"GO\",\"GO\",\"GO\",\"GO\",\"GO\",\"GO\",\"GO\",\"GO\",\"GO\",\"GO\",\"GO\",\"GO\",\"GO\",\"GO\",\"GO\",\"GO\",\"GO\",\"GO\",\"GO\",\"GO\",\"GO\",\"GO\",\"GO\",\"GO\",\"GO\",\"GO\",\"GO\"]]]}}},\"view\":{\"type\":\"object\",\"name\":\"CDSView\",\"id\":\"9fbe6e26-6c32-4bbc-b541-9ef2aeadfb16\",\"attributes\":{\"filter\":{\"type\":\"object\",\"name\":\"AllIndices\",\"id\":\"002d5c8b-af59-4c5c-bd64-2acb781769ec\"}}},\"glyph\":{\"type\":\"object\",\"name\":\"Quad\",\"id\":\"d31c4e0a-a51f-469c-92cc-49d5e9d16fab\",\"attributes\":{\"tags\":[\"apply_ranges\"],\"left\":{\"type\":\"field\",\"field\":\"left\"},\"right\":{\"type\":\"field\",\"field\":\"right\"},\"bottom\":{\"type\":\"value\",\"value\":0},\"top\":{\"type\":\"field\",\"field\":\"top\"},\"line_alpha\":{\"type\":\"value\",\"value\":0.7},\"fill_color\":{\"type\":\"value\",\"value\":\"#fc4f30\"},\"fill_alpha\":{\"type\":\"value\",\"value\":0.7},\"hatch_color\":{\"type\":\"value\",\"value\":\"#fc4f30\"},\"hatch_alpha\":{\"type\":\"value\",\"value\":0.7}}},\"selection_glyph\":{\"type\":\"object\",\"name\":\"Quad\",\"id\":\"1665efd7-c25d-42ce-a035-fc365120bd9b\",\"attributes\":{\"tags\":[\"apply_ranges\"],\"left\":{\"type\":\"field\",\"field\":\"left\"},\"right\":{\"type\":\"field\",\"field\":\"right\"},\"bottom\":{\"type\":\"value\",\"value\":0},\"top\":{\"type\":\"field\",\"field\":\"top\"},\"line_color\":{\"type\":\"value\",\"value\":\"black\"},\"line_alpha\":{\"type\":\"value\",\"value\":0.7},\"line_width\":{\"type\":\"value\",\"value\":1},\"line_join\":{\"type\":\"value\",\"value\":\"bevel\"},\"line_cap\":{\"type\":\"value\",\"value\":\"butt\"},\"line_dash\":{\"type\":\"value\",\"value\":[]},\"line_dash_offset\":{\"type\":\"value\",\"value\":0},\"fill_color\":{\"type\":\"value\",\"value\":\"#fc4f30\"},\"fill_alpha\":{\"type\":\"value\",\"value\":0.7},\"hatch_color\":{\"type\":\"value\",\"value\":\"#fc4f30\"},\"hatch_alpha\":{\"type\":\"value\",\"value\":0.7},\"hatch_scale\":{\"type\":\"value\",\"value\":12.0},\"hatch_pattern\":{\"type\":\"value\",\"value\":null},\"hatch_weight\":{\"type\":\"value\",\"value\":1.0}}},\"nonselection_glyph\":{\"type\":\"object\",\"name\":\"Quad\",\"id\":\"40e20718-75eb-40eb-99f6-ef86b6fae926\",\"attributes\":{\"tags\":[\"apply_ranges\"],\"left\":{\"type\":\"field\",\"field\":\"left\"},\"right\":{\"type\":\"field\",\"field\":\"right\"},\"bottom\":{\"type\":\"value\",\"value\":0},\"top\":{\"type\":\"field\",\"field\":\"top\"},\"line_alpha\":{\"type\":\"value\",\"value\":0.7},\"fill_color\":{\"type\":\"value\",\"value\":\"#fc4f30\"},\"fill_alpha\":{\"type\":\"value\",\"value\":0.7},\"hatch_color\":{\"type\":\"value\",\"value\":\"#fc4f30\"},\"hatch_alpha\":{\"type\":\"value\",\"value\":0.1}}},\"muted_glyph\":{\"type\":\"object\",\"name\":\"Quad\",\"id\":\"e2b0625c-aaf4-43d4-93f9-267856c4d83d\",\"attributes\":{\"tags\":[\"apply_ranges\"],\"left\":{\"type\":\"field\",\"field\":\"left\"},\"right\":{\"type\":\"field\",\"field\":\"right\"},\"bottom\":{\"type\":\"value\",\"value\":0},\"top\":{\"type\":\"field\",\"field\":\"top\"},\"line_alpha\":{\"type\":\"value\",\"value\":0.2},\"fill_color\":{\"type\":\"value\",\"value\":\"#fc4f30\"},\"fill_alpha\":{\"type\":\"value\",\"value\":0.2},\"hatch_color\":{\"type\":\"value\",\"value\":\"#fc4f30\"},\"hatch_alpha\":{\"type\":\"value\",\"value\":0.2}}}}},{\"type\":\"object\",\"name\":\"GlyphRenderer\",\"id\":\"5e7c112d-13ca-47eb-a801-8e051bb466b9\",\"attributes\":{\"name\":\"STOP\",\"data_source\":{\"type\":\"object\",\"name\":\"ColumnDataSource\",\"id\":\"58fa1993-05bf-4261-8e72-82df8da4c1dd\",\"attributes\":{\"selected\":{\"type\":\"object\",\"name\":\"Selection\",\"id\":\"de2e49bf-33a3-4d9e-a3f0-1ae1042bb954\",\"attributes\":{\"indices\":[],\"line_indices\":[]}},\"selection_policy\":{\"type\":\"object\",\"name\":\"UnionRenderers\",\"id\":\"075675bb-85da-4c70-9c7c-37645ef08e92\"},\"data\":{\"type\":\"map\",\"entries\":[[\"top\",{\"type\":\"ndarray\",\"array\":{\"type\":\"bytes\",\"data\":\"H4sIAAEAAAAC/y3OOw5AUBCF4UtrE1ZgCToLVXkUIkInEQWhoiDxaNEInd4vpvhybu6cZMbSldo1pXL0okSEEBVSGPQ2ssOAR94XYhTaP3foZWSDEQFueJKJ/Nv0XNKX7rerxYQDs+z+ejpqueuSPLFigcn8BWj88oLIAAAA\"},\"shape\":[50],\"dtype\":\"int32\",\"order\":\"little\"}],[\"left\",{\"type\":\"ndarray\",\"array\":{\"type\":\"bytes\",\"data\":\"H4sIAAEAAAAC/y3NSxECMRBF0ZaAhEhAQktAQiQgIQL4zDhoCUiIBCREAhKAmvM2Z3XrRfzWbvknkp2DxcnFuB82JjsHi5OL8dAz2TlYnFyMp57JzsHi5GJshyc2npm8sPPKwY3FFyffXPwwdv9se34ByGX8FJABAAA=\"},\"shape\":[50],\"dtype\":\"float64\",\"order\":\"little\"}],[\"right\",{\"type\":\"ndarray\",\"array\":{\"type\":\"bytes\",\"data\":\"H4sIAAEAAAAC/y3NQRXCMBRFwS8BCZFQCV8CEiIBCRFQoHUQCZUQCUiIhEoATudtZnXPi/gt1/wTlY2dg5PxvCxMVjZ2Dk7GS89kZWPn4GS89UxWNnYOTsZ2eWPhwuSdlQ82buw8OPjh5MnY/bNw2fMLv9d3JJABAAA=\"},\"shape\":[50],\"dtype\":\"float64\",\"order\":\"little\"}],[\"go_cue\",{\"type\":\"ndarray\",\"array\":{\"type\":\"bytes\",\"data\":\"H4sIAAEAAAAC/y3NoRXCMABF0crKSEaorERWIiMZARnJCIgCqWMEZCQjICMZARmJBE7vN1e987vut3Ge/nSRiZmFlY3hvDoyMjGzsLIxXPSMTMwsrGwMVz0jEzMLKxv7vLrhwC133PPAI0+88c4Hn3zxzQ/7xT+HZfoCMykkjJABAAA=\"},\"shape\":[50],\"dtype\":\"float64\",\"order\":\"little\"}],[\"go_cue_count\",{\"type\":\"ndarray\",\"array\":{\"type\":\"bytes\",\"data\":\"H4sIAAEAAAAC/y3OOw5AUBCF4UtrE1ZgCToLVXkUIkInEQWhoiDxaNEInd4vpvhybu6cZMbSldo1pXL0okSEEBVSGPQ2ssOAR94XYhTaP3foZWSDEQFueJKJ/Nv0XNKX7rerxYQDs+z+ejpqueuSPLFigcn8BWj88oLIAAAA\"},\"shape\":[50],\"dtype\":\"int32\",\"order\":\"little\"}],[\"type\",[\"STOP\",\"STOP\",\"STOP\",\"STOP\",\"STOP\",\"STOP\",\"STOP\",\"STOP\",\"STOP\",\"STOP\",\"STOP\",\"STOP\",\"STOP\",\"STOP\",\"STOP\",\"STOP\",\"STOP\",\"STOP\",\"STOP\",\"STOP\",\"STOP\",\"STOP\",\"STOP\",\"STOP\",\"STOP\",\"STOP\",\"STOP\",\"STOP\",\"STOP\",\"STOP\",\"STOP\",\"STOP\",\"STOP\",\"STOP\",\"STOP\",\"STOP\",\"STOP\",\"STOP\",\"STOP\",\"STOP\",\"STOP\",\"STOP\",\"STOP\",\"STOP\",\"STOP\",\"STOP\",\"STOP\",\"STOP\",\"STOP\",\"STOP\"]]]}}},\"view\":{\"type\":\"object\",\"name\":\"CDSView\",\"id\":\"fba36058-9bc2-4293-95a8-4f4407619354\",\"attributes\":{\"filter\":{\"type\":\"object\",\"name\":\"AllIndices\",\"id\":\"c5afd108-da30-481d-844f-2117b7fbe599\"}}},\"glyph\":{\"type\":\"object\",\"name\":\"Quad\",\"id\":\"3c3f327e-987d-478c-b8d4-d7a874744fda\",\"attributes\":{\"tags\":[\"apply_ranges\"],\"left\":{\"type\":\"field\",\"field\":\"left\"},\"right\":{\"type\":\"field\",\"field\":\"right\"},\"bottom\":{\"type\":\"value\",\"value\":0},\"top\":{\"type\":\"field\",\"field\":\"top\"},\"line_alpha\":{\"type\":\"value\",\"value\":0.7},\"fill_color\":{\"type\":\"value\",\"value\":\"#e5ae38\"},\"fill_alpha\":{\"type\":\"value\",\"value\":0.7},\"hatch_color\":{\"type\":\"value\",\"value\":\"#e5ae38\"},\"hatch_alpha\":{\"type\":\"value\",\"value\":0.7}}},\"selection_glyph\":{\"type\":\"object\",\"name\":\"Quad\",\"id\":\"39bdcf7a-1cbf-4ee0-a237-3429ccd83fda\",\"attributes\":{\"tags\":[\"apply_ranges\"],\"left\":{\"type\":\"field\",\"field\":\"left\"},\"right\":{\"type\":\"field\",\"field\":\"right\"},\"bottom\":{\"type\":\"value\",\"value\":0},\"top\":{\"type\":\"field\",\"field\":\"top\"},\"line_color\":{\"type\":\"value\",\"value\":\"black\"},\"line_alpha\":{\"type\":\"value\",\"value\":0.7},\"line_width\":{\"type\":\"value\",\"value\":1},\"line_join\":{\"type\":\"value\",\"value\":\"bevel\"},\"line_cap\":{\"type\":\"value\",\"value\":\"butt\"},\"line_dash\":{\"type\":\"value\",\"value\":[]},\"line_dash_offset\":{\"type\":\"value\",\"value\":0},\"fill_color\":{\"type\":\"value\",\"value\":\"#e5ae38\"},\"fill_alpha\":{\"type\":\"value\",\"value\":0.7},\"hatch_color\":{\"type\":\"value\",\"value\":\"#e5ae38\"},\"hatch_alpha\":{\"type\":\"value\",\"value\":0.7},\"hatch_scale\":{\"type\":\"value\",\"value\":12.0},\"hatch_pattern\":{\"type\":\"value\",\"value\":null},\"hatch_weight\":{\"type\":\"value\",\"value\":1.0}}},\"nonselection_glyph\":{\"type\":\"object\",\"name\":\"Quad\",\"id\":\"f3e7ce53-3a3b-4ee4-81c0-2e090255ab70\",\"attributes\":{\"tags\":[\"apply_ranges\"],\"left\":{\"type\":\"field\",\"field\":\"left\"},\"right\":{\"type\":\"field\",\"field\":\"right\"},\"bottom\":{\"type\":\"value\",\"value\":0},\"top\":{\"type\":\"field\",\"field\":\"top\"},\"line_alpha\":{\"type\":\"value\",\"value\":0.7},\"fill_color\":{\"type\":\"value\",\"value\":\"#e5ae38\"},\"fill_alpha\":{\"type\":\"value\",\"value\":0.7},\"hatch_color\":{\"type\":\"value\",\"value\":\"#e5ae38\"},\"hatch_alpha\":{\"type\":\"value\",\"value\":0.1}}},\"muted_glyph\":{\"type\":\"object\",\"name\":\"Quad\",\"id\":\"96627cfd-f00c-48f6-a3a5-274dfbc326d4\",\"attributes\":{\"tags\":[\"apply_ranges\"],\"left\":{\"type\":\"field\",\"field\":\"left\"},\"right\":{\"type\":\"field\",\"field\":\"right\"},\"bottom\":{\"type\":\"value\",\"value\":0},\"top\":{\"type\":\"field\",\"field\":\"top\"},\"line_alpha\":{\"type\":\"value\",\"value\":0.2},\"fill_color\":{\"type\":\"value\",\"value\":\"#e5ae38\"},\"fill_alpha\":{\"type\":\"value\",\"value\":0.2},\"hatch_color\":{\"type\":\"value\",\"value\":\"#e5ae38\"},\"hatch_alpha\":{\"type\":\"value\",\"value\":0.2}}}}}],\"toolbar\":{\"type\":\"object\",\"name\":\"Toolbar\",\"id\":\"d8b96d65-aa8e-4ecb-9c43-3e7453ce9d52\",\"attributes\":{\"tools\":[{\"type\":\"object\",\"name\":\"WheelZoomTool\",\"id\":\"12ddbffe-95c5-42af-9cd2-d07bff10c3d3\",\"attributes\":{\"tags\":[\"hv_created\"],\"renderers\":\"auto\",\"zoom_together\":\"none\"}},{\"type\":\"object\",\"name\":\"HoverTool\",\"id\":\"4058f1fc-9722-4dbe-8289-2019c1b1b155\",\"attributes\":{\"tags\":[\"hv_created\"],\"renderers\":[{\"id\":\"af73d894-0534-43bb-a0e0-615babf58b1d\"},{\"id\":\"eba1b400-c11c-408b-b4ea-e916e9c5ba83\"},{\"id\":\"5e7c112d-13ca-47eb-a801-8e051bb466b9\"}],\"tooltips\":[[\"type\",\"@{type}\"],[\"go_cue\",\"@{go_cue}\"],[\"Count\",\"@{go_cue_count}\"]],\"sort_by\":null}},{\"type\":\"object\",\"name\":\"SaveTool\",\"id\":\"1ee5975e-76ce-49b8-8936-ec5331bcf237\"},{\"type\":\"object\",\"name\":\"PanTool\",\"id\":\"2dbffeb9-b0c2-4265-a42c-79b05c555e84\"},{\"type\":\"object\",\"name\":\"BoxZoomTool\",\"id\":\"495203c7-db56-4a4f-bcf1-ad2a91f8b996\",\"attributes\":{\"dimensions\":\"both\",\"overlay\":{\"type\":\"object\",\"name\":\"BoxAnnotation\",\"id\":\"209870cc-fcdf-4070-9df6-f9b301bb4f8d\",\"attributes\":{\"syncable\":false,\"line_color\":\"black\",\"line_alpha\":1.0,\"line_width\":2,\"line_dash\":[4,4],\"fill_color\":\"lightgrey\",\"fill_alpha\":0.5,\"level\":\"overlay\",\"visible\":false,\"left\":{\"type\":\"number\",\"value\":\"nan\"},\"right\":{\"type\":\"number\",\"value\":\"nan\"},\"top\":{\"type\":\"number\",\"value\":\"nan\"},\"bottom\":{\"type\":\"number\",\"value\":\"nan\"},\"left_units\":\"canvas\",\"right_units\":\"canvas\",\"top_units\":\"canvas\",\"bottom_units\":\"canvas\",\"handles\":{\"type\":\"object\",\"name\":\"BoxInteractionHandles\",\"id\":\"a897e441-3e3c-447a-bd1b-11e7b6499631\",\"attributes\":{\"all\":{\"type\":\"object\",\"name\":\"AreaVisuals\",\"id\":\"7ad3962b-82c5-4d55-9b76-ae7b9e9f41ee\",\"attributes\":{\"fill_color\":\"white\",\"hover_fill_color\":\"lightgray\"}}}}}}}},{\"type\":\"object\",\"name\":\"ResetTool\",\"id\":\"e1ea141d-964b-4a07-8143-6a3093de3c13\"}],\"active_drag\":{\"id\":\"2dbffeb9-b0c2-4265-a42c-79b05c555e84\"},\"active_scroll\":{\"id\":\"12ddbffe-95c5-42af-9cd2-d07bff10c3d3\"}}},\"left\":[{\"type\":\"object\",\"name\":\"LinearAxis\",\"id\":\"988b5a12-e24e-4ae1-be33-99db00b24a3d\",\"attributes\":{\"ticker\":{\"type\":\"object\",\"name\":\"BasicTicker\",\"id\":\"9effcd32-a78e-49cf-b367-5c42a2b5d76f\",\"attributes\":{\"mantissas\":[1,2,5]}},\"formatter\":{\"type\":\"object\",\"name\":\"BasicTickFormatter\",\"id\":\"4320f1ea-dc37-4204-9ee2-f91d803eae94\"},\"axis_label\":\"Frequency\",\"axis_label_text_font_size\":\"14pt\",\"major_label_policy\":{\"type\":\"object\",\"name\":\"AllLabels\",\"id\":\"f9166b96-e804-4ec8-89ed-c145703d02e1\"},\"major_label_text_font_size\":\"12pt\"}}],\"below\":[{\"type\":\"object\",\"name\":\"LinearAxis\",\"id\":\"713e0616-f260-43a7-8ddf-e5b1e167f2a7\",\"attributes\":{\"ticker\":{\"type\":\"object\",\"name\":\"BasicTicker\",\"id\":\"456774ee-8c06-4821-ba1f-8d79616f1aaa\",\"attributes\":{\"mantissas\":[1,2,5]}},\"formatter\":{\"type\":\"object\",\"name\":\"BasicTickFormatter\",\"id\":\"557ac88f-9f51-4714-845d-8b9f7d2c711d\"},\"axis_label\":\"Go Cue Time (ms)\",\"axis_label_text_font_size\":\"14pt\",\"major_label_policy\":{\"type\":\"object\",\"name\":\"AllLabels\",\"id\":\"55a15217-f9f1-4dfb-aef0-ce7f16410d46\"},\"major_label_text_font_size\":\"12pt\"}}],\"center\":[{\"type\":\"object\",\"name\":\"Grid\",\"id\":\"62d03d48-420d-49a9-a40d-d6279b56181a\",\"attributes\":{\"axis\":{\"id\":\"713e0616-f260-43a7-8ddf-e5b1e167f2a7\"},\"grid_line_color\":null}},{\"type\":\"object\",\"name\":\"Grid\",\"id\":\"5c153ea4-19f1-494c-ba91-9a95e4e20ce1\",\"attributes\":{\"dimension\":1,\"axis\":{\"id\":\"988b5a12-e24e-4ae1-be33-99db00b24a3d\"},\"grid_line_color\":null}},{\"type\":\"object\",\"name\":\"Legend\",\"id\":\"880115cd-e4fa-496e-8985-1c98edcd88fb\",\"attributes\":{\"title\":\"type\",\"click_policy\":\"mute\",\"label_text_font_size\":\"12pt\",\"items\":[{\"type\":\"object\",\"name\":\"LegendItem\",\"id\":\"76404546-28a1-4c87-be3b-cc57d7711f90\",\"attributes\":{\"label\":{\"type\":\"value\",\"value\":\"CONT\"},\"renderers\":[{\"id\":\"af73d894-0534-43bb-a0e0-615babf58b1d\"}]}},{\"type\":\"object\",\"name\":\"LegendItem\",\"id\":\"5317fa98-ee03-47a4-9c8a-796bd1d4c55d\",\"attributes\":{\"label\":{\"type\":\"value\",\"value\":\"GO\"},\"renderers\":[{\"id\":\"eba1b400-c11c-408b-b4ea-e916e9c5ba83\"}]}},{\"type\":\"object\",\"name\":\"LegendItem\",\"id\":\"2b1a90b7-76d8-4bde-9d42-5f1ce80a21fe\",\"attributes\":{\"label\":{\"type\":\"value\",\"value\":\"STOP\"},\"renderers\":[{\"id\":\"5e7c112d-13ca-47eb-a801-8e051bb466b9\"}]}}]}}],\"min_border_top\":10,\"min_border_bottom\":10,\"min_border_left\":10,\"min_border_right\":10,\"output_backend\":\"webgl\"}},{\"type\":\"object\",\"name\":\"Spacer\",\"id\":\"0b137faa-ef54-4f8a-b514-a5be8acfc04f\",\"attributes\":{\"name\":\"HSpacer01104\",\"stylesheets\":[\"\\n:host(.pn-loading):before, .pn-loading:before {\\n  background-color: #c3c3c3;\\n  mask-size: auto calc(min(50%, 300px));\\n  -webkit-mask-size: auto calc(min(50%, 300px));\\n}\",{\"id\":\"c69bc150-860e-4e42-a5ae-c8bdd78f3f00\"},{\"id\":\"6dd96fc7-e75a-4e4d-beb4-87b69036132b\"},{\"id\":\"4eec03c0-7c4d-403c-9c8e-515a64398f1f\"}],\"min_width\":0,\"margin\":0,\"sizing_mode\":\"stretch_width\",\"align\":\"start\"}}]}}],\"defs\":[{\"type\":\"model\",\"name\":\"ReactiveHTML1\"},{\"type\":\"model\",\"name\":\"FlexBox1\",\"properties\":[{\"name\":\"align_content\",\"kind\":\"Any\",\"default\":\"flex-start\"},{\"name\":\"align_items\",\"kind\":\"Any\",\"default\":\"flex-start\"},{\"name\":\"flex_direction\",\"kind\":\"Any\",\"default\":\"row\"},{\"name\":\"flex_wrap\",\"kind\":\"Any\",\"default\":\"wrap\"},{\"name\":\"gap\",\"kind\":\"Any\",\"default\":\"\"},{\"name\":\"justify_content\",\"kind\":\"Any\",\"default\":\"flex-start\"}]},{\"type\":\"model\",\"name\":\"FloatPanel1\",\"properties\":[{\"name\":\"config\",\"kind\":\"Any\",\"default\":{\"type\":\"map\"}},{\"name\":\"contained\",\"kind\":\"Any\",\"default\":true},{\"name\":\"position\",\"kind\":\"Any\",\"default\":\"right-top\"},{\"name\":\"offsetx\",\"kind\":\"Any\",\"default\":null},{\"name\":\"offsety\",\"kind\":\"Any\",\"default\":null},{\"name\":\"theme\",\"kind\":\"Any\",\"default\":\"primary\"},{\"name\":\"status\",\"kind\":\"Any\",\"default\":\"normalized\"}]},{\"type\":\"model\",\"name\":\"GridStack1\",\"properties\":[{\"name\":\"ncols\",\"kind\":\"Any\",\"default\":null},{\"name\":\"nrows\",\"kind\":\"Any\",\"default\":null},{\"name\":\"allow_resize\",\"kind\":\"Any\",\"default\":true},{\"name\":\"allow_drag\",\"kind\":\"Any\",\"default\":true},{\"name\":\"state\",\"kind\":\"Any\",\"default\":[]}]},{\"type\":\"model\",\"name\":\"drag1\",\"properties\":[{\"name\":\"slider_width\",\"kind\":\"Any\",\"default\":5},{\"name\":\"slider_color\",\"kind\":\"Any\",\"default\":\"black\"},{\"name\":\"start\",\"kind\":\"Any\",\"default\":0},{\"name\":\"end\",\"kind\":\"Any\",\"default\":100},{\"name\":\"value\",\"kind\":\"Any\",\"default\":50}]},{\"type\":\"model\",\"name\":\"click1\",\"properties\":[{\"name\":\"terminal_output\",\"kind\":\"Any\",\"default\":\"\"},{\"name\":\"debug_name\",\"kind\":\"Any\",\"default\":\"\"},{\"name\":\"clears\",\"kind\":\"Any\",\"default\":0}]},{\"type\":\"model\",\"name\":\"ReactiveESM1\",\"properties\":[{\"name\":\"esm_constants\",\"kind\":\"Any\",\"default\":{\"type\":\"map\"}}]},{\"type\":\"model\",\"name\":\"JSComponent1\",\"properties\":[{\"name\":\"esm_constants\",\"kind\":\"Any\",\"default\":{\"type\":\"map\"}}]},{\"type\":\"model\",\"name\":\"ReactComponent1\",\"properties\":[{\"name\":\"use_shadow_dom\",\"kind\":\"Any\",\"default\":true},{\"name\":\"esm_constants\",\"kind\":\"Any\",\"default\":{\"type\":\"map\"}}]},{\"type\":\"model\",\"name\":\"AnyWidgetComponent1\",\"properties\":[{\"name\":\"use_shadow_dom\",\"kind\":\"Any\",\"default\":true},{\"name\":\"esm_constants\",\"kind\":\"Any\",\"default\":{\"type\":\"map\"}}]},{\"type\":\"model\",\"name\":\"FastWrapper1\",\"properties\":[{\"name\":\"object\",\"kind\":\"Any\",\"default\":null},{\"name\":\"style\",\"kind\":\"Any\",\"default\":null}]},{\"type\":\"model\",\"name\":\"NotificationArea1\",\"properties\":[{\"name\":\"js_events\",\"kind\":\"Any\",\"default\":{\"type\":\"map\"}},{\"name\":\"max_notifications\",\"kind\":\"Any\",\"default\":5},{\"name\":\"notifications\",\"kind\":\"Any\",\"default\":[]},{\"name\":\"position\",\"kind\":\"Any\",\"default\":\"bottom-right\"},{\"name\":\"_clear\",\"kind\":\"Any\",\"default\":0},{\"name\":\"types\",\"kind\":\"Any\",\"default\":[{\"type\":\"map\",\"entries\":[[\"type\",\"warning\"],[\"background\",\"#ffc107\"],[\"icon\",{\"type\":\"map\",\"entries\":[[\"className\",\"fas fa-exclamation-triangle\"],[\"tagName\",\"i\"],[\"color\",\"white\"]]}]]},{\"type\":\"map\",\"entries\":[[\"type\",\"info\"],[\"background\",\"#007bff\"],[\"icon\",{\"type\":\"map\",\"entries\":[[\"className\",\"fas fa-info-circle\"],[\"tagName\",\"i\"],[\"color\",\"white\"]]}]]}]}]},{\"type\":\"model\",\"name\":\"Notification\",\"properties\":[{\"name\":\"background\",\"kind\":\"Any\",\"default\":null},{\"name\":\"duration\",\"kind\":\"Any\",\"default\":3000},{\"name\":\"icon\",\"kind\":\"Any\",\"default\":null},{\"name\":\"message\",\"kind\":\"Any\",\"default\":\"\"},{\"name\":\"notification_type\",\"kind\":\"Any\",\"default\":null},{\"name\":\"_rendered\",\"kind\":\"Any\",\"default\":false},{\"name\":\"_destroyed\",\"kind\":\"Any\",\"default\":false}]},{\"type\":\"model\",\"name\":\"TemplateActions1\",\"properties\":[{\"name\":\"open_modal\",\"kind\":\"Any\",\"default\":0},{\"name\":\"close_modal\",\"kind\":\"Any\",\"default\":0}]},{\"type\":\"model\",\"name\":\"BootstrapTemplateActions1\",\"properties\":[{\"name\":\"open_modal\",\"kind\":\"Any\",\"default\":0},{\"name\":\"close_modal\",\"kind\":\"Any\",\"default\":0}]},{\"type\":\"model\",\"name\":\"TemplateEditor1\",\"properties\":[{\"name\":\"layout\",\"kind\":\"Any\",\"default\":[]}]},{\"type\":\"model\",\"name\":\"MaterialTemplateActions1\",\"properties\":[{\"name\":\"open_modal\",\"kind\":\"Any\",\"default\":0},{\"name\":\"close_modal\",\"kind\":\"Any\",\"default\":0}]},{\"type\":\"model\",\"name\":\"request_value1\",\"properties\":[{\"name\":\"fill\",\"kind\":\"Any\",\"default\":\"none\"},{\"name\":\"_synced\",\"kind\":\"Any\",\"default\":null},{\"name\":\"_request_sync\",\"kind\":\"Any\",\"default\":0}]},{\"type\":\"model\",\"name\":\"holoviews.plotting.bokeh.raster.HoverModel\",\"properties\":[{\"name\":\"xy\",\"kind\":\"Any\",\"default\":null},{\"name\":\"data\",\"kind\":\"Any\",\"default\":null}]}]}};\n",
       "  var render_items = [{\"docid\":\"0249e9b6-00a4-46d6-a7b5-09de9f3129bd\",\"roots\":{\"2464a8d3-1e10-4b12-9eeb-bc6b57745326\":\"d759320f-8cbc-4342-ba75-79cad08efa07\"},\"root_ids\":[\"2464a8d3-1e10-4b12-9eeb-bc6b57745326\"]}];\n",
       "  var docs = Object.values(docs_json)\n",
       "  if (!docs) {\n",
       "    return\n",
       "  }\n",
       "  const py_version = docs[0].version.replace('rc', '-rc.').replace('.dev', '-dev.')\n",
       "  async function embed_document(root) {\n",
       "    var Bokeh = get_bokeh(root)\n",
       "    await Bokeh.embed.embed_items_notebook(docs_json, render_items);\n",
       "    for (const render_item of render_items) {\n",
       "      for (const root_id of render_item.root_ids) {\n",
       "\tconst id_el = document.getElementById(root_id)\n",
       "\tif (id_el.children.length && id_el.children[0].hasAttribute('data-root-id')) {\n",
       "\t  const root_el = id_el.children[0]\n",
       "\t  root_el.id = root_el.id + '-rendered'\n",
       "\t  for (const child of root_el.children) {\n",
       "            // Ensure JupyterLab does not capture keyboard shortcuts\n",
       "            // see: https://jupyterlab.readthedocs.io/en/4.1.x/extension/notebook.html#keyboard-interaction-model\n",
       "\t    child.setAttribute('data-lm-suppress-shortcuts', 'true')\n",
       "\t  }\n",
       "\t}\n",
       "      }\n",
       "    }\n",
       "  }\n",
       "  function get_bokeh(root) {\n",
       "    if (root.Bokeh === undefined) {\n",
       "      return null\n",
       "    } else if (root.Bokeh.version !== py_version) {\n",
       "      if (root.Bokeh.versions === undefined || !root.Bokeh.versions.has(py_version)) {\n",
       "\treturn null\n",
       "      }\n",
       "      return root.Bokeh.versions.get(py_version);\n",
       "    } else if (root.Bokeh.version === py_version) {\n",
       "      return root.Bokeh\n",
       "    }\n",
       "    return null\n",
       "  }\n",
       "  function is_loaded(root) {\n",
       "    var Bokeh = get_bokeh(root)\n",
       "    return (Bokeh != null && Bokeh.Panel !== undefined)\n",
       "  }\n",
       "  if (is_loaded(root)) {\n",
       "    embed_document(root);\n",
       "  } else {\n",
       "    var attempts = 0;\n",
       "    var timer = setInterval(function(root) {\n",
       "      if (is_loaded(root)) {\n",
       "        clearInterval(timer);\n",
       "        embed_document(root);\n",
       "      } else if (document.readyState == \"complete\") {\n",
       "        attempts++;\n",
       "        if (attempts > 200) {\n",
       "          clearInterval(timer);\n",
       "\t  var Bokeh = get_bokeh(root)\n",
       "\t  if (Bokeh == null || Bokeh.Panel == null) {\n",
       "            console.warn(\"Panel: ERROR: Unable to run Panel code because Bokeh or Panel library is missing\");\n",
       "\t  } else {\n",
       "\t    console.warn(\"Panel: WARNING: Attempting to render but not all required libraries could be resolved.\")\n",
       "\t    embed_document(root)\n",
       "\t  }\n",
       "        }\n",
       "      }\n",
       "    }, 25, root)\n",
       "  }\n",
       "})(window);</script>"
      ],
      "text/plain": [
       ":NdOverlay   [type]\n",
       "   :Histogram   [go_cue]   (Count)"
      ]
     },
     "execution_count": 12,
     "metadata": {
      "application/vnd.holoviews_exec.v0+json": {
       "id": "2464a8d3-1e10-4b12-9eeb-bc6b57745326"
      }
     },
     "output_type": "execute_result"
    }
   ],
   "source": [
    "# Create go cue timing distribution\n",
    "plot5 = eda.plot_go_cue_timing()\n",
    "plot5"
   ]
  },
  {
   "cell_type": "markdown",
   "id": "1a2f3564",
   "metadata": {},
   "source": [
    "### 6. Stop and Continue Performance (Figure 1b Replication)"
   ]
  },
  {
   "cell_type": "code",
   "execution_count": 13,
   "id": "ed1dc1bf",
   "metadata": {},
   "outputs": [
    {
     "name": "stderr",
     "output_type": "stream",
     "text": [
      "WARNING:param.main: marker_size option not found for line plot with bokeh; similar options include: ['rasterize']\n",
      "WARNING:param.main: markers option not found for line plot with bokeh; similar options include: []\n",
      "WARNING:param.main: marker_size option not found for line plot with bokeh; similar options include: ['rasterize']\n",
      "WARNING:param.main: markers option not found for line plot with bokeh; similar options include: []\n"
     ]
    },
    {
     "data": {},
     "metadata": {},
     "output_type": "display_data"
    },
    {
     "data": {
      "application/vnd.holoviews_exec.v0+json": "",
      "text/html": [
       "<div id='dfc1bbb0-e8df-4619-8f6d-ee32b1b1bc48'>\n",
       "  <div id=\"c297a61b-ebe7-4b1b-af69-461ebe55615e\" data-root-id=\"dfc1bbb0-e8df-4619-8f6d-ee32b1b1bc48\" style=\"display: contents;\"></div>\n",
       "</div>\n",
       "<script type=\"application/javascript\">(function(root) {\n",
       "  var docs_json = {\"706e3f09-d134-4f80-a65d-61d715161822\":{\"version\":\"3.8.0\",\"title\":\"Bokeh Application\",\"config\":{\"type\":\"object\",\"name\":\"DocumentConfig\",\"id\":\"a2c95ad8-c35f-4b66-b2a6-9696e38eafd3\",\"attributes\":{\"notifications\":{\"type\":\"object\",\"name\":\"Notifications\",\"id\":\"9df4de13-17e9-42cc-8e03-7a32c40fd123\"}}},\"roots\":[{\"type\":\"object\",\"name\":\"Row\",\"id\":\"dfc1bbb0-e8df-4619-8f6d-ee32b1b1bc48\",\"attributes\":{\"name\":\"Row01281\",\"tags\":[\"embedded\"],\"stylesheets\":[\"\\n:host(.pn-loading):before, .pn-loading:before {\\n  background-color: #c3c3c3;\\n  mask-size: auto calc(min(50%, 300px));\\n  -webkit-mask-size: auto calc(min(50%, 300px));\\n}\",{\"type\":\"object\",\"name\":\"ImportedStyleSheet\",\"id\":\"b3a152e3-b341-49a8-b98d-96ea98ca0041\",\"attributes\":{\"url\":\"https://cdn.holoviz.org/panel/1.8.0/dist/css/loading.css\"}},{\"type\":\"object\",\"name\":\"ImportedStyleSheet\",\"id\":\"9c64c110-54ba-4e1d-aab3-21782675c3f4\",\"attributes\":{\"url\":\"https://cdn.holoviz.org/panel/1.8.0/dist/css/listpanel.css\"}},{\"type\":\"object\",\"name\":\"ImportedStyleSheet\",\"id\":\"60e95cb5-8f35-4d89-95bc-c00ec07c4e38\",\"attributes\":{\"url\":\"https://cdn.holoviz.org/panel/1.8.0/dist/bundled/theme/default.css\"}},{\"type\":\"object\",\"name\":\"ImportedStyleSheet\",\"id\":\"a1bb2858-78aa-44f2-9a09-d71bc441748b\",\"attributes\":{\"url\":\"https://cdn.holoviz.org/panel/1.8.0/dist/bundled/theme/native.css\"}}],\"min_width\":700,\"margin\":0,\"sizing_mode\":\"stretch_width\",\"align\":\"start\",\"children\":[{\"type\":\"object\",\"name\":\"Spacer\",\"id\":\"e661382b-b302-44e6-8153-157327f69639\",\"attributes\":{\"name\":\"HSpacer01285\",\"stylesheets\":[\"\\n:host(.pn-loading):before, .pn-loading:before {\\n  background-color: #c3c3c3;\\n  mask-size: auto calc(min(50%, 300px));\\n  -webkit-mask-size: auto calc(min(50%, 300px));\\n}\",{\"id\":\"b3a152e3-b341-49a8-b98d-96ea98ca0041\"},{\"id\":\"60e95cb5-8f35-4d89-95bc-c00ec07c4e38\"},{\"id\":\"a1bb2858-78aa-44f2-9a09-d71bc441748b\"}],\"min_width\":0,\"margin\":0,\"sizing_mode\":\"stretch_width\",\"align\":\"start\"}},{\"type\":\"object\",\"name\":\"Figure\",\"id\":\"d4b5b9b1-b07a-4035-bb01-038a759e085f\",\"attributes\":{\"width\":700,\"height\":400,\"margin\":[5,10],\"sizing_mode\":\"fixed\",\"align\":\"start\",\"x_range\":{\"type\":\"object\",\"name\":\"Range1d\",\"id\":\"c89d5ad1-6ca8-45c2-a4bd-c454a8972c46\",\"attributes\":{\"name\":\"ssd_len\",\"tags\":[[[\"ssd_len\",null]],[]],\"start\":48.0,\"end\":228.0,\"reset_start\":48.0,\"reset_end\":228.0}},\"y_range\":{\"type\":\"object\",\"name\":\"Range1d\",\"id\":\"36b819ed-5a7b-4b2e-a796-18b4209e7a3f\",\"attributes\":{\"name\":\"error_percentage\",\"tags\":[[[\"error_percentage\",null]],{\"type\":\"map\",\"entries\":[[\"invert_yaxis\",false],[\"autorange\",false]]}],\"end\":100,\"reset_start\":0,\"reset_end\":100}},\"x_scale\":{\"type\":\"object\",\"name\":\"LinearScale\",\"id\":\"ed989d9b-92fd-48e7-a9de-949bba46ca2d\"},\"y_scale\":{\"type\":\"object\",\"name\":\"LinearScale\",\"id\":\"f2b01628-6af7-4aab-ad91-5d7c6f4cdea7\"},\"title\":{\"type\":\"object\",\"name\":\"Title\",\"id\":\"7dbf6f90-09f0-453a-8c91-1f735ac6871a\",\"attributes\":{\"text\":\"Fiona - Stop and Continue Performance (Figure 1b)\",\"text_color\":\"black\",\"text_font_size\":\"16pt\"}},\"renderers\":[{\"type\":\"object\",\"name\":\"GlyphRenderer\",\"id\":\"86ac1d12-86eb-4700-8e2f-906f3792d571\",\"attributes\":{\"name\":\"Error stop (Fiona)\",\"data_source\":{\"type\":\"object\",\"name\":\"ColumnDataSource\",\"id\":\"16009fc4-34fe-44bb-baba-18cebc8648eb\",\"attributes\":{\"selected\":{\"type\":\"object\",\"name\":\"Selection\",\"id\":\"b981dda0-57f1-48f4-b02a-5591aa6acf4c\",\"attributes\":{\"indices\":[],\"line_indices\":[]}},\"selection_policy\":{\"type\":\"object\",\"name\":\"UnionRenderers\",\"id\":\"0f6df770-6a7d-4fa4-9960-21b58f7ae713\"},\"data\":{\"type\":\"map\",\"entries\":[[\"ssd_len\",{\"type\":\"ndarray\",\"array\":{\"type\":\"bytes\",\"data\":\"H4sIAAEAAAAC/zNgYGDIAeIVQPwEiAFpBU4QEAAAAA==\"},\"shape\":[4],\"dtype\":\"int32\",\"order\":\"little\"}],[\"error_percentage\",{\"type\":\"ndarray\",\"array\":{\"type\":\"bytes\",\"data\":\"H4sIAAEAAAAC/5s5EwRUHGaBaSuHs2eAwMfLwRgENoc4AACs39diIAAAAA==\"},\"shape\":[4],\"dtype\":\"float64\",\"order\":\"little\"}]]}}},\"view\":{\"type\":\"object\",\"name\":\"CDSView\",\"id\":\"c7accb3f-ca77-405f-9731-c18064c5b483\",\"attributes\":{\"filter\":{\"type\":\"object\",\"name\":\"AllIndices\",\"id\":\"b32144b0-f121-445a-81c8-149a8d3c356f\"}}},\"glyph\":{\"type\":\"object\",\"name\":\"Line\",\"id\":\"08339c61-fc94-475d-9240-f782c9fc4c46\",\"attributes\":{\"tags\":[\"apply_ranges\"],\"x\":{\"type\":\"field\",\"field\":\"ssd_len\"},\"y\":{\"type\":\"field\",\"field\":\"error_percentage\"},\"line_color\":\"red\",\"line_width\":3}},\"selection_glyph\":{\"type\":\"object\",\"name\":\"Line\",\"id\":\"cf64cf8d-5693-40f9-98b9-1f9bed2ed5b9\",\"attributes\":{\"tags\":[\"apply_ranges\"],\"x\":{\"type\":\"field\",\"field\":\"ssd_len\"},\"y\":{\"type\":\"field\",\"field\":\"error_percentage\"},\"line_color\":\"red\",\"line_width\":3}},\"nonselection_glyph\":{\"type\":\"object\",\"name\":\"Line\",\"id\":\"682822d2-d9d6-41e9-8cdd-54f7815b0811\",\"attributes\":{\"tags\":[\"apply_ranges\"],\"x\":{\"type\":\"field\",\"field\":\"ssd_len\"},\"y\":{\"type\":\"field\",\"field\":\"error_percentage\"},\"line_color\":\"red\",\"line_alpha\":0.1,\"line_width\":3}},\"muted_glyph\":{\"type\":\"object\",\"name\":\"Line\",\"id\":\"c88ea3c7-78fb-4b77-ae98-2268eb1fb1a8\",\"attributes\":{\"tags\":[\"apply_ranges\"],\"x\":{\"type\":\"field\",\"field\":\"ssd_len\"},\"y\":{\"type\":\"field\",\"field\":\"error_percentage\"},\"line_color\":\"red\",\"line_alpha\":0.2,\"line_width\":3}}}},{\"type\":\"object\",\"name\":\"GlyphRenderer\",\"id\":\"60ce040a-a24f-45da-b328-fd09a3e481ab\",\"attributes\":{\"data_source\":{\"type\":\"object\",\"name\":\"ColumnDataSource\",\"id\":\"bc848466-e053-44d9-af2c-48946af43ed9\",\"attributes\":{\"selected\":{\"type\":\"object\",\"name\":\"Selection\",\"id\":\"d7870dd7-5c8b-4aed-857a-e6b374001426\",\"attributes\":{\"indices\":[],\"line_indices\":[]}},\"selection_policy\":{\"type\":\"object\",\"name\":\"UnionRenderers\",\"id\":\"c57f6dac-a3c4-4f36-a9dc-9d1bb42b51b8\"},\"data\":{\"type\":\"map\",\"entries\":[[\"ssd_len\",{\"type\":\"ndarray\",\"array\":{\"type\":\"bytes\",\"data\":\"H4sIAAEAAAAC/zNgYGDIAeIVQPwEiAFpBU4QEAAAAA==\"},\"shape\":[4],\"dtype\":\"int32\",\"order\":\"little\"}],[\"error_percentage\",{\"type\":\"ndarray\",\"array\":{\"type\":\"bytes\",\"data\":\"H4sIAAEAAAAC/5s5EwRUHGaBaSuHs2eAwMfLwRgENoc4AACs39diIAAAAA==\"},\"shape\":[4],\"dtype\":\"float64\",\"order\":\"little\"}]]}}},\"view\":{\"type\":\"object\",\"name\":\"CDSView\",\"id\":\"0deeae14-c9ec-4193-983c-3c5cb5401aae\",\"attributes\":{\"filter\":{\"type\":\"object\",\"name\":\"AllIndices\",\"id\":\"4135990e-c33c-46b4-8b4b-fd39da47c774\"}}},\"glyph\":{\"type\":\"object\",\"name\":\"Scatter\",\"id\":\"53455ad9-c9af-4e49-9a0f-8c38ff373ecd\",\"attributes\":{\"tags\":[\"apply_ranges\"],\"x\":{\"type\":\"field\",\"field\":\"ssd_len\"},\"y\":{\"type\":\"field\",\"field\":\"error_percentage\"},\"size\":{\"type\":\"value\",\"value\":12.24744871391589},\"line_color\":{\"type\":\"value\",\"value\":\"red\"},\"line_alpha\":{\"type\":\"value\",\"value\":0.5},\"fill_color\":{\"type\":\"value\",\"value\":\"red\"},\"fill_alpha\":{\"type\":\"value\",\"value\":0.5},\"hatch_color\":{\"type\":\"value\",\"value\":\"red\"},\"hatch_alpha\":{\"type\":\"value\",\"value\":0.5},\"marker\":{\"type\":\"value\",\"value\":\"triangle\"}}},\"selection_glyph\":{\"type\":\"object\",\"name\":\"Scatter\",\"id\":\"182f9e4b-c43d-476d-8ebe-0dccf939dab3\",\"attributes\":{\"tags\":[\"apply_ranges\"],\"x\":{\"type\":\"field\",\"field\":\"ssd_len\"},\"y\":{\"type\":\"field\",\"field\":\"error_percentage\"},\"size\":{\"type\":\"value\",\"value\":12.24744871391589},\"angle\":{\"type\":\"value\",\"value\":0.0},\"line_color\":{\"type\":\"value\",\"value\":\"red\"},\"line_alpha\":{\"type\":\"value\",\"value\":0.5},\"line_width\":{\"type\":\"value\",\"value\":1},\"line_join\":{\"type\":\"value\",\"value\":\"bevel\"},\"line_cap\":{\"type\":\"value\",\"value\":\"butt\"},\"line_dash\":{\"type\":\"value\",\"value\":[]},\"line_dash_offset\":{\"type\":\"value\",\"value\":0},\"fill_color\":{\"type\":\"value\",\"value\":\"red\"},\"fill_alpha\":{\"type\":\"value\",\"value\":0.5},\"hatch_color\":{\"type\":\"value\",\"value\":\"red\"},\"hatch_alpha\":{\"type\":\"value\",\"value\":0.5},\"hatch_scale\":{\"type\":\"value\",\"value\":12.0},\"hatch_pattern\":{\"type\":\"value\",\"value\":null},\"hatch_weight\":{\"type\":\"value\",\"value\":1.0},\"marker\":{\"type\":\"value\",\"value\":\"triangle\"}}},\"nonselection_glyph\":{\"type\":\"object\",\"name\":\"Scatter\",\"id\":\"fb2cbcb2-6437-491c-b3f4-ce1b653291bc\",\"attributes\":{\"tags\":[\"apply_ranges\"],\"x\":{\"type\":\"field\",\"field\":\"ssd_len\"},\"y\":{\"type\":\"field\",\"field\":\"error_percentage\"},\"size\":{\"type\":\"value\",\"value\":12.24744871391589},\"line_color\":{\"type\":\"value\",\"value\":\"red\"},\"line_alpha\":{\"type\":\"value\",\"value\":0.5},\"fill_color\":{\"type\":\"value\",\"value\":\"red\"},\"fill_alpha\":{\"type\":\"value\",\"value\":0.5},\"hatch_color\":{\"type\":\"value\",\"value\":\"red\"},\"hatch_alpha\":{\"type\":\"value\",\"value\":0.1},\"marker\":{\"type\":\"value\",\"value\":\"triangle\"}}},\"muted_glyph\":{\"type\":\"object\",\"name\":\"Scatter\",\"id\":\"11511efe-80e2-4e44-810d-6361b44a681b\",\"attributes\":{\"tags\":[\"apply_ranges\"],\"x\":{\"type\":\"field\",\"field\":\"ssd_len\"},\"y\":{\"type\":\"field\",\"field\":\"error_percentage\"},\"size\":{\"type\":\"value\",\"value\":12.24744871391589},\"line_color\":{\"type\":\"value\",\"value\":\"red\"},\"line_alpha\":{\"type\":\"value\",\"value\":0.2},\"fill_color\":{\"type\":\"value\",\"value\":\"red\"},\"fill_alpha\":{\"type\":\"value\",\"value\":0.2},\"hatch_color\":{\"type\":\"value\",\"value\":\"red\"},\"hatch_alpha\":{\"type\":\"value\",\"value\":0.2},\"marker\":{\"type\":\"value\",\"value\":\"triangle\"}}}}},{\"type\":\"object\",\"name\":\"GlyphRenderer\",\"id\":\"ed683163-7d6f-4f48-a1c5-9280cd34d293\",\"attributes\":{\"name\":\"Correct continue (Fiona)\",\"data_source\":{\"type\":\"object\",\"name\":\"ColumnDataSource\",\"id\":\"01a9f1d4-3344-4e40-9730-2ea48aa6d737\",\"attributes\":{\"selected\":{\"type\":\"object\",\"name\":\"Selection\",\"id\":\"b8ae4e85-e0cf-478c-854f-0f33e906081f\",\"attributes\":{\"indices\":[],\"line_indices\":[]}},\"selection_policy\":{\"type\":\"object\",\"name\":\"UnionRenderers\",\"id\":\"3d5149a1-a10b-4149-957e-529ee04fb035\"},\"data\":{\"type\":\"map\",\"entries\":[[\"ssd_len\",{\"type\":\"ndarray\",\"array\":{\"type\":\"bytes\",\"data\":\"H4sIAAEAAAAC/zNgYGDIAeIVQPwEiAFpBU4QEAAAAA==\"},\"shape\":[4],\"dtype\":\"int32\",\"order\":\"little\"}],[\"correct_percentage\",{\"type\":\"ndarray\",\"array\":{\"type\":\"bytes\",\"data\":\"H4sIAAEAAAAC/2NgAAKHUIdZM4HAMswhDQTYQhwYwCDUAQDEG+P/IAAAAA==\"},\"shape\":[4],\"dtype\":\"float64\",\"order\":\"little\"}]]}}},\"view\":{\"type\":\"object\",\"name\":\"CDSView\",\"id\":\"bebb9528-4fbd-4589-921d-5b4b23ade324\",\"attributes\":{\"filter\":{\"type\":\"object\",\"name\":\"AllIndices\",\"id\":\"e137f306-3c9f-4507-9d5a-5e65607e0bdd\"}}},\"glyph\":{\"type\":\"object\",\"name\":\"Line\",\"id\":\"19122608-66b5-4caa-b452-cc5f1accf74f\",\"attributes\":{\"tags\":[\"apply_ranges\"],\"x\":{\"type\":\"field\",\"field\":\"ssd_len\"},\"y\":{\"type\":\"field\",\"field\":\"correct_percentage\"},\"line_color\":\"blue\",\"line_width\":3}},\"selection_glyph\":{\"type\":\"object\",\"name\":\"Line\",\"id\":\"8efa6cff-f8bb-40c2-95c4-07ac2ff6109c\",\"attributes\":{\"tags\":[\"apply_ranges\"],\"x\":{\"type\":\"field\",\"field\":\"ssd_len\"},\"y\":{\"type\":\"field\",\"field\":\"correct_percentage\"},\"line_color\":\"blue\",\"line_width\":3}},\"nonselection_glyph\":{\"type\":\"object\",\"name\":\"Line\",\"id\":\"ce296cc1-3dba-4560-961e-d6e8a59a1df6\",\"attributes\":{\"tags\":[\"apply_ranges\"],\"x\":{\"type\":\"field\",\"field\":\"ssd_len\"},\"y\":{\"type\":\"field\",\"field\":\"correct_percentage\"},\"line_color\":\"blue\",\"line_alpha\":0.1,\"line_width\":3}},\"muted_glyph\":{\"type\":\"object\",\"name\":\"Line\",\"id\":\"535d181a-6d62-4c46-9686-75079650276d\",\"attributes\":{\"tags\":[\"apply_ranges\"],\"x\":{\"type\":\"field\",\"field\":\"ssd_len\"},\"y\":{\"type\":\"field\",\"field\":\"correct_percentage\"},\"line_color\":\"blue\",\"line_alpha\":0.2,\"line_width\":3}}}},{\"type\":\"object\",\"name\":\"GlyphRenderer\",\"id\":\"57a3db74-3945-4e18-8377-97031cfafaeb\",\"attributes\":{\"data_source\":{\"type\":\"object\",\"name\":\"ColumnDataSource\",\"id\":\"0287e8fa-5d69-49ec-8871-eb77fd2bc30a\",\"attributes\":{\"selected\":{\"type\":\"object\",\"name\":\"Selection\",\"id\":\"30d188f0-97d4-41fb-b254-600ec07855be\",\"attributes\":{\"indices\":[],\"line_indices\":[]}},\"selection_policy\":{\"type\":\"object\",\"name\":\"UnionRenderers\",\"id\":\"66582d4f-604f-4890-b2b7-de472a66d552\"},\"data\":{\"type\":\"map\",\"entries\":[[\"ssd_len\",{\"type\":\"ndarray\",\"array\":{\"type\":\"bytes\",\"data\":\"H4sIAAEAAAAC/zNgYGDIAeIVQPwEiAFpBU4QEAAAAA==\"},\"shape\":[4],\"dtype\":\"int32\",\"order\":\"little\"}],[\"correct_percentage\",{\"type\":\"ndarray\",\"array\":{\"type\":\"bytes\",\"data\":\"H4sIAAEAAAAC/2NgAAKHUIdZM4HAMswhDQTYQhwYwCDUAQDEG+P/IAAAAA==\"},\"shape\":[4],\"dtype\":\"float64\",\"order\":\"little\"}]]}}},\"view\":{\"type\":\"object\",\"name\":\"CDSView\",\"id\":\"d236d325-b518-448c-86d4-46e72a4b6ef4\",\"attributes\":{\"filter\":{\"type\":\"object\",\"name\":\"AllIndices\",\"id\":\"17830039-72a8-40a5-a9e8-bb4308bb8328\"}}},\"glyph\":{\"type\":\"object\",\"name\":\"Scatter\",\"id\":\"780fc3ea-ecc3-4b43-8999-e583379e23e2\",\"attributes\":{\"tags\":[\"apply_ranges\"],\"x\":{\"type\":\"field\",\"field\":\"ssd_len\"},\"y\":{\"type\":\"field\",\"field\":\"correct_percentage\"},\"size\":{\"type\":\"value\",\"value\":10.0},\"line_color\":{\"type\":\"value\",\"value\":\"blue\"},\"line_alpha\":{\"type\":\"value\",\"value\":0.5},\"fill_color\":{\"type\":\"value\",\"value\":\"blue\"},\"fill_alpha\":{\"type\":\"value\",\"value\":0.5},\"hatch_color\":{\"type\":\"value\",\"value\":\"blue\"},\"hatch_alpha\":{\"type\":\"value\",\"value\":0.5}}},\"selection_glyph\":{\"type\":\"object\",\"name\":\"Scatter\",\"id\":\"eea86371-b48d-4f0f-964f-1fc9e2f1de92\",\"attributes\":{\"tags\":[\"apply_ranges\"],\"x\":{\"type\":\"field\",\"field\":\"ssd_len\"},\"y\":{\"type\":\"field\",\"field\":\"correct_percentage\"},\"size\":{\"type\":\"value\",\"value\":10.0},\"angle\":{\"type\":\"value\",\"value\":0.0},\"line_color\":{\"type\":\"value\",\"value\":\"blue\"},\"line_alpha\":{\"type\":\"value\",\"value\":0.5},\"line_width\":{\"type\":\"value\",\"value\":1},\"line_join\":{\"type\":\"value\",\"value\":\"bevel\"},\"line_cap\":{\"type\":\"value\",\"value\":\"butt\"},\"line_dash\":{\"type\":\"value\",\"value\":[]},\"line_dash_offset\":{\"type\":\"value\",\"value\":0},\"fill_color\":{\"type\":\"value\",\"value\":\"blue\"},\"fill_alpha\":{\"type\":\"value\",\"value\":0.5},\"hatch_color\":{\"type\":\"value\",\"value\":\"blue\"},\"hatch_alpha\":{\"type\":\"value\",\"value\":0.5},\"hatch_scale\":{\"type\":\"value\",\"value\":12.0},\"hatch_pattern\":{\"type\":\"value\",\"value\":null},\"hatch_weight\":{\"type\":\"value\",\"value\":1.0},\"marker\":{\"type\":\"value\",\"value\":\"circle\"}}},\"nonselection_glyph\":{\"type\":\"object\",\"name\":\"Scatter\",\"id\":\"864059bc-b4ba-4b27-af78-ba1a61bd2b4d\",\"attributes\":{\"tags\":[\"apply_ranges\"],\"x\":{\"type\":\"field\",\"field\":\"ssd_len\"},\"y\":{\"type\":\"field\",\"field\":\"correct_percentage\"},\"size\":{\"type\":\"value\",\"value\":10.0},\"line_color\":{\"type\":\"value\",\"value\":\"blue\"},\"line_alpha\":{\"type\":\"value\",\"value\":0.5},\"fill_color\":{\"type\":\"value\",\"value\":\"blue\"},\"fill_alpha\":{\"type\":\"value\",\"value\":0.5},\"hatch_color\":{\"type\":\"value\",\"value\":\"blue\"},\"hatch_alpha\":{\"type\":\"value\",\"value\":0.1}}},\"muted_glyph\":{\"type\":\"object\",\"name\":\"Scatter\",\"id\":\"1fdd7f14-8e20-4f4b-95e4-3836758c3ac9\",\"attributes\":{\"tags\":[\"apply_ranges\"],\"x\":{\"type\":\"field\",\"field\":\"ssd_len\"},\"y\":{\"type\":\"field\",\"field\":\"correct_percentage\"},\"size\":{\"type\":\"value\",\"value\":10.0},\"line_color\":{\"type\":\"value\",\"value\":\"blue\"},\"line_alpha\":{\"type\":\"value\",\"value\":0.2},\"fill_color\":{\"type\":\"value\",\"value\":\"blue\"},\"fill_alpha\":{\"type\":\"value\",\"value\":0.2},\"hatch_color\":{\"type\":\"value\",\"value\":\"blue\"},\"hatch_alpha\":{\"type\":\"value\",\"value\":0.2}}}}}],\"toolbar\":{\"type\":\"object\",\"name\":\"Toolbar\",\"id\":\"53cad53a-3b5b-4279-9ec9-a37ace64550b\",\"attributes\":{\"tools\":[{\"type\":\"object\",\"name\":\"WheelZoomTool\",\"id\":\"1558a8d6-b93f-4cf7-aa4d-e6ca8a5e6fad\",\"attributes\":{\"tags\":[\"hv_created\"],\"renderers\":\"auto\",\"zoom_together\":\"none\"}},{\"type\":\"object\",\"name\":\"HoverTool\",\"id\":\"cf13456c-69d5-4573-a07c-b5916839e3bc\",\"attributes\":{\"tags\":[\"hv_created\"],\"renderers\":[{\"id\":\"86ac1d12-86eb-4700-8e2f-906f3792d571\"},{\"id\":\"60ce040a-a24f-45da-b328-fd09a3e481ab\"}],\"tooltips\":[[\"ssd_len\",\"@{ssd_len}\"],[\"error_percentage\",\"@{error_percentage}\"]],\"sort_by\":null}},{\"type\":\"object\",\"name\":\"HoverTool\",\"id\":\"bb32d557-058f-4191-8164-c32a00950c31\",\"attributes\":{\"tags\":[\"hv_created\"],\"renderers\":[{\"id\":\"ed683163-7d6f-4f48-a1c5-9280cd34d293\"},{\"id\":\"57a3db74-3945-4e18-8377-97031cfafaeb\"}],\"tooltips\":[[\"ssd_len\",\"@{ssd_len}\"],[\"correct_percentage\",\"@{correct_percentage}\"]],\"sort_by\":null}},{\"type\":\"object\",\"name\":\"SaveTool\",\"id\":\"84dbe81b-b7d0-448c-b606-247428e72a14\"},{\"type\":\"object\",\"name\":\"PanTool\",\"id\":\"4a8e3b85-bb9d-4b4d-8a3b-c3931457884e\"},{\"type\":\"object\",\"name\":\"BoxZoomTool\",\"id\":\"5965bbc6-3781-4a18-a916-59b60134f9b5\",\"attributes\":{\"dimensions\":\"both\",\"overlay\":{\"type\":\"object\",\"name\":\"BoxAnnotation\",\"id\":\"1522f080-c150-4354-9b60-11ffbe9c0a87\",\"attributes\":{\"syncable\":false,\"line_color\":\"black\",\"line_alpha\":1.0,\"line_width\":2,\"line_dash\":[4,4],\"fill_color\":\"lightgrey\",\"fill_alpha\":0.5,\"level\":\"overlay\",\"visible\":false,\"left\":{\"type\":\"number\",\"value\":\"nan\"},\"right\":{\"type\":\"number\",\"value\":\"nan\"},\"top\":{\"type\":\"number\",\"value\":\"nan\"},\"bottom\":{\"type\":\"number\",\"value\":\"nan\"},\"left_units\":\"canvas\",\"right_units\":\"canvas\",\"top_units\":\"canvas\",\"bottom_units\":\"canvas\",\"handles\":{\"type\":\"object\",\"name\":\"BoxInteractionHandles\",\"id\":\"1ecbe6e2-2a68-4d9b-9ad5-1fc5b9f74674\",\"attributes\":{\"all\":{\"type\":\"object\",\"name\":\"AreaVisuals\",\"id\":\"1ebabbb5-80d7-4ffd-a017-9aba7cfc3826\",\"attributes\":{\"fill_color\":\"white\",\"hover_fill_color\":\"lightgray\"}}}}}}}},{\"type\":\"object\",\"name\":\"ResetTool\",\"id\":\"916d8149-3731-4bf9-9555-65a38a01b115\"}],\"active_drag\":{\"id\":\"4a8e3b85-bb9d-4b4d-8a3b-c3931457884e\"},\"active_scroll\":{\"id\":\"1558a8d6-b93f-4cf7-aa4d-e6ca8a5e6fad\"}}},\"left\":[{\"type\":\"object\",\"name\":\"LinearAxis\",\"id\":\"9c51fdf8-eb6f-4574-9f1f-63a407d48c38\",\"attributes\":{\"ticker\":{\"type\":\"object\",\"name\":\"BasicTicker\",\"id\":\"155b20b4-56ed-41f2-a494-01856198fd1d\",\"attributes\":{\"mantissas\":[1,2,5]}},\"formatter\":{\"type\":\"object\",\"name\":\"BasicTickFormatter\",\"id\":\"2779540f-c9a8-467a-8043-3353d6f7dcb5\"},\"axis_label\":\"Percentage of saccades\",\"axis_label_text_font_size\":\"14pt\",\"major_label_policy\":{\"type\":\"object\",\"name\":\"AllLabels\",\"id\":\"41fbb2c1-e8b2-4652-8168-22b94b26e47c\"},\"major_label_text_font_size\":\"12pt\"}}],\"above\":[{\"type\":\"object\",\"name\":\"Legend\",\"id\":\"c8aed708-290b-46f3-a731-0ca9b4530c48\",\"attributes\":{\"location\":[0,0],\"orientation\":\"horizontal\",\"click_policy\":\"mute\",\"label_text_font_size\":\"12pt\",\"items\":[{\"type\":\"object\",\"name\":\"LegendItem\",\"id\":\"0bd9516a-a366-4d50-9278-cb75c7a80fc2\",\"attributes\":{\"label\":{\"type\":\"value\",\"value\":\"Error stop (Fiona)\"},\"renderers\":[{\"id\":\"86ac1d12-86eb-4700-8e2f-906f3792d571\"}]}},{\"type\":\"object\",\"name\":\"LegendItem\",\"id\":\"22c348e7-e8b4-4b9a-98e6-7c1bf3b88b24\",\"attributes\":{\"label\":{\"type\":\"value\",\"value\":\"Correct continue (Fiona)\"},\"renderers\":[{\"id\":\"ed683163-7d6f-4f48-a1c5-9280cd34d293\"}]}}]}}],\"below\":[{\"type\":\"object\",\"name\":\"LinearAxis\",\"id\":\"ccd25e5b-b7da-4808-99c3-b27da3016745\",\"attributes\":{\"ticker\":{\"type\":\"object\",\"name\":\"BasicTicker\",\"id\":\"86f80f0a-b42d-40d2-8e4d-f21dc6b09096\",\"attributes\":{\"mantissas\":[1,2,5]}},\"formatter\":{\"type\":\"object\",\"name\":\"BasicTickFormatter\",\"id\":\"f7342063-f63f-4a57-b4cb-a94ec3228f4f\"},\"axis_label\":\"Stop/continue signal delay (ms)\",\"axis_label_text_font_size\":\"14pt\",\"major_label_policy\":{\"type\":\"object\",\"name\":\"AllLabels\",\"id\":\"778ac88e-f2d2-4f82-9515-f9b45da8d89e\"},\"major_label_text_font_size\":\"12pt\"}}],\"center\":[{\"type\":\"object\",\"name\":\"Grid\",\"id\":\"8fd43e27-eac2-451b-8b7f-8d84057795a9\",\"attributes\":{\"axis\":{\"id\":\"ccd25e5b-b7da-4808-99c3-b27da3016745\"},\"ticker\":{\"id\":\"86f80f0a-b42d-40d2-8e4d-f21dc6b09096\"}}},{\"type\":\"object\",\"name\":\"Grid\",\"id\":\"baa0de28-a221-4c57-8961-2a0e2d360492\",\"attributes\":{\"dimension\":1,\"axis\":{\"id\":\"9c51fdf8-eb6f-4574-9f1f-63a407d48c38\"},\"ticker\":{\"id\":\"155b20b4-56ed-41f2-a494-01856198fd1d\"}}}],\"min_border_top\":10,\"min_border_bottom\":10,\"min_border_left\":10,\"min_border_right\":10,\"output_backend\":\"webgl\"}},{\"type\":\"object\",\"name\":\"Spacer\",\"id\":\"2bb1b4c5-4961-43f9-8538-f319d9191863\",\"attributes\":{\"name\":\"HSpacer01286\",\"stylesheets\":[\"\\n:host(.pn-loading):before, .pn-loading:before {\\n  background-color: #c3c3c3;\\n  mask-size: auto calc(min(50%, 300px));\\n  -webkit-mask-size: auto calc(min(50%, 300px));\\n}\",{\"id\":\"b3a152e3-b341-49a8-b98d-96ea98ca0041\"},{\"id\":\"60e95cb5-8f35-4d89-95bc-c00ec07c4e38\"},{\"id\":\"a1bb2858-78aa-44f2-9a09-d71bc441748b\"}],\"min_width\":0,\"margin\":0,\"sizing_mode\":\"stretch_width\",\"align\":\"start\"}}]}}],\"defs\":[{\"type\":\"model\",\"name\":\"ReactiveHTML1\"},{\"type\":\"model\",\"name\":\"FlexBox1\",\"properties\":[{\"name\":\"align_content\",\"kind\":\"Any\",\"default\":\"flex-start\"},{\"name\":\"align_items\",\"kind\":\"Any\",\"default\":\"flex-start\"},{\"name\":\"flex_direction\",\"kind\":\"Any\",\"default\":\"row\"},{\"name\":\"flex_wrap\",\"kind\":\"Any\",\"default\":\"wrap\"},{\"name\":\"gap\",\"kind\":\"Any\",\"default\":\"\"},{\"name\":\"justify_content\",\"kind\":\"Any\",\"default\":\"flex-start\"}]},{\"type\":\"model\",\"name\":\"FloatPanel1\",\"properties\":[{\"name\":\"config\",\"kind\":\"Any\",\"default\":{\"type\":\"map\"}},{\"name\":\"contained\",\"kind\":\"Any\",\"default\":true},{\"name\":\"position\",\"kind\":\"Any\",\"default\":\"right-top\"},{\"name\":\"offsetx\",\"kind\":\"Any\",\"default\":null},{\"name\":\"offsety\",\"kind\":\"Any\",\"default\":null},{\"name\":\"theme\",\"kind\":\"Any\",\"default\":\"primary\"},{\"name\":\"status\",\"kind\":\"Any\",\"default\":\"normalized\"}]},{\"type\":\"model\",\"name\":\"GridStack1\",\"properties\":[{\"name\":\"ncols\",\"kind\":\"Any\",\"default\":null},{\"name\":\"nrows\",\"kind\":\"Any\",\"default\":null},{\"name\":\"allow_resize\",\"kind\":\"Any\",\"default\":true},{\"name\":\"allow_drag\",\"kind\":\"Any\",\"default\":true},{\"name\":\"state\",\"kind\":\"Any\",\"default\":[]}]},{\"type\":\"model\",\"name\":\"drag1\",\"properties\":[{\"name\":\"slider_width\",\"kind\":\"Any\",\"default\":5},{\"name\":\"slider_color\",\"kind\":\"Any\",\"default\":\"black\"},{\"name\":\"start\",\"kind\":\"Any\",\"default\":0},{\"name\":\"end\",\"kind\":\"Any\",\"default\":100},{\"name\":\"value\",\"kind\":\"Any\",\"default\":50}]},{\"type\":\"model\",\"name\":\"click1\",\"properties\":[{\"name\":\"terminal_output\",\"kind\":\"Any\",\"default\":\"\"},{\"name\":\"debug_name\",\"kind\":\"Any\",\"default\":\"\"},{\"name\":\"clears\",\"kind\":\"Any\",\"default\":0}]},{\"type\":\"model\",\"name\":\"ReactiveESM1\",\"properties\":[{\"name\":\"esm_constants\",\"kind\":\"Any\",\"default\":{\"type\":\"map\"}}]},{\"type\":\"model\",\"name\":\"JSComponent1\",\"properties\":[{\"name\":\"esm_constants\",\"kind\":\"Any\",\"default\":{\"type\":\"map\"}}]},{\"type\":\"model\",\"name\":\"ReactComponent1\",\"properties\":[{\"name\":\"use_shadow_dom\",\"kind\":\"Any\",\"default\":true},{\"name\":\"esm_constants\",\"kind\":\"Any\",\"default\":{\"type\":\"map\"}}]},{\"type\":\"model\",\"name\":\"AnyWidgetComponent1\",\"properties\":[{\"name\":\"use_shadow_dom\",\"kind\":\"Any\",\"default\":true},{\"name\":\"esm_constants\",\"kind\":\"Any\",\"default\":{\"type\":\"map\"}}]},{\"type\":\"model\",\"name\":\"FastWrapper1\",\"properties\":[{\"name\":\"object\",\"kind\":\"Any\",\"default\":null},{\"name\":\"style\",\"kind\":\"Any\",\"default\":null}]},{\"type\":\"model\",\"name\":\"NotificationArea1\",\"properties\":[{\"name\":\"js_events\",\"kind\":\"Any\",\"default\":{\"type\":\"map\"}},{\"name\":\"max_notifications\",\"kind\":\"Any\",\"default\":5},{\"name\":\"notifications\",\"kind\":\"Any\",\"default\":[]},{\"name\":\"position\",\"kind\":\"Any\",\"default\":\"bottom-right\"},{\"name\":\"_clear\",\"kind\":\"Any\",\"default\":0},{\"name\":\"types\",\"kind\":\"Any\",\"default\":[{\"type\":\"map\",\"entries\":[[\"type\",\"warning\"],[\"background\",\"#ffc107\"],[\"icon\",{\"type\":\"map\",\"entries\":[[\"className\",\"fas fa-exclamation-triangle\"],[\"tagName\",\"i\"],[\"color\",\"white\"]]}]]},{\"type\":\"map\",\"entries\":[[\"type\",\"info\"],[\"background\",\"#007bff\"],[\"icon\",{\"type\":\"map\",\"entries\":[[\"className\",\"fas fa-info-circle\"],[\"tagName\",\"i\"],[\"color\",\"white\"]]}]]}]}]},{\"type\":\"model\",\"name\":\"Notification\",\"properties\":[{\"name\":\"background\",\"kind\":\"Any\",\"default\":null},{\"name\":\"duration\",\"kind\":\"Any\",\"default\":3000},{\"name\":\"icon\",\"kind\":\"Any\",\"default\":null},{\"name\":\"message\",\"kind\":\"Any\",\"default\":\"\"},{\"name\":\"notification_type\",\"kind\":\"Any\",\"default\":null},{\"name\":\"_rendered\",\"kind\":\"Any\",\"default\":false},{\"name\":\"_destroyed\",\"kind\":\"Any\",\"default\":false}]},{\"type\":\"model\",\"name\":\"TemplateActions1\",\"properties\":[{\"name\":\"open_modal\",\"kind\":\"Any\",\"default\":0},{\"name\":\"close_modal\",\"kind\":\"Any\",\"default\":0}]},{\"type\":\"model\",\"name\":\"BootstrapTemplateActions1\",\"properties\":[{\"name\":\"open_modal\",\"kind\":\"Any\",\"default\":0},{\"name\":\"close_modal\",\"kind\":\"Any\",\"default\":0}]},{\"type\":\"model\",\"name\":\"TemplateEditor1\",\"properties\":[{\"name\":\"layout\",\"kind\":\"Any\",\"default\":[]}]},{\"type\":\"model\",\"name\":\"MaterialTemplateActions1\",\"properties\":[{\"name\":\"open_modal\",\"kind\":\"Any\",\"default\":0},{\"name\":\"close_modal\",\"kind\":\"Any\",\"default\":0}]},{\"type\":\"model\",\"name\":\"request_value1\",\"properties\":[{\"name\":\"fill\",\"kind\":\"Any\",\"default\":\"none\"},{\"name\":\"_synced\",\"kind\":\"Any\",\"default\":null},{\"name\":\"_request_sync\",\"kind\":\"Any\",\"default\":0}]},{\"type\":\"model\",\"name\":\"holoviews.plotting.bokeh.raster.HoverModel\",\"properties\":[{\"name\":\"xy\",\"kind\":\"Any\",\"default\":null},{\"name\":\"data\",\"kind\":\"Any\",\"default\":null}]}]}};\n",
       "  var render_items = [{\"docid\":\"706e3f09-d134-4f80-a65d-61d715161822\",\"roots\":{\"dfc1bbb0-e8df-4619-8f6d-ee32b1b1bc48\":\"c297a61b-ebe7-4b1b-af69-461ebe55615e\"},\"root_ids\":[\"dfc1bbb0-e8df-4619-8f6d-ee32b1b1bc48\"]}];\n",
       "  var docs = Object.values(docs_json)\n",
       "  if (!docs) {\n",
       "    return\n",
       "  }\n",
       "  const py_version = docs[0].version.replace('rc', '-rc.').replace('.dev', '-dev.')\n",
       "  async function embed_document(root) {\n",
       "    var Bokeh = get_bokeh(root)\n",
       "    await Bokeh.embed.embed_items_notebook(docs_json, render_items);\n",
       "    for (const render_item of render_items) {\n",
       "      for (const root_id of render_item.root_ids) {\n",
       "\tconst id_el = document.getElementById(root_id)\n",
       "\tif (id_el.children.length && id_el.children[0].hasAttribute('data-root-id')) {\n",
       "\t  const root_el = id_el.children[0]\n",
       "\t  root_el.id = root_el.id + '-rendered'\n",
       "\t  for (const child of root_el.children) {\n",
       "            // Ensure JupyterLab does not capture keyboard shortcuts\n",
       "            // see: https://jupyterlab.readthedocs.io/en/4.1.x/extension/notebook.html#keyboard-interaction-model\n",
       "\t    child.setAttribute('data-lm-suppress-shortcuts', 'true')\n",
       "\t  }\n",
       "\t}\n",
       "      }\n",
       "    }\n",
       "  }\n",
       "  function get_bokeh(root) {\n",
       "    if (root.Bokeh === undefined) {\n",
       "      return null\n",
       "    } else if (root.Bokeh.version !== py_version) {\n",
       "      if (root.Bokeh.versions === undefined || !root.Bokeh.versions.has(py_version)) {\n",
       "\treturn null\n",
       "      }\n",
       "      return root.Bokeh.versions.get(py_version);\n",
       "    } else if (root.Bokeh.version === py_version) {\n",
       "      return root.Bokeh\n",
       "    }\n",
       "    return null\n",
       "  }\n",
       "  function is_loaded(root) {\n",
       "    var Bokeh = get_bokeh(root)\n",
       "    return (Bokeh != null && Bokeh.Panel !== undefined)\n",
       "  }\n",
       "  if (is_loaded(root)) {\n",
       "    embed_document(root);\n",
       "  } else {\n",
       "    var attempts = 0;\n",
       "    var timer = setInterval(function(root) {\n",
       "      if (is_loaded(root)) {\n",
       "        clearInterval(timer);\n",
       "        embed_document(root);\n",
       "      } else if (document.readyState == \"complete\") {\n",
       "        attempts++;\n",
       "        if (attempts > 200) {\n",
       "          clearInterval(timer);\n",
       "\t  var Bokeh = get_bokeh(root)\n",
       "\t  if (Bokeh == null || Bokeh.Panel == null) {\n",
       "            console.warn(\"Panel: ERROR: Unable to run Panel code because Bokeh or Panel library is missing\");\n",
       "\t  } else {\n",
       "\t    console.warn(\"Panel: WARNING: Attempting to render but not all required libraries could be resolved.\")\n",
       "\t    embed_document(root)\n",
       "\t  }\n",
       "        }\n",
       "      }\n",
       "    }, 25, root)\n",
       "  }\n",
       "})(window);</script>"
      ],
      "text/plain": [
       ":Overlay\n",
       "   .Curve.Error_stop_left_parenthesis_Fiona_right_parenthesis       :Curve   [ssd_len]   (error_percentage)\n",
       "   .Scatter.I                                                       :Scatter   [ssd_len]   (error_percentage)\n",
       "   .Curve.Correct_continue_left_parenthesis_Fiona_right_parenthesis :Curve   [ssd_len]   (correct_percentage)\n",
       "   .Scatter.II                                                      :Scatter   [ssd_len]   (correct_percentage)"
      ]
     },
     "execution_count": 13,
     "metadata": {
      "application/vnd.holoviews_exec.v0+json": {
       "id": "dfc1bbb0-e8df-4619-8f6d-ee32b1b1bc48"
      }
     },
     "output_type": "execute_result"
    }
   ],
   "source": [
    "# Create signal delay performance plot (replicates Figure 1b)\n",
    "plot6 = eda.plot_signal_delay_performance()\n",
    "plot6"
   ]
  },
  {
   "cell_type": "code",
   "execution_count": 14,
   "id": "6b5c5027",
   "metadata": {},
   "outputs": [
    {
     "name": "stdout",
     "output_type": "stream",
     "text": [
      "Scatter\n",
      "\n",
      "Online example: https://holoviews.org/reference/elements/bokeh/Scatter.html\n",
      "\n",
      "\u001b[1;35m-------------\n",
      "Style Options\n",
      "-------------\u001b[0m\n",
      "\n",
      "\talpha, angle, cmap, color, fill_alpha, fill_color, hit_dilation, hover_alpha, hover_color, hover_fill_alpha, hover_fill_color, hover_line_alpha, hover_line_cap, hover_line_color, hover_line_dash, hover_line_dash_offset, hover_line_join, hover_line_width, line_alpha, line_cap, line_color, line_dash, line_dash_offset, line_join, line_width, marker, muted, muted_alpha, muted_color, muted_fill_alpha, muted_fill_color, muted_line_alpha, muted_line_cap, muted_line_color, muted_line_dash, muted_line_dash_offset, muted_line_join, muted_line_width, nonselection_alpha, nonselection_color, nonselection_fill_alpha, nonselection_fill_color, nonselection_line_alpha, nonselection_line_cap, nonselection_line_color, nonselection_line_dash, nonselection_line_dash_offset, nonselection_line_join, nonselection_line_width, palette, radius, radius_dimension, selection_alpha, selection_color, selection_fill_alpha, selection_fill_color, selection_line_alpha, selection_line_cap, selection_line_color, selection_line_dash, selection_line_dash_offset, selection_line_join, selection_line_width, size, visible\n",
      "\n",
      "(Consult bokeh's documentation for more information.)\n",
      "\n",
      "\u001b[1;35m------------\n",
      "Plot Options\n",
      "------------\u001b[0m\n",
      "\n",
      "The plot options are the parameters of the plotting class:\n",
      "\n",
      "\u001b[1;32mParameters of 'PointPlot'\n",
      "=========================\n",
      "\u001b[0m\n",
      "\u001b[1;31mParameters changed from their default values are marked in red.\u001b[0m\n",
      "\u001b[1;36mSoft bound values are marked in cyan.\u001b[0m\n",
      "C/V= Constant/Variable, RO/RW = ReadOnly/ReadWrite, AN=Allow None\n",
      "\n",
      "\u001b[1;34mName                                       Value                         Type        Bounds     Mode  \u001b[0m\n",
      "\n",
      "fontsize                             {'title': '12pt'}                Parameter               V RW AN \n",
      "fontscale                                   None                        Number                V RW AN \n",
      "show_title                                  True                       Boolean                  V RW  \n",
      "title                          '{label} {group} {dimensions}'           String                  V RW  \n",
      "normalize                                   True                       Boolean                  V RW  \n",
      "projection                                  None                      Parameter               V RW AN \n",
      "apply_ranges                                True                       Boolean                  V RW  \n",
      "apply_extents                               True                       Boolean                  V RW  \n",
      "bgcolor                                     None                    ClassSelector             V RW AN \n",
      "default_span                                2.0                     ClassSelector               V RW  \n",
      "hooks                                        []                        HookList    (0, None)    V RW  \n",
      "invert_axes                                False                       Boolean                  V RW  \n",
      "invert_xaxis                               False                       Boolean                  V RW  \n",
      "invert_yaxis                               False                       Boolean                  V RW  \n",
      "logx                                       False                       Boolean                  V RW  \n",
      "logy                                       False                       Boolean                  V RW  \n",
      "padding                                     0.1                     ClassSelector               V RW  \n",
      "show_legend                                 True                       Boolean                  V RW  \n",
      "show_grid                                  False                       Boolean                  V RW  \n",
      "xaxis                                     'bottom'                     Selector                 V RW  \n",
      "yaxis                                      'left'                      Selector                 V RW  \n",
      "xlabel                                      None                        String                V RW AN \n",
      "ylabel                                      None                        String                V RW AN \n",
      "xlim                                     (nan, nan)                     Tuple                   V RW  \n",
      "ylim                                     (nan, nan)                     Tuple                   V RW  \n",
      "zlim                                     (nan, nan)                     Tuple                   V RW  \n",
      "xrotation                                   None                       Integer      (0, 360)  V RW AN \n",
      "yrotation                                   None                       Integer      (0, 360)  V RW AN \n",
      "xticks                                      None                    ClassSelector             V RW AN \n",
      "yticks                                      None                    ClassSelector             V RW AN \n",
      "shared_datasource                           True                       Boolean                  V RW  \n",
      "title_format                                None                        String                V RW AN \n",
      "toolbar                                   'right'                      Selector                 V RW  \n",
      "autohide_toolbar                           False                       Boolean                  V RW  \n",
      "width                                       300                        Integer     (0, None)  V RW AN \n",
      "height                                      300                        Integer     (0, None)  V RW AN \n",
      "active_tools                                None                         List      (0, None)  V RW AN \n",
      "align                                     'start'                      Selector                 V RW  \n",
      "apply_hard_bounds                          False                       Boolean                  V RW  \n",
      "autorange                                   None                       Selector                 V RW  \n",
      "border                                       10                         Number                  V RW  \n",
      "aspect                                      None                      Parameter               V RW AN \n",
      "backend_opts                                 {}                          Dict                   V RW  \n",
      "data_aspect                                 None                        Number                V RW AN \n",
      "frame_width                                 None                       Integer     (0, None)  V RW AN \n",
      "frame_height                                None                       Integer     (0, None)  V RW AN \n",
      "min_width                                   None                       Integer     (0, None)  V RW AN \n",
      "min_height                                  None                       Integer     (0, None)  V RW AN \n",
      "max_width                                   None                       Integer     (0, None)  V RW AN \n",
      "max_height                                  None                       Integer     (0, None)  V RW AN \n",
      "margin                                      None                      Parameter               V RW AN \n",
      "multi_y                                    False                       Boolean                  V RW  \n",
      "scalebar                                   False                       Boolean                  V RW  \n",
      "scalebar_range                              'x'                        Selector                 V RW  \n",
      "scalebar_unit                               None                    ClassSelector             V RW AN \n",
      "scalebar_location                           None                       Selector                 V RW  \n",
      "scalebar_label                       '@{value} @{unit}'                 String                  V RW  \n",
      "scalebar_tool                               True                       Boolean                  V RW  \n",
      "scalebar_opts                                {}                          Dict                   V RW  \n",
      "subcoordinate_y                            False                    ClassSelector               V RW  \n",
      "subcoordinate_scale                          1                          Number     (0, None)    V RW  \n",
      "responsive                                 False                       Selector                 V RW  \n",
      "gridstyle                                    {}                          Dict                   V RW  \n",
      "labelled                                 ['x', 'y']                      List      (0, None)    V RW  \n",
      "lod                       {'factor': 10, 'interval': 300, 'thre...       Dict                   V RW  \n",
      "show_frame                                  True                       Boolean                  V RW  \n",
      "shared_axes                                 True                       Boolean                  V RW  \n",
      "default_tools             ['save', 'pan', 'wheel_zoom', 'box_zo...       List      (0, None)    V RW  \n",
      "tools                                        []                          List      (0, None)    V RW  \n",
      "hover_tooltips                              None                    ClassSelector             V RW AN \n",
      "hover_formatters                            None                         Dict                 V RW AN \n",
      "hover_mode                                'mouse'                      Selector                 V RW  \n",
      "xformatter                                  None                    ClassSelector             V RW AN \n",
      "yformatter                                  None                    ClassSelector             V RW AN \n",
      "color_levels                                None                    ClassSelector             V RW AN \n",
      "cformatter                                  None                    ClassSelector             V RW AN \n",
      "clabel                                      None                        String                V RW AN \n",
      "clim                                     (nan, nan)                     Tuple                   V RW  \n",
      "clim_percentile                            False                    ClassSelector               V RW  \n",
      "cnorm                                     'linear'                     Selector                 V RW  \n",
      "colorbar                                   False                       Boolean                  V RW  \n",
      "colorbar_position                         'right'                      Selector                 V RW  \n",
      "colorbar_opts                                {}                          Dict                   V RW  \n",
      "clipping_colors                              {}                          Dict                   V RW  \n",
      "cticks                                      None                    ClassSelector             V RW AN \n",
      "logz                                       False                       Boolean                  V RW  \n",
      "rescale_discrete_levels                     True                       Boolean                  V RW  \n",
      "symmetric                                  False                       Boolean                  V RW  \n",
      "legend_cols                                  0                         Integer     (0, None)    V RW  \n",
      "legend_labels                               None                         Dict                 V RW AN \n",
      "legend_muted                               False                       Boolean                  V RW  \n",
      "legend_offset                              (0, 0)                    NumericTuple               V RW  \n",
      "legend_position                         'top_right'                    Selector                 V RW  \n",
      "legend_opts                                  {}                          Dict                   V RW  \n",
      "jitter                                      None                        Number     (0, None)  V RW AN \n",
      "selected                                    None                         List      (0, None)  V RW AN \n",
      "color_index                                 None                    ClassSelector             V RW AN \n",
      "size_index                                  None                    ClassSelector             V RW AN \n",
      "scaling_method                             'area'                      Selector                 V RW  \n",
      "scaling_factor                               1                          Number     (0, None)    V RW  \n",
      "size_fn                              <ufunc 'absolute'>                Callable                 V RW  \n",
      "\n",
      "\u001b[1;32mParameter docstrings:\n",
      "=====================\u001b[0m\n",
      "\n",
      "\u001b[1;34mfontsize:                Specifies various fontsizes of the displayed text.\u001b[0m\n",
      "\u001b[1;34m                         \u001b[0m\n",
      "\u001b[1;34m                         Finer control is available by supplying a dictionary where any\u001b[0m\n",
      "\u001b[1;34m                         unmentioned keys reverts to the default sizes, e.g:\u001b[0m\n",
      "\u001b[1;34m                         \u001b[0m\n",
      "\u001b[1;34m                            {'ticks': '20pt', 'title': '15pt', 'ylabel': '5px', 'xlabel': '5px'}\u001b[0m\n",
      "\u001b[1;31mfontscale:               Scales the size of all fonts.\u001b[0m\n",
      "\u001b[1;34mshow_title:              Whether to display the plot title.\u001b[0m\n",
      "\u001b[1;31mtitle:                   The formatting string for the title of this plot, allows defining\u001b[0m\n",
      "\u001b[1;31m                         a label group separator and dimension labels.\u001b[0m\n",
      "\u001b[1;34mnormalize:               Whether to compute ranges across all Elements at this level\u001b[0m\n",
      "\u001b[1;34m                         of plotting. Allows selecting normalization at different levels\u001b[0m\n",
      "\u001b[1;34m                         for nested data containers.\u001b[0m\n",
      "\u001b[1;31mprojection:              Allows supplying a custom projection to transform the axis\u001b[0m\n",
      "\u001b[1;31m                         coordinates during display. Example projections include '3d'\u001b[0m\n",
      "\u001b[1;31m                         and 'polar' projections supported by some backends. Depending\u001b[0m\n",
      "\u001b[1;31m                         on the backend custom, projection objects may be supplied.\u001b[0m\n",
      "\u001b[1;34mapply_ranges:            Whether to compute the plot bounds from the data itself.\u001b[0m\n",
      "\u001b[1;31mapply_extents:           Whether to apply extent overrides on the Elements\u001b[0m\n",
      "\u001b[1;34mbgcolor:                 If set bgcolor overrides the background color of the axis.\u001b[0m\n",
      "\u001b[1;31mdefault_span:            Defines the span of an axis if the axis range is zero, i.e. if\u001b[0m\n",
      "\u001b[1;31m                         the lower and upper end of an axis are equal or no range is\u001b[0m\n",
      "\u001b[1;31m                         defined at all. For example if there is a single datapoint at\u001b[0m\n",
      "\u001b[1;31m                         0 a default_span of 2.0 will result in axis ranges spanning\u001b[0m\n",
      "\u001b[1;31m                         from -1 to 1.\u001b[0m\n",
      "\u001b[1;34mhooks:                   Optional list of hooks called when finalizing a plot. The\u001b[0m\n",
      "\u001b[1;34m                         hook is passed the plot object and the displayed element, and\u001b[0m\n",
      "\u001b[1;34m                         other plotting handles can be accessed via plot.handles.\u001b[0m\n",
      "\u001b[1;31minvert_axes:             Whether to invert the x- and y-axis\u001b[0m\n",
      "\u001b[1;34minvert_xaxis:            Whether to invert the plot x-axis.\u001b[0m\n",
      "\u001b[1;31minvert_yaxis:            Whether to invert the plot y-axis.\u001b[0m\n",
      "\u001b[1;34mlogx:                    Whether the x-axis of the plot will be a log axis.\u001b[0m\n",
      "\u001b[1;31mlogy:                    Whether the y-axis of the plot will be a log axis.\u001b[0m\n",
      "\u001b[1;34mpadding:                 Fraction by which to increase auto-ranged extents to make\u001b[0m\n",
      "\u001b[1;34m                         datapoints more visible around borders.\u001b[0m\n",
      "\u001b[1;34m                         \u001b[0m\n",
      "\u001b[1;34m                         To compute padding, the axis whose screen size is largest is\u001b[0m\n",
      "\u001b[1;34m                         chosen, and the range of that axis is increased by the\u001b[0m\n",
      "\u001b[1;34m                         specified fraction along each axis.  Other axes are then\u001b[0m\n",
      "\u001b[1;34m                         padded ensuring that the amount of screen space devoted to\u001b[0m\n",
      "\u001b[1;34m                         padding is equal for all axes. If specified as a tuple, the\u001b[0m\n",
      "\u001b[1;34m                         int or float values in the tuple will be used for padding in\u001b[0m\n",
      "\u001b[1;34m                         each axis, in order (x,y or x,y,z).\u001b[0m\n",
      "\u001b[1;34m                         \u001b[0m\n",
      "\u001b[1;34m                         For example, for padding=0.2 on a 800x800-pixel plot, an x-axis\u001b[0m\n",
      "\u001b[1;34m                         with the range [0,10] will be padded by 20% to be [-1,11], while\u001b[0m\n",
      "\u001b[1;34m                         a y-axis with a range [0,1000] will be padded to be [-100,1100],\u001b[0m\n",
      "\u001b[1;34m                         which should make the padding be approximately the same number of\u001b[0m\n",
      "\u001b[1;34m                         pixels. But if the same plot is changed to have a height of only\u001b[0m\n",
      "\u001b[1;34m                         200, the y-range will then be [-400,1400] so that the y-axis\u001b[0m\n",
      "\u001b[1;34m                         padding will still match that of the x-axis.\u001b[0m\n",
      "\u001b[1;34m                         \u001b[0m\n",
      "\u001b[1;34m                         It is also possible to declare non-equal padding value for the\u001b[0m\n",
      "\u001b[1;34m                         lower and upper bound of an axis by supplying nested tuples,\u001b[0m\n",
      "\u001b[1;34m                         e.g. padding=(0.1, (0, 0.1)) will pad the x-axis lower and\u001b[0m\n",
      "\u001b[1;34m                         upper bound as well as the y-axis upper bound by a fraction of\u001b[0m\n",
      "\u001b[1;34m                         0.1 while the y-axis lower bound is not padded at all.\u001b[0m\n",
      "\u001b[1;31mshow_legend:             Whether to show legend for the plot.\u001b[0m\n",
      "\u001b[1;34mshow_grid:               Whether to show a Cartesian grid on the plot.\u001b[0m\n",
      "\u001b[1;31mxaxis:                   Whether and where to display the xaxis.\u001b[0m\n",
      "\u001b[1;31m                         The \"bare\" options allow suppressing all axis labels, including ticks and xlabel.\u001b[0m\n",
      "\u001b[1;31m                         Valid options are 'top', 'bottom', 'bare', 'top-bare' and 'bottom-bare'.\u001b[0m\n",
      "\u001b[1;34myaxis:                   Whether and where to display the yaxis.\u001b[0m\n",
      "\u001b[1;34m                         The \"bare\" options allow suppressing all axis labels, including ticks and ylabel.\u001b[0m\n",
      "\u001b[1;34m                         Valid options are 'left', 'right', 'bare', 'left-bare' and 'right-bare'.\u001b[0m\n",
      "\u001b[1;31mxlabel:                  An explicit override of the x-axis label, if set takes precedence\u001b[0m\n",
      "\u001b[1;31m                         over the dimension label.\u001b[0m\n",
      "\u001b[1;34mylabel:                  An explicit override of the y-axis label, if set takes precedence\u001b[0m\n",
      "\u001b[1;34m                         over the dimension label.\u001b[0m\n",
      "\u001b[1;31mxlim:                    User-specified x-axis range limits for the plot, as a tuple (low,high).\u001b[0m\n",
      "\u001b[1;31m                         If specified, takes precedence over data and dimension ranges.\u001b[0m\n",
      "\u001b[1;34mylim:                    User-specified y-axis range limits for the plot, as a tuple (low,high).\u001b[0m\n",
      "\u001b[1;34m                         If specified, takes precedence over data and dimension ranges.\u001b[0m\n",
      "\u001b[1;31mzlim:                    User-specified z-axis range limits for the plot, as a tuple (low,high).\u001b[0m\n",
      "\u001b[1;31m                         If specified, takes precedence over data and dimension ranges.\u001b[0m\n",
      "\u001b[1;34mxrotation:               Rotation angle of the xticks.\u001b[0m\n",
      "\u001b[1;31myrotation:               Rotation angle of the yticks.\u001b[0m\n",
      "\u001b[1;34mxticks:                  Ticks along x-axis specified as an integer, explicit list of\u001b[0m\n",
      "\u001b[1;34m                         tick locations, or bokeh Ticker object. If set to None default\u001b[0m\n",
      "\u001b[1;34m                         bokeh ticking behavior is applied.\u001b[0m\n",
      "\u001b[1;31myticks:                  Ticks along y-axis specified as an integer, explicit list of\u001b[0m\n",
      "\u001b[1;31m                         tick locations, or bokeh Ticker object. If set to None default\u001b[0m\n",
      "\u001b[1;31m                         bokeh ticking behavior is applied.\u001b[0m\n",
      "\u001b[1;34mshared_datasource:       Whether Elements drawing the data from the same object should\u001b[0m\n",
      "\u001b[1;34m                         share their Bokeh data source allowing for linked brushing\u001b[0m\n",
      "\u001b[1;34m                         and other linked behaviors.\u001b[0m\n",
      "\u001b[1;31mtitle_format:            Alias for title.\u001b[0m\n",
      "\u001b[1;34mtoolbar:                 The toolbar location, must be one of 'above', 'below',\u001b[0m\n",
      "\u001b[1;34m                         'left', 'right', None.\u001b[0m\n",
      "\u001b[1;31mautohide_toolbar:        Whether to automatically hide the toolbar until the user hovers over the plot.\u001b[0m\n",
      "\u001b[1;31m                         This parameter has no effect if the toolbar is disabled (toolbar=None).\u001b[0m\n",
      "\u001b[1;34mwidth:                   The width of the component (in pixels). This can be either\u001b[0m\n",
      "\u001b[1;34m                         fixed or preferred width, depending on width sizing policy.\u001b[0m\n",
      "\u001b[1;31mheight:                  The height of the component (in pixels).  This can be either\u001b[0m\n",
      "\u001b[1;31m                         fixed or preferred height, depending on height sizing policy.\u001b[0m\n",
      "\u001b[1;34mactive_tools:            Allows specifying which tools are active by default. Note\u001b[0m\n",
      "\u001b[1;34m                         that only one tool per gesture type can be active, e.g.\u001b[0m\n",
      "\u001b[1;34m                         both 'pan' and 'box_zoom' are drag tools, so if both are\u001b[0m\n",
      "\u001b[1;34m                         listed only the last one will be active. As a default 'pan'\u001b[0m\n",
      "\u001b[1;34m                         and 'wheel_zoom' will be used if the tools are enabled.\u001b[0m\n",
      "\u001b[1;31malign:                   Alignment (vertical or horizontal) of the plot in a layout.\u001b[0m\n",
      "\u001b[1;34mapply_hard_bounds:       If True, the navigable bounds of the plot will be set based\u001b[0m\n",
      "\u001b[1;34m                         on the more extreme of extents between the data or xlim/ylim ranges.\u001b[0m\n",
      "\u001b[1;34m                         If dim ranges are set, the hard bounds will be set to the dim ranges.\u001b[0m\n",
      "\u001b[1;31mautorange:               Whether to auto-range along either the x- or y-axis, i.e.\u001b[0m\n",
      "\u001b[1;31m                         when panning or zooming along the orthogonal axis it will\u001b[0m\n",
      "\u001b[1;31m                         ensure all the data along the selected axis remains visible.\u001b[0m\n",
      "\u001b[1;34mborder:                  Minimum border around plot.\u001b[0m\n",
      "\u001b[1;31maspect:                  The aspect ratio mode of the plot. By default, a plot may\u001b[0m\n",
      "\u001b[1;31m                         select its own appropriate aspect ratio but sometimes it may\u001b[0m\n",
      "\u001b[1;31m                         be necessary to force a square aspect ratio (e.g. to display\u001b[0m\n",
      "\u001b[1;31m                         the plot as an element of a grid). The modes 'auto' and\u001b[0m\n",
      "\u001b[1;31m                         'equal' correspond to the axis modes of the same name in\u001b[0m\n",
      "\u001b[1;31m                         matplotlib, a numeric value specifying the ratio between plot\u001b[0m\n",
      "\u001b[1;31m                         width and height may also be passed. To control the aspect\u001b[0m\n",
      "\u001b[1;31m                         ratio between the axis scales use the data_aspect option\u001b[0m\n",
      "\u001b[1;31m                         instead.\u001b[0m\n",
      "\u001b[1;34mbackend_opts:            A dictionary of custom options to apply to the plot or\u001b[0m\n",
      "\u001b[1;34m                         subcomponents of the plot. The keys in the dictionary mirror\u001b[0m\n",
      "\u001b[1;34m                         attribute access on the underlying models stored in the plot's\u001b[0m\n",
      "\u001b[1;34m                         handles, e.g. {'colorbar.margin': 10} will index the colorbar\u001b[0m\n",
      "\u001b[1;34m                         in the Plot.handles and then set the margin to 10.\u001b[0m\n",
      "\u001b[1;31mdata_aspect:             Defines the aspect of the axis scaling, i.e. the ratio of\u001b[0m\n",
      "\u001b[1;31m                         y-unit to x-unit.\u001b[0m\n",
      "\u001b[1;34mframe_width:             The width of the component (in pixels). This can be either\u001b[0m\n",
      "\u001b[1;34m                         fixed or preferred width, depending on width sizing policy.\u001b[0m\n",
      "\u001b[1;31mframe_height:            The height of the component (in pixels).  This can be either\u001b[0m\n",
      "\u001b[1;31m                         fixed or preferred height, depending on height sizing policy.\u001b[0m\n",
      "\u001b[1;34mmin_width:               Minimal width of the component (in pixels) if width is adjustable.\u001b[0m\n",
      "\u001b[1;31mmin_height:              Minimal height of the component (in pixels) if height is adjustable.\u001b[0m\n",
      "\u001b[1;34mmax_width:               Minimal width of the component (in pixels) if width is adjustable.\u001b[0m\n",
      "\u001b[1;31mmax_height:              Minimal height of the component (in pixels) if height is adjustable.\u001b[0m\n",
      "\u001b[1;34mmargin:                  Allows to create additional space around the component. May\u001b[0m\n",
      "\u001b[1;34m                         be specified as a two-tuple of the form (vertical, horizontal)\u001b[0m\n",
      "\u001b[1;34m                         or a four-tuple (top, right, bottom, left).\u001b[0m\n",
      "\u001b[1;31mmulti_y:                 Enables multiple axes (one per value dimension) in\u001b[0m\n",
      "\u001b[1;31m                         overlays and useful for creating twin-axis plots.\u001b[0m\n",
      "\u001b[1;31m                         \u001b[0m\n",
      "\u001b[1;31m                         When enabled, axis options are no longer propagated between the\u001b[0m\n",
      "\u001b[1;31m                         elements and the overlay container, allowing customization on a\u001b[0m\n",
      "\u001b[1;31m                         per-axis basis.\u001b[0m\n",
      "\u001b[1;34mscalebar:                Whether to display a scalebar.\u001b[0m\n",
      "\u001b[1;31mscalebar_range:          Whether to have the scalebar on the x or y axis.\u001b[0m\n",
      "\u001b[1;34mscalebar_unit:           Unit of the scalebar. The order of how this will be done is by:\u001b[0m\n",
      "\u001b[1;34m                         \u001b[0m\n",
      "\u001b[1;34m                         1. This value if it is set.\u001b[0m\n",
      "\u001b[1;34m                         2. The elements kdim unit (if exist).\u001b[0m\n",
      "\u001b[1;34m                         3. Meter\u001b[0m\n",
      "\u001b[1;34m                         \u001b[0m\n",
      "\u001b[1;34m                         If the value is a tuple, the first value will be the unit and the\u001b[0m\n",
      "\u001b[1;34m                         second will be the base unit.\u001b[0m\n",
      "\u001b[1;34m                         \u001b[0m\n",
      "\u001b[1;34m                         The scalebar_unit is only used if scalebar is True.\u001b[0m\n",
      "\u001b[1;31mscalebar_location:       Location anchor for positioning scale bar.\u001b[0m\n",
      "\u001b[1;31m                         \u001b[0m\n",
      "\u001b[1;31m                         Default to 'bottom_right', except if subcoordinate_y is True then it will default to 'right'.\u001b[0m\n",
      "\u001b[1;31m                         \u001b[0m\n",
      "\u001b[1;31m                         The scalebar_location is only used if scalebar is True.\u001b[0m\n",
      "\u001b[1;34mscalebar_label:          The label template.\u001b[0m\n",
      "\u001b[1;34m                         \u001b[0m\n",
      "\u001b[1;34m                         This can use special variables:\u001b[0m\n",
      "\u001b[1;34m                         * ``@{value}`` The current value. Optionally can provide a number\u001b[0m\n",
      "\u001b[1;34m                             formatter with e.g. ``@{value}{%.2f}``.\u001b[0m\n",
      "\u001b[1;34m                         * ``@{unit}`` The unit of measure.\u001b[0m\n",
      "\u001b[1;34m                         \u001b[0m\n",
      "\u001b[1;34m                         The scalebar_label is only used if scalebar is True.\u001b[0m\n",
      "\u001b[1;31mscalebar_tool:           Whether to show scalebar tools in the toolbar,\u001b[0m\n",
      "\u001b[1;31m                         the tools are used to control scalebars visibility.\u001b[0m\n",
      "\u001b[1;31m                         \u001b[0m\n",
      "\u001b[1;31m                         The scalebar_tool is only used if scalebar is True.\u001b[0m\n",
      "\u001b[1;34mscalebar_opts:           Allows setting specific styling options for the scalebar.\u001b[0m\n",
      "\u001b[1;34m                         See https://docs.bokeh.org/en/latest/docs/reference/models/annotations.html#bokeh.models.ScaleBar\u001b[0m\n",
      "\u001b[1;34m                         for more information.\u001b[0m\n",
      "\u001b[1;34m                         \u001b[0m\n",
      "\u001b[1;34m                         The scalebar_opts is only used if scalebar is True.\u001b[0m\n",
      "\u001b[1;31msubcoordinate_y:         Enables sub-coordinate systems for this plot. Accepts also a numerical\u001b[0m\n",
      "\u001b[1;31m                         two-tuple that must be a range between 0 and 1, the plot will be\u001b[0m\n",
      "\u001b[1;31m                         rendered on this vertical range of the axis.\u001b[0m\n",
      "\u001b[1;34msubcoordinate_scale:     Scale factor for subcoordinate ranges to control the level of overlap.\u001b[0m\n",
      "\u001b[1;31mresponsive:              < No docstring available >\u001b[0m\n",
      "\u001b[1;34mgridstyle:               Allows customizing the grid style, e.g. grid_line_color defines\u001b[0m\n",
      "\u001b[1;34m                         the line color for both grids while xgrid_line_color exclusively\u001b[0m\n",
      "\u001b[1;34m                         customizes the x-axis grid lines.\u001b[0m\n",
      "\u001b[1;31mlabelled:                Whether to plot the 'x' and 'y' labels.\u001b[0m\n",
      "\u001b[1;34mlod:                     Bokeh plots offer \"Level of Detail\" (LOD) capability to\u001b[0m\n",
      "\u001b[1;34m                         accommodate large (but not huge) amounts of data. The available\u001b[0m\n",
      "\u001b[1;34m                         options are:\u001b[0m\n",
      "\u001b[1;34m                         \u001b[0m\n",
      "\u001b[1;34m                           * factor    : Decimation factor to use when applying\u001b[0m\n",
      "\u001b[1;34m                                         decimation.\u001b[0m\n",
      "\u001b[1;34m                           * interval  : Interval (in ms) downsampling will be enabled\u001b[0m\n",
      "\u001b[1;34m                                         after an interactive event.\u001b[0m\n",
      "\u001b[1;34m                           * threshold : Number of samples before downsampling is enabled.\u001b[0m\n",
      "\u001b[1;34m                           * timeout   : Timeout (in ms) for checking whether interactive\u001b[0m\n",
      "\u001b[1;34m                                         tool events are still occurring.\u001b[0m\n",
      "\u001b[1;31mshow_frame:              Whether or not to show a complete frame around the plot.\u001b[0m\n",
      "\u001b[1;34mshared_axes:             Whether to invert the share axes across plots\u001b[0m\n",
      "\u001b[1;34m                         for linked panning and zooming.\u001b[0m\n",
      "\u001b[1;31mdefault_tools:           A list of plugin tools to use on the plot.\u001b[0m\n",
      "\u001b[1;34mtools:                   A list of plugin tools to use on the plot.\u001b[0m\n",
      "\u001b[1;31mhover_tooltips:          A list of dimensions to be displayed in the hover tooltip.\u001b[0m\n",
      "\u001b[1;34mhover_formatters:        A dict of formatting options for the hover tooltip.\u001b[0m\n",
      "\u001b[1;31mhover_mode:              The hover mode determines how the hover tool is activated.\u001b[0m\n",
      "\u001b[1;34mxformatter:              Formatter for ticks along the x-axis.\u001b[0m\n",
      "\u001b[1;31myformatter:              Formatter for ticks along the x-axis.\u001b[0m\n",
      "\u001b[1;34mcolor_levels:            Number of discrete colors to use when colormapping or a set of color\u001b[0m\n",
      "\u001b[1;34m                         intervals defining the range of values to map each color to.\u001b[0m\n",
      "\u001b[1;31mcformatter:              Formatter for ticks along the colorbar axis.\u001b[0m\n",
      "\u001b[1;34mclabel:                  An explicit override of the color bar label. If set, takes precedence\u001b[0m\n",
      "\u001b[1;34m                         over the title key in colorbar_opts.\u001b[0m\n",
      "\u001b[1;31mclim:                    User-specified colorbar axis range limits for the plot, as a tuple (low,high).\u001b[0m\n",
      "\u001b[1;31m                         If specified, takes precedence over data and dimension ranges.\u001b[0m\n",
      "\u001b[1;34mclim_percentile:         Percentile value to compute colorscale robust to outliers. If\u001b[0m\n",
      "\u001b[1;34m                         True, uses 2nd and 98th percentile; otherwise uses the specified\u001b[0m\n",
      "\u001b[1;34m                         numerical percentile value.\u001b[0m\n",
      "\u001b[1;31mcnorm:                   Color normalization to be applied during colormapping.\u001b[0m\n",
      "\u001b[1;34mcolorbar:                Whether to display a colorbar.\u001b[0m\n",
      "\u001b[1;31mcolorbar_position:       Allows selecting between a number of predefined colorbar position\u001b[0m\n",
      "\u001b[1;31m                         options. The predefined options may be customized in the\u001b[0m\n",
      "\u001b[1;31m                         colorbar_specs class attribute.\u001b[0m\n",
      "\u001b[1;34mcolorbar_opts:           Allows setting specific styling options for the colorbar overriding\u001b[0m\n",
      "\u001b[1;34m                         the options defined in the colorbar_specs class attribute. Includes\u001b[0m\n",
      "\u001b[1;34m                         location, orientation, height, width, scale_alpha, title, title_props,\u001b[0m\n",
      "\u001b[1;34m                         margin, padding, background_fill_color and more.\u001b[0m\n",
      "\u001b[1;31mclipping_colors:         Dictionary to specify colors for clipped values, allows\u001b[0m\n",
      "\u001b[1;31m                         setting color for NaN values and for values above and below\u001b[0m\n",
      "\u001b[1;31m                         the min and max value. The min, max or NaN color may specify\u001b[0m\n",
      "\u001b[1;31m                         an RGB(A) color as a color hex string of the form #FFFFFF or\u001b[0m\n",
      "\u001b[1;31m                         #FFFFFFFF or a length 3 or length 4 tuple specifying values in\u001b[0m\n",
      "\u001b[1;31m                         the range 0-1 or a named HTML color.\u001b[0m\n",
      "\u001b[1;34mcticks:                  Ticks along colorbar-axis specified as an integer, explicit list of\u001b[0m\n",
      "\u001b[1;34m                         tick locations, or bokeh Ticker object. If set to None default\u001b[0m\n",
      "\u001b[1;34m                         bokeh ticking behavior is applied.\u001b[0m\n",
      "\u001b[1;31mlogz:                    Whether to apply log scaling to the z-axis.\u001b[0m\n",
      "\u001b[1;34mrescale_discrete_levels: If ``cnorm='eq_hist`` and there are only a few discrete values,\u001b[0m\n",
      "\u001b[1;34m                         then ``rescale_discrete_levels=True`` decreases the lower\u001b[0m\n",
      "\u001b[1;34m                         limit of the autoranged span so that the values are rendering\u001b[0m\n",
      "\u001b[1;34m                         towards the (more visible) top of the palette, thus\u001b[0m\n",
      "\u001b[1;34m                         avoiding washout of the lower values.  Has no effect if\u001b[0m\n",
      "\u001b[1;34m                         ``cnorm!=`eq_hist``.\u001b[0m\n",
      "\u001b[1;31msymmetric:               Whether to make the colormap symmetric around zero.\u001b[0m\n",
      "\u001b[1;34mlegend_cols:             Number of columns for legend.\u001b[0m\n",
      "\u001b[1;31mlegend_labels:           Label overrides.\u001b[0m\n",
      "\u001b[1;34mlegend_muted:            Controls whether the legend entries are muted by default.\u001b[0m\n",
      "\u001b[1;31mlegend_offset:           If legend is placed outside the axis, this determines the\u001b[0m\n",
      "\u001b[1;31m                         (width, height) offset in pixels from the original position.\u001b[0m\n",
      "\u001b[1;34mlegend_position:         Allows selecting between a number of predefined legend position\u001b[0m\n",
      "\u001b[1;34m                         options. The predefined options may be customized in the\u001b[0m\n",
      "\u001b[1;34m                         legend_specs class attribute.\u001b[0m\n",
      "\u001b[1;31mlegend_opts:             Allows setting specific styling options for the colorbar.\u001b[0m\n",
      "\u001b[1;34mjitter:                  The amount of jitter to apply to offset the points along the x-axis.\u001b[0m\n",
      "\u001b[1;31mselected:                The current selection as a list of integers corresponding\u001b[0m\n",
      "\u001b[1;31m                         to the selected items.\u001b[0m\n",
      "\u001b[1;34mcolor_index:             Deprecated in favor of color style mapping, e.g. `color=dim('color')`\u001b[0m\n",
      "\u001b[1;31msize_index:              Deprecated in favor of size style mapping, e.g. `size=dim('size')`\u001b[0m\n",
      "\u001b[1;34mscaling_method:          Deprecated in favor of size style mapping, e.g.\u001b[0m\n",
      "\u001b[1;34m                         size=dim('size')**2.\u001b[0m\n",
      "\u001b[1;31mscaling_factor:          Scaling factor which is applied to either the width or area\u001b[0m\n",
      "\u001b[1;31m                         of each point, depending on the value of `scaling_method`.\u001b[0m\n",
      "\u001b[1;34msize_fn:                 Function applied to size values before applying scaling,\u001b[0m\n",
      "\u001b[1;34m                         to remove values lower than zero.\u001b[0m\n"
     ]
    }
   ],
   "source": [
    "hv.help(hv.Scatter)"
   ]
  },
  {
   "cell_type": "markdown",
   "id": "b7a9f99b",
   "metadata": {},
   "source": [
    "### 7. Session Mean RT Scatter Plots"
   ]
  },
  {
   "cell_type": "code",
   "execution_count": 15,
   "id": "6a3a83dd",
   "metadata": {},
   "outputs": [
    {
     "data": {},
     "metadata": {},
     "output_type": "display_data"
    },
    {
     "data": {
      "application/vnd.holoviews_exec.v0+json": "",
      "text/html": [
       "<div id='6af6287a-3f9e-4038-aea4-fed2f1ea1414'>\n",
       "  <div id=\"ce01e9b3-08da-4caa-a46f-9361a8b714c3\" data-root-id=\"6af6287a-3f9e-4038-aea4-fed2f1ea1414\" style=\"display: contents;\"></div>\n",
       "</div>\n",
       "<script type=\"application/javascript\">(function(root) {\n",
       "  var docs_json = {\"214adb3e-dbf9-48ee-9905-3d7a8bfa6828\":{\"version\":\"3.8.0\",\"title\":\"Bokeh Application\",\"config\":{\"type\":\"object\",\"name\":\"DocumentConfig\",\"id\":\"023c619a-df1a-420a-9729-5c9b5ed2a6a8\",\"attributes\":{\"notifications\":{\"type\":\"object\",\"name\":\"Notifications\",\"id\":\"fd69546d-ecf2-4353-bf99-d7f9c144d234\"}}},\"roots\":[{\"type\":\"object\",\"name\":\"Row\",\"id\":\"6af6287a-3f9e-4038-aea4-fed2f1ea1414\",\"attributes\":{\"name\":\"Row01418\",\"tags\":[\"embedded\"],\"stylesheets\":[\"\\n:host(.pn-loading):before, .pn-loading:before {\\n  background-color: #c3c3c3;\\n  mask-size: auto calc(min(50%, 300px));\\n  -webkit-mask-size: auto calc(min(50%, 300px));\\n}\",{\"type\":\"object\",\"name\":\"ImportedStyleSheet\",\"id\":\"00039ea8-df9f-4bef-a1fa-ebe6e64afa59\",\"attributes\":{\"url\":\"https://cdn.holoviz.org/panel/1.8.0/dist/css/loading.css\"}},{\"type\":\"object\",\"name\":\"ImportedStyleSheet\",\"id\":\"a21b4c3f-a1d3-4a1a-83f2-8a29eba67536\",\"attributes\":{\"url\":\"https://cdn.holoviz.org/panel/1.8.0/dist/css/listpanel.css\"}},{\"type\":\"object\",\"name\":\"ImportedStyleSheet\",\"id\":\"891e252c-ca54-486a-b609-be73ad714ec1\",\"attributes\":{\"url\":\"https://cdn.holoviz.org/panel/1.8.0/dist/bundled/theme/default.css\"}},{\"type\":\"object\",\"name\":\"ImportedStyleSheet\",\"id\":\"d05eb62d-6e9a-4b07-a98d-3fb3d43ccc8d\",\"attributes\":{\"url\":\"https://cdn.holoviz.org/panel/1.8.0/dist/bundled/theme/native.css\"}}],\"min_width\":600,\"margin\":0,\"sizing_mode\":\"stretch_width\",\"align\":\"start\",\"children\":[{\"type\":\"object\",\"name\":\"Spacer\",\"id\":\"da5d3d55-28e2-44cb-8e21-46e902a284e3\",\"attributes\":{\"name\":\"HSpacer01422\",\"stylesheets\":[\"\\n:host(.pn-loading):before, .pn-loading:before {\\n  background-color: #c3c3c3;\\n  mask-size: auto calc(min(50%, 300px));\\n  -webkit-mask-size: auto calc(min(50%, 300px));\\n}\",{\"id\":\"00039ea8-df9f-4bef-a1fa-ebe6e64afa59\"},{\"id\":\"891e252c-ca54-486a-b609-be73ad714ec1\"},{\"id\":\"d05eb62d-6e9a-4b07-a98d-3fb3d43ccc8d\"}],\"min_width\":0,\"margin\":0,\"sizing_mode\":\"stretch_width\",\"align\":\"start\"}},{\"type\":\"object\",\"name\":\"Figure\",\"id\":\"78d31a0c-24f7-4a26-9e8e-282de7f7f6b8\",\"attributes\":{\"height\":400,\"margin\":[5,10],\"sizing_mode\":\"fixed\",\"align\":\"start\",\"x_range\":{\"type\":\"object\",\"name\":\"Range1d\",\"id\":\"4e874987-31d1-4129-8ce9-d5fb35c1adac\",\"attributes\":{\"name\":\"GO_RT\",\"tags\":[[[\"GO_RT\",null]],[]],\"start\":102.6623188405797,\"end\":346.4028985507247,\"reset_start\":102.6623188405797,\"reset_end\":346.4028985507247}},\"y_range\":{\"type\":\"object\",\"name\":\"Range1d\",\"id\":\"a1c3f158-72f3-4abb-bbf7-daaf1928a844\",\"attributes\":{\"name\":\"Continue_RT\",\"tags\":[[[\"Continue_RT\",null]],{\"type\":\"map\",\"entries\":[[\"invert_yaxis\",false],[\"autorange\",false]]}],\"start\":95.49347826086957,\"end\":353.5717391304348,\"reset_start\":95.49347826086957,\"reset_end\":353.5717391304348}},\"x_scale\":{\"type\":\"object\",\"name\":\"LinearScale\",\"id\":\"5ae7bce3-3799-425a-b3ad-f9a0a89f3ecf\"},\"y_scale\":{\"type\":\"object\",\"name\":\"LinearScale\",\"id\":\"67ebc75a-df14-41e6-a31c-649cf9e78d8c\"},\"title\":{\"type\":\"object\",\"name\":\"Title\",\"id\":\"80de4080-2da7-4cfa-8dcf-9bbee7085954\",\"attributes\":{\"text\":\"fiona Session mean RT\",\"text_color\":\"black\",\"text_font_size\":\"16pt\"}},\"renderers\":[{\"type\":\"object\",\"name\":\"GlyphRenderer\",\"id\":\"9224d03c-6866-441f-92e2-4e9654387326\",\"attributes\":{\"name\":\"Continue RT\",\"data_source\":{\"type\":\"object\",\"name\":\"ColumnDataSource\",\"id\":\"b7652bea-b7f1-43ae-9c07-7e5fbfda7e8b\",\"attributes\":{\"selected\":{\"type\":\"object\",\"name\":\"Selection\",\"id\":\"29d94d26-8f94-449a-b359-cc80fc7cad04\",\"attributes\":{\"indices\":[],\"line_indices\":[]}},\"selection_policy\":{\"type\":\"object\",\"name\":\"UnionRenderers\",\"id\":\"63c144df-8591-4348-93cb-86c523b95042\"},\"data\":{\"type\":\"map\",\"entries\":[[\"GO_RT\",{\"type\":\"ndarray\",\"array\":{\"type\":\"bytes\",\"data\":\"H4sIAAEAAAAC/xXQeUiTYQAG8FoWNMuyhpWaBgpOUUpTm27aY3hhEOKxLDWi0n3v+31b80icdpHlCtIOsUNBQqeJqaOloVtlztRCcSkVHbasvLCCytTaurbff88/DzxPaqrNewaL7JCJvXYJDHJiDeqWVRTVuoZmX8csRGU0hi3XcBBVhXfNN3JwzzdId/1k0VbgqVi8lMA8rsjd9otAI9bXicMJ+q38YymHKHa/9i9XtlLAmjK7bZ8cbcUvLaGQ4cz8mtc7HTjUP4m5KNWz8H3Vfu5ygBzaIfL76joOxnixdJM/C+vfID6vSI5qXmB2m06B9qlDFr8wJVxD/tGKIAVM2ohx3QGKdssRYWApg9oTRQFN0xRldCB1ZJrFrbpSyeftLEa0eQm8RxQ1U6qaKT4Lx4NNMRFXWWy+OTYhaGNh7F22zk3DIjTaaJaUMBBopoR1gRSzSW7eO3sosu36GGy1udPBIP59kaC1nuBtlaeL7x0GyUuK+5+dZBA3UCoS6ikS5ioHTR8YiG+vFd/2lCE/+M3LCDXFTN1z7+huBoe3xER+khJsetppqdrFgZ6eqIktJHjo4qOfaGFhr49TsRjicZEfORaiFZffhqRTNMz90BoSWayyu8TA1VTYtzWb4oLk+2OvOAbz3prj3bbfj7K5Tr2XKBwWnEfjtlBkSDp7KwwyPGhcqDWnE0RfSblnuk4wWJ6v0FspDCurobTl3BGem88xGXJE7k7qBRl6Ai4Ej9YSeJwQjX3rkkHJ7VfxP1Cs94v0Es7IcM2slstCbXtDVKN7djCYbO73Gn5AkMZ/ZqlMIjibLPyaN5KFYeOG1QkeDAZ0/gO6GYJgrTrzzzmKKB4tuN9BUHbq5KTFzODRWWev2ETbnzdeaAVjBBHuLl+W9RGYou6md50n8JsTpakaKc6XOGx85yTHf0qVEarAAgAA\"},\"shape\":[88],\"dtype\":\"float64\",\"order\":\"little\"}],[\"Continue_RT\",{\"type\":\"ndarray\",\"array\":{\"type\":\"bytes\",\"data\":\"H4sIAAEAAAAC/xXPfSzUcRwH8DyUFsq0EG1YD2q7U00sSd552Bh1pRoRdbqiu9/v9/09eDwUUx5a3aJLxiZZeuDSWNQNbaFhtMVCqS3i8mzDdBHpvPb+4/PHe3vvI5Y5m58P53BuTYIU3UYN3n3GHBagm7LZLMAlMcYlsVaBbJGh+D4efsvc5Fy1AOnttD7LdwJ2y8PKEy05jKWUjqZUs7DUuav7v3Dw4Ytf9bbwUFQlu/gE8li//9mgLl6A/lAzL3GjsFNkuIp4rM23+/K4OHYrekwsYNep172DUh6aq5K5dBGH0d8RfG4kj6bxE0Q5LUCrDtaqtwo4OJ1n8SSJg85GwszK5OhrDPXWz9DY+yNfmhXHQrFotL0ggkW7r03tPXcWD8liIUln0aJ1GGj1ITgZlJBrmcaCHAg4NhnNIlvfnDo0TZB3ZWL4+BYF3pp5KMNaGUje/MoJ6GGQeaBHta2dwlKUmGk+SiNp7fFCGgPiZXnInWtIeP5+JmQPgYn4k7HYimAjdbdo9jyNPu1chmxFjjZuRxvnT/DT92OQk4qGWlu2wa6fQWGqvVS7SjBiYe764C4Np0xT68AMAk/V8GFVA0F9iS5IdoTFUP4/ZXUzwccuAw2DdWsuseh96lH3wpuFV81Wr5pggs6CPNWjWAafR5zmQ40ZTHm0MUIXg8dLIZHDEgomy60dflUEm4wr3Be1NAIvn3XeZ0NgNjHfgyYK6sap3socBcYXbF2ynlOI7zcNlKRSUD6r1g0WyhHnWJLvl07j+pnkxpcVFOrNpfXmHAE3of9uHUvD1Ypa5b8xyMs1uEEjurRM0FfK4VbcGefqR2Nm6WvMFSeCZAfJH0Zg0SThOqwuMPi7ZFDOQGP7QXlaRMP/fl2upy2D7nBH+0kjFsH1MkMY2EbFdweMEtwsWfHV2HH4D13wUlzAAgAA\"},\"shape\":[88],\"dtype\":\"float64\",\"order\":\"little\"}]]}}},\"view\":{\"type\":\"object\",\"name\":\"CDSView\",\"id\":\"2185fda6-d796-4126-954d-17c9ecf57604\",\"attributes\":{\"filter\":{\"type\":\"object\",\"name\":\"AllIndices\",\"id\":\"09f5adbb-a3a7-47e9-8024-3984ff6056a1\"}}},\"glyph\":{\"type\":\"object\",\"name\":\"Scatter\",\"id\":\"976e04fe-9fbf-4b4a-a89f-ff416cc9189c\",\"attributes\":{\"tags\":[\"apply_ranges\"],\"x\":{\"type\":\"field\",\"field\":\"GO_RT\"},\"y\":{\"type\":\"field\",\"field\":\"Continue_RT\"},\"size\":{\"type\":\"value\",\"value\":5.477225575051661},\"line_color\":{\"type\":\"value\",\"value\":\"purple\"},\"line_alpha\":{\"type\":\"value\",\"value\":0.7},\"fill_color\":{\"type\":\"value\",\"value\":\"purple\"},\"fill_alpha\":{\"type\":\"value\",\"value\":0.7},\"hatch_color\":{\"type\":\"value\",\"value\":\"purple\"},\"hatch_alpha\":{\"type\":\"value\",\"value\":0.7}}},\"selection_glyph\":{\"type\":\"object\",\"name\":\"Scatter\",\"id\":\"58da1c45-47bf-4550-8b27-7429a4894bee\",\"attributes\":{\"tags\":[\"apply_ranges\"],\"x\":{\"type\":\"field\",\"field\":\"GO_RT\"},\"y\":{\"type\":\"field\",\"field\":\"Continue_RT\"},\"size\":{\"type\":\"value\",\"value\":5.477225575051661},\"angle\":{\"type\":\"value\",\"value\":0.0},\"line_color\":{\"type\":\"value\",\"value\":\"purple\"},\"line_alpha\":{\"type\":\"value\",\"value\":0.7},\"line_width\":{\"type\":\"value\",\"value\":1},\"line_join\":{\"type\":\"value\",\"value\":\"bevel\"},\"line_cap\":{\"type\":\"value\",\"value\":\"butt\"},\"line_dash\":{\"type\":\"value\",\"value\":[]},\"line_dash_offset\":{\"type\":\"value\",\"value\":0},\"fill_color\":{\"type\":\"value\",\"value\":\"purple\"},\"fill_alpha\":{\"type\":\"value\",\"value\":0.7},\"hatch_color\":{\"type\":\"value\",\"value\":\"purple\"},\"hatch_alpha\":{\"type\":\"value\",\"value\":0.7},\"hatch_scale\":{\"type\":\"value\",\"value\":12.0},\"hatch_pattern\":{\"type\":\"value\",\"value\":null},\"hatch_weight\":{\"type\":\"value\",\"value\":1.0},\"marker\":{\"type\":\"value\",\"value\":\"circle\"}}},\"nonselection_glyph\":{\"type\":\"object\",\"name\":\"Scatter\",\"id\":\"3156f08a-8b18-4cd0-9874-7fe0065d1ede\",\"attributes\":{\"tags\":[\"apply_ranges\"],\"x\":{\"type\":\"field\",\"field\":\"GO_RT\"},\"y\":{\"type\":\"field\",\"field\":\"Continue_RT\"},\"size\":{\"type\":\"value\",\"value\":5.477225575051661},\"line_color\":{\"type\":\"value\",\"value\":\"purple\"},\"line_alpha\":{\"type\":\"value\",\"value\":0.7},\"fill_color\":{\"type\":\"value\",\"value\":\"purple\"},\"fill_alpha\":{\"type\":\"value\",\"value\":0.7},\"hatch_color\":{\"type\":\"value\",\"value\":\"purple\"},\"hatch_alpha\":{\"type\":\"value\",\"value\":0.1}}},\"muted_glyph\":{\"type\":\"object\",\"name\":\"Scatter\",\"id\":\"462f44b9-bbc4-4643-8649-b6bff40d79cc\",\"attributes\":{\"tags\":[\"apply_ranges\"],\"x\":{\"type\":\"field\",\"field\":\"GO_RT\"},\"y\":{\"type\":\"field\",\"field\":\"Continue_RT\"},\"size\":{\"type\":\"value\",\"value\":5.477225575051661},\"line_color\":{\"type\":\"value\",\"value\":\"purple\"},\"line_alpha\":{\"type\":\"value\",\"value\":0.2},\"fill_color\":{\"type\":\"value\",\"value\":\"purple\"},\"fill_alpha\":{\"type\":\"value\",\"value\":0.2},\"hatch_color\":{\"type\":\"value\",\"value\":\"purple\"},\"hatch_alpha\":{\"type\":\"value\",\"value\":0.2}}}}},{\"type\":\"object\",\"name\":\"GlyphRenderer\",\"id\":\"4d1c92e2-a45e-423d-a162-cba88169759e\",\"attributes\":{\"name\":\"Error stop RT\",\"data_source\":{\"type\":\"object\",\"name\":\"ColumnDataSource\",\"id\":\"b653620a-85f1-4f4d-a871-fd77517f5dff\",\"attributes\":{\"selected\":{\"type\":\"object\",\"name\":\"Selection\",\"id\":\"7dfb1722-1c65-4d08-b0d9-bd092283ccf2\",\"attributes\":{\"indices\":[],\"line_indices\":[]}},\"selection_policy\":{\"type\":\"object\",\"name\":\"UnionRenderers\",\"id\":\"36225988-77bb-4331-acd0-73626ff36729\"},\"data\":{\"type\":\"map\",\"entries\":[[\"GO_RT\",{\"type\":\"ndarray\",\"array\":{\"type\":\"bytes\",\"data\":\"H4sIAAEAAAAC/xXQeUiTYQAG8FoWNMuyhpWaBgpOUUpTm27aY3hhEOKxLDWi0n3v+31b80icdpHlCtIOsUNBQqeJqaOloVtlztRCcSkVHbasvLCCytTaurbff88/DzxPaqrNewaL7JCJvXYJDHJiDeqWVRTVuoZmX8csRGU0hi3XcBBVhXfNN3JwzzdId/1k0VbgqVi8lMA8rsjd9otAI9bXicMJ+q38YymHKHa/9i9XtlLAmjK7bZ8cbcUvLaGQ4cz8mtc7HTjUP4m5KNWz8H3Vfu5ygBzaIfL76joOxnixdJM/C+vfID6vSI5qXmB2m06B9qlDFr8wJVxD/tGKIAVM2ohx3QGKdssRYWApg9oTRQFN0xRldCB1ZJrFrbpSyeftLEa0eQm8RxQ1U6qaKT4Lx4NNMRFXWWy+OTYhaGNh7F22zk3DIjTaaJaUMBBopoR1gRSzSW7eO3sosu36GGy1udPBIP59kaC1nuBtlaeL7x0GyUuK+5+dZBA3UCoS6ikS5ioHTR8YiG+vFd/2lCE/+M3LCDXFTN1z7+huBoe3xER+khJsetppqdrFgZ6eqIktJHjo4qOfaGFhr49TsRjicZEfORaiFZffhqRTNMz90BoSWayyu8TA1VTYtzWb4oLk+2OvOAbz3prj3bbfj7K5Tr2XKBwWnEfjtlBkSDp7KwwyPGhcqDWnE0RfSblnuk4wWJ6v0FspDCurobTl3BGem88xGXJE7k7qBRl6Ai4Ej9YSeJwQjX3rkkHJ7VfxP1Cs94v0Es7IcM2slstCbXtDVKN7djCYbO73Gn5AkMZ/ZqlMIjibLPyaN5KFYeOG1QkeDAZ0/gO6GYJgrTrzzzmKKB4tuN9BUHbq5KTFzODRWWev2ETbnzdeaAVjBBHuLl+W9RGYou6md50n8JsTpakaKc6XOGx85yTHf0qVEarAAgAA\"},\"shape\":[88],\"dtype\":\"float64\",\"order\":\"little\"}],[\"Error_Stop_RT\",{\"type\":\"ndarray\",\"array\":{\"type\":\"bytes\",\"data\":\"H4sIAAEAAAAC/y3Se0hTURwHcLV8lEQLH1kpNQyntZrgKsKEbwWi1jabFOlEbbv33Lsp1NJZFJW1nJmpSFqEoIiKrlpapKaYDEmWpUEUaWPaw9AJ+RqmImTdPT7/HL78Dufw+53j5cUJJ/ByWbmx2iRbbZqj3VmohkUbbtFmKt05h8VkXeLZ2WlPvfUChoc4u3OxMM9JpSDs+7m3z4f17KewvOREsGE28lXlLjVGMnJNHWdUnjqDP8n1i8k7GQiG5jTaINp93hE19OIkvfgOA6NgouvEXxZJktjxd2satBx6PS0Rsfgax6up+E2gSau1fvYjaK6Wp8QM08izyh6Yo1jsc2GwviJ404KFgVJQqBR0EhwL4N/m9XA5zHAujLAIjn8eFH+Kxa3uwpxnEhbpwtCyASWNyJD8J3EvGGgHeU8bI1i0t3G+URh8ywkjcM2Jy6axEgUaVPBTtPsqQBAas07WxZ3bWLa/xz5PYzQ86WW/gUI9NzZ1NY2Ulsmjs1Z3/0WBBFXFQoqvZ6Aw1mQYD9DopgK+fOxk8D6hvN2WRqAL/ZR+corGUnRmZb/O806BDPx1qf66WALhsrj/YgmB2mkbwWanfwRtDb0GRx3Xn9whjLQyuD7Dfxiip3HaaYTAtuXSmwg+DVHC5FxHFe2egzdBEV0r8h+lESVDQZ+Vgrfe4siSUK57zeM5yLYXZ9lpCudTHh/PMxMYsstLF4tYlPrclw5HEvgYf/UK5QS8rRqpzw8K3zUqtmdChTGbE4WMiMRHd6cY7Ll82FfErddcCMQrksUCKQNL9AfdPTmNFofdfHWNYMCUatvYTDCTz/2AOho71g4OtN4kqDQFbJdeYfEfKKJhFMACAAA=\"},\"shape\":[88],\"dtype\":\"float64\",\"order\":\"little\"}]]}}},\"view\":{\"type\":\"object\",\"name\":\"CDSView\",\"id\":\"99eeadb6-1ffd-4e23-b034-796bd0ec8a45\",\"attributes\":{\"filter\":{\"type\":\"object\",\"name\":\"AllIndices\",\"id\":\"6959e187-e545-420b-9e53-fbb934b29ad4\"}}},\"glyph\":{\"type\":\"object\",\"name\":\"Scatter\",\"id\":\"4245d750-e245-4969-beb5-7bb2fc46afd1\",\"attributes\":{\"tags\":[\"apply_ranges\"],\"x\":{\"type\":\"field\",\"field\":\"GO_RT\"},\"y\":{\"type\":\"field\",\"field\":\"Error_Stop_RT\"},\"size\":{\"type\":\"value\",\"value\":5.477225575051661},\"line_color\":{\"type\":\"value\",\"value\":\"green\"},\"line_alpha\":{\"type\":\"value\",\"value\":0.7},\"fill_color\":{\"type\":\"value\",\"value\":\"green\"},\"fill_alpha\":{\"type\":\"value\",\"value\":0.7},\"hatch_color\":{\"type\":\"value\",\"value\":\"green\"},\"hatch_alpha\":{\"type\":\"value\",\"value\":0.7}}},\"selection_glyph\":{\"type\":\"object\",\"name\":\"Scatter\",\"id\":\"6e045fbb-9355-4d91-8950-149ec02cfde9\",\"attributes\":{\"tags\":[\"apply_ranges\"],\"x\":{\"type\":\"field\",\"field\":\"GO_RT\"},\"y\":{\"type\":\"field\",\"field\":\"Error_Stop_RT\"},\"size\":{\"type\":\"value\",\"value\":5.477225575051661},\"angle\":{\"type\":\"value\",\"value\":0.0},\"line_color\":{\"type\":\"value\",\"value\":\"green\"},\"line_alpha\":{\"type\":\"value\",\"value\":0.7},\"line_width\":{\"type\":\"value\",\"value\":1},\"line_join\":{\"type\":\"value\",\"value\":\"bevel\"},\"line_cap\":{\"type\":\"value\",\"value\":\"butt\"},\"line_dash\":{\"type\":\"value\",\"value\":[]},\"line_dash_offset\":{\"type\":\"value\",\"value\":0},\"fill_color\":{\"type\":\"value\",\"value\":\"green\"},\"fill_alpha\":{\"type\":\"value\",\"value\":0.7},\"hatch_color\":{\"type\":\"value\",\"value\":\"green\"},\"hatch_alpha\":{\"type\":\"value\",\"value\":0.7},\"hatch_scale\":{\"type\":\"value\",\"value\":12.0},\"hatch_pattern\":{\"type\":\"value\",\"value\":null},\"hatch_weight\":{\"type\":\"value\",\"value\":1.0},\"marker\":{\"type\":\"value\",\"value\":\"circle\"}}},\"nonselection_glyph\":{\"type\":\"object\",\"name\":\"Scatter\",\"id\":\"089b8493-0ee6-47b6-bc72-4c35974c42ac\",\"attributes\":{\"tags\":[\"apply_ranges\"],\"x\":{\"type\":\"field\",\"field\":\"GO_RT\"},\"y\":{\"type\":\"field\",\"field\":\"Error_Stop_RT\"},\"size\":{\"type\":\"value\",\"value\":5.477225575051661},\"line_color\":{\"type\":\"value\",\"value\":\"green\"},\"line_alpha\":{\"type\":\"value\",\"value\":0.7},\"fill_color\":{\"type\":\"value\",\"value\":\"green\"},\"fill_alpha\":{\"type\":\"value\",\"value\":0.7},\"hatch_color\":{\"type\":\"value\",\"value\":\"green\"},\"hatch_alpha\":{\"type\":\"value\",\"value\":0.1}}},\"muted_glyph\":{\"type\":\"object\",\"name\":\"Scatter\",\"id\":\"0809b03b-7c1f-4a9f-bfe3-509fda4a61cb\",\"attributes\":{\"tags\":[\"apply_ranges\"],\"x\":{\"type\":\"field\",\"field\":\"GO_RT\"},\"y\":{\"type\":\"field\",\"field\":\"Error_Stop_RT\"},\"size\":{\"type\":\"value\",\"value\":5.477225575051661},\"line_color\":{\"type\":\"value\",\"value\":\"green\"},\"line_alpha\":{\"type\":\"value\",\"value\":0.2},\"fill_color\":{\"type\":\"value\",\"value\":\"green\"},\"fill_alpha\":{\"type\":\"value\",\"value\":0.2},\"hatch_color\":{\"type\":\"value\",\"value\":\"green\"},\"hatch_alpha\":{\"type\":\"value\",\"value\":0.2}}}}},{\"type\":\"object\",\"name\":\"GlyphRenderer\",\"id\":\"106a60c8-d25c-4b0b-8425-6836742e83d6\",\"attributes\":{\"data_source\":{\"type\":\"object\",\"name\":\"ColumnDataSource\",\"id\":\"d9b60932-0fb9-4185-b96a-5ae2a6f34c71\",\"attributes\":{\"selected\":{\"type\":\"object\",\"name\":\"Selection\",\"id\":\"e189b5b7-88c1-4da5-ac7a-4f9b5c3bfc60\",\"attributes\":{\"indices\":[],\"line_indices\":[]}},\"selection_policy\":{\"type\":\"object\",\"name\":\"UnionRenderers\",\"id\":\"65fc14bb-0dcb-4f3a-bd50-afbeaa2efc4a\"},\"data\":{\"type\":\"map\",\"entries\":[[\"x\",{\"type\":\"ndarray\",\"array\":{\"type\":\"bytes\",\"data\":\"H4sIAAEAAAAC/2NgAAKHWIc2nRRF7oMlDgAcTuUgEAAAAA==\"},\"shape\":[2],\"dtype\":\"float64\",\"order\":\"little\"}],[\"y\",{\"type\":\"ndarray\",\"array\":{\"type\":\"bytes\",\"data\":\"H4sIAAEAAAAC/2NgAAKHWIc2nRRF7oMlDgAcTuUgEAAAAA==\"},\"shape\":[2],\"dtype\":\"float64\",\"order\":\"little\"}]]}}},\"view\":{\"type\":\"object\",\"name\":\"CDSView\",\"id\":\"48ce9bdf-ba49-4be5-8337-3036647cb9d2\",\"attributes\":{\"filter\":{\"type\":\"object\",\"name\":\"AllIndices\",\"id\":\"de34b868-be8b-444f-aba7-de234b0120a9\"}}},\"glyph\":{\"type\":\"object\",\"name\":\"Line\",\"id\":\"6ff1475a-b48e-40ce-b555-b334817b9ff4\",\"attributes\":{\"tags\":[\"apply_ranges\"],\"x\":{\"type\":\"field\",\"field\":\"x\"},\"y\":{\"type\":\"field\",\"field\":\"y\"},\"line_width\":2}},\"selection_glyph\":{\"type\":\"object\",\"name\":\"Line\",\"id\":\"8c137583-c050-49fb-bf9f-09a3e27cdabd\",\"attributes\":{\"tags\":[\"apply_ranges\"],\"x\":{\"type\":\"field\",\"field\":\"x\"},\"y\":{\"type\":\"field\",\"field\":\"y\"},\"line_width\":2}},\"nonselection_glyph\":{\"type\":\"object\",\"name\":\"Line\",\"id\":\"4a8fb889-3c97-4d97-914d-2e25bec64ff7\",\"attributes\":{\"tags\":[\"apply_ranges\"],\"x\":{\"type\":\"field\",\"field\":\"x\"},\"y\":{\"type\":\"field\",\"field\":\"y\"},\"line_alpha\":0.1,\"line_width\":2}},\"muted_glyph\":{\"type\":\"object\",\"name\":\"Line\",\"id\":\"9e81e309-923e-4a34-b097-d6d097692154\",\"attributes\":{\"tags\":[\"apply_ranges\"],\"x\":{\"type\":\"field\",\"field\":\"x\"},\"y\":{\"type\":\"field\",\"field\":\"y\"},\"line_alpha\":0.2,\"line_width\":2}}}}],\"toolbar\":{\"type\":\"object\",\"name\":\"Toolbar\",\"id\":\"e94a4506-d87b-477a-a617-2dd98e0b9844\",\"attributes\":{\"tools\":[{\"type\":\"object\",\"name\":\"WheelZoomTool\",\"id\":\"363ce2a8-d24f-45e1-b5af-e10ef3100c1e\",\"attributes\":{\"tags\":[\"hv_created\"],\"renderers\":\"auto\",\"zoom_together\":\"none\"}},{\"type\":\"object\",\"name\":\"HoverTool\",\"id\":\"88dcb0fc-5154-4eb8-b725-3db1c82b6709\",\"attributes\":{\"tags\":[\"hv_created\"],\"renderers\":[{\"id\":\"9224d03c-6866-441f-92e2-4e9654387326\"}],\"tooltips\":[[\"GO_RT\",\"@{GO_RT}\"],[\"Continue_RT\",\"@{Continue_RT}\"]],\"sort_by\":null}},{\"type\":\"object\",\"name\":\"HoverTool\",\"id\":\"365a41c6-9010-4c61-abe9-ceeb07a63911\",\"attributes\":{\"tags\":[\"hv_created\"],\"renderers\":[{\"id\":\"4d1c92e2-a45e-423d-a162-cba88169759e\"}],\"tooltips\":[[\"GO_RT\",\"@{GO_RT}\"],[\"Error_Stop_RT\",\"@{Error_Stop_RT}\"]],\"sort_by\":null}},{\"type\":\"object\",\"name\":\"HoverTool\",\"id\":\"a8e20b11-3832-4feb-a763-5024140a2b1d\",\"attributes\":{\"tags\":[\"hv_created\"],\"renderers\":[{\"id\":\"106a60c8-d25c-4b0b-8425-6836742e83d6\"}],\"tooltips\":[[\"x\",\"@{x}\"],[\"y\",\"@{y}\"]],\"sort_by\":null}},{\"type\":\"object\",\"name\":\"SaveTool\",\"id\":\"754d43e0-0cbd-4ae1-8b72-091f16ec90db\"},{\"type\":\"object\",\"name\":\"PanTool\",\"id\":\"2d0e6e70-338b-4653-9e83-715a21a22beb\"},{\"type\":\"object\",\"name\":\"BoxZoomTool\",\"id\":\"4f94e846-42b3-4185-841e-f983fc953efb\",\"attributes\":{\"dimensions\":\"both\",\"overlay\":{\"type\":\"object\",\"name\":\"BoxAnnotation\",\"id\":\"b0685995-6adb-46e5-a3cb-9a251303f44e\",\"attributes\":{\"syncable\":false,\"line_color\":\"black\",\"line_alpha\":1.0,\"line_width\":2,\"line_dash\":[4,4],\"fill_color\":\"lightgrey\",\"fill_alpha\":0.5,\"level\":\"overlay\",\"visible\":false,\"left\":{\"type\":\"number\",\"value\":\"nan\"},\"right\":{\"type\":\"number\",\"value\":\"nan\"},\"top\":{\"type\":\"number\",\"value\":\"nan\"},\"bottom\":{\"type\":\"number\",\"value\":\"nan\"},\"left_units\":\"canvas\",\"right_units\":\"canvas\",\"top_units\":\"canvas\",\"bottom_units\":\"canvas\",\"handles\":{\"type\":\"object\",\"name\":\"BoxInteractionHandles\",\"id\":\"aa94deed-b5ff-4550-8b4a-9f302ad1e0dd\",\"attributes\":{\"all\":{\"type\":\"object\",\"name\":\"AreaVisuals\",\"id\":\"4c6bad02-488f-4bd2-b50d-66c0f3be1162\",\"attributes\":{\"fill_color\":\"white\",\"hover_fill_color\":\"lightgray\"}}}}}}}},{\"type\":\"object\",\"name\":\"ResetTool\",\"id\":\"a8082557-acea-4e01-98ab-c23ec71079db\"}],\"active_drag\":{\"id\":\"2d0e6e70-338b-4653-9e83-715a21a22beb\"},\"active_scroll\":{\"id\":\"363ce2a8-d24f-45e1-b5af-e10ef3100c1e\"}}},\"left\":[{\"type\":\"object\",\"name\":\"LinearAxis\",\"id\":\"c1cfdcfb-dc47-4560-95d4-55a67d004c07\",\"attributes\":{\"ticker\":{\"type\":\"object\",\"name\":\"BasicTicker\",\"id\":\"13f60434-8eec-4985-95bb-f05dc78a926b\",\"attributes\":{\"mantissas\":[1,2,5]}},\"formatter\":{\"type\":\"object\",\"name\":\"BasicTickFormatter\",\"id\":\"4c51f627-bc26-4f8e-90d1-24a05c95ab32\"},\"axis_label\":\"Mean RT (Error_Stop_RT / Continue_RT)\",\"axis_label_text_font_size\":\"14pt\",\"major_label_policy\":{\"type\":\"object\",\"name\":\"AllLabels\",\"id\":\"7b88de48-7b22-4d82-8df7-15eacf65c1c9\"},\"major_label_text_font_size\":\"12pt\"}}],\"below\":[{\"type\":\"object\",\"name\":\"LinearAxis\",\"id\":\"4e464171-069c-43e0-ae98-ecefac042ab6\",\"attributes\":{\"ticker\":{\"type\":\"object\",\"name\":\"BasicTicker\",\"id\":\"ae352889-a4e4-499f-8c2a-1bc158e90e38\",\"attributes\":{\"mantissas\":[1,2,5]}},\"formatter\":{\"type\":\"object\",\"name\":\"BasicTickFormatter\",\"id\":\"a842612f-b06a-4173-b7f5-e50b6614af90\"},\"axis_label\":\"Mean RT (GO_RT)\",\"axis_label_text_font_size\":\"14pt\",\"major_label_policy\":{\"type\":\"object\",\"name\":\"AllLabels\",\"id\":\"adf70167-dc9c-4448-abc6-d9f700527423\"},\"major_label_text_font_size\":\"12pt\"}}],\"center\":[{\"type\":\"object\",\"name\":\"Grid\",\"id\":\"31adae22-b365-42fd-b61d-b15590f8a975\",\"attributes\":{\"axis\":{\"id\":\"4e464171-069c-43e0-ae98-ecefac042ab6\"},\"grid_line_color\":null}},{\"type\":\"object\",\"name\":\"Grid\",\"id\":\"3dae8bc4-4aef-4c55-8a9a-43fe89db34eb\",\"attributes\":{\"dimension\":1,\"axis\":{\"id\":\"c1cfdcfb-dc47-4560-95d4-55a67d004c07\"},\"grid_line_color\":null}},{\"type\":\"object\",\"name\":\"Legend\",\"id\":\"07c70633-1789-441f-90bf-8efa6ab2deea\",\"attributes\":{\"location\":\"top_left\",\"click_policy\":\"mute\",\"label_text_font_size\":\"12pt\",\"items\":[{\"type\":\"object\",\"name\":\"LegendItem\",\"id\":\"419bc309-467c-473a-ba92-db12d485af09\",\"attributes\":{\"label\":{\"type\":\"value\",\"value\":\"Continue RT\"},\"renderers\":[{\"id\":\"9224d03c-6866-441f-92e2-4e9654387326\"}]}},{\"type\":\"object\",\"name\":\"LegendItem\",\"id\":\"408089ba-2e66-497d-8738-49bc3c80c535\",\"attributes\":{\"label\":{\"type\":\"value\",\"value\":\"Error stop RT\"},\"renderers\":[{\"id\":\"4d1c92e2-a45e-423d-a162-cba88169759e\"}]}}]}}],\"min_border_top\":10,\"min_border_bottom\":10,\"min_border_left\":10,\"min_border_right\":10,\"output_backend\":\"webgl\"}},{\"type\":\"object\",\"name\":\"Spacer\",\"id\":\"4e6bfb87-4d42-4f24-a13c-43acfa6e9cff\",\"attributes\":{\"name\":\"HSpacer01423\",\"stylesheets\":[\"\\n:host(.pn-loading):before, .pn-loading:before {\\n  background-color: #c3c3c3;\\n  mask-size: auto calc(min(50%, 300px));\\n  -webkit-mask-size: auto calc(min(50%, 300px));\\n}\",{\"id\":\"00039ea8-df9f-4bef-a1fa-ebe6e64afa59\"},{\"id\":\"891e252c-ca54-486a-b609-be73ad714ec1\"},{\"id\":\"d05eb62d-6e9a-4b07-a98d-3fb3d43ccc8d\"}],\"min_width\":0,\"margin\":0,\"sizing_mode\":\"stretch_width\",\"align\":\"start\"}}]}}],\"defs\":[{\"type\":\"model\",\"name\":\"ReactiveHTML1\"},{\"type\":\"model\",\"name\":\"FlexBox1\",\"properties\":[{\"name\":\"align_content\",\"kind\":\"Any\",\"default\":\"flex-start\"},{\"name\":\"align_items\",\"kind\":\"Any\",\"default\":\"flex-start\"},{\"name\":\"flex_direction\",\"kind\":\"Any\",\"default\":\"row\"},{\"name\":\"flex_wrap\",\"kind\":\"Any\",\"default\":\"wrap\"},{\"name\":\"gap\",\"kind\":\"Any\",\"default\":\"\"},{\"name\":\"justify_content\",\"kind\":\"Any\",\"default\":\"flex-start\"}]},{\"type\":\"model\",\"name\":\"FloatPanel1\",\"properties\":[{\"name\":\"config\",\"kind\":\"Any\",\"default\":{\"type\":\"map\"}},{\"name\":\"contained\",\"kind\":\"Any\",\"default\":true},{\"name\":\"position\",\"kind\":\"Any\",\"default\":\"right-top\"},{\"name\":\"offsetx\",\"kind\":\"Any\",\"default\":null},{\"name\":\"offsety\",\"kind\":\"Any\",\"default\":null},{\"name\":\"theme\",\"kind\":\"Any\",\"default\":\"primary\"},{\"name\":\"status\",\"kind\":\"Any\",\"default\":\"normalized\"}]},{\"type\":\"model\",\"name\":\"GridStack1\",\"properties\":[{\"name\":\"ncols\",\"kind\":\"Any\",\"default\":null},{\"name\":\"nrows\",\"kind\":\"Any\",\"default\":null},{\"name\":\"allow_resize\",\"kind\":\"Any\",\"default\":true},{\"name\":\"allow_drag\",\"kind\":\"Any\",\"default\":true},{\"name\":\"state\",\"kind\":\"Any\",\"default\":[]}]},{\"type\":\"model\",\"name\":\"drag1\",\"properties\":[{\"name\":\"slider_width\",\"kind\":\"Any\",\"default\":5},{\"name\":\"slider_color\",\"kind\":\"Any\",\"default\":\"black\"},{\"name\":\"start\",\"kind\":\"Any\",\"default\":0},{\"name\":\"end\",\"kind\":\"Any\",\"default\":100},{\"name\":\"value\",\"kind\":\"Any\",\"default\":50}]},{\"type\":\"model\",\"name\":\"click1\",\"properties\":[{\"name\":\"terminal_output\",\"kind\":\"Any\",\"default\":\"\"},{\"name\":\"debug_name\",\"kind\":\"Any\",\"default\":\"\"},{\"name\":\"clears\",\"kind\":\"Any\",\"default\":0}]},{\"type\":\"model\",\"name\":\"ReactiveESM1\",\"properties\":[{\"name\":\"esm_constants\",\"kind\":\"Any\",\"default\":{\"type\":\"map\"}}]},{\"type\":\"model\",\"name\":\"JSComponent1\",\"properties\":[{\"name\":\"esm_constants\",\"kind\":\"Any\",\"default\":{\"type\":\"map\"}}]},{\"type\":\"model\",\"name\":\"ReactComponent1\",\"properties\":[{\"name\":\"use_shadow_dom\",\"kind\":\"Any\",\"default\":true},{\"name\":\"esm_constants\",\"kind\":\"Any\",\"default\":{\"type\":\"map\"}}]},{\"type\":\"model\",\"name\":\"AnyWidgetComponent1\",\"properties\":[{\"name\":\"use_shadow_dom\",\"kind\":\"Any\",\"default\":true},{\"name\":\"esm_constants\",\"kind\":\"Any\",\"default\":{\"type\":\"map\"}}]},{\"type\":\"model\",\"name\":\"FastWrapper1\",\"properties\":[{\"name\":\"object\",\"kind\":\"Any\",\"default\":null},{\"name\":\"style\",\"kind\":\"Any\",\"default\":null}]},{\"type\":\"model\",\"name\":\"NotificationArea1\",\"properties\":[{\"name\":\"js_events\",\"kind\":\"Any\",\"default\":{\"type\":\"map\"}},{\"name\":\"max_notifications\",\"kind\":\"Any\",\"default\":5},{\"name\":\"notifications\",\"kind\":\"Any\",\"default\":[]},{\"name\":\"position\",\"kind\":\"Any\",\"default\":\"bottom-right\"},{\"name\":\"_clear\",\"kind\":\"Any\",\"default\":0},{\"name\":\"types\",\"kind\":\"Any\",\"default\":[{\"type\":\"map\",\"entries\":[[\"type\",\"warning\"],[\"background\",\"#ffc107\"],[\"icon\",{\"type\":\"map\",\"entries\":[[\"className\",\"fas fa-exclamation-triangle\"],[\"tagName\",\"i\"],[\"color\",\"white\"]]}]]},{\"type\":\"map\",\"entries\":[[\"type\",\"info\"],[\"background\",\"#007bff\"],[\"icon\",{\"type\":\"map\",\"entries\":[[\"className\",\"fas fa-info-circle\"],[\"tagName\",\"i\"],[\"color\",\"white\"]]}]]}]}]},{\"type\":\"model\",\"name\":\"Notification\",\"properties\":[{\"name\":\"background\",\"kind\":\"Any\",\"default\":null},{\"name\":\"duration\",\"kind\":\"Any\",\"default\":3000},{\"name\":\"icon\",\"kind\":\"Any\",\"default\":null},{\"name\":\"message\",\"kind\":\"Any\",\"default\":\"\"},{\"name\":\"notification_type\",\"kind\":\"Any\",\"default\":null},{\"name\":\"_rendered\",\"kind\":\"Any\",\"default\":false},{\"name\":\"_destroyed\",\"kind\":\"Any\",\"default\":false}]},{\"type\":\"model\",\"name\":\"TemplateActions1\",\"properties\":[{\"name\":\"open_modal\",\"kind\":\"Any\",\"default\":0},{\"name\":\"close_modal\",\"kind\":\"Any\",\"default\":0}]},{\"type\":\"model\",\"name\":\"BootstrapTemplateActions1\",\"properties\":[{\"name\":\"open_modal\",\"kind\":\"Any\",\"default\":0},{\"name\":\"close_modal\",\"kind\":\"Any\",\"default\":0}]},{\"type\":\"model\",\"name\":\"TemplateEditor1\",\"properties\":[{\"name\":\"layout\",\"kind\":\"Any\",\"default\":[]}]},{\"type\":\"model\",\"name\":\"MaterialTemplateActions1\",\"properties\":[{\"name\":\"open_modal\",\"kind\":\"Any\",\"default\":0},{\"name\":\"close_modal\",\"kind\":\"Any\",\"default\":0}]},{\"type\":\"model\",\"name\":\"request_value1\",\"properties\":[{\"name\":\"fill\",\"kind\":\"Any\",\"default\":\"none\"},{\"name\":\"_synced\",\"kind\":\"Any\",\"default\":null},{\"name\":\"_request_sync\",\"kind\":\"Any\",\"default\":0}]},{\"type\":\"model\",\"name\":\"holoviews.plotting.bokeh.raster.HoverModel\",\"properties\":[{\"name\":\"xy\",\"kind\":\"Any\",\"default\":null},{\"name\":\"data\",\"kind\":\"Any\",\"default\":null}]}]}};\n",
       "  var render_items = [{\"docid\":\"214adb3e-dbf9-48ee-9905-3d7a8bfa6828\",\"roots\":{\"6af6287a-3f9e-4038-aea4-fed2f1ea1414\":\"ce01e9b3-08da-4caa-a46f-9361a8b714c3\"},\"root_ids\":[\"6af6287a-3f9e-4038-aea4-fed2f1ea1414\"]}];\n",
       "  var docs = Object.values(docs_json)\n",
       "  if (!docs) {\n",
       "    return\n",
       "  }\n",
       "  const py_version = docs[0].version.replace('rc', '-rc.').replace('.dev', '-dev.')\n",
       "  async function embed_document(root) {\n",
       "    var Bokeh = get_bokeh(root)\n",
       "    await Bokeh.embed.embed_items_notebook(docs_json, render_items);\n",
       "    for (const render_item of render_items) {\n",
       "      for (const root_id of render_item.root_ids) {\n",
       "\tconst id_el = document.getElementById(root_id)\n",
       "\tif (id_el.children.length && id_el.children[0].hasAttribute('data-root-id')) {\n",
       "\t  const root_el = id_el.children[0]\n",
       "\t  root_el.id = root_el.id + '-rendered'\n",
       "\t  for (const child of root_el.children) {\n",
       "            // Ensure JupyterLab does not capture keyboard shortcuts\n",
       "            // see: https://jupyterlab.readthedocs.io/en/4.1.x/extension/notebook.html#keyboard-interaction-model\n",
       "\t    child.setAttribute('data-lm-suppress-shortcuts', 'true')\n",
       "\t  }\n",
       "\t}\n",
       "      }\n",
       "    }\n",
       "  }\n",
       "  function get_bokeh(root) {\n",
       "    if (root.Bokeh === undefined) {\n",
       "      return null\n",
       "    } else if (root.Bokeh.version !== py_version) {\n",
       "      if (root.Bokeh.versions === undefined || !root.Bokeh.versions.has(py_version)) {\n",
       "\treturn null\n",
       "      }\n",
       "      return root.Bokeh.versions.get(py_version);\n",
       "    } else if (root.Bokeh.version === py_version) {\n",
       "      return root.Bokeh\n",
       "    }\n",
       "    return null\n",
       "  }\n",
       "  function is_loaded(root) {\n",
       "    var Bokeh = get_bokeh(root)\n",
       "    return (Bokeh != null && Bokeh.Panel !== undefined)\n",
       "  }\n",
       "  if (is_loaded(root)) {\n",
       "    embed_document(root);\n",
       "  } else {\n",
       "    var attempts = 0;\n",
       "    var timer = setInterval(function(root) {\n",
       "      if (is_loaded(root)) {\n",
       "        clearInterval(timer);\n",
       "        embed_document(root);\n",
       "      } else if (document.readyState == \"complete\") {\n",
       "        attempts++;\n",
       "        if (attempts > 200) {\n",
       "          clearInterval(timer);\n",
       "\t  var Bokeh = get_bokeh(root)\n",
       "\t  if (Bokeh == null || Bokeh.Panel == null) {\n",
       "            console.warn(\"Panel: ERROR: Unable to run Panel code because Bokeh or Panel library is missing\");\n",
       "\t  } else {\n",
       "\t    console.warn(\"Panel: WARNING: Attempting to render but not all required libraries could be resolved.\")\n",
       "\t    embed_document(root)\n",
       "\t  }\n",
       "        }\n",
       "      }\n",
       "    }, 25, root)\n",
       "  }\n",
       "})(window);</script>"
      ],
      "text/plain": [
       ":Overlay\n",
       "   .Scatter.Continue_RT   :Scatter   [GO_RT]   (Continue_RT)\n",
       "   .Scatter.Error_stop_RT :Scatter   [GO_RT]   (Error_Stop_RT)\n",
       "   .Curve.I               :Curve   [x]   (y)"
      ]
     },
     "execution_count": 15,
     "metadata": {
      "application/vnd.holoviews_exec.v0+json": {
       "id": "6af6287a-3f9e-4038-aea4-fed2f1ea1414"
      }
     },
     "output_type": "execute_result"
    }
   ],
   "source": [
    "# Create RT scatter plot comparing different RT types across sessions\n",
    "plot7 = eda.plot_rt_scatter()\n",
    "plot7"
   ]
  },
  {
   "cell_type": "markdown",
   "id": "2b5c743d",
   "metadata": {},
   "source": [
    "### 8. Continue and Error Stop RT Distributions (Figure 1d Replication)"
   ]
  },
  {
   "cell_type": "code",
   "execution_count": 16,
   "id": "a016cf76",
   "metadata": {},
   "outputs": [
    {
     "data": {},
     "metadata": {},
     "output_type": "display_data"
    },
    {
     "data": {
      "application/vnd.holoviews_exec.v0+json": "",
      "text/html": [
       "<div id='f1c173eb-69f7-4ecc-8974-3c4aa67797f5'>\n",
       "  <div id=\"e5fc4d19-33c0-4752-a31f-37d161bffd24\" data-root-id=\"f1c173eb-69f7-4ecc-8974-3c4aa67797f5\" style=\"display: contents;\"></div>\n",
       "</div>\n",
       "<script type=\"application/javascript\">(function(root) {\n",
       "  var docs_json = {\"bf62fabd-1386-4973-88a3-0b231fe72139\":{\"version\":\"3.8.0\",\"title\":\"Bokeh Application\",\"config\":{\"type\":\"object\",\"name\":\"DocumentConfig\",\"id\":\"26b6a1b2-851a-4375-9e37-694ebfc463cf\",\"attributes\":{\"notifications\":{\"type\":\"object\",\"name\":\"Notifications\",\"id\":\"c6960013-7be5-422b-b722-1255c1d8dda7\"}}},\"roots\":[{\"type\":\"object\",\"name\":\"Row\",\"id\":\"f1c173eb-69f7-4ecc-8974-3c4aa67797f5\",\"attributes\":{\"name\":\"Row01572\",\"tags\":[\"embedded\"],\"stylesheets\":[\"\\n:host(.pn-loading):before, .pn-loading:before {\\n  background-color: #c3c3c3;\\n  mask-size: auto calc(min(50%, 300px));\\n  -webkit-mask-size: auto calc(min(50%, 300px));\\n}\",{\"type\":\"object\",\"name\":\"ImportedStyleSheet\",\"id\":\"f544eda3-80f5-42c6-ba60-2bc006fc4687\",\"attributes\":{\"url\":\"https://cdn.holoviz.org/panel/1.8.0/dist/css/loading.css\"}},{\"type\":\"object\",\"name\":\"ImportedStyleSheet\",\"id\":\"60975bf4-2870-4385-9bd3-7272917bba35\",\"attributes\":{\"url\":\"https://cdn.holoviz.org/panel/1.8.0/dist/css/listpanel.css\"}},{\"type\":\"object\",\"name\":\"ImportedStyleSheet\",\"id\":\"2e3d0ac5-a0f0-40a0-9751-41541a4147bb\",\"attributes\":{\"url\":\"https://cdn.holoviz.org/panel/1.8.0/dist/bundled/theme/default.css\"}},{\"type\":\"object\",\"name\":\"ImportedStyleSheet\",\"id\":\"6578cfb2-de5a-44e9-80c6-9d91eee3add8\",\"attributes\":{\"url\":\"https://cdn.holoviz.org/panel/1.8.0/dist/bundled/theme/native.css\"}}],\"min_width\":800,\"margin\":0,\"sizing_mode\":\"stretch_width\",\"align\":\"start\",\"children\":[{\"type\":\"object\",\"name\":\"Spacer\",\"id\":\"23cde2cc-3912-42a0-94b2-a5040347eec6\",\"attributes\":{\"name\":\"HSpacer01576\",\"stylesheets\":[\"\\n:host(.pn-loading):before, .pn-loading:before {\\n  background-color: #c3c3c3;\\n  mask-size: auto calc(min(50%, 300px));\\n  -webkit-mask-size: auto calc(min(50%, 300px));\\n}\",{\"id\":\"f544eda3-80f5-42c6-ba60-2bc006fc4687\"},{\"id\":\"2e3d0ac5-a0f0-40a0-9751-41541a4147bb\"},{\"id\":\"6578cfb2-de5a-44e9-80c6-9d91eee3add8\"}],\"min_width\":0,\"margin\":0,\"sizing_mode\":\"stretch_width\",\"align\":\"start\"}},{\"type\":\"object\",\"name\":\"Figure\",\"id\":\"409ffd03-9a4a-40d9-8dfc-942a92d9d914\",\"attributes\":{\"width\":800,\"height\":400,\"margin\":[5,10],\"sizing_mode\":\"fixed\",\"align\":\"start\",\"x_range\":{\"type\":\"object\",\"name\":\"Range1d\",\"id\":\"bd7fff1d-b39c-46a4-a9f3-3b92c02d32e5\",\"attributes\":{\"name\":\"Reaction Time Bin\",\"tags\":[[[\"Reaction Time Bin\",null]],[]],\"end\":600,\"reset_start\":0,\"reset_end\":600}},\"y_range\":{\"type\":\"object\",\"name\":\"Range1d\",\"id\":\"4262ee4d-98d5-4bb4-8fc5-b390ce06e9fb\",\"attributes\":{\"name\":\"percentage\",\"tags\":[[[\"percentage\",null]],{\"type\":\"map\",\"entries\":[[\"invert_yaxis\",false],[\"autorange\",false]]}],\"start\":-0.2984897604174903,\"end\":3.3308294457183525,\"reset_start\":-0.2984897604174903,\"reset_end\":3.3308294457183525}},\"x_scale\":{\"type\":\"object\",\"name\":\"LinearScale\",\"id\":\"70b0ee97-13b1-47e8-b03d-0d026d687615\"},\"y_scale\":{\"type\":\"object\",\"name\":\"LinearScale\",\"id\":\"d6a3cb10-c902-4c59-bb7f-bf604f2488db\"},\"title\":{\"type\":\"object\",\"name\":\"Title\",\"id\":\"c190b03e-1769-4b05-ad53-ba214b19ea68\",\"attributes\":{\"text\":\"Fiona - Continue and error stop RT\",\"text_color\":\"black\",\"text_font_size\":\"16pt\"}},\"renderers\":[{\"type\":\"object\",\"name\":\"GlyphRenderer\",\"id\":\"30b3c557-2f7e-40d4-a4dd-09b84bf906ce\",\"attributes\":{\"name\":\"CSD1\",\"data_source\":{\"type\":\"object\",\"name\":\"ColumnDataSource\",\"id\":\"620d5b76-788c-40db-9b7b-709d22d16a38\",\"attributes\":{\"selected\":{\"type\":\"object\",\"name\":\"Selection\",\"id\":\"a7172176-18f2-438a-8c4a-a28da7c62314\",\"attributes\":{\"indices\":[],\"line_indices\":[]}},\"selection_policy\":{\"type\":\"object\",\"name\":\"UnionRenderers\",\"id\":\"e7bea12e-b7f3-4075-9229-c8f4442a907b\"},\"data\":{\"type\":\"map\",\"entries\":[[\"Reaction Time Bin\",{\"type\":\"ndarray\",\"array\":{\"type\":\"bytes\",\"data\":\"H4sIAAEAAAAC/2NgQAYmDhDaBUr7QekQKB0JpeMgdEMilJ8C5adB+ZlQfjaUnwehHQqg4oUQ+kARVL4EKl8KlS+DypdD5Suh8lVQ+WqofA1Uvg4qX+8AAC4NFmPQAAAA\"},\"shape\":[26],\"dtype\":\"float64\",\"order\":\"little\"}],[\"percentage\",{\"type\":\"ndarray\",\"array\":{\"type\":\"bytes\",\"data\":\"H4sIAAEAAAAC/5v3UGpDzO279jxm806cb7xqb3iwg+XB5wv2uZZ3bzrfOGP/JbE+1pnhqv3zVZt79vPfsj+vfHHPB9sr9lUfVqw6fuK4PYPRtJi+h+ftJRbo/pt66Kr9Bt91s53fvLBnPivwTnLlJ/snKzcarl/+x36JQTSjdTSzA/+r5A4lKw4HH89c/f26LA5mZQHyziKMDju3WZf9PPLbfpIgy0bBX5/sn39/r167/4k9RP6hva22hNUyk432BiU+mUouy+wnHTkuGuK1AuqeKVD+DHsA1mEg49AAAAA=\"},\"shape\":[26],\"dtype\":\"float64\",\"order\":\"little\"}],[\"Reaction_Time_Bin\",{\"type\":\"ndarray\",\"array\":{\"type\":\"bytes\",\"data\":\"H4sIAAEAAAAC/2NgQAYmDhDaBUr7QekQKB0JpeMgdEMilJ8C5adB+ZlQfjaUnwehHQqg4oUQ+kARVL4EKl8KlS+DypdD5Suh8lVQ+WqofA1Uvg4qX+8AAC4NFmPQAAAA\"},\"shape\":[26],\"dtype\":\"float64\",\"order\":\"little\"}],[\"SSD_Number\",[\"CSD1\",\"CSD1\",\"CSD1\",\"CSD1\",\"CSD1\",\"CSD1\",\"CSD1\",\"CSD1\",\"CSD1\",\"CSD1\",\"CSD1\",\"CSD1\",\"CSD1\",\"CSD1\",\"CSD1\",\"CSD1\",\"CSD1\",\"CSD1\",\"CSD1\",\"CSD1\",\"CSD1\",\"CSD1\",\"CSD1\",\"CSD1\",\"CSD1\",\"CSD1\"]]]}}},\"view\":{\"type\":\"object\",\"name\":\"CDSView\",\"id\":\"a4bb7ed7-1eef-40e7-acc8-16c9fd740156\",\"attributes\":{\"filter\":{\"type\":\"object\",\"name\":\"AllIndices\",\"id\":\"fa65cb08-7719-41ac-83ad-279a96332179\"}}},\"glyph\":{\"type\":\"object\",\"name\":\"Line\",\"id\":\"8270b3db-e260-45ed-9992-2412a8a8e5ac\",\"attributes\":{\"tags\":[\"apply_ranges\"],\"x\":{\"type\":\"field\",\"field\":\"Reaction Time Bin\"},\"y\":{\"type\":\"field\",\"field\":\"percentage\"},\"line_color\":\"#30a2da\",\"line_width\":3,\"line_dash\":[6]}},\"selection_glyph\":{\"type\":\"object\",\"name\":\"Line\",\"id\":\"7c1ca65d-29ae-475f-a7eb-bd1f199c9a3f\",\"attributes\":{\"tags\":[\"apply_ranges\"],\"x\":{\"type\":\"field\",\"field\":\"Reaction Time Bin\"},\"y\":{\"type\":\"field\",\"field\":\"percentage\"},\"line_color\":\"#30a2da\",\"line_width\":3,\"line_dash\":[6]}},\"nonselection_glyph\":{\"type\":\"object\",\"name\":\"Line\",\"id\":\"f0458aa1-6355-472c-af05-f99e00a77c21\",\"attributes\":{\"tags\":[\"apply_ranges\"],\"x\":{\"type\":\"field\",\"field\":\"Reaction Time Bin\"},\"y\":{\"type\":\"field\",\"field\":\"percentage\"},\"line_color\":\"#30a2da\",\"line_alpha\":0.1,\"line_width\":3,\"line_dash\":[6]}},\"muted_glyph\":{\"type\":\"object\",\"name\":\"Line\",\"id\":\"a1b2827a-d251-4bdf-a91b-54e863d93cc8\",\"attributes\":{\"tags\":[\"apply_ranges\"],\"x\":{\"type\":\"field\",\"field\":\"Reaction Time Bin\"},\"y\":{\"type\":\"field\",\"field\":\"percentage\"},\"line_color\":\"#30a2da\",\"line_alpha\":0.2,\"line_width\":3,\"line_dash\":[6]}}}},{\"type\":\"object\",\"name\":\"GlyphRenderer\",\"id\":\"1892a7bb-1731-458e-9181-613a5f5cd809\",\"attributes\":{\"name\":\"CSD2\",\"data_source\":{\"type\":\"object\",\"name\":\"ColumnDataSource\",\"id\":\"25e661f8-3666-494c-bf07-1211492df58e\",\"attributes\":{\"selected\":{\"type\":\"object\",\"name\":\"Selection\",\"id\":\"fae7cebe-b54d-4de8-be74-564f941aa2d4\",\"attributes\":{\"indices\":[],\"line_indices\":[]}},\"selection_policy\":{\"type\":\"object\",\"name\":\"UnionRenderers\",\"id\":\"a87221e4-1a3f-4797-aace-248aba453afa\"},\"data\":{\"type\":\"map\",\"entries\":[[\"Reaction Time Bin\",{\"type\":\"ndarray\",\"array\":{\"type\":\"bytes\",\"data\":\"H4sIAAEAAAAC/2NgQAYmDhDaBUr7QekQKB0JpeMgdEMilJ8C5adB+ZlQfjaUnwehHQqg4oUQ+kARVL4EKl8KlS+DypdD5Suh8lVQ+WqofA1Uvg4qXw+lGxwAzXbR3tgAAAA=\"},\"shape\":[27],\"dtype\":\"float64\",\"order\":\"little\"}],[\"percentage\",{\"type\":\"ndarray\",\"array\":{\"type\":\"bytes\",\"data\":\"H4sIAAEAAAAC/2uLsnjQy3nD3vbe7XkvWq7ZMxhNi+l7eN7eduJ8Zu2rp+0P57C+yfG9ad+wtOCo1svn9h/W7pz7wf2T/cJHMty5zr/t0y8GRs1Lf26vEv7znOTmC1D1O+0nHTkuGuK1w56n+VZyr+EF+yWP5dJqV7+w7+Fn+P1B84f9zAXrtOeVsThAzGV3gBjH6nDkQUKTICeDg5mmSEtryjf7zyLOh1oDXkHNOWDfxvvH5ULkXih/ARo9AUoX2AMABnnibdgAAAA=\"},\"shape\":[27],\"dtype\":\"float64\",\"order\":\"little\"}],[\"Reaction_Time_Bin\",{\"type\":\"ndarray\",\"array\":{\"type\":\"bytes\",\"data\":\"H4sIAAEAAAAC/2NgQAYmDhDaBUr7QekQKB0JpeMgdEMilJ8C5adB+ZlQfjaUnwehHQqg4oUQ+kARVL4EKl8KlS+DypdD5Suh8lVQ+WqofA1Uvg4qXw+lGxwAzXbR3tgAAAA=\"},\"shape\":[27],\"dtype\":\"float64\",\"order\":\"little\"}],[\"SSD_Number\",[\"CSD2\",\"CSD2\",\"CSD2\",\"CSD2\",\"CSD2\",\"CSD2\",\"CSD2\",\"CSD2\",\"CSD2\",\"CSD2\",\"CSD2\",\"CSD2\",\"CSD2\",\"CSD2\",\"CSD2\",\"CSD2\",\"CSD2\",\"CSD2\",\"CSD2\",\"CSD2\",\"CSD2\",\"CSD2\",\"CSD2\",\"CSD2\",\"CSD2\",\"CSD2\",\"CSD2\"]]]}}},\"view\":{\"type\":\"object\",\"name\":\"CDSView\",\"id\":\"81dcbc4e-6ac9-482e-a65c-95e3ced5318a\",\"attributes\":{\"filter\":{\"type\":\"object\",\"name\":\"AllIndices\",\"id\":\"570639dd-a957-40b9-a700-c2f8e81e6b9b\"}}},\"glyph\":{\"type\":\"object\",\"name\":\"Line\",\"id\":\"cb373677-8dff-4fdd-88d4-e13f31096572\",\"attributes\":{\"tags\":[\"apply_ranges\"],\"x\":{\"type\":\"field\",\"field\":\"Reaction Time Bin\"},\"y\":{\"type\":\"field\",\"field\":\"percentage\"},\"line_color\":\"#fc4f30\",\"line_width\":3,\"line_dash\":[6]}},\"selection_glyph\":{\"type\":\"object\",\"name\":\"Line\",\"id\":\"c9beb3fd-d372-495f-888d-e6b835073866\",\"attributes\":{\"tags\":[\"apply_ranges\"],\"x\":{\"type\":\"field\",\"field\":\"Reaction Time Bin\"},\"y\":{\"type\":\"field\",\"field\":\"percentage\"},\"line_color\":\"#fc4f30\",\"line_width\":3,\"line_dash\":[6]}},\"nonselection_glyph\":{\"type\":\"object\",\"name\":\"Line\",\"id\":\"48fb8638-92cf-4e26-abb3-851146cb23b1\",\"attributes\":{\"tags\":[\"apply_ranges\"],\"x\":{\"type\":\"field\",\"field\":\"Reaction Time Bin\"},\"y\":{\"type\":\"field\",\"field\":\"percentage\"},\"line_color\":\"#fc4f30\",\"line_alpha\":0.1,\"line_width\":3,\"line_dash\":[6]}},\"muted_glyph\":{\"type\":\"object\",\"name\":\"Line\",\"id\":\"be37ad11-44cc-4799-85bb-0d45271cca06\",\"attributes\":{\"tags\":[\"apply_ranges\"],\"x\":{\"type\":\"field\",\"field\":\"Reaction Time Bin\"},\"y\":{\"type\":\"field\",\"field\":\"percentage\"},\"line_color\":\"#fc4f30\",\"line_alpha\":0.2,\"line_width\":3,\"line_dash\":[6]}}}},{\"type\":\"object\",\"name\":\"GlyphRenderer\",\"id\":\"08147a8b-879f-4949-a471-8a5f6bf9e6ca\",\"attributes\":{\"name\":\"CSD3\",\"data_source\":{\"type\":\"object\",\"name\":\"ColumnDataSource\",\"id\":\"700e8865-7c30-4b99-a98c-7d73a1014bbc\",\"attributes\":{\"selected\":{\"type\":\"object\",\"name\":\"Selection\",\"id\":\"ce9b47fa-27ec-402c-81a7-5af4438852b4\",\"attributes\":{\"indices\":[],\"line_indices\":[]}},\"selection_policy\":{\"type\":\"object\",\"name\":\"UnionRenderers\",\"id\":\"b9e7e79c-1972-4454-b968-f655ee1f8629\"},\"data\":{\"type\":\"map\",\"entries\":[[\"Reaction Time Bin\",{\"type\":\"ndarray\",\"array\":{\"type\":\"bytes\",\"data\":\"H4sIAAEAAAAC/2NgQAYmDhDaBUr7QekQKB0JpeMgdEMilJ8C5adB+ZlQfjaUnwehHQqg4oUQ+kARVL4EKl8KlS+DypdD5Suh8lVQ+WqofA1Uvg4qXw+lGxwAzXbR3tgAAAA=\"},\"shape\":[27],\"dtype\":\"float64\",\"order\":\"little\"}],[\"percentage\",{\"type\":\"ndarray\",\"array\":{\"type\":\"bytes\",\"data\":\"H4sIAAEAAAAC/6uyferaWnHJfp5euLdU9w17lb0NM+YFn7Y/nMP6Jsf3pL3tvdvzXrRcs/f0yL6y7ugz+8+J9bHODF/t+2PtPu5zZHCoFj+xdN0VZoe7W+rfzu1icPgg7Jhe+uKP/e3ehE/b6p7Y33ZQCf957qT9eeWLez7YbrGfVz352XWrzfZty0uqvXcest/GVLZtGc9N++IOWW2liE/2Wa3iUh/lf9n/qb0wx1rzr/1s3dAPnMq/7Z9/f69eu/+KPc/LRF2hS6eg7ttpz3CGbzKn41Z7nuZbyb2GG6B0gT0ARrQci9gAAAA=\"},\"shape\":[27],\"dtype\":\"float64\",\"order\":\"little\"}],[\"Reaction_Time_Bin\",{\"type\":\"ndarray\",\"array\":{\"type\":\"bytes\",\"data\":\"H4sIAAEAAAAC/2NgQAYmDhDaBUr7QekQKB0JpeMgdEMilJ8C5adB+ZlQfjaUnwehHQqg4oUQ+kARVL4EKl8KlS+DypdD5Suh8lVQ+WqofA1Uvg4qXw+lGxwAzXbR3tgAAAA=\"},\"shape\":[27],\"dtype\":\"float64\",\"order\":\"little\"}],[\"SSD_Number\",[\"CSD3\",\"CSD3\",\"CSD3\",\"CSD3\",\"CSD3\",\"CSD3\",\"CSD3\",\"CSD3\",\"CSD3\",\"CSD3\",\"CSD3\",\"CSD3\",\"CSD3\",\"CSD3\",\"CSD3\",\"CSD3\",\"CSD3\",\"CSD3\",\"CSD3\",\"CSD3\",\"CSD3\",\"CSD3\",\"CSD3\",\"CSD3\",\"CSD3\",\"CSD3\",\"CSD3\"]]]}}},\"view\":{\"type\":\"object\",\"name\":\"CDSView\",\"id\":\"8e2ae52c-cf2a-42ac-9c90-f554086637b8\",\"attributes\":{\"filter\":{\"type\":\"object\",\"name\":\"AllIndices\",\"id\":\"c607b493-2761-4e36-90c7-f0d36362cb79\"}}},\"glyph\":{\"type\":\"object\",\"name\":\"Line\",\"id\":\"1747f067-1b63-4ccc-9feb-7e55bd45fb3b\",\"attributes\":{\"tags\":[\"apply_ranges\"],\"x\":{\"type\":\"field\",\"field\":\"Reaction Time Bin\"},\"y\":{\"type\":\"field\",\"field\":\"percentage\"},\"line_color\":\"#e5ae38\",\"line_width\":3,\"line_dash\":[6]}},\"selection_glyph\":{\"type\":\"object\",\"name\":\"Line\",\"id\":\"1a20abee-c6f7-4c88-b719-888a841b805c\",\"attributes\":{\"tags\":[\"apply_ranges\"],\"x\":{\"type\":\"field\",\"field\":\"Reaction Time Bin\"},\"y\":{\"type\":\"field\",\"field\":\"percentage\"},\"line_color\":\"#e5ae38\",\"line_width\":3,\"line_dash\":[6]}},\"nonselection_glyph\":{\"type\":\"object\",\"name\":\"Line\",\"id\":\"5f6303f3-a831-431c-8c31-e7689402ea62\",\"attributes\":{\"tags\":[\"apply_ranges\"],\"x\":{\"type\":\"field\",\"field\":\"Reaction Time Bin\"},\"y\":{\"type\":\"field\",\"field\":\"percentage\"},\"line_color\":\"#e5ae38\",\"line_alpha\":0.1,\"line_width\":3,\"line_dash\":[6]}},\"muted_glyph\":{\"type\":\"object\",\"name\":\"Line\",\"id\":\"6457b4d1-1c72-4c4a-863d-a46fdc2ae800\",\"attributes\":{\"tags\":[\"apply_ranges\"],\"x\":{\"type\":\"field\",\"field\":\"Reaction Time Bin\"},\"y\":{\"type\":\"field\",\"field\":\"percentage\"},\"line_color\":\"#e5ae38\",\"line_alpha\":0.2,\"line_width\":3,\"line_dash\":[6]}}}},{\"type\":\"object\",\"name\":\"GlyphRenderer\",\"id\":\"cc15e2ab-9411-47a2-87d9-57dcc2b808aa\",\"attributes\":{\"name\":\"CSD4\",\"data_source\":{\"type\":\"object\",\"name\":\"ColumnDataSource\",\"id\":\"99f5d0b3-5d0f-4809-91f1-bec67c60386d\",\"attributes\":{\"selected\":{\"type\":\"object\",\"name\":\"Selection\",\"id\":\"35d2bde8-557b-46b1-857b-931af41fd508\",\"attributes\":{\"indices\":[],\"line_indices\":[]}},\"selection_policy\":{\"type\":\"object\",\"name\":\"UnionRenderers\",\"id\":\"4fc8a006-b089-4d0a-9d36-0b6826970eea\"},\"data\":{\"type\":\"map\",\"entries\":[[\"Reaction Time Bin\",{\"type\":\"ndarray\",\"array\":{\"type\":\"bytes\",\"data\":\"H4sIAAEAAAAC/2NgQAYmDhDaBUr7QekQKB0JpeMgdEMilJ8C5adB+ZlQfjaUnwehHQqg4oUQ+kARVL4EKl8KlS+DypdD5Suh8lVQ+WqofA1Uvg4qXw+lGyD0g1YHABKbVH3gAAAA\"},\"shape\":[28],\"dtype\":\"float64\",\"order\":\"little\"}],[\"percentage\",{\"type\":\"ndarray\",\"array\":{\"type\":\"bytes\",\"data\":\"H4sIAAEAAAAC/3u+anPPfv5b9qtmPGt4cPqGfa7l3ZvON87YH85hfZPje9J+0pHjoiFeN+wP73Rs1/r72P5eX5Lv8Wcf7c93RrSV3vtnH6AS9OrHRyaH37Zpxb06jA5PnLUytNiZHJYYRDNaRzM7LNSPXKb1mdVByGJR3YdABgfbifOZta/etn/+/b167f4jUPNn2Iem7svbHrbGPu9yqMB+80VQ8R32EPWnofJ77Nt4/7hciNxrv91/U2DKnsNQd5+wVwn/eU5y8wF7nuZbyb2GBXAaACj5XMDgAAAA\"},\"shape\":[28],\"dtype\":\"float64\",\"order\":\"little\"}],[\"Reaction_Time_Bin\",{\"type\":\"ndarray\",\"array\":{\"type\":\"bytes\",\"data\":\"H4sIAAEAAAAC/2NgQAYmDhDaBUr7QekQKB0JpeMgdEMilJ8C5adB+ZlQfjaUnwehHQqg4oUQ+kARVL4EKl8KlS+DypdD5Suh8lVQ+WqofA1Uvg4qXw+lGyD0g1YHABKbVH3gAAAA\"},\"shape\":[28],\"dtype\":\"float64\",\"order\":\"little\"}],[\"SSD_Number\",[\"CSD4\",\"CSD4\",\"CSD4\",\"CSD4\",\"CSD4\",\"CSD4\",\"CSD4\",\"CSD4\",\"CSD4\",\"CSD4\",\"CSD4\",\"CSD4\",\"CSD4\",\"CSD4\",\"CSD4\",\"CSD4\",\"CSD4\",\"CSD4\",\"CSD4\",\"CSD4\",\"CSD4\",\"CSD4\",\"CSD4\",\"CSD4\",\"CSD4\",\"CSD4\",\"CSD4\",\"CSD4\"]]]}}},\"view\":{\"type\":\"object\",\"name\":\"CDSView\",\"id\":\"8e111352-4bd6-4df7-b595-3077a1fd84f8\",\"attributes\":{\"filter\":{\"type\":\"object\",\"name\":\"AllIndices\",\"id\":\"e227d371-aba5-4ac6-88da-f607b6f865ad\"}}},\"glyph\":{\"type\":\"object\",\"name\":\"Line\",\"id\":\"e99866d2-c425-4dcf-9149-9bb477847ddf\",\"attributes\":{\"tags\":[\"apply_ranges\"],\"x\":{\"type\":\"field\",\"field\":\"Reaction Time Bin\"},\"y\":{\"type\":\"field\",\"field\":\"percentage\"},\"line_color\":\"#6d904f\",\"line_width\":3,\"line_dash\":[6]}},\"selection_glyph\":{\"type\":\"object\",\"name\":\"Line\",\"id\":\"6e6827d3-c734-4442-9939-f2625a7f97e9\",\"attributes\":{\"tags\":[\"apply_ranges\"],\"x\":{\"type\":\"field\",\"field\":\"Reaction Time Bin\"},\"y\":{\"type\":\"field\",\"field\":\"percentage\"},\"line_color\":\"#6d904f\",\"line_width\":3,\"line_dash\":[6]}},\"nonselection_glyph\":{\"type\":\"object\",\"name\":\"Line\",\"id\":\"71cb56a7-f031-472b-964f-8b5254d28b0d\",\"attributes\":{\"tags\":[\"apply_ranges\"],\"x\":{\"type\":\"field\",\"field\":\"Reaction Time Bin\"},\"y\":{\"type\":\"field\",\"field\":\"percentage\"},\"line_color\":\"#6d904f\",\"line_alpha\":0.1,\"line_width\":3,\"line_dash\":[6]}},\"muted_glyph\":{\"type\":\"object\",\"name\":\"Line\",\"id\":\"a1d2b142-6bdd-410d-97f2-fe11e57b786d\",\"attributes\":{\"tags\":[\"apply_ranges\"],\"x\":{\"type\":\"field\",\"field\":\"Reaction Time Bin\"},\"y\":{\"type\":\"field\",\"field\":\"percentage\"},\"line_color\":\"#6d904f\",\"line_alpha\":0.2,\"line_width\":3,\"line_dash\":[6]}}}},{\"type\":\"object\",\"name\":\"GlyphRenderer\",\"id\":\"3eb889b5-550f-4174-a05a-7cfea905fad2\",\"attributes\":{\"name\":\"SSD1\",\"data_source\":{\"type\":\"object\",\"name\":\"ColumnDataSource\",\"id\":\"9d984681-31d1-4783-b2da-03d19747ae62\",\"attributes\":{\"selected\":{\"type\":\"object\",\"name\":\"Selection\",\"id\":\"2bf68492-a50a-43ce-b68f-c49ff4ac3333\",\"attributes\":{\"indices\":[],\"line_indices\":[]}},\"selection_policy\":{\"type\":\"object\",\"name\":\"UnionRenderers\",\"id\":\"62c702ba-efff-44eb-8e8a-67092ccaf2aa\"},\"data\":{\"type\":\"map\",\"entries\":[[\"Reaction Time Bin\",{\"type\":\"ndarray\",\"array\":{\"type\":\"bytes\",\"data\":\"H4sIAAEAAAAC/2NgQAYmDhDaBUr7QekQKB0JpeMgdEMilJ8C5adB+ZlQfjaUnwehHQqg4oUQ+kARVL4EKl8KlS+DypdD5Suh8lVQ+WqofA1Uvg4qXw+lG6DqGiG0QhNUPZRe0AJV1wqVb3cAAMcQ51EIAQAA\"},\"shape\":[33],\"dtype\":\"float64\",\"order\":\"little\"}],[\"percentage\",{\"type\":\"ndarray\",\"array\":{\"type\":\"bytes\",\"data\":\"H4sIAAEAAAAC//stvfzIdpcN9rrqsg9mHdtm769qwvZ1w1b7nyt/LRNOP2Ff8KpEtnbNDfujOjdye9hv2SfeFdX4InLR3tqk5qpy3D6ovmNwerHeQXcj2d32XJpsuxzubLdvNFileMNoDdTcpVB6qv1N2QnzYqMWQs2dBRdH5x8D87swaIj+iVC6Eac8Kr8RShei0Y32AK+llpIIAQAA\"},\"shape\":[33],\"dtype\":\"float64\",\"order\":\"little\"}],[\"Reaction_Time_Bin\",{\"type\":\"ndarray\",\"array\":{\"type\":\"bytes\",\"data\":\"H4sIAAEAAAAC/2NgQAYmDhDaBUr7QekQKB0JpeMgdEMilJ8C5adB+ZlQfjaUnwehHQqg4oUQ+kARVL4EKl8KlS+DypdD5Suh8lVQ+WqofA1Uvg4qXw+lG6DqGiG0QhNUPZRe0AJV1wqVb3cAAMcQ51EIAQAA\"},\"shape\":[33],\"dtype\":\"float64\",\"order\":\"little\"}],[\"SSD_Number\",[\"SSD1\",\"SSD1\",\"SSD1\",\"SSD1\",\"SSD1\",\"SSD1\",\"SSD1\",\"SSD1\",\"SSD1\",\"SSD1\",\"SSD1\",\"SSD1\",\"SSD1\",\"SSD1\",\"SSD1\",\"SSD1\",\"SSD1\",\"SSD1\",\"SSD1\",\"SSD1\",\"SSD1\",\"SSD1\",\"SSD1\",\"SSD1\",\"SSD1\",\"SSD1\",\"SSD1\",\"SSD1\",\"SSD1\",\"SSD1\",\"SSD1\",\"SSD1\",\"SSD1\"]]]}}},\"view\":{\"type\":\"object\",\"name\":\"CDSView\",\"id\":\"efbecab5-589d-4d40-a129-7bc97b9f6900\",\"attributes\":{\"filter\":{\"type\":\"object\",\"name\":\"AllIndices\",\"id\":\"bc9e0c04-d3f4-446d-8fa7-7983b47f657b\"}}},\"glyph\":{\"type\":\"object\",\"name\":\"Line\",\"id\":\"e6bd2ab1-8710-4614-b8da-6b45603449ed\",\"attributes\":{\"tags\":[\"apply_ranges\"],\"x\":{\"type\":\"field\",\"field\":\"Reaction Time Bin\"},\"y\":{\"type\":\"field\",\"field\":\"percentage\"},\"line_color\":\"#8b8b8b\",\"line_width\":3}},\"selection_glyph\":{\"type\":\"object\",\"name\":\"Line\",\"id\":\"cb3c7cfb-71c3-4e73-916c-b1f4432a707f\",\"attributes\":{\"tags\":[\"apply_ranges\"],\"x\":{\"type\":\"field\",\"field\":\"Reaction Time Bin\"},\"y\":{\"type\":\"field\",\"field\":\"percentage\"},\"line_color\":\"#8b8b8b\",\"line_width\":3}},\"nonselection_glyph\":{\"type\":\"object\",\"name\":\"Line\",\"id\":\"f6fd16f2-aa80-47b7-b2e5-9851e38d5fe2\",\"attributes\":{\"tags\":[\"apply_ranges\"],\"x\":{\"type\":\"field\",\"field\":\"Reaction Time Bin\"},\"y\":{\"type\":\"field\",\"field\":\"percentage\"},\"line_color\":\"#8b8b8b\",\"line_alpha\":0.1,\"line_width\":3}},\"muted_glyph\":{\"type\":\"object\",\"name\":\"Line\",\"id\":\"af15f584-0394-4135-a1e5-04c50c4177ee\",\"attributes\":{\"tags\":[\"apply_ranges\"],\"x\":{\"type\":\"field\",\"field\":\"Reaction Time Bin\"},\"y\":{\"type\":\"field\",\"field\":\"percentage\"},\"line_color\":\"#8b8b8b\",\"line_alpha\":0.2,\"line_width\":3}}}},{\"type\":\"object\",\"name\":\"GlyphRenderer\",\"id\":\"50ed3e29-2697-4d7a-a98f-b171fd48c1fb\",\"attributes\":{\"name\":\"SSD2\",\"data_source\":{\"type\":\"object\",\"name\":\"ColumnDataSource\",\"id\":\"0603b6b0-aad3-4b43-8078-9e2b2ddbb054\",\"attributes\":{\"selected\":{\"type\":\"object\",\"name\":\"Selection\",\"id\":\"2cecc749-b056-4079-b354-7f58d5ca0520\",\"attributes\":{\"indices\":[],\"line_indices\":[]}},\"selection_policy\":{\"type\":\"object\",\"name\":\"UnionRenderers\",\"id\":\"2bec2ada-e417-4d6f-a63c-1d8ff4cddc64\"},\"data\":{\"type\":\"map\",\"entries\":[[\"Reaction Time Bin\",{\"type\":\"ndarray\",\"array\":{\"type\":\"bytes\",\"data\":\"H4sIAAEAAAAC/03LuwmAMBSFYUfJEA6QwtrKxkYiiCCCqPhAEQ0+0DEcxVEcxeL+hWk+zjk3jvN/rhY99DHAECPRxuSEnJIzck4uRF3SV+JTszfsLXvH3rMP7CP9RD/TL+JrRbVyh2bjfhdv1Af/UJ38Q3PpDy/9sWsgAQAA\"},\"shape\":[36],\"dtype\":\"float64\",\"order\":\"little\"}],[\"percentage\",{\"type\":\"ndarray\",\"array\":{\"type\":\"bytes\",\"data\":\"H4sIAAEAAAAC/1usd9DdSHa3ffOiMPsagSP2R3Vu5Pawn7L/Lb38yHaXC/YFr0pka9fcsL+++nHDzpqX9ps2Mmxgnv7Zvotn9qbrT37aN2U2GKxSfGFfHKNordh1wX4x1Dxrk5qrynH74Pxt8pUVzAWb7Lk02XY53NluP0UxKWhl62Iof7n9TdkJ82KjFtr7q5qwfd0w1d4GrH+e/TGwe7qg8hMx+BC6ESo+C64fIl6IoQ5VvhGNLsSgAa53y34gAQAA\"},\"shape\":[36],\"dtype\":\"float64\",\"order\":\"little\"}],[\"Reaction_Time_Bin\",{\"type\":\"ndarray\",\"array\":{\"type\":\"bytes\",\"data\":\"H4sIAAEAAAAC/03LuwmAMBSFYUfJEA6QwtrKxkYiiCCCqPhAEQ0+0DEcxVEcxeL+hWk+zjk3jvN/rhY99DHAECPRxuSEnJIzck4uRF3SV+JTszfsLXvH3rMP7CP9RD/TL+JrRbVyh2bjfhdv1Af/UJ38Q3PpDy/9sWsgAQAA\"},\"shape\":[36],\"dtype\":\"float64\",\"order\":\"little\"}],[\"SSD_Number\",[\"SSD2\",\"SSD2\",\"SSD2\",\"SSD2\",\"SSD2\",\"SSD2\",\"SSD2\",\"SSD2\",\"SSD2\",\"SSD2\",\"SSD2\",\"SSD2\",\"SSD2\",\"SSD2\",\"SSD2\",\"SSD2\",\"SSD2\",\"SSD2\",\"SSD2\",\"SSD2\",\"SSD2\",\"SSD2\",\"SSD2\",\"SSD2\",\"SSD2\",\"SSD2\",\"SSD2\",\"SSD2\",\"SSD2\",\"SSD2\",\"SSD2\",\"SSD2\",\"SSD2\",\"SSD2\",\"SSD2\",\"SSD2\"]]]}}},\"view\":{\"type\":\"object\",\"name\":\"CDSView\",\"id\":\"4681ef85-d59a-4481-bd11-e551ace4e1dc\",\"attributes\":{\"filter\":{\"type\":\"object\",\"name\":\"AllIndices\",\"id\":\"4b06209e-f8e2-4dac-8115-604109014100\"}}},\"glyph\":{\"type\":\"object\",\"name\":\"Line\",\"id\":\"87395684-5bfa-47b1-8386-d02b116619ff\",\"attributes\":{\"tags\":[\"apply_ranges\"],\"x\":{\"type\":\"field\",\"field\":\"Reaction Time Bin\"},\"y\":{\"type\":\"field\",\"field\":\"percentage\"},\"line_color\":\"#17becf\",\"line_width\":3}},\"selection_glyph\":{\"type\":\"object\",\"name\":\"Line\",\"id\":\"bcc7ad29-bcf6-404f-9942-62525ca16b94\",\"attributes\":{\"tags\":[\"apply_ranges\"],\"x\":{\"type\":\"field\",\"field\":\"Reaction Time Bin\"},\"y\":{\"type\":\"field\",\"field\":\"percentage\"},\"line_color\":\"#17becf\",\"line_width\":3}},\"nonselection_glyph\":{\"type\":\"object\",\"name\":\"Line\",\"id\":\"864aca35-2552-4100-bfcd-bbdd62604777\",\"attributes\":{\"tags\":[\"apply_ranges\"],\"x\":{\"type\":\"field\",\"field\":\"Reaction Time Bin\"},\"y\":{\"type\":\"field\",\"field\":\"percentage\"},\"line_color\":\"#17becf\",\"line_alpha\":0.1,\"line_width\":3}},\"muted_glyph\":{\"type\":\"object\",\"name\":\"Line\",\"id\":\"62903966-2e99-4448-8bd5-97fad08e528f\",\"attributes\":{\"tags\":[\"apply_ranges\"],\"x\":{\"type\":\"field\",\"field\":\"Reaction Time Bin\"},\"y\":{\"type\":\"field\",\"field\":\"percentage\"},\"line_color\":\"#17becf\",\"line_alpha\":0.2,\"line_width\":3}}}},{\"type\":\"object\",\"name\":\"GlyphRenderer\",\"id\":\"b36bfd78-4403-4032-a4fe-d34177d8fafa\",\"attributes\":{\"name\":\"SSD3\",\"data_source\":{\"type\":\"object\",\"name\":\"ColumnDataSource\",\"id\":\"64078c47-8836-4e23-b771-f17d902d999f\",\"attributes\":{\"selected\":{\"type\":\"object\",\"name\":\"Selection\",\"id\":\"319b9d90-06e6-436a-8da6-e84b47ba29ac\",\"attributes\":{\"indices\":[],\"line_indices\":[]}},\"selection_policy\":{\"type\":\"object\",\"name\":\"UnionRenderers\",\"id\":\"593096fb-9c4d-490e-9568-d2b980a7ed48\"},\"data\":{\"type\":\"map\",\"entries\":[[\"Reaction Time Bin\",{\"type\":\"ndarray\",\"array\":{\"type\":\"bytes\",\"data\":\"H4sIAAEAAAAC/03LSw5EQBCAYUdxCAfohbWVjY2YZCIRiSAeYYQOxusUjuIojmJR/0JvvlT/VYbxfpYSbXTQRQ99UX+Yv8whc8QcMyeiSvnPxCunF/SSXtFrekNv6T96R+/pA2rRHNnDYGJ/Zu8v3qgX7lbuMNi428UT1aEeQ5iatUABAAA=\"},\"shape\":[40],\"dtype\":\"float64\",\"order\":\"little\"}],[\"percentage\",{\"type\":\"ndarray\",\"array\":{\"type\":\"bytes\",\"data\":\"H4sIAAEAAAAC/ytU9tbxn33F3ndz+4uAy2ftZVYIns0NPG6vtbXg0LcX5+x11WUfzDp2zX4N16Ybhudf2IdMXnPuS+cX+0LVp2ELZRkd1HfbOb3NZ3E48DuTk1mJweFAa+e0Xfb/7Tm2R86Z8+++vd0yjc/HrY/Zb5OvrGAu2GT/W3r5ke0uG+yP6dzI7WGfZX9TdsK82KhG+ymKSUErWxdD+QvtbUxqrirHzYPyJ8LVodKY4hBzu6D8QoL6YepR7SskQDfC+QAhuURsQAEAAA==\"},\"shape\":[40],\"dtype\":\"float64\",\"order\":\"little\"}],[\"Reaction_Time_Bin\",{\"type\":\"ndarray\",\"array\":{\"type\":\"bytes\",\"data\":\"H4sIAAEAAAAC/03LSw5EQBCAYUdxCAfohbWVjY2YZCIRiSAeYYQOxusUjuIojmJR/0JvvlT/VYbxfpYSbXTQRQ99UX+Yv8whc8QcMyeiSvnPxCunF/SSXtFrekNv6T96R+/pA2rRHNnDYGJ/Zu8v3qgX7lbuMNi428UT1aEeQ5iatUABAAA=\"},\"shape\":[40],\"dtype\":\"float64\",\"order\":\"little\"}],[\"SSD_Number\",[\"SSD3\",\"SSD3\",\"SSD3\",\"SSD3\",\"SSD3\",\"SSD3\",\"SSD3\",\"SSD3\",\"SSD3\",\"SSD3\",\"SSD3\",\"SSD3\",\"SSD3\",\"SSD3\",\"SSD3\",\"SSD3\",\"SSD3\",\"SSD3\",\"SSD3\",\"SSD3\",\"SSD3\",\"SSD3\",\"SSD3\",\"SSD3\",\"SSD3\",\"SSD3\",\"SSD3\",\"SSD3\",\"SSD3\",\"SSD3\",\"SSD3\",\"SSD3\",\"SSD3\",\"SSD3\",\"SSD3\",\"SSD3\",\"SSD3\",\"SSD3\",\"SSD3\",\"SSD3\"]]]}}},\"view\":{\"type\":\"object\",\"name\":\"CDSView\",\"id\":\"6c4059ff-0efd-493c-94fe-104ecbe70977\",\"attributes\":{\"filter\":{\"type\":\"object\",\"name\":\"AllIndices\",\"id\":\"3221f671-e00b-4053-b14a-fbc5d73f61f1\"}}},\"glyph\":{\"type\":\"object\",\"name\":\"Line\",\"id\":\"3ea71fa2-d44a-457c-a994-fda93988211a\",\"attributes\":{\"tags\":[\"apply_ranges\"],\"x\":{\"type\":\"field\",\"field\":\"Reaction Time Bin\"},\"y\":{\"type\":\"field\",\"field\":\"percentage\"},\"line_color\":\"#9467bd\",\"line_width\":3}},\"selection_glyph\":{\"type\":\"object\",\"name\":\"Line\",\"id\":\"4a1e6982-f8a0-450b-ad98-31fa2eb7f96e\",\"attributes\":{\"tags\":[\"apply_ranges\"],\"x\":{\"type\":\"field\",\"field\":\"Reaction Time Bin\"},\"y\":{\"type\":\"field\",\"field\":\"percentage\"},\"line_color\":\"#9467bd\",\"line_width\":3}},\"nonselection_glyph\":{\"type\":\"object\",\"name\":\"Line\",\"id\":\"6dcc0216-cfe6-46c2-bdc2-bc650bb0d26c\",\"attributes\":{\"tags\":[\"apply_ranges\"],\"x\":{\"type\":\"field\",\"field\":\"Reaction Time Bin\"},\"y\":{\"type\":\"field\",\"field\":\"percentage\"},\"line_color\":\"#9467bd\",\"line_alpha\":0.1,\"line_width\":3}},\"muted_glyph\":{\"type\":\"object\",\"name\":\"Line\",\"id\":\"5c16af2a-6b47-48c8-b941-4ec47829b61e\",\"attributes\":{\"tags\":[\"apply_ranges\"],\"x\":{\"type\":\"field\",\"field\":\"Reaction Time Bin\"},\"y\":{\"type\":\"field\",\"field\":\"percentage\"},\"line_color\":\"#9467bd\",\"line_alpha\":0.2,\"line_width\":3}}}},{\"type\":\"object\",\"name\":\"GlyphRenderer\",\"id\":\"e8153dda-3372-4737-b036-f2b38f0d6e7a\",\"attributes\":{\"name\":\"SSD4\",\"data_source\":{\"type\":\"object\",\"name\":\"ColumnDataSource\",\"id\":\"54d54978-f268-44c0-bdb8-c141452c01d5\",\"attributes\":{\"selected\":{\"type\":\"object\",\"name\":\"Selection\",\"id\":\"a64241f4-1aa1-4675-bfe9-fda856faa1d5\",\"attributes\":{\"indices\":[],\"line_indices\":[]}},\"selection_policy\":{\"type\":\"object\",\"name\":\"UnionRenderers\",\"id\":\"12c1e83d-eb27-45b7-88ea-7a5eccfbdf80\"},\"data\":{\"type\":\"map\",\"entries\":[[\"Reaction Time Bin\",{\"type\":\"ndarray\",\"array\":{\"type\":\"bytes\",\"data\":\"H4sIAAEAAAAC/2NgQAYmDhDaBUr7QekQKB0JpeMgdEMilJ8C5adB+ZlQfjaUnwehHQqg4oUQ+kARVL4EKl8KlS+DypdD5Suh8lVQ8Roovx5KN0DohGYIvaAFKt4KoR9A6YY2CK3QDjUHSjd0OwAAnLzK1AgBAAA=\"},\"shape\":[33],\"dtype\":\"float64\",\"order\":\"little\"}],[\"percentage\",{\"type\":\"ndarray\",\"array\":{\"type\":\"bytes\",\"data\":\"H4sIAAEAAAAC//NXNWH7uuGq/Y0nO/u7s6/aS5qlrj9ZfN5+sd5BdyPZ0/bSKwTP5gZet3/QfkVwp95zezNmvsJZFV/s9x7RVW3eyuAQMnnNuS+dLA4G0/Uvv1Fkcqj+b73Xz5fJ4U6QUUS3C4vDah4f5pZAVoeJb/bPqJ7N4DBp/VYT1hW37Y/q3MjtYd9lP0UxKWhl62L7m7IT5sVGLbS3Mam5qhw3D8ovJEA3otGE5HHTAH3BZVYIAQAA\"},\"shape\":[33],\"dtype\":\"float64\",\"order\":\"little\"}],[\"Reaction_Time_Bin\",{\"type\":\"ndarray\",\"array\":{\"type\":\"bytes\",\"data\":\"H4sIAAEAAAAC/2NgQAYmDhDaBUr7QekQKB0JpeMgdEMilJ8C5adB+ZlQfjaUnwehHQqg4oUQ+kARVL4EKl8KlS+DypdD5Suh8lVQ8Roovx5KN0DohGYIvaAFKt4KoR9A6YY2CK3QDjUHSjd0OwAAnLzK1AgBAAA=\"},\"shape\":[33],\"dtype\":\"float64\",\"order\":\"little\"}],[\"SSD_Number\",[\"SSD4\",\"SSD4\",\"SSD4\",\"SSD4\",\"SSD4\",\"SSD4\",\"SSD4\",\"SSD4\",\"SSD4\",\"SSD4\",\"SSD4\",\"SSD4\",\"SSD4\",\"SSD4\",\"SSD4\",\"SSD4\",\"SSD4\",\"SSD4\",\"SSD4\",\"SSD4\",\"SSD4\",\"SSD4\",\"SSD4\",\"SSD4\",\"SSD4\",\"SSD4\",\"SSD4\",\"SSD4\",\"SSD4\",\"SSD4\",\"SSD4\",\"SSD4\",\"SSD4\"]]]}}},\"view\":{\"type\":\"object\",\"name\":\"CDSView\",\"id\":\"ae23bf27-3bd8-4e99-8665-6b4fccafbc93\",\"attributes\":{\"filter\":{\"type\":\"object\",\"name\":\"AllIndices\",\"id\":\"735db955-ee63-4dab-97b5-fef8fc05d316\"}}},\"glyph\":{\"type\":\"object\",\"name\":\"Line\",\"id\":\"8b84d106-09d2-41f9-8b9c-a4334db362b4\",\"attributes\":{\"tags\":[\"apply_ranges\"],\"x\":{\"type\":\"field\",\"field\":\"Reaction Time Bin\"},\"y\":{\"type\":\"field\",\"field\":\"percentage\"},\"line_color\":\"#d62728\",\"line_width\":3}},\"selection_glyph\":{\"type\":\"object\",\"name\":\"Line\",\"id\":\"8d4179b9-b874-4e6e-a572-f379137c5555\",\"attributes\":{\"tags\":[\"apply_ranges\"],\"x\":{\"type\":\"field\",\"field\":\"Reaction Time Bin\"},\"y\":{\"type\":\"field\",\"field\":\"percentage\"},\"line_color\":\"#d62728\",\"line_width\":3}},\"nonselection_glyph\":{\"type\":\"object\",\"name\":\"Line\",\"id\":\"079a0ff9-7200-45a7-9501-fee68c0fd5b3\",\"attributes\":{\"tags\":[\"apply_ranges\"],\"x\":{\"type\":\"field\",\"field\":\"Reaction Time Bin\"},\"y\":{\"type\":\"field\",\"field\":\"percentage\"},\"line_color\":\"#d62728\",\"line_alpha\":0.1,\"line_width\":3}},\"muted_glyph\":{\"type\":\"object\",\"name\":\"Line\",\"id\":\"ab099581-af13-46d9-a594-c567936f9a3e\",\"attributes\":{\"tags\":[\"apply_ranges\"],\"x\":{\"type\":\"field\",\"field\":\"Reaction Time Bin\"},\"y\":{\"type\":\"field\",\"field\":\"percentage\"},\"line_color\":\"#d62728\",\"line_alpha\":0.2,\"line_width\":3}}}}],\"toolbar\":{\"type\":\"object\",\"name\":\"Toolbar\",\"id\":\"a2808a58-3245-4c7f-88f8-656a4ac34961\",\"attributes\":{\"tools\":[{\"type\":\"object\",\"name\":\"WheelZoomTool\",\"id\":\"8c05383f-edc8-47c6-925d-8f6f115c0427\",\"attributes\":{\"tags\":[\"hv_created\"],\"renderers\":\"auto\",\"zoom_together\":\"none\"}},{\"type\":\"object\",\"name\":\"HoverTool\",\"id\":\"b7c6cfc7-4994-4aa9-a9df-a010cb861f69\",\"attributes\":{\"tags\":[\"hv_created\"],\"renderers\":[{\"id\":\"30b3c557-2f7e-40d4-a4dd-09b84bf906ce\"},{\"id\":\"1892a7bb-1731-458e-9181-613a5f5cd809\"},{\"id\":\"08147a8b-879f-4949-a471-8a5f6bf9e6ca\"},{\"id\":\"cc15e2ab-9411-47a2-87d9-57dcc2b808aa\"},{\"id\":\"3eb889b5-550f-4174-a05a-7cfea905fad2\"},{\"id\":\"50ed3e29-2697-4d7a-a98f-b171fd48c1fb\"},{\"id\":\"b36bfd78-4403-4032-a4fe-d34177d8fafa\"},{\"id\":\"e8153dda-3372-4737-b036-f2b38f0d6e7a\"}],\"tooltips\":[[\"SSD Number\",\"@{SSD_Number}\"],[\"Reaction Time Bin\",\"@{Reaction_Time_Bin}\"],[\"percentage\",\"@{percentage}\"]],\"sort_by\":null}},{\"type\":\"object\",\"name\":\"SaveTool\",\"id\":\"21a9df68-74d0-4bfc-aca3-de297e32b9f3\"},{\"type\":\"object\",\"name\":\"PanTool\",\"id\":\"fb55c37b-922b-455a-94a3-21ddb73f2dd3\"},{\"type\":\"object\",\"name\":\"BoxZoomTool\",\"id\":\"8f0703dd-0aee-42e7-b854-ee47629c93aa\",\"attributes\":{\"dimensions\":\"both\",\"overlay\":{\"type\":\"object\",\"name\":\"BoxAnnotation\",\"id\":\"e1cd14db-b7f2-4ced-8266-27f90cd2bed0\",\"attributes\":{\"syncable\":false,\"line_color\":\"black\",\"line_alpha\":1.0,\"line_width\":2,\"line_dash\":[4,4],\"fill_color\":\"lightgrey\",\"fill_alpha\":0.5,\"level\":\"overlay\",\"visible\":false,\"left\":{\"type\":\"number\",\"value\":\"nan\"},\"right\":{\"type\":\"number\",\"value\":\"nan\"},\"top\":{\"type\":\"number\",\"value\":\"nan\"},\"bottom\":{\"type\":\"number\",\"value\":\"nan\"},\"left_units\":\"canvas\",\"right_units\":\"canvas\",\"top_units\":\"canvas\",\"bottom_units\":\"canvas\",\"handles\":{\"type\":\"object\",\"name\":\"BoxInteractionHandles\",\"id\":\"ae4050fc-40ba-4923-b26a-86de4a406584\",\"attributes\":{\"all\":{\"type\":\"object\",\"name\":\"AreaVisuals\",\"id\":\"01718d4b-1202-4bee-817e-0899dfec0a52\",\"attributes\":{\"fill_color\":\"white\",\"hover_fill_color\":\"lightgray\"}}}}}}}},{\"type\":\"object\",\"name\":\"ResetTool\",\"id\":\"5433bb08-0cd9-4f47-b048-3a611703ae72\"}],\"active_drag\":{\"id\":\"fb55c37b-922b-455a-94a3-21ddb73f2dd3\"},\"active_scroll\":{\"id\":\"8c05383f-edc8-47c6-925d-8f6f115c0427\"}}},\"left\":[{\"type\":\"object\",\"name\":\"LinearAxis\",\"id\":\"c97d575c-8a70-4977-ab85-5eb8a438aae7\",\"attributes\":{\"ticker\":{\"type\":\"object\",\"name\":\"BasicTicker\",\"id\":\"c0a15256-7807-4e50-b9cd-82b2b6ae4e5e\",\"attributes\":{\"mantissas\":[1,2,5]}},\"formatter\":{\"type\":\"object\",\"name\":\"BasicTickFormatter\",\"id\":\"7aaa0522-fe9e-426b-a0e6-1e7baf79fc7c\"},\"axis_label\":\"Percentage of total trials\",\"axis_label_text_font_size\":\"14pt\",\"major_label_policy\":{\"type\":\"object\",\"name\":\"AllLabels\",\"id\":\"251ffcc0-7d61-4aba-babf-92575a75a61f\"},\"major_label_text_font_size\":\"12pt\"}}],\"below\":[{\"type\":\"object\",\"name\":\"LinearAxis\",\"id\":\"3997fd37-a306-4890-bee8-a874923d1357\",\"attributes\":{\"ticker\":{\"type\":\"object\",\"name\":\"BasicTicker\",\"id\":\"62c24eec-7353-44f9-ad56-2df7d81a616e\",\"attributes\":{\"mantissas\":[1,2,5]}},\"formatter\":{\"type\":\"object\",\"name\":\"BasicTickFormatter\",\"id\":\"e4451fd1-f80b-4459-8cd0-a6353a59b2ac\"},\"axis_label\":\"Reaction time (ms)\",\"axis_label_text_font_size\":\"14pt\",\"major_label_policy\":{\"type\":\"object\",\"name\":\"AllLabels\",\"id\":\"0a17afcf-1023-4128-84bb-ed0c54d497cc\"},\"major_label_text_font_size\":\"12pt\"}}],\"center\":[{\"type\":\"object\",\"name\":\"Grid\",\"id\":\"d1b88f80-f1e1-4c28-afad-46d546af42e0\",\"attributes\":{\"axis\":{\"id\":\"3997fd37-a306-4890-bee8-a874923d1357\"},\"grid_line_color\":null}},{\"type\":\"object\",\"name\":\"Grid\",\"id\":\"1145e275-f4f8-46b1-82ad-b77aa0faa2ae\",\"attributes\":{\"dimension\":1,\"axis\":{\"id\":\"c97d575c-8a70-4977-ab85-5eb8a438aae7\"},\"grid_line_color\":null}},{\"type\":\"object\",\"name\":\"Legend\",\"id\":\"3fe28d53-f83c-42fe-937e-0cdfe985c400\",\"attributes\":{\"click_policy\":\"mute\",\"label_text_font_size\":\"12pt\",\"items\":[{\"type\":\"object\",\"name\":\"LegendItem\",\"id\":\"63d187ae-2faa-4ed8-bccb-d85148e83d45\",\"attributes\":{\"label\":{\"type\":\"value\",\"value\":\"CSD1\"},\"renderers\":[{\"id\":\"30b3c557-2f7e-40d4-a4dd-09b84bf906ce\"}]}},{\"type\":\"object\",\"name\":\"LegendItem\",\"id\":\"e7adb572-0066-44a5-9f99-ce3580f68b96\",\"attributes\":{\"label\":{\"type\":\"value\",\"value\":\"CSD2\"},\"renderers\":[{\"id\":\"1892a7bb-1731-458e-9181-613a5f5cd809\"}]}},{\"type\":\"object\",\"name\":\"LegendItem\",\"id\":\"bea281fe-749a-44fc-ac2e-fdbd9b8031da\",\"attributes\":{\"label\":{\"type\":\"value\",\"value\":\"CSD3\"},\"renderers\":[{\"id\":\"08147a8b-879f-4949-a471-8a5f6bf9e6ca\"}]}},{\"type\":\"object\",\"name\":\"LegendItem\",\"id\":\"fc504cb5-af3b-40d3-aefa-735a3f89083c\",\"attributes\":{\"label\":{\"type\":\"value\",\"value\":\"CSD4\"},\"renderers\":[{\"id\":\"cc15e2ab-9411-47a2-87d9-57dcc2b808aa\"}]}},{\"type\":\"object\",\"name\":\"LegendItem\",\"id\":\"b4106beb-113e-4bdb-9d5e-1c08b27b4d7b\",\"attributes\":{\"label\":{\"type\":\"value\",\"value\":\"SSD1\"},\"renderers\":[{\"id\":\"3eb889b5-550f-4174-a05a-7cfea905fad2\"}]}},{\"type\":\"object\",\"name\":\"LegendItem\",\"id\":\"ad8857a3-93fa-46a1-a82b-4103e32e8119\",\"attributes\":{\"label\":{\"type\":\"value\",\"value\":\"SSD2\"},\"renderers\":[{\"id\":\"50ed3e29-2697-4d7a-a98f-b171fd48c1fb\"}]}},{\"type\":\"object\",\"name\":\"LegendItem\",\"id\":\"7818cef3-43a3-4eda-8747-eb9da6a55660\",\"attributes\":{\"label\":{\"type\":\"value\",\"value\":\"SSD3\"},\"renderers\":[{\"id\":\"b36bfd78-4403-4032-a4fe-d34177d8fafa\"}]}},{\"type\":\"object\",\"name\":\"LegendItem\",\"id\":\"ce301743-477f-4ab8-8cce-07076511d7e3\",\"attributes\":{\"label\":{\"type\":\"value\",\"value\":\"SSD4\"},\"renderers\":[{\"id\":\"e8153dda-3372-4737-b036-f2b38f0d6e7a\"}]}}]}}],\"min_border_top\":10,\"min_border_bottom\":10,\"min_border_left\":10,\"min_border_right\":10,\"output_backend\":\"webgl\"}},{\"type\":\"object\",\"name\":\"Spacer\",\"id\":\"9a3701ab-283d-4acd-beb6-f5e71e4e99eb\",\"attributes\":{\"name\":\"HSpacer01577\",\"stylesheets\":[\"\\n:host(.pn-loading):before, .pn-loading:before {\\n  background-color: #c3c3c3;\\n  mask-size: auto calc(min(50%, 300px));\\n  -webkit-mask-size: auto calc(min(50%, 300px));\\n}\",{\"id\":\"f544eda3-80f5-42c6-ba60-2bc006fc4687\"},{\"id\":\"2e3d0ac5-a0f0-40a0-9751-41541a4147bb\"},{\"id\":\"6578cfb2-de5a-44e9-80c6-9d91eee3add8\"}],\"min_width\":0,\"margin\":0,\"sizing_mode\":\"stretch_width\",\"align\":\"start\"}}]}}],\"defs\":[{\"type\":\"model\",\"name\":\"ReactiveHTML1\"},{\"type\":\"model\",\"name\":\"FlexBox1\",\"properties\":[{\"name\":\"align_content\",\"kind\":\"Any\",\"default\":\"flex-start\"},{\"name\":\"align_items\",\"kind\":\"Any\",\"default\":\"flex-start\"},{\"name\":\"flex_direction\",\"kind\":\"Any\",\"default\":\"row\"},{\"name\":\"flex_wrap\",\"kind\":\"Any\",\"default\":\"wrap\"},{\"name\":\"gap\",\"kind\":\"Any\",\"default\":\"\"},{\"name\":\"justify_content\",\"kind\":\"Any\",\"default\":\"flex-start\"}]},{\"type\":\"model\",\"name\":\"FloatPanel1\",\"properties\":[{\"name\":\"config\",\"kind\":\"Any\",\"default\":{\"type\":\"map\"}},{\"name\":\"contained\",\"kind\":\"Any\",\"default\":true},{\"name\":\"position\",\"kind\":\"Any\",\"default\":\"right-top\"},{\"name\":\"offsetx\",\"kind\":\"Any\",\"default\":null},{\"name\":\"offsety\",\"kind\":\"Any\",\"default\":null},{\"name\":\"theme\",\"kind\":\"Any\",\"default\":\"primary\"},{\"name\":\"status\",\"kind\":\"Any\",\"default\":\"normalized\"}]},{\"type\":\"model\",\"name\":\"GridStack1\",\"properties\":[{\"name\":\"ncols\",\"kind\":\"Any\",\"default\":null},{\"name\":\"nrows\",\"kind\":\"Any\",\"default\":null},{\"name\":\"allow_resize\",\"kind\":\"Any\",\"default\":true},{\"name\":\"allow_drag\",\"kind\":\"Any\",\"default\":true},{\"name\":\"state\",\"kind\":\"Any\",\"default\":[]}]},{\"type\":\"model\",\"name\":\"drag1\",\"properties\":[{\"name\":\"slider_width\",\"kind\":\"Any\",\"default\":5},{\"name\":\"slider_color\",\"kind\":\"Any\",\"default\":\"black\"},{\"name\":\"start\",\"kind\":\"Any\",\"default\":0},{\"name\":\"end\",\"kind\":\"Any\",\"default\":100},{\"name\":\"value\",\"kind\":\"Any\",\"default\":50}]},{\"type\":\"model\",\"name\":\"click1\",\"properties\":[{\"name\":\"terminal_output\",\"kind\":\"Any\",\"default\":\"\"},{\"name\":\"debug_name\",\"kind\":\"Any\",\"default\":\"\"},{\"name\":\"clears\",\"kind\":\"Any\",\"default\":0}]},{\"type\":\"model\",\"name\":\"ReactiveESM1\",\"properties\":[{\"name\":\"esm_constants\",\"kind\":\"Any\",\"default\":{\"type\":\"map\"}}]},{\"type\":\"model\",\"name\":\"JSComponent1\",\"properties\":[{\"name\":\"esm_constants\",\"kind\":\"Any\",\"default\":{\"type\":\"map\"}}]},{\"type\":\"model\",\"name\":\"ReactComponent1\",\"properties\":[{\"name\":\"use_shadow_dom\",\"kind\":\"Any\",\"default\":true},{\"name\":\"esm_constants\",\"kind\":\"Any\",\"default\":{\"type\":\"map\"}}]},{\"type\":\"model\",\"name\":\"AnyWidgetComponent1\",\"properties\":[{\"name\":\"use_shadow_dom\",\"kind\":\"Any\",\"default\":true},{\"name\":\"esm_constants\",\"kind\":\"Any\",\"default\":{\"type\":\"map\"}}]},{\"type\":\"model\",\"name\":\"FastWrapper1\",\"properties\":[{\"name\":\"object\",\"kind\":\"Any\",\"default\":null},{\"name\":\"style\",\"kind\":\"Any\",\"default\":null}]},{\"type\":\"model\",\"name\":\"NotificationArea1\",\"properties\":[{\"name\":\"js_events\",\"kind\":\"Any\",\"default\":{\"type\":\"map\"}},{\"name\":\"max_notifications\",\"kind\":\"Any\",\"default\":5},{\"name\":\"notifications\",\"kind\":\"Any\",\"default\":[]},{\"name\":\"position\",\"kind\":\"Any\",\"default\":\"bottom-right\"},{\"name\":\"_clear\",\"kind\":\"Any\",\"default\":0},{\"name\":\"types\",\"kind\":\"Any\",\"default\":[{\"type\":\"map\",\"entries\":[[\"type\",\"warning\"],[\"background\",\"#ffc107\"],[\"icon\",{\"type\":\"map\",\"entries\":[[\"className\",\"fas fa-exclamation-triangle\"],[\"tagName\",\"i\"],[\"color\",\"white\"]]}]]},{\"type\":\"map\",\"entries\":[[\"type\",\"info\"],[\"background\",\"#007bff\"],[\"icon\",{\"type\":\"map\",\"entries\":[[\"className\",\"fas fa-info-circle\"],[\"tagName\",\"i\"],[\"color\",\"white\"]]}]]}]}]},{\"type\":\"model\",\"name\":\"Notification\",\"properties\":[{\"name\":\"background\",\"kind\":\"Any\",\"default\":null},{\"name\":\"duration\",\"kind\":\"Any\",\"default\":3000},{\"name\":\"icon\",\"kind\":\"Any\",\"default\":null},{\"name\":\"message\",\"kind\":\"Any\",\"default\":\"\"},{\"name\":\"notification_type\",\"kind\":\"Any\",\"default\":null},{\"name\":\"_rendered\",\"kind\":\"Any\",\"default\":false},{\"name\":\"_destroyed\",\"kind\":\"Any\",\"default\":false}]},{\"type\":\"model\",\"name\":\"TemplateActions1\",\"properties\":[{\"name\":\"open_modal\",\"kind\":\"Any\",\"default\":0},{\"name\":\"close_modal\",\"kind\":\"Any\",\"default\":0}]},{\"type\":\"model\",\"name\":\"BootstrapTemplateActions1\",\"properties\":[{\"name\":\"open_modal\",\"kind\":\"Any\",\"default\":0},{\"name\":\"close_modal\",\"kind\":\"Any\",\"default\":0}]},{\"type\":\"model\",\"name\":\"TemplateEditor1\",\"properties\":[{\"name\":\"layout\",\"kind\":\"Any\",\"default\":[]}]},{\"type\":\"model\",\"name\":\"MaterialTemplateActions1\",\"properties\":[{\"name\":\"open_modal\",\"kind\":\"Any\",\"default\":0},{\"name\":\"close_modal\",\"kind\":\"Any\",\"default\":0}]},{\"type\":\"model\",\"name\":\"request_value1\",\"properties\":[{\"name\":\"fill\",\"kind\":\"Any\",\"default\":\"none\"},{\"name\":\"_synced\",\"kind\":\"Any\",\"default\":null},{\"name\":\"_request_sync\",\"kind\":\"Any\",\"default\":0}]},{\"type\":\"model\",\"name\":\"holoviews.plotting.bokeh.raster.HoverModel\",\"properties\":[{\"name\":\"xy\",\"kind\":\"Any\",\"default\":null},{\"name\":\"data\",\"kind\":\"Any\",\"default\":null}]}]}};\n",
       "  var render_items = [{\"docid\":\"bf62fabd-1386-4973-88a3-0b231fe72139\",\"roots\":{\"f1c173eb-69f7-4ecc-8974-3c4aa67797f5\":\"e5fc4d19-33c0-4752-a31f-37d161bffd24\"},\"root_ids\":[\"f1c173eb-69f7-4ecc-8974-3c4aa67797f5\"]}];\n",
       "  var docs = Object.values(docs_json)\n",
       "  if (!docs) {\n",
       "    return\n",
       "  }\n",
       "  const py_version = docs[0].version.replace('rc', '-rc.').replace('.dev', '-dev.')\n",
       "  async function embed_document(root) {\n",
       "    var Bokeh = get_bokeh(root)\n",
       "    await Bokeh.embed.embed_items_notebook(docs_json, render_items);\n",
       "    for (const render_item of render_items) {\n",
       "      for (const root_id of render_item.root_ids) {\n",
       "\tconst id_el = document.getElementById(root_id)\n",
       "\tif (id_el.children.length && id_el.children[0].hasAttribute('data-root-id')) {\n",
       "\t  const root_el = id_el.children[0]\n",
       "\t  root_el.id = root_el.id + '-rendered'\n",
       "\t  for (const child of root_el.children) {\n",
       "            // Ensure JupyterLab does not capture keyboard shortcuts\n",
       "            // see: https://jupyterlab.readthedocs.io/en/4.1.x/extension/notebook.html#keyboard-interaction-model\n",
       "\t    child.setAttribute('data-lm-suppress-shortcuts', 'true')\n",
       "\t  }\n",
       "\t}\n",
       "      }\n",
       "    }\n",
       "  }\n",
       "  function get_bokeh(root) {\n",
       "    if (root.Bokeh === undefined) {\n",
       "      return null\n",
       "    } else if (root.Bokeh.version !== py_version) {\n",
       "      if (root.Bokeh.versions === undefined || !root.Bokeh.versions.has(py_version)) {\n",
       "\treturn null\n",
       "      }\n",
       "      return root.Bokeh.versions.get(py_version);\n",
       "    } else if (root.Bokeh.version === py_version) {\n",
       "      return root.Bokeh\n",
       "    }\n",
       "    return null\n",
       "  }\n",
       "  function is_loaded(root) {\n",
       "    var Bokeh = get_bokeh(root)\n",
       "    return (Bokeh != null && Bokeh.Panel !== undefined)\n",
       "  }\n",
       "  if (is_loaded(root)) {\n",
       "    embed_document(root);\n",
       "  } else {\n",
       "    var attempts = 0;\n",
       "    var timer = setInterval(function(root) {\n",
       "      if (is_loaded(root)) {\n",
       "        clearInterval(timer);\n",
       "        embed_document(root);\n",
       "      } else if (document.readyState == \"complete\") {\n",
       "        attempts++;\n",
       "        if (attempts > 200) {\n",
       "          clearInterval(timer);\n",
       "\t  var Bokeh = get_bokeh(root)\n",
       "\t  if (Bokeh == null || Bokeh.Panel == null) {\n",
       "            console.warn(\"Panel: ERROR: Unable to run Panel code because Bokeh or Panel library is missing\");\n",
       "\t  } else {\n",
       "\t    console.warn(\"Panel: WARNING: Attempting to render but not all required libraries could be resolved.\")\n",
       "\t    embed_document(root)\n",
       "\t  }\n",
       "        }\n",
       "      }\n",
       "    }, 25, root)\n",
       "  }\n",
       "})(window);</script>"
      ],
      "text/plain": [
       ":Overlay\n",
       "   .NdOverlay.I  :NdOverlay   [SSD Number]\n",
       "      :Curve   [Reaction Time Bin]   (percentage)\n",
       "   .NdOverlay.II :NdOverlay   [SSD Number]\n",
       "      :Curve   [Reaction Time Bin]   (percentage)"
      ]
     },
     "execution_count": 16,
     "metadata": {
      "application/vnd.holoviews_exec.v0+json": {
       "id": "f1c173eb-69f7-4ecc-8974-3c4aa67797f5"
      }
     },
     "output_type": "execute_result"
    }
   ],
   "source": [
    "# Create RT distributions plot (replicates Figure 1d)\n",
    "plot8 = eda.plot_rt_distributions()\n",
    "plot8"
   ]
  },
  {
   "cell_type": "markdown",
   "id": "f068563f",
   "metadata": {},
   "source": [
    "## Advanced Data Analysis\n",
    "\n",
    "You can also access the processed data directly for custom analyses:"
   ]
  },
  {
   "cell_type": "code",
   "execution_count": 17,
   "id": "fbc9d633",
   "metadata": {},
   "outputs": [
    {
     "name": "stdout",
     "output_type": "stream",
     "text": [
      "RT Types available:\n",
      "rt_type\n",
      "Continue_RT      88\n",
      "GO_RT            88\n",
      "Error_Stop_RT    87\n",
      "Name: count, dtype: int64\n",
      "\n",
      "Sample RT data:\n"
     ]
    },
    {
     "data": {
      "application/vnd.microsoft.datawrangler.viewer.v0+json": {
       "columns": [
        {
         "name": "index",
         "rawType": "int64",
         "type": "integer"
        },
        {
         "name": "rt_type",
         "rawType": "object",
         "type": "string"
        },
        {
         "name": "trial_session",
         "rawType": "object",
         "type": "string"
        },
        {
         "name": "mean_rt",
         "rawType": "float64",
         "type": "float"
        }
       ],
       "ref": "5586e476-ff1b-40be-ac10-cb061ad8656c",
       "rows": [
        [
         "0",
         "Continue_RT",
         "fi210628a",
         "277.5217391304348"
        ],
        [
         "1",
         "Continue_RT",
         "fi210629a",
         "139.66666666666666"
        ],
        [
         "2",
         "Continue_RT",
         "fi210630a",
         "272.177304964539"
        ],
        [
         "3",
         "Continue_RT",
         "fi210701a",
         "304.8805970149254"
        ],
        [
         "4",
         "Continue_RT",
         "fi210704a",
         "221.57692307692307"
        ],
        [
         "5",
         "Continue_RT",
         "fi210705a",
         "332.0652173913044"
        ],
        [
         "6",
         "Continue_RT",
         "fi210706a",
         "314.93430656934305"
        ],
        [
         "7",
         "Continue_RT",
         "fi210707a",
         "315.8783783783784"
        ],
        [
         "8",
         "Continue_RT",
         "fi210708a",
         "272.8414634146341"
        ],
        [
         "9",
         "Continue_RT",
         "fi210711a",
         "266.9047619047619"
        ]
       ],
       "shape": {
        "columns": 3,
        "rows": 10
       }
      },
      "text/html": [
       "<div>\n",
       "<style scoped>\n",
       "    .dataframe tbody tr th:only-of-type {\n",
       "        vertical-align: middle;\n",
       "    }\n",
       "\n",
       "    .dataframe tbody tr th {\n",
       "        vertical-align: top;\n",
       "    }\n",
       "\n",
       "    .dataframe thead th {\n",
       "        text-align: right;\n",
       "    }\n",
       "</style>\n",
       "<table border=\"1\" class=\"dataframe\">\n",
       "  <thead>\n",
       "    <tr style=\"text-align: right;\">\n",
       "      <th></th>\n",
       "      <th>rt_type</th>\n",
       "      <th>trial_session</th>\n",
       "      <th>mean_rt</th>\n",
       "    </tr>\n",
       "  </thead>\n",
       "  <tbody>\n",
       "    <tr>\n",
       "      <th>0</th>\n",
       "      <td>Continue_RT</td>\n",
       "      <td>fi210628a</td>\n",
       "      <td>277.521739</td>\n",
       "    </tr>\n",
       "    <tr>\n",
       "      <th>1</th>\n",
       "      <td>Continue_RT</td>\n",
       "      <td>fi210629a</td>\n",
       "      <td>139.666667</td>\n",
       "    </tr>\n",
       "    <tr>\n",
       "      <th>2</th>\n",
       "      <td>Continue_RT</td>\n",
       "      <td>fi210630a</td>\n",
       "      <td>272.177305</td>\n",
       "    </tr>\n",
       "    <tr>\n",
       "      <th>3</th>\n",
       "      <td>Continue_RT</td>\n",
       "      <td>fi210701a</td>\n",
       "      <td>304.880597</td>\n",
       "    </tr>\n",
       "    <tr>\n",
       "      <th>4</th>\n",
       "      <td>Continue_RT</td>\n",
       "      <td>fi210704a</td>\n",
       "      <td>221.576923</td>\n",
       "    </tr>\n",
       "    <tr>\n",
       "      <th>5</th>\n",
       "      <td>Continue_RT</td>\n",
       "      <td>fi210705a</td>\n",
       "      <td>332.065217</td>\n",
       "    </tr>\n",
       "    <tr>\n",
       "      <th>6</th>\n",
       "      <td>Continue_RT</td>\n",
       "      <td>fi210706a</td>\n",
       "      <td>314.934307</td>\n",
       "    </tr>\n",
       "    <tr>\n",
       "      <th>7</th>\n",
       "      <td>Continue_RT</td>\n",
       "      <td>fi210707a</td>\n",
       "      <td>315.878378</td>\n",
       "    </tr>\n",
       "    <tr>\n",
       "      <th>8</th>\n",
       "      <td>Continue_RT</td>\n",
       "      <td>fi210708a</td>\n",
       "      <td>272.841463</td>\n",
       "    </tr>\n",
       "    <tr>\n",
       "      <th>9</th>\n",
       "      <td>Continue_RT</td>\n",
       "      <td>fi210711a</td>\n",
       "      <td>266.904762</td>\n",
       "    </tr>\n",
       "  </tbody>\n",
       "</table>\n",
       "</div>"
      ],
      "text/plain": [
       "       rt_type trial_session     mean_rt\n",
       "0  Continue_RT     fi210628a  277.521739\n",
       "1  Continue_RT     fi210629a  139.666667\n",
       "2  Continue_RT     fi210630a  272.177305\n",
       "3  Continue_RT     fi210701a  304.880597\n",
       "4  Continue_RT     fi210704a  221.576923\n",
       "5  Continue_RT     fi210705a  332.065217\n",
       "6  Continue_RT     fi210706a  314.934307\n",
       "7  Continue_RT     fi210707a  315.878378\n",
       "8  Continue_RT     fi210708a  272.841463\n",
       "9  Continue_RT     fi210711a  266.904762"
      ]
     },
     "metadata": {},
     "output_type": "display_data"
    }
   ],
   "source": [
    "# Get RT scatter data for custom analysis\n",
    "rt_scatter_data = eda.get_rt_scatter_data()\n",
    "print(\"RT Types available:\")\n",
    "print(rt_scatter_data['rt_type'].value_counts())\n",
    "print(\"\\nSample RT data:\")\n",
    "display(rt_scatter_data.head(10))"
   ]
  },
  {
   "cell_type": "code",
   "execution_count": 18,
   "id": "e51766c8",
   "metadata": {},
   "outputs": [
    {
     "name": "stdout",
     "output_type": "stream",
     "text": [
      "Continue RT Distribution Data:\n"
     ]
    },
    {
     "data": {
      "application/vnd.microsoft.datawrangler.viewer.v0+json": {
       "columns": [
        {
         "name": "index",
         "rawType": "int64",
         "type": "integer"
        },
        {
         "name": "Reaction Time Bin",
         "rawType": "float64",
         "type": "float"
        },
        {
         "name": "SSD Number",
         "rawType": "object",
         "type": "string"
        },
        {
         "name": "percentage",
         "rawType": "float64",
         "type": "float"
        }
       ],
       "ref": "bbf67316-8ede-46ad-8064-5c0840b7dbd8",
       "rows": [
        [
         "0",
         "0.0",
         "CSD1",
         "0.46651379773859414"
        ],
        [
         "1",
         "0.0",
         "CSD2",
         "0.37558314224717326"
        ],
        [
         "2",
         "0.0",
         "CSD3",
         "0.28860599351624894"
        ],
        [
         "3",
         "0.0",
         "CSD4",
         "0.4072111963311457"
        ],
        [
         "4",
         "20.0",
         "CSD1",
         "0.33604807464220765"
        ]
       ],
       "shape": {
        "columns": 3,
        "rows": 5
       }
      },
      "text/html": [
       "<div>\n",
       "<style scoped>\n",
       "    .dataframe tbody tr th:only-of-type {\n",
       "        vertical-align: middle;\n",
       "    }\n",
       "\n",
       "    .dataframe tbody tr th {\n",
       "        vertical-align: top;\n",
       "    }\n",
       "\n",
       "    .dataframe thead th {\n",
       "        text-align: right;\n",
       "    }\n",
       "</style>\n",
       "<table border=\"1\" class=\"dataframe\">\n",
       "  <thead>\n",
       "    <tr style=\"text-align: right;\">\n",
       "      <th></th>\n",
       "      <th>Reaction Time Bin</th>\n",
       "      <th>SSD Number</th>\n",
       "      <th>percentage</th>\n",
       "    </tr>\n",
       "  </thead>\n",
       "  <tbody>\n",
       "    <tr>\n",
       "      <th>0</th>\n",
       "      <td>0.0</td>\n",
       "      <td>CSD1</td>\n",
       "      <td>0.466514</td>\n",
       "    </tr>\n",
       "    <tr>\n",
       "      <th>1</th>\n",
       "      <td>0.0</td>\n",
       "      <td>CSD2</td>\n",
       "      <td>0.375583</td>\n",
       "    </tr>\n",
       "    <tr>\n",
       "      <th>2</th>\n",
       "      <td>0.0</td>\n",
       "      <td>CSD3</td>\n",
       "      <td>0.288606</td>\n",
       "    </tr>\n",
       "    <tr>\n",
       "      <th>3</th>\n",
       "      <td>0.0</td>\n",
       "      <td>CSD4</td>\n",
       "      <td>0.407211</td>\n",
       "    </tr>\n",
       "    <tr>\n",
       "      <th>4</th>\n",
       "      <td>20.0</td>\n",
       "      <td>CSD1</td>\n",
       "      <td>0.336048</td>\n",
       "    </tr>\n",
       "  </tbody>\n",
       "</table>\n",
       "</div>"
      ],
      "text/plain": [
       "   Reaction Time Bin SSD Number  percentage\n",
       "0                0.0       CSD1    0.466514\n",
       "1                0.0       CSD2    0.375583\n",
       "2                0.0       CSD3    0.288606\n",
       "3                0.0       CSD4    0.407211\n",
       "4               20.0       CSD1    0.336048"
      ]
     },
     "metadata": {},
     "output_type": "display_data"
    },
    {
     "name": "stdout",
     "output_type": "stream",
     "text": [
      "\n",
      "Stop RT Distribution Data:\n"
     ]
    },
    {
     "data": {
      "application/vnd.microsoft.datawrangler.viewer.v0+json": {
       "columns": [
        {
         "name": "index",
         "rawType": "int64",
         "type": "integer"
        },
        {
         "name": "Reaction Time Bin",
         "rawType": "float64",
         "type": "float"
        },
        {
         "name": "SSD Number",
         "rawType": "object",
         "type": "string"
        },
        {
         "name": "percentage",
         "rawType": "float64",
         "type": "float"
        }
       ],
       "ref": "1ccf6083-f915-4c7a-ad75-dce6c2658341",
       "rows": [
        [
         "0",
         "0.0",
         "SSD1",
         "0.06354855109303507"
        ],
        [
         "1",
         "0.0",
         "SSD2",
         "0.10591425182172513"
        ],
        [
         "2",
         "0.0",
         "SSD3",
         "0.32197932553804437"
        ],
        [
         "3",
         "0.0",
         "SSD4",
         "0.3389256058295204"
        ],
        [
         "4",
         "20.0",
         "SSD1",
         "0.08896797153024912"
        ]
       ],
       "shape": {
        "columns": 3,
        "rows": 5
       }
      },
      "text/html": [
       "<div>\n",
       "<style scoped>\n",
       "    .dataframe tbody tr th:only-of-type {\n",
       "        vertical-align: middle;\n",
       "    }\n",
       "\n",
       "    .dataframe tbody tr th {\n",
       "        vertical-align: top;\n",
       "    }\n",
       "\n",
       "    .dataframe thead th {\n",
       "        text-align: right;\n",
       "    }\n",
       "</style>\n",
       "<table border=\"1\" class=\"dataframe\">\n",
       "  <thead>\n",
       "    <tr style=\"text-align: right;\">\n",
       "      <th></th>\n",
       "      <th>Reaction Time Bin</th>\n",
       "      <th>SSD Number</th>\n",
       "      <th>percentage</th>\n",
       "    </tr>\n",
       "  </thead>\n",
       "  <tbody>\n",
       "    <tr>\n",
       "      <th>0</th>\n",
       "      <td>0.0</td>\n",
       "      <td>SSD1</td>\n",
       "      <td>0.063549</td>\n",
       "    </tr>\n",
       "    <tr>\n",
       "      <th>1</th>\n",
       "      <td>0.0</td>\n",
       "      <td>SSD2</td>\n",
       "      <td>0.105914</td>\n",
       "    </tr>\n",
       "    <tr>\n",
       "      <th>2</th>\n",
       "      <td>0.0</td>\n",
       "      <td>SSD3</td>\n",
       "      <td>0.321979</td>\n",
       "    </tr>\n",
       "    <tr>\n",
       "      <th>3</th>\n",
       "      <td>0.0</td>\n",
       "      <td>SSD4</td>\n",
       "      <td>0.338926</td>\n",
       "    </tr>\n",
       "    <tr>\n",
       "      <th>4</th>\n",
       "      <td>20.0</td>\n",
       "      <td>SSD1</td>\n",
       "      <td>0.088968</td>\n",
       "    </tr>\n",
       "  </tbody>\n",
       "</table>\n",
       "</div>"
      ],
      "text/plain": [
       "   Reaction Time Bin SSD Number  percentage\n",
       "0                0.0       SSD1    0.063549\n",
       "1                0.0       SSD2    0.105914\n",
       "2                0.0       SSD3    0.321979\n",
       "3                0.0       SSD4    0.338926\n",
       "4               20.0       SSD1    0.088968"
      ]
     },
     "metadata": {},
     "output_type": "display_data"
    }
   ],
   "source": [
    "# Get RT distribution data\n",
    "cont_dist, stop_dist = eda.get_rt_distribution_data()\n",
    "print(\"Continue RT Distribution Data:\")\n",
    "display(cont_dist.head())\n",
    "print(\"\\nStop RT Distribution Data:\")\n",
    "display(stop_dist.head())"
   ]
  },
  {
   "cell_type": "markdown",
   "id": "6d063092",
   "metadata": {},
   "source": [
    "## Class Benefits Summary\n",
    "\n",
    "The `BehavioralEDA` class provides several advantages over the original notebook:\n",
    "\n",
    "### ✅ **Organization**\n",
    "- Clean separation between data processing and plotting\n",
    "- Reusable methods for consistent analysis\n",
    "- Well-documented and maintainable code\n",
    "\n",
    "### ✅ **Efficiency**\n",
    "- Automatic caching of processed data (RT processing)\n",
    "- On-demand processing only when needed\n",
    "- No redundant computations\n",
    "\n",
    "### ✅ **Flexibility**\n",
    "- Easy to use with different datasets\n",
    "- Data processing methods can be used independently\n",
    "- Customizable plotting parameters\n",
    "\n",
    "### ✅ **Robustness**\n",
    "- Error handling for missing data\n",
    "- Validation of data formats\n",
    "- Automatic monkey name detection\n",
    "\n",
    "### ✅ **Reproducibility**\n",
    "- Same statistical analyses as original notebook\n",
    "- Consistent plotting styles and parameters\n",
    "- Documented methods and workflows"
   ]
  },
  {
   "cell_type": "markdown",
   "id": "4efb7602",
   "metadata": {},
   "source": [
    "## Next Steps\n",
    "\n",
    "You can now:\n",
    "\n",
    "1. **Use with different datasets**: Change the `monkey` variable to analyze different subjects\n",
    "2. **Extend functionality**: Add new methods to the class for additional analyses\n",
    "3. **Integrate into pipelines**: Use the class methods in larger analysis workflows\n",
    "4. **Customize plots**: Modify plotting parameters or create new visualization methods\n",
    "5. **Export data**: Use the data processing methods to export data for other analyses\n",
    "\n",
    "The class maintains all the functionality of the original notebook while providing a much cleaner, more maintainable interface!"
   ]
  }
 ],
 "metadata": {
  "kernelspec": {
   "display_name": "Python 3",
   "language": "python",
   "name": "python3"
  },
  "language_info": {
   "codemirror_mode": {
    "name": "ipython",
    "version": 3
   },
   "file_extension": ".py",
   "mimetype": "text/x-python",
   "name": "python",
   "nbconvert_exporter": "python",
   "pygments_lexer": "ipython3",
   "version": "3.12.11"
  }
 },
 "nbformat": 4,
 "nbformat_minor": 5
}
